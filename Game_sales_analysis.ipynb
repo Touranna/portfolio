{
  "nbformat": 4,
  "nbformat_minor": 0,
  "metadata": {
    "colab": {
      "provenance": []
    },
    "kernelspec": {
      "name": "python3",
      "display_name": "Python 3"
    },
    "language_info": {
      "name": "python"
    }
  },
  "cells": [
    {
      "cell_type": "markdown",
      "source": [
        "# Проектная работа - анализ продаж компьютерных игр"
      ],
      "metadata": {
        "id": "FhK-Ac71kcxd"
      }
    },
    {
      "cell_type": "markdown",
      "source": [
        "## Описание проекта"
      ],
      "metadata": {
        "id": "-qGgLLUlktRy"
      }
    },
    {
      "cell_type": "markdown",
      "source": [
        "Нам  доступны исторические данные о продажах игр, оценки пользователей и экспертов, жанры и платформы (например, Xbox или PlayStation).\n",
        "\n",
        "Наша задача -  выявить определяющие успешность игры закономерности. Это позволит сделать ставку на потенциально популярный продукт и спланировать рекламные кампании.\n",
        "\n",
        "Перед вами данные до 2016 года. Представим, что сейчас декабрь 2016 г., и вы планируете кампанию на 2017-й. Нужно отработать принцип работы с данными. Наша задача - отборать важные характеристики продукта, которые позволят добиться успешных продаж в 2017 году\n",
        "\n"
      ],
      "metadata": {
        "id": "z0FlJt9akmyV"
      }
    },
    {
      "cell_type": "markdown",
      "source": [
        "## Обзор данных"
      ],
      "metadata": {
        "id": "8m1CvDn4kbIY"
      }
    },
    {
      "cell_type": "code",
      "source": [
        "import pandas as pd\n",
        "import seaborn as sns\n",
        "import numpy as np\n",
        "import matplotlib.pyplot as plt\n",
        "import plotly.express as px\n",
        "from plotly import graph_objects as go\n",
        "!pip install phik\n",
        "import phik\n",
        "from scipy import stats as st"
      ],
      "metadata": {
        "colab": {
          "base_uri": "https://localhost:8080/"
        },
        "id": "q-JtMAkeutxj",
        "outputId": "b6b501ef-cece-4ff7-ac9f-778cd831b845"
      },
      "execution_count": 1,
      "outputs": [
        {
          "output_type": "stream",
          "name": "stdout",
          "text": [
            "Collecting phik\n",
            "  Downloading phik-0.12.3-cp310-cp310-manylinux_2_17_x86_64.manylinux2014_x86_64.whl (679 kB)\n",
            "\u001b[?25l     \u001b[90m━━━━━━━━━━━━━━━━━━━━━━━━━━━━━━━━━━━━━━━━\u001b[0m \u001b[32m0.0/679.5 kB\u001b[0m \u001b[31m?\u001b[0m eta \u001b[36m-:--:--\u001b[0m\r\u001b[2K     \u001b[91m━━━━━━━\u001b[0m\u001b[90m╺\u001b[0m\u001b[90m━━━━━━━━━━━━━━━━━━━━━━━━━━━━━━━\u001b[0m \u001b[32m122.9/679.5 kB\u001b[0m \u001b[31m3.4 MB/s\u001b[0m eta \u001b[36m0:00:01\u001b[0m\r\u001b[2K     \u001b[91m━━━━━━━━━━━━━━━━━━━━━━━━━━━━━━━━━━━━━\u001b[0m\u001b[91m╸\u001b[0m \u001b[32m675.8/679.5 kB\u001b[0m \u001b[31m10.7 MB/s\u001b[0m eta \u001b[36m0:00:01\u001b[0m\r\u001b[2K     \u001b[90m━━━━━━━━━━━━━━━━━━━━━━━━━━━━━━━━━━━━━━━\u001b[0m \u001b[32m679.5/679.5 kB\u001b[0m \u001b[31m9.1 MB/s\u001b[0m eta \u001b[36m0:00:00\u001b[0m\n",
            "\u001b[?25hRequirement already satisfied: numpy>=1.18.0 in /usr/local/lib/python3.10/dist-packages (from phik) (1.23.5)\n",
            "Requirement already satisfied: scipy>=1.5.2 in /usr/local/lib/python3.10/dist-packages (from phik) (1.11.2)\n",
            "Requirement already satisfied: pandas>=0.25.1 in /usr/local/lib/python3.10/dist-packages (from phik) (1.5.3)\n",
            "Requirement already satisfied: matplotlib>=2.2.3 in /usr/local/lib/python3.10/dist-packages (from phik) (3.7.1)\n",
            "Requirement already satisfied: joblib>=0.14.1 in /usr/local/lib/python3.10/dist-packages (from phik) (1.3.2)\n",
            "Requirement already satisfied: contourpy>=1.0.1 in /usr/local/lib/python3.10/dist-packages (from matplotlib>=2.2.3->phik) (1.1.0)\n",
            "Requirement already satisfied: cycler>=0.10 in /usr/local/lib/python3.10/dist-packages (from matplotlib>=2.2.3->phik) (0.11.0)\n",
            "Requirement already satisfied: fonttools>=4.22.0 in /usr/local/lib/python3.10/dist-packages (from matplotlib>=2.2.3->phik) (4.42.1)\n",
            "Requirement already satisfied: kiwisolver>=1.0.1 in /usr/local/lib/python3.10/dist-packages (from matplotlib>=2.2.3->phik) (1.4.5)\n",
            "Requirement already satisfied: packaging>=20.0 in /usr/local/lib/python3.10/dist-packages (from matplotlib>=2.2.3->phik) (23.1)\n",
            "Requirement already satisfied: pillow>=6.2.0 in /usr/local/lib/python3.10/dist-packages (from matplotlib>=2.2.3->phik) (9.4.0)\n",
            "Requirement already satisfied: pyparsing>=2.3.1 in /usr/local/lib/python3.10/dist-packages (from matplotlib>=2.2.3->phik) (3.1.1)\n",
            "Requirement already satisfied: python-dateutil>=2.7 in /usr/local/lib/python3.10/dist-packages (from matplotlib>=2.2.3->phik) (2.8.2)\n",
            "Requirement already satisfied: pytz>=2020.1 in /usr/local/lib/python3.10/dist-packages (from pandas>=0.25.1->phik) (2023.3.post1)\n",
            "Requirement already satisfied: six>=1.5 in /usr/local/lib/python3.10/dist-packages (from python-dateutil>=2.7->matplotlib>=2.2.3->phik) (1.16.0)\n",
            "Installing collected packages: phik\n",
            "Successfully installed phik-0.12.3\n"
          ]
        }
      ]
    },
    {
      "cell_type": "code",
      "source": [
        "df = pd.read_csv('https://getfile.dokpub.com/yandex/get/https://disk.yandex.ru/d/XRbFuiBNI_E-HA')"
      ],
      "metadata": {
        "id": "xCNXe2kJrtC7"
      },
      "execution_count": 2,
      "outputs": []
    },
    {
      "cell_type": "code",
      "source": [
        "df.head()"
      ],
      "metadata": {
        "colab": {
          "base_uri": "https://localhost:8080/",
          "height": 206
        },
        "id": "OZXY5nBUryXs",
        "outputId": "951f8fe6-23c2-4d23-ecb2-f44ff6a429b9"
      },
      "execution_count": 3,
      "outputs": [
        {
          "output_type": "execute_result",
          "data": {
            "text/plain": [
              "                       Name Platform  Year_of_Release         Genre  NA_sales  \\\n",
              "0                Wii Sports      Wii           2006.0        Sports     41.36   \n",
              "1         Super Mario Bros.      NES           1985.0      Platform     29.08   \n",
              "2            Mario Kart Wii      Wii           2008.0        Racing     15.68   \n",
              "3         Wii Sports Resort      Wii           2009.0        Sports     15.61   \n",
              "4  Pokemon Red/Pokemon Blue       GB           1996.0  Role-Playing     11.27   \n",
              "\n",
              "   EU_sales  JP_sales  Other_sales  Critic_Score User_Score Rating  \n",
              "0     28.96      3.77         8.45          76.0          8      E  \n",
              "1      3.58      6.81         0.77           NaN        NaN    NaN  \n",
              "2     12.76      3.79         3.29          82.0        8.3      E  \n",
              "3     10.93      3.28         2.95          80.0          8      E  \n",
              "4      8.89     10.22         1.00           NaN        NaN    NaN  "
            ],
            "text/html": [
              "\n",
              "  <div id=\"df-e67483c2-ab89-47be-93a6-6ad1c772714b\" class=\"colab-df-container\">\n",
              "    <div>\n",
              "<style scoped>\n",
              "    .dataframe tbody tr th:only-of-type {\n",
              "        vertical-align: middle;\n",
              "    }\n",
              "\n",
              "    .dataframe tbody tr th {\n",
              "        vertical-align: top;\n",
              "    }\n",
              "\n",
              "    .dataframe thead th {\n",
              "        text-align: right;\n",
              "    }\n",
              "</style>\n",
              "<table border=\"1\" class=\"dataframe\">\n",
              "  <thead>\n",
              "    <tr style=\"text-align: right;\">\n",
              "      <th></th>\n",
              "      <th>Name</th>\n",
              "      <th>Platform</th>\n",
              "      <th>Year_of_Release</th>\n",
              "      <th>Genre</th>\n",
              "      <th>NA_sales</th>\n",
              "      <th>EU_sales</th>\n",
              "      <th>JP_sales</th>\n",
              "      <th>Other_sales</th>\n",
              "      <th>Critic_Score</th>\n",
              "      <th>User_Score</th>\n",
              "      <th>Rating</th>\n",
              "    </tr>\n",
              "  </thead>\n",
              "  <tbody>\n",
              "    <tr>\n",
              "      <th>0</th>\n",
              "      <td>Wii Sports</td>\n",
              "      <td>Wii</td>\n",
              "      <td>2006.0</td>\n",
              "      <td>Sports</td>\n",
              "      <td>41.36</td>\n",
              "      <td>28.96</td>\n",
              "      <td>3.77</td>\n",
              "      <td>8.45</td>\n",
              "      <td>76.0</td>\n",
              "      <td>8</td>\n",
              "      <td>E</td>\n",
              "    </tr>\n",
              "    <tr>\n",
              "      <th>1</th>\n",
              "      <td>Super Mario Bros.</td>\n",
              "      <td>NES</td>\n",
              "      <td>1985.0</td>\n",
              "      <td>Platform</td>\n",
              "      <td>29.08</td>\n",
              "      <td>3.58</td>\n",
              "      <td>6.81</td>\n",
              "      <td>0.77</td>\n",
              "      <td>NaN</td>\n",
              "      <td>NaN</td>\n",
              "      <td>NaN</td>\n",
              "    </tr>\n",
              "    <tr>\n",
              "      <th>2</th>\n",
              "      <td>Mario Kart Wii</td>\n",
              "      <td>Wii</td>\n",
              "      <td>2008.0</td>\n",
              "      <td>Racing</td>\n",
              "      <td>15.68</td>\n",
              "      <td>12.76</td>\n",
              "      <td>3.79</td>\n",
              "      <td>3.29</td>\n",
              "      <td>82.0</td>\n",
              "      <td>8.3</td>\n",
              "      <td>E</td>\n",
              "    </tr>\n",
              "    <tr>\n",
              "      <th>3</th>\n",
              "      <td>Wii Sports Resort</td>\n",
              "      <td>Wii</td>\n",
              "      <td>2009.0</td>\n",
              "      <td>Sports</td>\n",
              "      <td>15.61</td>\n",
              "      <td>10.93</td>\n",
              "      <td>3.28</td>\n",
              "      <td>2.95</td>\n",
              "      <td>80.0</td>\n",
              "      <td>8</td>\n",
              "      <td>E</td>\n",
              "    </tr>\n",
              "    <tr>\n",
              "      <th>4</th>\n",
              "      <td>Pokemon Red/Pokemon Blue</td>\n",
              "      <td>GB</td>\n",
              "      <td>1996.0</td>\n",
              "      <td>Role-Playing</td>\n",
              "      <td>11.27</td>\n",
              "      <td>8.89</td>\n",
              "      <td>10.22</td>\n",
              "      <td>1.00</td>\n",
              "      <td>NaN</td>\n",
              "      <td>NaN</td>\n",
              "      <td>NaN</td>\n",
              "    </tr>\n",
              "  </tbody>\n",
              "</table>\n",
              "</div>\n",
              "    <div class=\"colab-df-buttons\">\n",
              "\n",
              "  <div class=\"colab-df-container\">\n",
              "    <button class=\"colab-df-convert\" onclick=\"convertToInteractive('df-e67483c2-ab89-47be-93a6-6ad1c772714b')\"\n",
              "            title=\"Convert this dataframe to an interactive table.\"\n",
              "            style=\"display:none;\">\n",
              "\n",
              "  <svg xmlns=\"http://www.w3.org/2000/svg\" height=\"24px\" viewBox=\"0 -960 960 960\">\n",
              "    <path d=\"M120-120v-720h720v720H120Zm60-500h600v-160H180v160Zm220 220h160v-160H400v160Zm0 220h160v-160H400v160ZM180-400h160v-160H180v160Zm440 0h160v-160H620v160ZM180-180h160v-160H180v160Zm440 0h160v-160H620v160Z\"/>\n",
              "  </svg>\n",
              "    </button>\n",
              "\n",
              "  <style>\n",
              "    .colab-df-container {\n",
              "      display:flex;\n",
              "      gap: 12px;\n",
              "    }\n",
              "\n",
              "    .colab-df-convert {\n",
              "      background-color: #E8F0FE;\n",
              "      border: none;\n",
              "      border-radius: 50%;\n",
              "      cursor: pointer;\n",
              "      display: none;\n",
              "      fill: #1967D2;\n",
              "      height: 32px;\n",
              "      padding: 0 0 0 0;\n",
              "      width: 32px;\n",
              "    }\n",
              "\n",
              "    .colab-df-convert:hover {\n",
              "      background-color: #E2EBFA;\n",
              "      box-shadow: 0px 1px 2px rgba(60, 64, 67, 0.3), 0px 1px 3px 1px rgba(60, 64, 67, 0.15);\n",
              "      fill: #174EA6;\n",
              "    }\n",
              "\n",
              "    .colab-df-buttons div {\n",
              "      margin-bottom: 4px;\n",
              "    }\n",
              "\n",
              "    [theme=dark] .colab-df-convert {\n",
              "      background-color: #3B4455;\n",
              "      fill: #D2E3FC;\n",
              "    }\n",
              "\n",
              "    [theme=dark] .colab-df-convert:hover {\n",
              "      background-color: #434B5C;\n",
              "      box-shadow: 0px 1px 3px 1px rgba(0, 0, 0, 0.15);\n",
              "      filter: drop-shadow(0px 1px 2px rgba(0, 0, 0, 0.3));\n",
              "      fill: #FFFFFF;\n",
              "    }\n",
              "  </style>\n",
              "\n",
              "    <script>\n",
              "      const buttonEl =\n",
              "        document.querySelector('#df-e67483c2-ab89-47be-93a6-6ad1c772714b button.colab-df-convert');\n",
              "      buttonEl.style.display =\n",
              "        google.colab.kernel.accessAllowed ? 'block' : 'none';\n",
              "\n",
              "      async function convertToInteractive(key) {\n",
              "        const element = document.querySelector('#df-e67483c2-ab89-47be-93a6-6ad1c772714b');\n",
              "        const dataTable =\n",
              "          await google.colab.kernel.invokeFunction('convertToInteractive',\n",
              "                                                    [key], {});\n",
              "        if (!dataTable) return;\n",
              "\n",
              "        const docLinkHtml = 'Like what you see? Visit the ' +\n",
              "          '<a target=\"_blank\" href=https://colab.research.google.com/notebooks/data_table.ipynb>data table notebook</a>'\n",
              "          + ' to learn more about interactive tables.';\n",
              "        element.innerHTML = '';\n",
              "        dataTable['output_type'] = 'display_data';\n",
              "        await google.colab.output.renderOutput(dataTable, element);\n",
              "        const docLink = document.createElement('div');\n",
              "        docLink.innerHTML = docLinkHtml;\n",
              "        element.appendChild(docLink);\n",
              "      }\n",
              "    </script>\n",
              "  </div>\n",
              "\n",
              "\n",
              "<div id=\"df-59bf75a0-225c-4885-846c-41dc11d7a79d\">\n",
              "  <button class=\"colab-df-quickchart\" onclick=\"quickchart('df-59bf75a0-225c-4885-846c-41dc11d7a79d')\"\n",
              "            title=\"Suggest charts.\"\n",
              "            style=\"display:none;\">\n",
              "\n",
              "<svg xmlns=\"http://www.w3.org/2000/svg\" height=\"24px\"viewBox=\"0 0 24 24\"\n",
              "     width=\"24px\">\n",
              "    <g>\n",
              "        <path d=\"M19 3H5c-1.1 0-2 .9-2 2v14c0 1.1.9 2 2 2h14c1.1 0 2-.9 2-2V5c0-1.1-.9-2-2-2zM9 17H7v-7h2v7zm4 0h-2V7h2v10zm4 0h-2v-4h2v4z\"/>\n",
              "    </g>\n",
              "</svg>\n",
              "  </button>\n",
              "\n",
              "<style>\n",
              "  .colab-df-quickchart {\n",
              "      --bg-color: #E8F0FE;\n",
              "      --fill-color: #1967D2;\n",
              "      --hover-bg-color: #E2EBFA;\n",
              "      --hover-fill-color: #174EA6;\n",
              "      --disabled-fill-color: #AAA;\n",
              "      --disabled-bg-color: #DDD;\n",
              "  }\n",
              "\n",
              "  [theme=dark] .colab-df-quickchart {\n",
              "      --bg-color: #3B4455;\n",
              "      --fill-color: #D2E3FC;\n",
              "      --hover-bg-color: #434B5C;\n",
              "      --hover-fill-color: #FFFFFF;\n",
              "      --disabled-bg-color: #3B4455;\n",
              "      --disabled-fill-color: #666;\n",
              "  }\n",
              "\n",
              "  .colab-df-quickchart {\n",
              "    background-color: var(--bg-color);\n",
              "    border: none;\n",
              "    border-radius: 50%;\n",
              "    cursor: pointer;\n",
              "    display: none;\n",
              "    fill: var(--fill-color);\n",
              "    height: 32px;\n",
              "    padding: 0;\n",
              "    width: 32px;\n",
              "  }\n",
              "\n",
              "  .colab-df-quickchart:hover {\n",
              "    background-color: var(--hover-bg-color);\n",
              "    box-shadow: 0 1px 2px rgba(60, 64, 67, 0.3), 0 1px 3px 1px rgba(60, 64, 67, 0.15);\n",
              "    fill: var(--button-hover-fill-color);\n",
              "  }\n",
              "\n",
              "  .colab-df-quickchart-complete:disabled,\n",
              "  .colab-df-quickchart-complete:disabled:hover {\n",
              "    background-color: var(--disabled-bg-color);\n",
              "    fill: var(--disabled-fill-color);\n",
              "    box-shadow: none;\n",
              "  }\n",
              "\n",
              "  .colab-df-spinner {\n",
              "    border: 2px solid var(--fill-color);\n",
              "    border-color: transparent;\n",
              "    border-bottom-color: var(--fill-color);\n",
              "    animation:\n",
              "      spin 1s steps(1) infinite;\n",
              "  }\n",
              "\n",
              "  @keyframes spin {\n",
              "    0% {\n",
              "      border-color: transparent;\n",
              "      border-bottom-color: var(--fill-color);\n",
              "      border-left-color: var(--fill-color);\n",
              "    }\n",
              "    20% {\n",
              "      border-color: transparent;\n",
              "      border-left-color: var(--fill-color);\n",
              "      border-top-color: var(--fill-color);\n",
              "    }\n",
              "    30% {\n",
              "      border-color: transparent;\n",
              "      border-left-color: var(--fill-color);\n",
              "      border-top-color: var(--fill-color);\n",
              "      border-right-color: var(--fill-color);\n",
              "    }\n",
              "    40% {\n",
              "      border-color: transparent;\n",
              "      border-right-color: var(--fill-color);\n",
              "      border-top-color: var(--fill-color);\n",
              "    }\n",
              "    60% {\n",
              "      border-color: transparent;\n",
              "      border-right-color: var(--fill-color);\n",
              "    }\n",
              "    80% {\n",
              "      border-color: transparent;\n",
              "      border-right-color: var(--fill-color);\n",
              "      border-bottom-color: var(--fill-color);\n",
              "    }\n",
              "    90% {\n",
              "      border-color: transparent;\n",
              "      border-bottom-color: var(--fill-color);\n",
              "    }\n",
              "  }\n",
              "</style>\n",
              "\n",
              "  <script>\n",
              "    async function quickchart(key) {\n",
              "      const quickchartButtonEl =\n",
              "        document.querySelector('#' + key + ' button');\n",
              "      quickchartButtonEl.disabled = true;  // To prevent multiple clicks.\n",
              "      quickchartButtonEl.classList.add('colab-df-spinner');\n",
              "      try {\n",
              "        const charts = await google.colab.kernel.invokeFunction(\n",
              "            'suggestCharts', [key], {});\n",
              "      } catch (error) {\n",
              "        console.error('Error during call to suggestCharts:', error);\n",
              "      }\n",
              "      quickchartButtonEl.classList.remove('colab-df-spinner');\n",
              "      quickchartButtonEl.classList.add('colab-df-quickchart-complete');\n",
              "    }\n",
              "    (() => {\n",
              "      let quickchartButtonEl =\n",
              "        document.querySelector('#df-59bf75a0-225c-4885-846c-41dc11d7a79d button');\n",
              "      quickchartButtonEl.style.display =\n",
              "        google.colab.kernel.accessAllowed ? 'block' : 'none';\n",
              "    })();\n",
              "  </script>\n",
              "</div>\n",
              "    </div>\n",
              "  </div>\n"
            ]
          },
          "metadata": {},
          "execution_count": 3
        }
      ]
    },
    {
      "cell_type": "code",
      "source": [
        "df.duplicated().sum()"
      ],
      "metadata": {
        "colab": {
          "base_uri": "https://localhost:8080/"
        },
        "id": "fFqDQM5Lu65m",
        "outputId": "99df2bbc-ec06-4368-c0f9-bf05b51520fc"
      },
      "execution_count": 4,
      "outputs": [
        {
          "output_type": "execute_result",
          "data": {
            "text/plain": [
              "0"
            ]
          },
          "metadata": {},
          "execution_count": 4
        }
      ]
    },
    {
      "cell_type": "code",
      "source": [
        "df[df[['Name', 'Platform']].duplicated()]"
      ],
      "metadata": {
        "colab": {
          "base_uri": "https://localhost:8080/",
          "height": 206
        },
        "id": "6YB-_sSfu-sm",
        "outputId": "2f44f697-8d31-4183-8a1c-a271d3691786"
      },
      "execution_count": 5,
      "outputs": [
        {
          "output_type": "execute_result",
          "data": {
            "text/plain": [
              "                              Name Platform  Year_of_Release     Genre  \\\n",
              "1591   Need for Speed: Most Wanted     X360           2005.0    Racing   \n",
              "4127            Sonic the Hedgehog      PS3              NaN  Platform   \n",
              "11715  Need for Speed: Most Wanted       PC           2012.0    Racing   \n",
              "14244                          NaN      GEN           1993.0       NaN   \n",
              "16230                Madden NFL 13      PS3           2012.0    Sports   \n",
              "\n",
              "       NA_sales  EU_sales  JP_sales  Other_sales  Critic_Score User_Score  \\\n",
              "1591        1.0      0.13      0.02         0.10          83.0        8.5   \n",
              "4127        0.0      0.48      0.00         0.00          43.0        4.1   \n",
              "11715       0.0      0.06      0.00         0.02          82.0        8.5   \n",
              "14244       0.0      0.00      0.03         0.00           NaN        NaN   \n",
              "16230       0.0      0.01      0.00         0.00          83.0        5.5   \n",
              "\n",
              "      Rating  \n",
              "1591       T  \n",
              "4127    E10+  \n",
              "11715      T  \n",
              "14244    NaN  \n",
              "16230      E  "
            ],
            "text/html": [
              "\n",
              "  <div id=\"df-6b8e2112-013a-4c6d-a541-23f6687691cc\" class=\"colab-df-container\">\n",
              "    <div>\n",
              "<style scoped>\n",
              "    .dataframe tbody tr th:only-of-type {\n",
              "        vertical-align: middle;\n",
              "    }\n",
              "\n",
              "    .dataframe tbody tr th {\n",
              "        vertical-align: top;\n",
              "    }\n",
              "\n",
              "    .dataframe thead th {\n",
              "        text-align: right;\n",
              "    }\n",
              "</style>\n",
              "<table border=\"1\" class=\"dataframe\">\n",
              "  <thead>\n",
              "    <tr style=\"text-align: right;\">\n",
              "      <th></th>\n",
              "      <th>Name</th>\n",
              "      <th>Platform</th>\n",
              "      <th>Year_of_Release</th>\n",
              "      <th>Genre</th>\n",
              "      <th>NA_sales</th>\n",
              "      <th>EU_sales</th>\n",
              "      <th>JP_sales</th>\n",
              "      <th>Other_sales</th>\n",
              "      <th>Critic_Score</th>\n",
              "      <th>User_Score</th>\n",
              "      <th>Rating</th>\n",
              "    </tr>\n",
              "  </thead>\n",
              "  <tbody>\n",
              "    <tr>\n",
              "      <th>1591</th>\n",
              "      <td>Need for Speed: Most Wanted</td>\n",
              "      <td>X360</td>\n",
              "      <td>2005.0</td>\n",
              "      <td>Racing</td>\n",
              "      <td>1.0</td>\n",
              "      <td>0.13</td>\n",
              "      <td>0.02</td>\n",
              "      <td>0.10</td>\n",
              "      <td>83.0</td>\n",
              "      <td>8.5</td>\n",
              "      <td>T</td>\n",
              "    </tr>\n",
              "    <tr>\n",
              "      <th>4127</th>\n",
              "      <td>Sonic the Hedgehog</td>\n",
              "      <td>PS3</td>\n",
              "      <td>NaN</td>\n",
              "      <td>Platform</td>\n",
              "      <td>0.0</td>\n",
              "      <td>0.48</td>\n",
              "      <td>0.00</td>\n",
              "      <td>0.00</td>\n",
              "      <td>43.0</td>\n",
              "      <td>4.1</td>\n",
              "      <td>E10+</td>\n",
              "    </tr>\n",
              "    <tr>\n",
              "      <th>11715</th>\n",
              "      <td>Need for Speed: Most Wanted</td>\n",
              "      <td>PC</td>\n",
              "      <td>2012.0</td>\n",
              "      <td>Racing</td>\n",
              "      <td>0.0</td>\n",
              "      <td>0.06</td>\n",
              "      <td>0.00</td>\n",
              "      <td>0.02</td>\n",
              "      <td>82.0</td>\n",
              "      <td>8.5</td>\n",
              "      <td>T</td>\n",
              "    </tr>\n",
              "    <tr>\n",
              "      <th>14244</th>\n",
              "      <td>NaN</td>\n",
              "      <td>GEN</td>\n",
              "      <td>1993.0</td>\n",
              "      <td>NaN</td>\n",
              "      <td>0.0</td>\n",
              "      <td>0.00</td>\n",
              "      <td>0.03</td>\n",
              "      <td>0.00</td>\n",
              "      <td>NaN</td>\n",
              "      <td>NaN</td>\n",
              "      <td>NaN</td>\n",
              "    </tr>\n",
              "    <tr>\n",
              "      <th>16230</th>\n",
              "      <td>Madden NFL 13</td>\n",
              "      <td>PS3</td>\n",
              "      <td>2012.0</td>\n",
              "      <td>Sports</td>\n",
              "      <td>0.0</td>\n",
              "      <td>0.01</td>\n",
              "      <td>0.00</td>\n",
              "      <td>0.00</td>\n",
              "      <td>83.0</td>\n",
              "      <td>5.5</td>\n",
              "      <td>E</td>\n",
              "    </tr>\n",
              "  </tbody>\n",
              "</table>\n",
              "</div>\n",
              "    <div class=\"colab-df-buttons\">\n",
              "\n",
              "  <div class=\"colab-df-container\">\n",
              "    <button class=\"colab-df-convert\" onclick=\"convertToInteractive('df-6b8e2112-013a-4c6d-a541-23f6687691cc')\"\n",
              "            title=\"Convert this dataframe to an interactive table.\"\n",
              "            style=\"display:none;\">\n",
              "\n",
              "  <svg xmlns=\"http://www.w3.org/2000/svg\" height=\"24px\" viewBox=\"0 -960 960 960\">\n",
              "    <path d=\"M120-120v-720h720v720H120Zm60-500h600v-160H180v160Zm220 220h160v-160H400v160Zm0 220h160v-160H400v160ZM180-400h160v-160H180v160Zm440 0h160v-160H620v160ZM180-180h160v-160H180v160Zm440 0h160v-160H620v160Z\"/>\n",
              "  </svg>\n",
              "    </button>\n",
              "\n",
              "  <style>\n",
              "    .colab-df-container {\n",
              "      display:flex;\n",
              "      gap: 12px;\n",
              "    }\n",
              "\n",
              "    .colab-df-convert {\n",
              "      background-color: #E8F0FE;\n",
              "      border: none;\n",
              "      border-radius: 50%;\n",
              "      cursor: pointer;\n",
              "      display: none;\n",
              "      fill: #1967D2;\n",
              "      height: 32px;\n",
              "      padding: 0 0 0 0;\n",
              "      width: 32px;\n",
              "    }\n",
              "\n",
              "    .colab-df-convert:hover {\n",
              "      background-color: #E2EBFA;\n",
              "      box-shadow: 0px 1px 2px rgba(60, 64, 67, 0.3), 0px 1px 3px 1px rgba(60, 64, 67, 0.15);\n",
              "      fill: #174EA6;\n",
              "    }\n",
              "\n",
              "    .colab-df-buttons div {\n",
              "      margin-bottom: 4px;\n",
              "    }\n",
              "\n",
              "    [theme=dark] .colab-df-convert {\n",
              "      background-color: #3B4455;\n",
              "      fill: #D2E3FC;\n",
              "    }\n",
              "\n",
              "    [theme=dark] .colab-df-convert:hover {\n",
              "      background-color: #434B5C;\n",
              "      box-shadow: 0px 1px 3px 1px rgba(0, 0, 0, 0.15);\n",
              "      filter: drop-shadow(0px 1px 2px rgba(0, 0, 0, 0.3));\n",
              "      fill: #FFFFFF;\n",
              "    }\n",
              "  </style>\n",
              "\n",
              "    <script>\n",
              "      const buttonEl =\n",
              "        document.querySelector('#df-6b8e2112-013a-4c6d-a541-23f6687691cc button.colab-df-convert');\n",
              "      buttonEl.style.display =\n",
              "        google.colab.kernel.accessAllowed ? 'block' : 'none';\n",
              "\n",
              "      async function convertToInteractive(key) {\n",
              "        const element = document.querySelector('#df-6b8e2112-013a-4c6d-a541-23f6687691cc');\n",
              "        const dataTable =\n",
              "          await google.colab.kernel.invokeFunction('convertToInteractive',\n",
              "                                                    [key], {});\n",
              "        if (!dataTable) return;\n",
              "\n",
              "        const docLinkHtml = 'Like what you see? Visit the ' +\n",
              "          '<a target=\"_blank\" href=https://colab.research.google.com/notebooks/data_table.ipynb>data table notebook</a>'\n",
              "          + ' to learn more about interactive tables.';\n",
              "        element.innerHTML = '';\n",
              "        dataTable['output_type'] = 'display_data';\n",
              "        await google.colab.output.renderOutput(dataTable, element);\n",
              "        const docLink = document.createElement('div');\n",
              "        docLink.innerHTML = docLinkHtml;\n",
              "        element.appendChild(docLink);\n",
              "      }\n",
              "    </script>\n",
              "  </div>\n",
              "\n",
              "\n",
              "<div id=\"df-f08f8c9b-e627-4001-9297-fde62e455de3\">\n",
              "  <button class=\"colab-df-quickchart\" onclick=\"quickchart('df-f08f8c9b-e627-4001-9297-fde62e455de3')\"\n",
              "            title=\"Suggest charts.\"\n",
              "            style=\"display:none;\">\n",
              "\n",
              "<svg xmlns=\"http://www.w3.org/2000/svg\" height=\"24px\"viewBox=\"0 0 24 24\"\n",
              "     width=\"24px\">\n",
              "    <g>\n",
              "        <path d=\"M19 3H5c-1.1 0-2 .9-2 2v14c0 1.1.9 2 2 2h14c1.1 0 2-.9 2-2V5c0-1.1-.9-2-2-2zM9 17H7v-7h2v7zm4 0h-2V7h2v10zm4 0h-2v-4h2v4z\"/>\n",
              "    </g>\n",
              "</svg>\n",
              "  </button>\n",
              "\n",
              "<style>\n",
              "  .colab-df-quickchart {\n",
              "      --bg-color: #E8F0FE;\n",
              "      --fill-color: #1967D2;\n",
              "      --hover-bg-color: #E2EBFA;\n",
              "      --hover-fill-color: #174EA6;\n",
              "      --disabled-fill-color: #AAA;\n",
              "      --disabled-bg-color: #DDD;\n",
              "  }\n",
              "\n",
              "  [theme=dark] .colab-df-quickchart {\n",
              "      --bg-color: #3B4455;\n",
              "      --fill-color: #D2E3FC;\n",
              "      --hover-bg-color: #434B5C;\n",
              "      --hover-fill-color: #FFFFFF;\n",
              "      --disabled-bg-color: #3B4455;\n",
              "      --disabled-fill-color: #666;\n",
              "  }\n",
              "\n",
              "  .colab-df-quickchart {\n",
              "    background-color: var(--bg-color);\n",
              "    border: none;\n",
              "    border-radius: 50%;\n",
              "    cursor: pointer;\n",
              "    display: none;\n",
              "    fill: var(--fill-color);\n",
              "    height: 32px;\n",
              "    padding: 0;\n",
              "    width: 32px;\n",
              "  }\n",
              "\n",
              "  .colab-df-quickchart:hover {\n",
              "    background-color: var(--hover-bg-color);\n",
              "    box-shadow: 0 1px 2px rgba(60, 64, 67, 0.3), 0 1px 3px 1px rgba(60, 64, 67, 0.15);\n",
              "    fill: var(--button-hover-fill-color);\n",
              "  }\n",
              "\n",
              "  .colab-df-quickchart-complete:disabled,\n",
              "  .colab-df-quickchart-complete:disabled:hover {\n",
              "    background-color: var(--disabled-bg-color);\n",
              "    fill: var(--disabled-fill-color);\n",
              "    box-shadow: none;\n",
              "  }\n",
              "\n",
              "  .colab-df-spinner {\n",
              "    border: 2px solid var(--fill-color);\n",
              "    border-color: transparent;\n",
              "    border-bottom-color: var(--fill-color);\n",
              "    animation:\n",
              "      spin 1s steps(1) infinite;\n",
              "  }\n",
              "\n",
              "  @keyframes spin {\n",
              "    0% {\n",
              "      border-color: transparent;\n",
              "      border-bottom-color: var(--fill-color);\n",
              "      border-left-color: var(--fill-color);\n",
              "    }\n",
              "    20% {\n",
              "      border-color: transparent;\n",
              "      border-left-color: var(--fill-color);\n",
              "      border-top-color: var(--fill-color);\n",
              "    }\n",
              "    30% {\n",
              "      border-color: transparent;\n",
              "      border-left-color: var(--fill-color);\n",
              "      border-top-color: var(--fill-color);\n",
              "      border-right-color: var(--fill-color);\n",
              "    }\n",
              "    40% {\n",
              "      border-color: transparent;\n",
              "      border-right-color: var(--fill-color);\n",
              "      border-top-color: var(--fill-color);\n",
              "    }\n",
              "    60% {\n",
              "      border-color: transparent;\n",
              "      border-right-color: var(--fill-color);\n",
              "    }\n",
              "    80% {\n",
              "      border-color: transparent;\n",
              "      border-right-color: var(--fill-color);\n",
              "      border-bottom-color: var(--fill-color);\n",
              "    }\n",
              "    90% {\n",
              "      border-color: transparent;\n",
              "      border-bottom-color: var(--fill-color);\n",
              "    }\n",
              "  }\n",
              "</style>\n",
              "\n",
              "  <script>\n",
              "    async function quickchart(key) {\n",
              "      const quickchartButtonEl =\n",
              "        document.querySelector('#' + key + ' button');\n",
              "      quickchartButtonEl.disabled = true;  // To prevent multiple clicks.\n",
              "      quickchartButtonEl.classList.add('colab-df-spinner');\n",
              "      try {\n",
              "        const charts = await google.colab.kernel.invokeFunction(\n",
              "            'suggestCharts', [key], {});\n",
              "      } catch (error) {\n",
              "        console.error('Error during call to suggestCharts:', error);\n",
              "      }\n",
              "      quickchartButtonEl.classList.remove('colab-df-spinner');\n",
              "      quickchartButtonEl.classList.add('colab-df-quickchart-complete');\n",
              "    }\n",
              "    (() => {\n",
              "      let quickchartButtonEl =\n",
              "        document.querySelector('#df-f08f8c9b-e627-4001-9297-fde62e455de3 button');\n",
              "      quickchartButtonEl.style.display =\n",
              "        google.colab.kernel.accessAllowed ? 'block' : 'none';\n",
              "    })();\n",
              "  </script>\n",
              "</div>\n",
              "    </div>\n",
              "  </div>\n"
            ]
          },
          "metadata": {},
          "execution_count": 5
        }
      ]
    },
    {
      "cell_type": "code",
      "source": [
        "def lookup(df:pd.DataFrame) -> None:\n",
        "    '''Функция для получения базовой информации о датафрейме'''\n",
        "    print('Dataset shape',df.shape,\"example:\")\n",
        "    display(df.dropna().sample())\n",
        "    display(df.info())\n",
        "    for col in df.columns:\n",
        "        n = df[col].nunique()\n",
        "        if n < 15:\n",
        "            display(df[col].value_counts(dropna=False).to_frame().T)\n",
        "        elif np.issubdtype(df[col].dtype, np.number):\n",
        "            print(f\"{col} — {n} values. Min {df[col].min()}, max: {df[col].max()}, пропусков в колонке - {df[col].isna().sum()}\")\n",
        "        else:\n",
        "            print(f\"{col} — {n} values. Min {df[col].dropna().min()}, max: {df[col].dropna().max()}, пропсуков в колонке - {df[col].isna().sum()}\")"
      ],
      "metadata": {
        "id": "IGki_cnB4oJM"
      },
      "execution_count": 6,
      "outputs": []
    },
    {
      "cell_type": "code",
      "source": [
        "                                                  lookup(df)"
      ],
      "metadata": {
        "colab": {
          "base_uri": "https://localhost:8080/",
          "height": 712
        },
        "id": "01lucMbh4qOX",
        "outputId": "b15a827c-f790-4258-ab56-4591e0b7bdd3"
      },
      "execution_count": 7,
      "outputs": [
        {
          "output_type": "stream",
          "name": "stdout",
          "text": [
            "Dataset shape (16715, 11) example:\n"
          ]
        },
        {
          "output_type": "display_data",
          "data": {
            "text/plain": [
              "                          Name Platform  Year_of_Release   Genre  NA_sales  \\\n",
              "856  Tenchu: Stealth Assassins       PS           1997.0  Action      0.95   \n",
              "\n",
              "     EU_sales  JP_sales  Other_sales  Critic_Score User_Score Rating  \n",
              "856      0.64      0.27         0.13          87.0        8.8      M  "
            ],
            "text/html": [
              "\n",
              "  <div id=\"df-ec3f05b4-0b39-4ab2-923d-4c4f3fd933d1\" class=\"colab-df-container\">\n",
              "    <div>\n",
              "<style scoped>\n",
              "    .dataframe tbody tr th:only-of-type {\n",
              "        vertical-align: middle;\n",
              "    }\n",
              "\n",
              "    .dataframe tbody tr th {\n",
              "        vertical-align: top;\n",
              "    }\n",
              "\n",
              "    .dataframe thead th {\n",
              "        text-align: right;\n",
              "    }\n",
              "</style>\n",
              "<table border=\"1\" class=\"dataframe\">\n",
              "  <thead>\n",
              "    <tr style=\"text-align: right;\">\n",
              "      <th></th>\n",
              "      <th>Name</th>\n",
              "      <th>Platform</th>\n",
              "      <th>Year_of_Release</th>\n",
              "      <th>Genre</th>\n",
              "      <th>NA_sales</th>\n",
              "      <th>EU_sales</th>\n",
              "      <th>JP_sales</th>\n",
              "      <th>Other_sales</th>\n",
              "      <th>Critic_Score</th>\n",
              "      <th>User_Score</th>\n",
              "      <th>Rating</th>\n",
              "    </tr>\n",
              "  </thead>\n",
              "  <tbody>\n",
              "    <tr>\n",
              "      <th>856</th>\n",
              "      <td>Tenchu: Stealth Assassins</td>\n",
              "      <td>PS</td>\n",
              "      <td>1997.0</td>\n",
              "      <td>Action</td>\n",
              "      <td>0.95</td>\n",
              "      <td>0.64</td>\n",
              "      <td>0.27</td>\n",
              "      <td>0.13</td>\n",
              "      <td>87.0</td>\n",
              "      <td>8.8</td>\n",
              "      <td>M</td>\n",
              "    </tr>\n",
              "  </tbody>\n",
              "</table>\n",
              "</div>\n",
              "    <div class=\"colab-df-buttons\">\n",
              "\n",
              "  <div class=\"colab-df-container\">\n",
              "    <button class=\"colab-df-convert\" onclick=\"convertToInteractive('df-ec3f05b4-0b39-4ab2-923d-4c4f3fd933d1')\"\n",
              "            title=\"Convert this dataframe to an interactive table.\"\n",
              "            style=\"display:none;\">\n",
              "\n",
              "  <svg xmlns=\"http://www.w3.org/2000/svg\" height=\"24px\" viewBox=\"0 -960 960 960\">\n",
              "    <path d=\"M120-120v-720h720v720H120Zm60-500h600v-160H180v160Zm220 220h160v-160H400v160Zm0 220h160v-160H400v160ZM180-400h160v-160H180v160Zm440 0h160v-160H620v160ZM180-180h160v-160H180v160Zm440 0h160v-160H620v160Z\"/>\n",
              "  </svg>\n",
              "    </button>\n",
              "\n",
              "  <style>\n",
              "    .colab-df-container {\n",
              "      display:flex;\n",
              "      gap: 12px;\n",
              "    }\n",
              "\n",
              "    .colab-df-convert {\n",
              "      background-color: #E8F0FE;\n",
              "      border: none;\n",
              "      border-radius: 50%;\n",
              "      cursor: pointer;\n",
              "      display: none;\n",
              "      fill: #1967D2;\n",
              "      height: 32px;\n",
              "      padding: 0 0 0 0;\n",
              "      width: 32px;\n",
              "    }\n",
              "\n",
              "    .colab-df-convert:hover {\n",
              "      background-color: #E2EBFA;\n",
              "      box-shadow: 0px 1px 2px rgba(60, 64, 67, 0.3), 0px 1px 3px 1px rgba(60, 64, 67, 0.15);\n",
              "      fill: #174EA6;\n",
              "    }\n",
              "\n",
              "    .colab-df-buttons div {\n",
              "      margin-bottom: 4px;\n",
              "    }\n",
              "\n",
              "    [theme=dark] .colab-df-convert {\n",
              "      background-color: #3B4455;\n",
              "      fill: #D2E3FC;\n",
              "    }\n",
              "\n",
              "    [theme=dark] .colab-df-convert:hover {\n",
              "      background-color: #434B5C;\n",
              "      box-shadow: 0px 1px 3px 1px rgba(0, 0, 0, 0.15);\n",
              "      filter: drop-shadow(0px 1px 2px rgba(0, 0, 0, 0.3));\n",
              "      fill: #FFFFFF;\n",
              "    }\n",
              "  </style>\n",
              "\n",
              "    <script>\n",
              "      const buttonEl =\n",
              "        document.querySelector('#df-ec3f05b4-0b39-4ab2-923d-4c4f3fd933d1 button.colab-df-convert');\n",
              "      buttonEl.style.display =\n",
              "        google.colab.kernel.accessAllowed ? 'block' : 'none';\n",
              "\n",
              "      async function convertToInteractive(key) {\n",
              "        const element = document.querySelector('#df-ec3f05b4-0b39-4ab2-923d-4c4f3fd933d1');\n",
              "        const dataTable =\n",
              "          await google.colab.kernel.invokeFunction('convertToInteractive',\n",
              "                                                    [key], {});\n",
              "        if (!dataTable) return;\n",
              "\n",
              "        const docLinkHtml = 'Like what you see? Visit the ' +\n",
              "          '<a target=\"_blank\" href=https://colab.research.google.com/notebooks/data_table.ipynb>data table notebook</a>'\n",
              "          + ' to learn more about interactive tables.';\n",
              "        element.innerHTML = '';\n",
              "        dataTable['output_type'] = 'display_data';\n",
              "        await google.colab.output.renderOutput(dataTable, element);\n",
              "        const docLink = document.createElement('div');\n",
              "        docLink.innerHTML = docLinkHtml;\n",
              "        element.appendChild(docLink);\n",
              "      }\n",
              "    </script>\n",
              "  </div>\n",
              "\n",
              "    </div>\n",
              "  </div>\n"
            ]
          },
          "metadata": {}
        },
        {
          "output_type": "stream",
          "name": "stdout",
          "text": [
            "<class 'pandas.core.frame.DataFrame'>\n",
            "RangeIndex: 16715 entries, 0 to 16714\n",
            "Data columns (total 11 columns):\n",
            " #   Column           Non-Null Count  Dtype  \n",
            "---  ------           --------------  -----  \n",
            " 0   Name             16713 non-null  object \n",
            " 1   Platform         16715 non-null  object \n",
            " 2   Year_of_Release  16446 non-null  float64\n",
            " 3   Genre            16713 non-null  object \n",
            " 4   NA_sales         16715 non-null  float64\n",
            " 5   EU_sales         16715 non-null  float64\n",
            " 6   JP_sales         16715 non-null  float64\n",
            " 7   Other_sales      16715 non-null  float64\n",
            " 8   Critic_Score     8137 non-null   float64\n",
            " 9   User_Score       10014 non-null  object \n",
            " 10  Rating           9949 non-null   object \n",
            "dtypes: float64(6), object(5)\n",
            "memory usage: 1.4+ MB\n"
          ]
        },
        {
          "output_type": "display_data",
          "data": {
            "text/plain": [
              "None"
            ]
          },
          "metadata": {}
        },
        {
          "output_type": "stream",
          "name": "stdout",
          "text": [
            "Name — 11559 values. Min  Beyblade Burst, max: ¡Shin Chan Flipa en colores!, пропсуков в колонке - 2\n",
            "Platform — 31 values. Min 2600, max: XOne, пропсуков в колонке - 0\n",
            "Year_of_Release — 37 values. Min 1980.0, max: 2016.0, пропусков в колонке - 269\n"
          ]
        },
        {
          "output_type": "display_data",
          "data": {
            "text/plain": [
              "       Action  Sports  Misc  Role-Playing  Shooter  Adventure  Racing  \\\n",
              "Genre    3369    2348  1750          1498     1323       1303    1249   \n",
              "\n",
              "       Platform  Simulation  Fighting  Strategy  Puzzle  NaN  \n",
              "Genre       888         873       849       683     580    2  "
            ],
            "text/html": [
              "\n",
              "  <div id=\"df-3f070d32-7244-448a-855d-184ae61fab1b\" class=\"colab-df-container\">\n",
              "    <div>\n",
              "<style scoped>\n",
              "    .dataframe tbody tr th:only-of-type {\n",
              "        vertical-align: middle;\n",
              "    }\n",
              "\n",
              "    .dataframe tbody tr th {\n",
              "        vertical-align: top;\n",
              "    }\n",
              "\n",
              "    .dataframe thead th {\n",
              "        text-align: right;\n",
              "    }\n",
              "</style>\n",
              "<table border=\"1\" class=\"dataframe\">\n",
              "  <thead>\n",
              "    <tr style=\"text-align: right;\">\n",
              "      <th></th>\n",
              "      <th>Action</th>\n",
              "      <th>Sports</th>\n",
              "      <th>Misc</th>\n",
              "      <th>Role-Playing</th>\n",
              "      <th>Shooter</th>\n",
              "      <th>Adventure</th>\n",
              "      <th>Racing</th>\n",
              "      <th>Platform</th>\n",
              "      <th>Simulation</th>\n",
              "      <th>Fighting</th>\n",
              "      <th>Strategy</th>\n",
              "      <th>Puzzle</th>\n",
              "      <th>NaN</th>\n",
              "    </tr>\n",
              "  </thead>\n",
              "  <tbody>\n",
              "    <tr>\n",
              "      <th>Genre</th>\n",
              "      <td>3369</td>\n",
              "      <td>2348</td>\n",
              "      <td>1750</td>\n",
              "      <td>1498</td>\n",
              "      <td>1323</td>\n",
              "      <td>1303</td>\n",
              "      <td>1249</td>\n",
              "      <td>888</td>\n",
              "      <td>873</td>\n",
              "      <td>849</td>\n",
              "      <td>683</td>\n",
              "      <td>580</td>\n",
              "      <td>2</td>\n",
              "    </tr>\n",
              "  </tbody>\n",
              "</table>\n",
              "</div>\n",
              "    <div class=\"colab-df-buttons\">\n",
              "\n",
              "  <div class=\"colab-df-container\">\n",
              "    <button class=\"colab-df-convert\" onclick=\"convertToInteractive('df-3f070d32-7244-448a-855d-184ae61fab1b')\"\n",
              "            title=\"Convert this dataframe to an interactive table.\"\n",
              "            style=\"display:none;\">\n",
              "\n",
              "  <svg xmlns=\"http://www.w3.org/2000/svg\" height=\"24px\" viewBox=\"0 -960 960 960\">\n",
              "    <path d=\"M120-120v-720h720v720H120Zm60-500h600v-160H180v160Zm220 220h160v-160H400v160Zm0 220h160v-160H400v160ZM180-400h160v-160H180v160Zm440 0h160v-160H620v160ZM180-180h160v-160H180v160Zm440 0h160v-160H620v160Z\"/>\n",
              "  </svg>\n",
              "    </button>\n",
              "\n",
              "  <style>\n",
              "    .colab-df-container {\n",
              "      display:flex;\n",
              "      gap: 12px;\n",
              "    }\n",
              "\n",
              "    .colab-df-convert {\n",
              "      background-color: #E8F0FE;\n",
              "      border: none;\n",
              "      border-radius: 50%;\n",
              "      cursor: pointer;\n",
              "      display: none;\n",
              "      fill: #1967D2;\n",
              "      height: 32px;\n",
              "      padding: 0 0 0 0;\n",
              "      width: 32px;\n",
              "    }\n",
              "\n",
              "    .colab-df-convert:hover {\n",
              "      background-color: #E2EBFA;\n",
              "      box-shadow: 0px 1px 2px rgba(60, 64, 67, 0.3), 0px 1px 3px 1px rgba(60, 64, 67, 0.15);\n",
              "      fill: #174EA6;\n",
              "    }\n",
              "\n",
              "    .colab-df-buttons div {\n",
              "      margin-bottom: 4px;\n",
              "    }\n",
              "\n",
              "    [theme=dark] .colab-df-convert {\n",
              "      background-color: #3B4455;\n",
              "      fill: #D2E3FC;\n",
              "    }\n",
              "\n",
              "    [theme=dark] .colab-df-convert:hover {\n",
              "      background-color: #434B5C;\n",
              "      box-shadow: 0px 1px 3px 1px rgba(0, 0, 0, 0.15);\n",
              "      filter: drop-shadow(0px 1px 2px rgba(0, 0, 0, 0.3));\n",
              "      fill: #FFFFFF;\n",
              "    }\n",
              "  </style>\n",
              "\n",
              "    <script>\n",
              "      const buttonEl =\n",
              "        document.querySelector('#df-3f070d32-7244-448a-855d-184ae61fab1b button.colab-df-convert');\n",
              "      buttonEl.style.display =\n",
              "        google.colab.kernel.accessAllowed ? 'block' : 'none';\n",
              "\n",
              "      async function convertToInteractive(key) {\n",
              "        const element = document.querySelector('#df-3f070d32-7244-448a-855d-184ae61fab1b');\n",
              "        const dataTable =\n",
              "          await google.colab.kernel.invokeFunction('convertToInteractive',\n",
              "                                                    [key], {});\n",
              "        if (!dataTable) return;\n",
              "\n",
              "        const docLinkHtml = 'Like what you see? Visit the ' +\n",
              "          '<a target=\"_blank\" href=https://colab.research.google.com/notebooks/data_table.ipynb>data table notebook</a>'\n",
              "          + ' to learn more about interactive tables.';\n",
              "        element.innerHTML = '';\n",
              "        dataTable['output_type'] = 'display_data';\n",
              "        await google.colab.output.renderOutput(dataTable, element);\n",
              "        const docLink = document.createElement('div');\n",
              "        docLink.innerHTML = docLinkHtml;\n",
              "        element.appendChild(docLink);\n",
              "      }\n",
              "    </script>\n",
              "  </div>\n",
              "\n",
              "    </div>\n",
              "  </div>\n"
            ]
          },
          "metadata": {}
        },
        {
          "output_type": "stream",
          "name": "stdout",
          "text": [
            "NA_sales — 402 values. Min 0.0, max: 41.36, пропусков в колонке - 0\n",
            "EU_sales — 307 values. Min 0.0, max: 28.96, пропусков в колонке - 0\n",
            "JP_sales — 244 values. Min 0.0, max: 10.22, пропусков в колонке - 0\n",
            "Other_sales — 155 values. Min 0.0, max: 10.57, пропусков в колонке - 0\n",
            "Critic_Score — 82 values. Min 13.0, max: 98.0, пропусков в колонке - 8578\n",
            "User_Score — 96 values. Min 0, max: tbd, пропсуков в колонке - 6701\n"
          ]
        },
        {
          "output_type": "display_data",
          "data": {
            "text/plain": [
              "         NaN     E     T     M  E10+  EC  K-A  RP  AO\n",
              "Rating  6766  3990  2961  1563  1420   8    3   3   1"
            ],
            "text/html": [
              "\n",
              "  <div id=\"df-d0c4d2fc-f886-478b-909c-8c18191f28ca\" class=\"colab-df-container\">\n",
              "    <div>\n",
              "<style scoped>\n",
              "    .dataframe tbody tr th:only-of-type {\n",
              "        vertical-align: middle;\n",
              "    }\n",
              "\n",
              "    .dataframe tbody tr th {\n",
              "        vertical-align: top;\n",
              "    }\n",
              "\n",
              "    .dataframe thead th {\n",
              "        text-align: right;\n",
              "    }\n",
              "</style>\n",
              "<table border=\"1\" class=\"dataframe\">\n",
              "  <thead>\n",
              "    <tr style=\"text-align: right;\">\n",
              "      <th></th>\n",
              "      <th>NaN</th>\n",
              "      <th>E</th>\n",
              "      <th>T</th>\n",
              "      <th>M</th>\n",
              "      <th>E10+</th>\n",
              "      <th>EC</th>\n",
              "      <th>K-A</th>\n",
              "      <th>RP</th>\n",
              "      <th>AO</th>\n",
              "    </tr>\n",
              "  </thead>\n",
              "  <tbody>\n",
              "    <tr>\n",
              "      <th>Rating</th>\n",
              "      <td>6766</td>\n",
              "      <td>3990</td>\n",
              "      <td>2961</td>\n",
              "      <td>1563</td>\n",
              "      <td>1420</td>\n",
              "      <td>8</td>\n",
              "      <td>3</td>\n",
              "      <td>3</td>\n",
              "      <td>1</td>\n",
              "    </tr>\n",
              "  </tbody>\n",
              "</table>\n",
              "</div>\n",
              "    <div class=\"colab-df-buttons\">\n",
              "\n",
              "  <div class=\"colab-df-container\">\n",
              "    <button class=\"colab-df-convert\" onclick=\"convertToInteractive('df-d0c4d2fc-f886-478b-909c-8c18191f28ca')\"\n",
              "            title=\"Convert this dataframe to an interactive table.\"\n",
              "            style=\"display:none;\">\n",
              "\n",
              "  <svg xmlns=\"http://www.w3.org/2000/svg\" height=\"24px\" viewBox=\"0 -960 960 960\">\n",
              "    <path d=\"M120-120v-720h720v720H120Zm60-500h600v-160H180v160Zm220 220h160v-160H400v160Zm0 220h160v-160H400v160ZM180-400h160v-160H180v160Zm440 0h160v-160H620v160ZM180-180h160v-160H180v160Zm440 0h160v-160H620v160Z\"/>\n",
              "  </svg>\n",
              "    </button>\n",
              "\n",
              "  <style>\n",
              "    .colab-df-container {\n",
              "      display:flex;\n",
              "      gap: 12px;\n",
              "    }\n",
              "\n",
              "    .colab-df-convert {\n",
              "      background-color: #E8F0FE;\n",
              "      border: none;\n",
              "      border-radius: 50%;\n",
              "      cursor: pointer;\n",
              "      display: none;\n",
              "      fill: #1967D2;\n",
              "      height: 32px;\n",
              "      padding: 0 0 0 0;\n",
              "      width: 32px;\n",
              "    }\n",
              "\n",
              "    .colab-df-convert:hover {\n",
              "      background-color: #E2EBFA;\n",
              "      box-shadow: 0px 1px 2px rgba(60, 64, 67, 0.3), 0px 1px 3px 1px rgba(60, 64, 67, 0.15);\n",
              "      fill: #174EA6;\n",
              "    }\n",
              "\n",
              "    .colab-df-buttons div {\n",
              "      margin-bottom: 4px;\n",
              "    }\n",
              "\n",
              "    [theme=dark] .colab-df-convert {\n",
              "      background-color: #3B4455;\n",
              "      fill: #D2E3FC;\n",
              "    }\n",
              "\n",
              "    [theme=dark] .colab-df-convert:hover {\n",
              "      background-color: #434B5C;\n",
              "      box-shadow: 0px 1px 3px 1px rgba(0, 0, 0, 0.15);\n",
              "      filter: drop-shadow(0px 1px 2px rgba(0, 0, 0, 0.3));\n",
              "      fill: #FFFFFF;\n",
              "    }\n",
              "  </style>\n",
              "\n",
              "    <script>\n",
              "      const buttonEl =\n",
              "        document.querySelector('#df-d0c4d2fc-f886-478b-909c-8c18191f28ca button.colab-df-convert');\n",
              "      buttonEl.style.display =\n",
              "        google.colab.kernel.accessAllowed ? 'block' : 'none';\n",
              "\n",
              "      async function convertToInteractive(key) {\n",
              "        const element = document.querySelector('#df-d0c4d2fc-f886-478b-909c-8c18191f28ca');\n",
              "        const dataTable =\n",
              "          await google.colab.kernel.invokeFunction('convertToInteractive',\n",
              "                                                    [key], {});\n",
              "        if (!dataTable) return;\n",
              "\n",
              "        const docLinkHtml = 'Like what you see? Visit the ' +\n",
              "          '<a target=\"_blank\" href=https://colab.research.google.com/notebooks/data_table.ipynb>data table notebook</a>'\n",
              "          + ' to learn more about interactive tables.';\n",
              "        element.innerHTML = '';\n",
              "        dataTable['output_type'] = 'display_data';\n",
              "        await google.colab.output.renderOutput(dataTable, element);\n",
              "        const docLink = document.createElement('div');\n",
              "        docLink.innerHTML = docLinkHtml;\n",
              "        element.appendChild(docLink);\n",
              "      }\n",
              "    </script>\n",
              "  </div>\n",
              "\n",
              "    </div>\n",
              "  </div>\n"
            ]
          },
          "metadata": {}
        }
      ]
    },
    {
      "cell_type": "markdown",
      "source": [
        "### Наблюдения"
      ],
      "metadata": {
        "id": "t5hcUmCglO_m"
      }
    },
    {
      "cell_type": "markdown",
      "source": [
        "Перед нами данные о продажах игр за период с 1980 по 2016 год\n",
        "Есть данные о продажах в трех регионах - Северная Америка, Европа и Япония, а также дополнительные данные о продажах в других регионах, названия которых мы не знаем\n",
        "\n",
        "\n",
        "\n",
        "Мы также располагаем данными о платформах, жанрах, пользовательском рейтинге, оценке игры критиками, а также рейтинг игры ассоциации ESRB\n",
        "\n",
        "\n",
        "\n",
        "Расшифровка значений рейтинга ESRB:\n",
        "\n",
        "\n",
        "\n",
        "EC\tДля детей младшего возраста. 3+\n",
        "\n",
        "\n",
        "\n",
        "E\tПодходит для всех возрастных категорий.\n",
        "\n",
        "\n",
        "\n",
        "K-A - заменена в 1998 году рейтингом E.\n",
        "\n",
        "\n",
        "\n",
        "E 10+\tПодходит для лиц старше 10 лет.\n",
        "\n",
        "\n",
        "\n",
        "T\tПодходит для лиц старше 13 лет.\n",
        "\n",
        "\n",
        "\n",
        "M\tПодходит для лиц старше 17 лет.\n",
        "\n",
        "\n",
        "\n",
        "AO\tПодходит для взрослых старше 18 лет.\n",
        "\n",
        "\n",
        "\n",
        "RP\tКатегория ещё не присвоена.\n",
        "\n",
        "\n",
        "\n",
        "Важно учитывать, что рейтинг пользователей по 10-бальной шкале, а рейтинг критиков - по 100 бальной\n",
        "\n",
        "\n",
        "\n",
        "\n",
        "\n",
        "В большинстве случаев (за исключением 5 случаев) каждая запись в таблице соответствует уникальной комбинации из названия игры и платформы. Таким образом мы делаем предположение, что цифры в таблице с продажами говорят о суммарных продажах каждой игры за все годы, начиная с года выпуска."
      ],
      "metadata": {
        "id": "ZwD6Pw7hlS70"
      }
    },
    {
      "cell_type": "markdown",
      "source": [
        "## Предобработка данных"
      ],
      "metadata": {
        "id": "jG-0ZEQGmisS"
      }
    },
    {
      "cell_type": "code",
      "source": [
        "df.columns = df.columns.str.lower()\n"
      ],
      "metadata": {
        "id": "Q8e2-Cjk5i3y"
      },
      "execution_count": 8,
      "outputs": []
    },
    {
      "cell_type": "code",
      "source": [
        "df['user_score'] = df['user_score'].replace('tbd', np.NaN)"
      ],
      "metadata": {
        "id": "XEaKhQS2Aqjz"
      },
      "execution_count": 9,
      "outputs": []
    },
    {
      "cell_type": "code",
      "source": [
        "df['user_score'] = df['user_score'].astype('float')"
      ],
      "metadata": {
        "id": "Iy39d6N3A8Qg"
      },
      "execution_count": 10,
      "outputs": []
    },
    {
      "cell_type": "code",
      "source": [
        "df = df.dropna(subset = 'name')"
      ],
      "metadata": {
        "id": "e8FOU2_Fn00K"
      },
      "execution_count": 60,
      "outputs": []
    },
    {
      "cell_type": "code",
      "source": [
        "df['total_sales'] = df['eu_sales']+df['na_sales']+df['jp_sales']+df['other_sales']\n",
        "df.sample()"
      ],
      "metadata": {
        "colab": {
          "base_uri": "https://localhost:8080/",
          "height": 98
        },
        "id": "DcW-jBtteEJ_",
        "outputId": "22e93bf5-f982-4ff1-b56f-5b9df87d1dfc"
      },
      "execution_count": 61,
      "outputs": [
        {
          "output_type": "execute_result",
          "data": {
            "text/plain": [
              "                          name platform  year_of_release       genre  \\\n",
              "5484  Hell's Kitchen: The Game      Wii           2008.0  Simulation   \n",
              "\n",
              "      na_sales  eu_sales  jp_sales  other_sales  critic_score  user_score  \\\n",
              "5484       0.3       0.0       0.0         0.03           NaN         NaN   \n",
              "\n",
              "     rating  total_sales  \n",
              "5484    NaN         0.33  "
            ],
            "text/html": [
              "\n",
              "  <div id=\"df-837e3ee4-1130-4108-acba-5c530333b95f\" class=\"colab-df-container\">\n",
              "    <div>\n",
              "<style scoped>\n",
              "    .dataframe tbody tr th:only-of-type {\n",
              "        vertical-align: middle;\n",
              "    }\n",
              "\n",
              "    .dataframe tbody tr th {\n",
              "        vertical-align: top;\n",
              "    }\n",
              "\n",
              "    .dataframe thead th {\n",
              "        text-align: right;\n",
              "    }\n",
              "</style>\n",
              "<table border=\"1\" class=\"dataframe\">\n",
              "  <thead>\n",
              "    <tr style=\"text-align: right;\">\n",
              "      <th></th>\n",
              "      <th>name</th>\n",
              "      <th>platform</th>\n",
              "      <th>year_of_release</th>\n",
              "      <th>genre</th>\n",
              "      <th>na_sales</th>\n",
              "      <th>eu_sales</th>\n",
              "      <th>jp_sales</th>\n",
              "      <th>other_sales</th>\n",
              "      <th>critic_score</th>\n",
              "      <th>user_score</th>\n",
              "      <th>rating</th>\n",
              "      <th>total_sales</th>\n",
              "    </tr>\n",
              "  </thead>\n",
              "  <tbody>\n",
              "    <tr>\n",
              "      <th>5484</th>\n",
              "      <td>Hell's Kitchen: The Game</td>\n",
              "      <td>Wii</td>\n",
              "      <td>2008.0</td>\n",
              "      <td>Simulation</td>\n",
              "      <td>0.3</td>\n",
              "      <td>0.0</td>\n",
              "      <td>0.0</td>\n",
              "      <td>0.03</td>\n",
              "      <td>NaN</td>\n",
              "      <td>NaN</td>\n",
              "      <td>NaN</td>\n",
              "      <td>0.33</td>\n",
              "    </tr>\n",
              "  </tbody>\n",
              "</table>\n",
              "</div>\n",
              "    <div class=\"colab-df-buttons\">\n",
              "\n",
              "  <div class=\"colab-df-container\">\n",
              "    <button class=\"colab-df-convert\" onclick=\"convertToInteractive('df-837e3ee4-1130-4108-acba-5c530333b95f')\"\n",
              "            title=\"Convert this dataframe to an interactive table.\"\n",
              "            style=\"display:none;\">\n",
              "\n",
              "  <svg xmlns=\"http://www.w3.org/2000/svg\" height=\"24px\" viewBox=\"0 -960 960 960\">\n",
              "    <path d=\"M120-120v-720h720v720H120Zm60-500h600v-160H180v160Zm220 220h160v-160H400v160Zm0 220h160v-160H400v160ZM180-400h160v-160H180v160Zm440 0h160v-160H620v160ZM180-180h160v-160H180v160Zm440 0h160v-160H620v160Z\"/>\n",
              "  </svg>\n",
              "    </button>\n",
              "\n",
              "  <style>\n",
              "    .colab-df-container {\n",
              "      display:flex;\n",
              "      gap: 12px;\n",
              "    }\n",
              "\n",
              "    .colab-df-convert {\n",
              "      background-color: #E8F0FE;\n",
              "      border: none;\n",
              "      border-radius: 50%;\n",
              "      cursor: pointer;\n",
              "      display: none;\n",
              "      fill: #1967D2;\n",
              "      height: 32px;\n",
              "      padding: 0 0 0 0;\n",
              "      width: 32px;\n",
              "    }\n",
              "\n",
              "    .colab-df-convert:hover {\n",
              "      background-color: #E2EBFA;\n",
              "      box-shadow: 0px 1px 2px rgba(60, 64, 67, 0.3), 0px 1px 3px 1px rgba(60, 64, 67, 0.15);\n",
              "      fill: #174EA6;\n",
              "    }\n",
              "\n",
              "    .colab-df-buttons div {\n",
              "      margin-bottom: 4px;\n",
              "    }\n",
              "\n",
              "    [theme=dark] .colab-df-convert {\n",
              "      background-color: #3B4455;\n",
              "      fill: #D2E3FC;\n",
              "    }\n",
              "\n",
              "    [theme=dark] .colab-df-convert:hover {\n",
              "      background-color: #434B5C;\n",
              "      box-shadow: 0px 1px 3px 1px rgba(0, 0, 0, 0.15);\n",
              "      filter: drop-shadow(0px 1px 2px rgba(0, 0, 0, 0.3));\n",
              "      fill: #FFFFFF;\n",
              "    }\n",
              "  </style>\n",
              "\n",
              "    <script>\n",
              "      const buttonEl =\n",
              "        document.querySelector('#df-837e3ee4-1130-4108-acba-5c530333b95f button.colab-df-convert');\n",
              "      buttonEl.style.display =\n",
              "        google.colab.kernel.accessAllowed ? 'block' : 'none';\n",
              "\n",
              "      async function convertToInteractive(key) {\n",
              "        const element = document.querySelector('#df-837e3ee4-1130-4108-acba-5c530333b95f');\n",
              "        const dataTable =\n",
              "          await google.colab.kernel.invokeFunction('convertToInteractive',\n",
              "                                                    [key], {});\n",
              "        if (!dataTable) return;\n",
              "\n",
              "        const docLinkHtml = 'Like what you see? Visit the ' +\n",
              "          '<a target=\"_blank\" href=https://colab.research.google.com/notebooks/data_table.ipynb>data table notebook</a>'\n",
              "          + ' to learn more about interactive tables.';\n",
              "        element.innerHTML = '';\n",
              "        dataTable['output_type'] = 'display_data';\n",
              "        await google.colab.output.renderOutput(dataTable, element);\n",
              "        const docLink = document.createElement('div');\n",
              "        docLink.innerHTML = docLinkHtml;\n",
              "        element.appendChild(docLink);\n",
              "      }\n",
              "    </script>\n",
              "  </div>\n",
              "\n",
              "    </div>\n",
              "  </div>\n"
            ]
          },
          "metadata": {},
          "execution_count": 61
        }
      ]
    },
    {
      "cell_type": "markdown",
      "source": [
        "### Результаты предобработки данных\n",
        "1) Мы перевели названия колонок в нижний регистр\n",
        "\n",
        "\n",
        "2) Мы удалили две строки с пропущенным названием игры\n",
        "\n",
        "\n",
        "\n",
        "3) Мы приняли решение не удалять пропуски в других колонках, так как не хотели терять ценную информацию.\n",
        "\n",
        "\n",
        "\n",
        "4) Значение 'tbd' в колонке с рейтингом пользователей мы поменяли на Nan и это нам позволило перевести значения колонки к типу float\n",
        "\n",
        "\n",
        "5) Мы добавили новую колонку 'total_sales' в которой хранится сумма всех продаж"
      ],
      "metadata": {
        "id": "Txs5svF-nX8u"
      }
    },
    {
      "cell_type": "markdown",
      "source": [
        "## Исследовательский анализ данных"
      ],
      "metadata": {
        "id": "uF_XPw0npAl_"
      }
    },
    {
      "cell_type": "markdown",
      "source": [
        "Для начала посмотрим, есть ли корреляция между значениями в колонках"
      ],
      "metadata": {
        "id": "m_M5_MUbpEmt"
      }
    },
    {
      "cell_type": "code",
      "source": [
        "sns.heatmap(df.select_dtypes(np.number).corr(method='spearman')).set(title='Корреляции по Спирману')\n",
        "plt.show()"
      ],
      "metadata": {
        "colab": {
          "base_uri": "https://localhost:8080/",
          "height": 547
        },
        "id": "99AeNm0ED1tm",
        "outputId": "3b4c90fb-e47e-45ed-b7f0-a4424b4c8458"
      },
      "execution_count": 13,
      "outputs": [
        {
          "output_type": "display_data",
          "data": {
            "text/plain": [
              "<Figure size 640x480 with 2 Axes>"
            ],
            "image/png": "[encoded data removed]"
          },
          "metadata": {}
        }
      ]
    },
    {
      "cell_type": "code",
      "source": [
        "sns.heatmap(df[['platform', 'genre', 'rating', 'user_score', 'critic_score', 'total_sales', 'year_of_release']].phik_matrix(interval_cols=['user_score', 'critic_score','year_of_release','total_sales']));"
      ],
      "metadata": {
        "colab": {
          "base_uri": "https://localhost:8080/",
          "height": 531
        },
        "id": "W3w2Ruc_qUUp",
        "outputId": "edbb13d1-461a-4eb8-d485-484fdd165069"
      },
      "execution_count": 14,
      "outputs": [
        {
          "output_type": "display_data",
          "data": {
            "text/plain": [
              "<Figure size 640x480 with 2 Axes>"
            ],
            "image/png": "[encoded data removed]"
          },
          "metadata": {}
        }
      ]
    },
    {
      "cell_type": "markdown",
      "source": [
        "Изучив матрицу корреляций, мы можем наблюдать некоторые интересные закономерности:\n",
        "\n",
        "1) Платформа сильно зависит от года выпуска. Есть также некоторая зависимость между годом выпуска и жанром, рейтингом  ESRB и оценкой пользователя.\n",
        "\n",
        "2) Есть зависимость между продажами и оценкой игры критиками. Пользовательский рейтинг также оказывает незначительное влияние на продажи\n",
        "\n",
        "3) Явной зависимости между жанром или платформой и продажами на матрице корреляций мы не наблюдаем\n",
        "\n"
      ],
      "metadata": {
        "id": "Xj6x0EonpPNI"
      }
    },
    {
      "cell_type": "markdown",
      "source": [
        "### Посмотрите, сколько игр выпускалось в разные годы. Важны ли данные за все периоды?"
      ],
      "metadata": {
        "id": "7V9SxFRnt3Tv"
      }
    },
    {
      "cell_type": "code",
      "source": [
        "year_group2 = df.copy(deep=True)\n",
        "year_group2 = year_group2.dropna(subset = ['year_of_release'])\n",
        "year_group2['year_of_release'] = year_group2['year_of_release'].astype('int').astype('str')\n",
        "year_group = year_group2.groupby('year_of_release').agg({'name':'nunique'}).reset_index().rename(columns = {'name':'number_of_games'})\n"
      ],
      "metadata": {
        "id": "oZj6TbiGfpkJ"
      },
      "execution_count": 62,
      "outputs": []
    },
    {
      "cell_type": "code",
      "source": [
        "fig = px.bar(year_group, x=\"year_of_release\", y=\"number_of_games\", title='Количество игр по годам')\n",
        "fig.update_layout(xaxis_tickangle=-45)\n",
        "fig.show()"
      ],
      "metadata": {
        "colab": {
          "base_uri": "https://localhost:8080/",
          "height": 542
        },
        "id": "TzjemZ67e759",
        "outputId": "1f190cf5-76a2-480a-8d50-c42fc3c2fa01"
      },
      "execution_count": 63,
      "outputs": [
        {
          "output_type": "display_data",
          "data": {
            "text/html": [
              "<html>\n",
              "<head><meta charset=\"utf-8\" /></head>\n",
              "<body>\n",
              "    <div>            <script src=\"https://cdnjs.cloudflare.com/ajax/libs/mathjax/2.7.5/MathJax.js?config=TeX-AMS-MML_SVG\"></script><script type=\"text/javascript\">if (window.MathJax && window.MathJax.Hub && window.MathJax.Hub.Config) {window.MathJax.Hub.Config({SVG: {font: \"STIX-Web\"}});}</script>                <script type=\"text/javascript\">window.PlotlyConfig = {MathJaxConfig: 'local'};</script>\n",
              "        <script charset=\"utf-8\" src=\"https://cdn.plot.ly/plotly-2.24.1.min.js\"></script>                <div id=\"8bf25a11-2b25-4dea-847c-08f852648901\" class=\"plotly-graph-div\" style=\"height:525px; width:100%;\"></div>            <script type=\"text/javascript\">                                    window.PLOTLYENV=window.PLOTLYENV || {};                                    if (document.getElementById(\"8bf25a11-2b25-4dea-847c-08f852648901\")) {                    Plotly.newPlot(                        \"8bf25a11-2b25-4dea-847c-08f852648901\",                        [{\"alignmentgroup\":\"True\",\"hovertemplate\":\"year_of_release=%{x}\\u003cbr\\u003enumber_of_games=%{y}\\u003cextra\\u003e\\u003c\\u002fextra\\u003e\",\"legendgroup\":\"\",\"marker\":{\"color\":\"#636efa\",\"pattern\":{\"shape\":\"\"}},\"name\":\"\",\"offsetgroup\":\"\",\"orientation\":\"v\",\"showlegend\":false,\"textposition\":\"auto\",\"x\":[\"1980\",\"1981\",\"1982\",\"1983\",\"1984\",\"1985\",\"1986\",\"1987\",\"1988\",\"1989\",\"1990\",\"1991\",\"1992\",\"1993\",\"1994\",\"1995\",\"1996\",\"1997\",\"1998\",\"1999\",\"2000\",\"2001\",\"2002\",\"2003\",\"2004\",\"2005\",\"2006\",\"2007\",\"2008\",\"2009\",\"2010\",\"2011\",\"2012\",\"2013\",\"2014\",\"2015\",\"2016\"],\"xaxis\":\"x\",\"y\":[9,46,36,17,14,14,21,16,15,17,16,40,41,59,117,215,258,282,364,326,325,428,631,546,550,657,773,884,1039,1001,900,779,446,335,319,362,297],\"yaxis\":\"y\",\"type\":\"bar\"}],                        {\"template\":{\"data\":{\"histogram2dcontour\":[{\"type\":\"histogram2dcontour\",\"colorbar\":{\"outlinewidth\":0,\"ticks\":\"\"},\"colorscale\":[[0.0,\"#0d0887\"],[0.1111111111111111,\"#46039f\"],[0.2222222222222222,\"#7201a8\"],[0.3333333333333333,\"#9c179e\"],[0.4444444444444444,\"#bd3786\"],[0.5555555555555556,\"#d8576b\"],[0.6666666666666666,\"#ed7953\"],[0.7777777777777778,\"#fb9f3a\"],[0.8888888888888888,\"#fdca26\"],[1.0,\"#f0f921\"]]}],\"choropleth\":[{\"type\":\"choropleth\",\"colorbar\":{\"outlinewidth\":0,\"ticks\":\"\"}}],\"histogram2d\":[{\"type\":\"histogram2d\",\"colorbar\":{\"outlinewidth\":0,\"ticks\":\"\"},\"colorscale\":[[0.0,\"#0d0887\"],[0.1111111111111111,\"#46039f\"],[0.2222222222222222,\"#7201a8\"],[0.3333333333333333,\"#9c179e\"],[0.4444444444444444,\"#bd3786\"],[0.5555555555555556,\"#d8576b\"],[0.6666666666666666,\"#ed7953\"],[0.7777777777777778,\"#fb9f3a\"],[0.8888888888888888,\"#fdca26\"],[1.0,\"#f0f921\"]]}],\"heatmap\":[{\"type\":\"heatmap\",\"colorbar\":{\"outlinewidth\":0,\"ticks\":\"\"},\"colorscale\":[[0.0,\"#0d0887\"],[0.1111111111111111,\"#46039f\"],[0.2222222222222222,\"#7201a8\"],[0.3333333333333333,\"#9c179e\"],[0.4444444444444444,\"#bd3786\"],[0.5555555555555556,\"#d8576b\"],[0.6666666666666666,\"#ed7953\"],[0.7777777777777778,\"#fb9f3a\"],[0.8888888888888888,\"#fdca26\"],[1.0,\"#f0f921\"]]}],\"heatmapgl\":[{\"type\":\"heatmapgl\",\"colorbar\":{\"outlinewidth\":0,\"ticks\":\"\"},\"colorscale\":[[0.0,\"#0d0887\"],[0.1111111111111111,\"#46039f\"],[0.2222222222222222,\"#7201a8\"],[0.3333333333333333,\"#9c179e\"],[0.4444444444444444,\"#bd3786\"],[0.5555555555555556,\"#d8576b\"],[0.6666666666666666,\"#ed7953\"],[0.7777777777777778,\"#fb9f3a\"],[0.8888888888888888,\"#fdca26\"],[1.0,\"#f0f921\"]]}],\"contourcarpet\":[{\"type\":\"contourcarpet\",\"colorbar\":{\"outlinewidth\":0,\"ticks\":\"\"}}],\"contour\":[{\"type\":\"contour\",\"colorbar\":{\"outlinewidth\":0,\"ticks\":\"\"},\"colorscale\":[[0.0,\"#0d0887\"],[0.1111111111111111,\"#46039f\"],[0.2222222222222222,\"#7201a8\"],[0.3333333333333333,\"#9c179e\"],[0.4444444444444444,\"#bd3786\"],[0.5555555555555556,\"#d8576b\"],[0.6666666666666666,\"#ed7953\"],[0.7777777777777778,\"#fb9f3a\"],[0.8888888888888888,\"#fdca26\"],[1.0,\"#f0f921\"]]}],\"surface\":[{\"type\":\"surface\",\"colorbar\":{\"outlinewidth\":0,\"ticks\":\"\"},\"colorscale\":[[0.0,\"#0d0887\"],[0.1111111111111111,\"#46039f\"],[0.2222222222222222,\"#7201a8\"],[0.3333333333333333,\"#9c179e\"],[0.4444444444444444,\"#bd3786\"],[0.5555555555555556,\"#d8576b\"],[0.6666666666666666,\"#ed7953\"],[0.7777777777777778,\"#fb9f3a\"],[0.8888888888888888,\"#fdca26\"],[1.0,\"#f0f921\"]]}],\"mesh3d\":[{\"type\":\"mesh3d\",\"colorbar\":{\"outlinewidth\":0,\"ticks\":\"\"}}],\"scatter\":[{\"fillpattern\":{\"fillmode\":\"overlay\",\"size\":10,\"solidity\":0.2},\"type\":\"scatter\"}],\"parcoords\":[{\"type\":\"parcoords\",\"line\":{\"colorbar\":{\"outlinewidth\":0,\"ticks\":\"\"}}}],\"scatterpolargl\":[{\"type\":\"scatterpolargl\",\"marker\":{\"colorbar\":{\"outlinewidth\":0,\"ticks\":\"\"}}}],\"bar\":[{\"error_x\":{\"color\":\"#2a3f5f\"},\"error_y\":{\"color\":\"#2a3f5f\"},\"marker\":{\"line\":{\"color\":\"#E5ECF6\",\"width\":0.5},\"pattern\":{\"fillmode\":\"overlay\",\"size\":10,\"solidity\":0.2}},\"type\":\"bar\"}],\"scattergeo\":[{\"type\":\"scattergeo\",\"marker\":{\"colorbar\":{\"outlinewidth\":0,\"ticks\":\"\"}}}],\"scatterpolar\":[{\"type\":\"scatterpolar\",\"marker\":{\"colorbar\":{\"outlinewidth\":0,\"ticks\":\"\"}}}],\"histogram\":[{\"marker\":{\"pattern\":{\"fillmode\":\"overlay\",\"size\":10,\"solidity\":0.2}},\"type\":\"histogram\"}],\"scattergl\":[{\"type\":\"scattergl\",\"marker\":{\"colorbar\":{\"outlinewidth\":0,\"ticks\":\"\"}}}],\"scatter3d\":[{\"type\":\"scatter3d\",\"line\":{\"colorbar\":{\"outlinewidth\":0,\"ticks\":\"\"}},\"marker\":{\"colorbar\":{\"outlinewidth\":0,\"ticks\":\"\"}}}],\"scattermapbox\":[{\"type\":\"scattermapbox\",\"marker\":{\"colorbar\":{\"outlinewidth\":0,\"ticks\":\"\"}}}],\"scatterternary\":[{\"type\":\"scatterternary\",\"marker\":{\"colorbar\":{\"outlinewidth\":0,\"ticks\":\"\"}}}],\"scattercarpet\":[{\"type\":\"scattercarpet\",\"marker\":{\"colorbar\":{\"outlinewidth\":0,\"ticks\":\"\"}}}],\"carpet\":[{\"aaxis\":{\"endlinecolor\":\"#2a3f5f\",\"gridcolor\":\"white\",\"linecolor\":\"white\",\"minorgridcolor\":\"white\",\"startlinecolor\":\"#2a3f5f\"},\"baxis\":{\"endlinecolor\":\"#2a3f5f\",\"gridcolor\":\"white\",\"linecolor\":\"white\",\"minorgridcolor\":\"white\",\"startlinecolor\":\"#2a3f5f\"},\"type\":\"carpet\"}],\"table\":[{\"cells\":{\"fill\":{\"color\":\"#EBF0F8\"},\"line\":{\"color\":\"white\"}},\"header\":{\"fill\":{\"color\":\"#C8D4E3\"},\"line\":{\"color\":\"white\"}},\"type\":\"table\"}],\"barpolar\":[{\"marker\":{\"line\":{\"color\":\"#E5ECF6\",\"width\":0.5},\"pattern\":{\"fillmode\":\"overlay\",\"size\":10,\"solidity\":0.2}},\"type\":\"barpolar\"}],\"pie\":[{\"automargin\":true,\"type\":\"pie\"}]},\"layout\":{\"autotypenumbers\":\"strict\",\"colorway\":[\"#636efa\",\"#EF553B\",\"#00cc96\",\"#ab63fa\",\"#FFA15A\",\"#19d3f3\",\"#FF6692\",\"#B6E880\",\"#FF97FF\",\"#FECB52\"],\"font\":{\"color\":\"#2a3f5f\"},\"hovermode\":\"closest\",\"hoverlabel\":{\"align\":\"left\"},\"paper_bgcolor\":\"white\",\"plot_bgcolor\":\"#E5ECF6\",\"polar\":{\"bgcolor\":\"#E5ECF6\",\"angularaxis\":{\"gridcolor\":\"white\",\"linecolor\":\"white\",\"ticks\":\"\"},\"radialaxis\":{\"gridcolor\":\"white\",\"linecolor\":\"white\",\"ticks\":\"\"}},\"ternary\":{\"bgcolor\":\"#E5ECF6\",\"aaxis\":{\"gridcolor\":\"white\",\"linecolor\":\"white\",\"ticks\":\"\"},\"baxis\":{\"gridcolor\":\"white\",\"linecolor\":\"white\",\"ticks\":\"\"},\"caxis\":{\"gridcolor\":\"white\",\"linecolor\":\"white\",\"ticks\":\"\"}},\"coloraxis\":{\"colorbar\":{\"outlinewidth\":0,\"ticks\":\"\"}},\"colorscale\":{\"sequential\":[[0.0,\"#0d0887\"],[0.1111111111111111,\"#46039f\"],[0.2222222222222222,\"#7201a8\"],[0.3333333333333333,\"#9c179e\"],[0.4444444444444444,\"#bd3786\"],[0.5555555555555556,\"#d8576b\"],[0.6666666666666666,\"#ed7953\"],[0.7777777777777778,\"#fb9f3a\"],[0.8888888888888888,\"#fdca26\"],[1.0,\"#f0f921\"]],\"sequentialminus\":[[0.0,\"#0d0887\"],[0.1111111111111111,\"#46039f\"],[0.2222222222222222,\"#7201a8\"],[0.3333333333333333,\"#9c179e\"],[0.4444444444444444,\"#bd3786\"],[0.5555555555555556,\"#d8576b\"],[0.6666666666666666,\"#ed7953\"],[0.7777777777777778,\"#fb9f3a\"],[0.8888888888888888,\"#fdca26\"],[1.0,\"#f0f921\"]],\"diverging\":[[0,\"#8e0152\"],[0.1,\"#c51b7d\"],[0.2,\"#de77ae\"],[0.3,\"#f1b6da\"],[0.4,\"#fde0ef\"],[0.5,\"#f7f7f7\"],[0.6,\"#e6f5d0\"],[0.7,\"#b8e186\"],[0.8,\"#7fbc41\"],[0.9,\"#4d9221\"],[1,\"#276419\"]]},\"xaxis\":{\"gridcolor\":\"white\",\"linecolor\":\"white\",\"ticks\":\"\",\"title\":{\"standoff\":15},\"zerolinecolor\":\"white\",\"automargin\":true,\"zerolinewidth\":2},\"yaxis\":{\"gridcolor\":\"white\",\"linecolor\":\"white\",\"ticks\":\"\",\"title\":{\"standoff\":15},\"zerolinecolor\":\"white\",\"automargin\":true,\"zerolinewidth\":2},\"scene\":{\"xaxis\":{\"backgroundcolor\":\"#E5ECF6\",\"gridcolor\":\"white\",\"linecolor\":\"white\",\"showbackground\":true,\"ticks\":\"\",\"zerolinecolor\":\"white\",\"gridwidth\":2},\"yaxis\":{\"backgroundcolor\":\"#E5ECF6\",\"gridcolor\":\"white\",\"linecolor\":\"white\",\"showbackground\":true,\"ticks\":\"\",\"zerolinecolor\":\"white\",\"gridwidth\":2},\"zaxis\":{\"backgroundcolor\":\"#E5ECF6\",\"gridcolor\":\"white\",\"linecolor\":\"white\",\"showbackground\":true,\"ticks\":\"\",\"zerolinecolor\":\"white\",\"gridwidth\":2}},\"shapedefaults\":{\"line\":{\"color\":\"#2a3f5f\"}},\"annotationdefaults\":{\"arrowcolor\":\"#2a3f5f\",\"arrowhead\":0,\"arrowwidth\":1},\"geo\":{\"bgcolor\":\"white\",\"landcolor\":\"#E5ECF6\",\"subunitcolor\":\"white\",\"showland\":true,\"showlakes\":true,\"lakecolor\":\"white\"},\"title\":{\"x\":0.05},\"mapbox\":{\"style\":\"light\"}}},\"xaxis\":{\"anchor\":\"y\",\"domain\":[0.0,1.0],\"title\":{\"text\":\"year_of_release\"},\"tickangle\":-45},\"yaxis\":{\"anchor\":\"x\",\"domain\":[0.0,1.0],\"title\":{\"text\":\"number_of_games\"}},\"legend\":{\"tracegroupgap\":0},\"title\":{\"text\":\"\\u041a\\u043e\\u043b\\u0438\\u0447\\u0435\\u0441\\u0442\\u0432\\u043e \\u0438\\u0433\\u0440 \\u043f\\u043e \\u0433\\u043e\\u0434\\u0430\\u043c\"},\"barmode\":\"relative\"},                        {\"responsive\": true}                    ).then(function(){\n",
              "                            \n",
              "var gd = document.getElementById('8bf25a11-2b25-4dea-847c-08f852648901');\n",
              "var x = new MutationObserver(function (mutations, observer) {{\n",
              "        var display = window.getComputedStyle(gd).display;\n",
              "        if (!display || display === 'none') {{\n",
              "            console.log([gd, 'removed!']);\n",
              "            Plotly.purge(gd);\n",
              "            observer.disconnect();\n",
              "        }}\n",
              "}});\n",
              "\n",
              "// Listen for the removal of the full notebook cells\n",
              "var notebookContainer = gd.closest('#notebook-container');\n",
              "if (notebookContainer) {{\n",
              "    x.observe(notebookContainer, {childList: true});\n",
              "}}\n",
              "\n",
              "// Listen for the clearing of the current output cell\n",
              "var outputEl = gd.closest('.output');\n",
              "if (outputEl) {{\n",
              "    x.observe(outputEl, {childList: true});\n",
              "}}\n",
              "\n",
              "                        })                };                            </script>        </div>\n",
              "</body>\n",
              "</html>"
            ]
          },
          "metadata": {}
        }
      ]
    },
    {
      "cell_type": "markdown",
      "source": [
        "Мы видим, что больше всего игр производилось в 2008 - 2009 годах. После 2009 года количество выпускаемых игр пошло на спад."
      ],
      "metadata": {
        "id": "6IIoy0htvTji"
      }
    },
    {
      "cell_type": "markdown",
      "source": [
        "Дополнительно нам интересно посмотреть как менялись средние значения прибыли по годам"
      ],
      "metadata": {
        "id": "eIvVi5ARxXRb"
      }
    },
    {
      "cell_type": "code",
      "source": [
        "avg_profit_year = year_group2.groupby('year_of_release').agg({'total_sales':'mean'}).reset_index().rename(columns = {'total_sales':'avg_profit_games'})"
      ],
      "metadata": {
        "id": "H22NVSLHxhCB"
      },
      "execution_count": 64,
      "outputs": []
    },
    {
      "cell_type": "code",
      "source": [
        "fig = px.bar(avg_profit_year, x=\"year_of_release\", y=\"avg_profit_games\", title='Средняя выручка по годам с игры')\n",
        "fig.update_layout(xaxis_tickangle=-45)\n",
        "fig.show()"
      ],
      "metadata": {
        "colab": {
          "base_uri": "https://localhost:8080/",
          "height": 542
        },
        "id": "i1HwQXK0zGh3",
        "outputId": "96933310-5ef3-49d9-f313-472492c16f9c"
      },
      "execution_count": 65,
      "outputs": [
        {
          "output_type": "display_data",
          "data": {
            "text/html": [
              "<html>\n",
              "<head><meta charset=\"utf-8\" /></head>\n",
              "<body>\n",
              "    <div>            <script src=\"https://cdnjs.cloudflare.com/ajax/libs/mathjax/2.7.5/MathJax.js?config=TeX-AMS-MML_SVG\"></script><script type=\"text/javascript\">if (window.MathJax && window.MathJax.Hub && window.MathJax.Hub.Config) {window.MathJax.Hub.Config({SVG: {font: \"STIX-Web\"}});}</script>                <script type=\"text/javascript\">window.PlotlyConfig = {MathJaxConfig: 'local'};</script>\n",
              "        <script charset=\"utf-8\" src=\"https://cdn.plot.ly/plotly-2.24.1.min.js\"></script>                <div id=\"340c4a39-50a4-46d4-a6c7-7cdb083fdfe7\" class=\"plotly-graph-div\" style=\"height:525px; width:100%;\"></div>            <script type=\"text/javascript\">                                    window.PLOTLYENV=window.PLOTLYENV || {};                                    if (document.getElementById(\"340c4a39-50a4-46d4-a6c7-7cdb083fdfe7\")) {                    Plotly.newPlot(                        \"340c4a39-50a4-46d4-a6c7-7cdb083fdfe7\",                        [{\"alignmentgroup\":\"True\",\"hovertemplate\":\"year_of_release=%{x}\\u003cbr\\u003eavg_profit_games=%{y}\\u003cextra\\u003e\\u003c\\u002fextra\\u003e\",\"legendgroup\":\"\",\"marker\":{\"color\":\"#636efa\",\"pattern\":{\"shape\":\"\"}},\"name\":\"\",\"offsetgroup\":\"\",\"orientation\":\"v\",\"showlegend\":false,\"textposition\":\"auto\",\"x\":[\"1980\",\"1981\",\"1982\",\"1983\",\"1984\",\"1985\",\"1986\",\"1987\",\"1988\",\"1989\",\"1990\",\"1991\",\"1992\",\"1993\",\"1994\",\"1995\",\"1996\",\"1997\",\"1998\",\"1999\",\"2000\",\"2001\",\"2002\",\"2003\",\"2004\",\"2005\",\"2006\",\"2007\",\"2008\",\"2009\",\"2010\",\"2011\",\"2012\",\"2013\",\"2014\",\"2015\",\"2016\"],\"xaxis\":\"x\",\"y\":[1.2644444444444443,0.7756521739130434,0.8022222222222223,0.9882352941176471,3.5964285714285715,3.8535714285714286,1.7657142857142856,1.35625,3.1473333333333335,4.320588235294117,3.085625,0.7860975609756099,1.7711627906976743,0.7665000000000001,0.6547933884297521,0.40237442922374433,0.7572243346007604,0.6957439446366782,0.6762796833773087,0.7429289940828403,0.5761714285714286,0.6876763485477178,0.4764414957780459,0.461341935483871,0.5494488188976379,0.4875612353567625,0.5146222664015905,0.5052213868003341,0.47056762438682553,0.46200561009817676,0.47022310756972113,0.44681338028169015,0.5449310872894334,0.6640441176470588,0.570619621342513,0.44221122112211225,0.2588446215139442],\"yaxis\":\"y\",\"type\":\"bar\"}],                        {\"template\":{\"data\":{\"histogram2dcontour\":[{\"type\":\"histogram2dcontour\",\"colorbar\":{\"outlinewidth\":0,\"ticks\":\"\"},\"colorscale\":[[0.0,\"#0d0887\"],[0.1111111111111111,\"#46039f\"],[0.2222222222222222,\"#7201a8\"],[0.3333333333333333,\"#9c179e\"],[0.4444444444444444,\"#bd3786\"],[0.5555555555555556,\"#d8576b\"],[0.6666666666666666,\"#ed7953\"],[0.7777777777777778,\"#fb9f3a\"],[0.8888888888888888,\"#fdca26\"],[1.0,\"#f0f921\"]]}],\"choropleth\":[{\"type\":\"choropleth\",\"colorbar\":{\"outlinewidth\":0,\"ticks\":\"\"}}],\"histogram2d\":[{\"type\":\"histogram2d\",\"colorbar\":{\"outlinewidth\":0,\"ticks\":\"\"},\"colorscale\":[[0.0,\"#0d0887\"],[0.1111111111111111,\"#46039f\"],[0.2222222222222222,\"#7201a8\"],[0.3333333333333333,\"#9c179e\"],[0.4444444444444444,\"#bd3786\"],[0.5555555555555556,\"#d8576b\"],[0.6666666666666666,\"#ed7953\"],[0.7777777777777778,\"#fb9f3a\"],[0.8888888888888888,\"#fdca26\"],[1.0,\"#f0f921\"]]}],\"heatmap\":[{\"type\":\"heatmap\",\"colorbar\":{\"outlinewidth\":0,\"ticks\":\"\"},\"colorscale\":[[0.0,\"#0d0887\"],[0.1111111111111111,\"#46039f\"],[0.2222222222222222,\"#7201a8\"],[0.3333333333333333,\"#9c179e\"],[0.4444444444444444,\"#bd3786\"],[0.5555555555555556,\"#d8576b\"],[0.6666666666666666,\"#ed7953\"],[0.7777777777777778,\"#fb9f3a\"],[0.8888888888888888,\"#fdca26\"],[1.0,\"#f0f921\"]]}],\"heatmapgl\":[{\"type\":\"heatmapgl\",\"colorbar\":{\"outlinewidth\":0,\"ticks\":\"\"},\"colorscale\":[[0.0,\"#0d0887\"],[0.1111111111111111,\"#46039f\"],[0.2222222222222222,\"#7201a8\"],[0.3333333333333333,\"#9c179e\"],[0.4444444444444444,\"#bd3786\"],[0.5555555555555556,\"#d8576b\"],[0.6666666666666666,\"#ed7953\"],[0.7777777777777778,\"#fb9f3a\"],[0.8888888888888888,\"#fdca26\"],[1.0,\"#f0f921\"]]}],\"contourcarpet\":[{\"type\":\"contourcarpet\",\"colorbar\":{\"outlinewidth\":0,\"ticks\":\"\"}}],\"contour\":[{\"type\":\"contour\",\"colorbar\":{\"outlinewidth\":0,\"ticks\":\"\"},\"colorscale\":[[0.0,\"#0d0887\"],[0.1111111111111111,\"#46039f\"],[0.2222222222222222,\"#7201a8\"],[0.3333333333333333,\"#9c179e\"],[0.4444444444444444,\"#bd3786\"],[0.5555555555555556,\"#d8576b\"],[0.6666666666666666,\"#ed7953\"],[0.7777777777777778,\"#fb9f3a\"],[0.8888888888888888,\"#fdca26\"],[1.0,\"#f0f921\"]]}],\"surface\":[{\"type\":\"surface\",\"colorbar\":{\"outlinewidth\":0,\"ticks\":\"\"},\"colorscale\":[[0.0,\"#0d0887\"],[0.1111111111111111,\"#46039f\"],[0.2222222222222222,\"#7201a8\"],[0.3333333333333333,\"#9c179e\"],[0.4444444444444444,\"#bd3786\"],[0.5555555555555556,\"#d8576b\"],[0.6666666666666666,\"#ed7953\"],[0.7777777777777778,\"#fb9f3a\"],[0.8888888888888888,\"#fdca26\"],[1.0,\"#f0f921\"]]}],\"mesh3d\":[{\"type\":\"mesh3d\",\"colorbar\":{\"outlinewidth\":0,\"ticks\":\"\"}}],\"scatter\":[{\"fillpattern\":{\"fillmode\":\"overlay\",\"size\":10,\"solidity\":0.2},\"type\":\"scatter\"}],\"parcoords\":[{\"type\":\"parcoords\",\"line\":{\"colorbar\":{\"outlinewidth\":0,\"ticks\":\"\"}}}],\"scatterpolargl\":[{\"type\":\"scatterpolargl\",\"marker\":{\"colorbar\":{\"outlinewidth\":0,\"ticks\":\"\"}}}],\"bar\":[{\"error_x\":{\"color\":\"#2a3f5f\"},\"error_y\":{\"color\":\"#2a3f5f\"},\"marker\":{\"line\":{\"color\":\"#E5ECF6\",\"width\":0.5},\"pattern\":{\"fillmode\":\"overlay\",\"size\":10,\"solidity\":0.2}},\"type\":\"bar\"}],\"scattergeo\":[{\"type\":\"scattergeo\",\"marker\":{\"colorbar\":{\"outlinewidth\":0,\"ticks\":\"\"}}}],\"scatterpolar\":[{\"type\":\"scatterpolar\",\"marker\":{\"colorbar\":{\"outlinewidth\":0,\"ticks\":\"\"}}}],\"histogram\":[{\"marker\":{\"pattern\":{\"fillmode\":\"overlay\",\"size\":10,\"solidity\":0.2}},\"type\":\"histogram\"}],\"scattergl\":[{\"type\":\"scattergl\",\"marker\":{\"colorbar\":{\"outlinewidth\":0,\"ticks\":\"\"}}}],\"scatter3d\":[{\"type\":\"scatter3d\",\"line\":{\"colorbar\":{\"outlinewidth\":0,\"ticks\":\"\"}},\"marker\":{\"colorbar\":{\"outlinewidth\":0,\"ticks\":\"\"}}}],\"scattermapbox\":[{\"type\":\"scattermapbox\",\"marker\":{\"colorbar\":{\"outlinewidth\":0,\"ticks\":\"\"}}}],\"scatterternary\":[{\"type\":\"scatterternary\",\"marker\":{\"colorbar\":{\"outlinewidth\":0,\"ticks\":\"\"}}}],\"scattercarpet\":[{\"type\":\"scattercarpet\",\"marker\":{\"colorbar\":{\"outlinewidth\":0,\"ticks\":\"\"}}}],\"carpet\":[{\"aaxis\":{\"endlinecolor\":\"#2a3f5f\",\"gridcolor\":\"white\",\"linecolor\":\"white\",\"minorgridcolor\":\"white\",\"startlinecolor\":\"#2a3f5f\"},\"baxis\":{\"endlinecolor\":\"#2a3f5f\",\"gridcolor\":\"white\",\"linecolor\":\"white\",\"minorgridcolor\":\"white\",\"startlinecolor\":\"#2a3f5f\"},\"type\":\"carpet\"}],\"table\":[{\"cells\":{\"fill\":{\"color\":\"#EBF0F8\"},\"line\":{\"color\":\"white\"}},\"header\":{\"fill\":{\"color\":\"#C8D4E3\"},\"line\":{\"color\":\"white\"}},\"type\":\"table\"}],\"barpolar\":[{\"marker\":{\"line\":{\"color\":\"#E5ECF6\",\"width\":0.5},\"pattern\":{\"fillmode\":\"overlay\",\"size\":10,\"solidity\":0.2}},\"type\":\"barpolar\"}],\"pie\":[{\"automargin\":true,\"type\":\"pie\"}]},\"layout\":{\"autotypenumbers\":\"strict\",\"colorway\":[\"#636efa\",\"#EF553B\",\"#00cc96\",\"#ab63fa\",\"#FFA15A\",\"#19d3f3\",\"#FF6692\",\"#B6E880\",\"#FF97FF\",\"#FECB52\"],\"font\":{\"color\":\"#2a3f5f\"},\"hovermode\":\"closest\",\"hoverlabel\":{\"align\":\"left\"},\"paper_bgcolor\":\"white\",\"plot_bgcolor\":\"#E5ECF6\",\"polar\":{\"bgcolor\":\"#E5ECF6\",\"angularaxis\":{\"gridcolor\":\"white\",\"linecolor\":\"white\",\"ticks\":\"\"},\"radialaxis\":{\"gridcolor\":\"white\",\"linecolor\":\"white\",\"ticks\":\"\"}},\"ternary\":{\"bgcolor\":\"#E5ECF6\",\"aaxis\":{\"gridcolor\":\"white\",\"linecolor\":\"white\",\"ticks\":\"\"},\"baxis\":{\"gridcolor\":\"white\",\"linecolor\":\"white\",\"ticks\":\"\"},\"caxis\":{\"gridcolor\":\"white\",\"linecolor\":\"white\",\"ticks\":\"\"}},\"coloraxis\":{\"colorbar\":{\"outlinewidth\":0,\"ticks\":\"\"}},\"colorscale\":{\"sequential\":[[0.0,\"#0d0887\"],[0.1111111111111111,\"#46039f\"],[0.2222222222222222,\"#7201a8\"],[0.3333333333333333,\"#9c179e\"],[0.4444444444444444,\"#bd3786\"],[0.5555555555555556,\"#d8576b\"],[0.6666666666666666,\"#ed7953\"],[0.7777777777777778,\"#fb9f3a\"],[0.8888888888888888,\"#fdca26\"],[1.0,\"#f0f921\"]],\"sequentialminus\":[[0.0,\"#0d0887\"],[0.1111111111111111,\"#46039f\"],[0.2222222222222222,\"#7201a8\"],[0.3333333333333333,\"#9c179e\"],[0.4444444444444444,\"#bd3786\"],[0.5555555555555556,\"#d8576b\"],[0.6666666666666666,\"#ed7953\"],[0.7777777777777778,\"#fb9f3a\"],[0.8888888888888888,\"#fdca26\"],[1.0,\"#f0f921\"]],\"diverging\":[[0,\"#8e0152\"],[0.1,\"#c51b7d\"],[0.2,\"#de77ae\"],[0.3,\"#f1b6da\"],[0.4,\"#fde0ef\"],[0.5,\"#f7f7f7\"],[0.6,\"#e6f5d0\"],[0.7,\"#b8e186\"],[0.8,\"#7fbc41\"],[0.9,\"#4d9221\"],[1,\"#276419\"]]},\"xaxis\":{\"gridcolor\":\"white\",\"linecolor\":\"white\",\"ticks\":\"\",\"title\":{\"standoff\":15},\"zerolinecolor\":\"white\",\"automargin\":true,\"zerolinewidth\":2},\"yaxis\":{\"gridcolor\":\"white\",\"linecolor\":\"white\",\"ticks\":\"\",\"title\":{\"standoff\":15},\"zerolinecolor\":\"white\",\"automargin\":true,\"zerolinewidth\":2},\"scene\":{\"xaxis\":{\"backgroundcolor\":\"#E5ECF6\",\"gridcolor\":\"white\",\"linecolor\":\"white\",\"showbackground\":true,\"ticks\":\"\",\"zerolinecolor\":\"white\",\"gridwidth\":2},\"yaxis\":{\"backgroundcolor\":\"#E5ECF6\",\"gridcolor\":\"white\",\"linecolor\":\"white\",\"showbackground\":true,\"ticks\":\"\",\"zerolinecolor\":\"white\",\"gridwidth\":2},\"zaxis\":{\"backgroundcolor\":\"#E5ECF6\",\"gridcolor\":\"white\",\"linecolor\":\"white\",\"showbackground\":true,\"ticks\":\"\",\"zerolinecolor\":\"white\",\"gridwidth\":2}},\"shapedefaults\":{\"line\":{\"color\":\"#2a3f5f\"}},\"annotationdefaults\":{\"arrowcolor\":\"#2a3f5f\",\"arrowhead\":0,\"arrowwidth\":1},\"geo\":{\"bgcolor\":\"white\",\"landcolor\":\"#E5ECF6\",\"subunitcolor\":\"white\",\"showland\":true,\"showlakes\":true,\"lakecolor\":\"white\"},\"title\":{\"x\":0.05},\"mapbox\":{\"style\":\"light\"}}},\"xaxis\":{\"anchor\":\"y\",\"domain\":[0.0,1.0],\"title\":{\"text\":\"year_of_release\"},\"tickangle\":-45},\"yaxis\":{\"anchor\":\"x\",\"domain\":[0.0,1.0],\"title\":{\"text\":\"avg_profit_games\"}},\"legend\":{\"tracegroupgap\":0},\"title\":{\"text\":\"\\u0421\\u0440\\u0435\\u0434\\u043d\\u044f\\u044f \\u0432\\u044b\\u0440\\u0443\\u0447\\u043a\\u0430 \\u043f\\u043e \\u0433\\u043e\\u0434\\u0430\\u043c \\u0441 \\u0438\\u0433\\u0440\\u044b\"},\"barmode\":\"relative\"},                        {\"responsive\": true}                    ).then(function(){\n",
              "                            \n",
              "var gd = document.getElementById('340c4a39-50a4-46d4-a6c7-7cdb083fdfe7');\n",
              "var x = new MutationObserver(function (mutations, observer) {{\n",
              "        var display = window.getComputedStyle(gd).display;\n",
              "        if (!display || display === 'none') {{\n",
              "            console.log([gd, 'removed!']);\n",
              "            Plotly.purge(gd);\n",
              "            observer.disconnect();\n",
              "        }}\n",
              "}});\n",
              "\n",
              "// Listen for the removal of the full notebook cells\n",
              "var notebookContainer = gd.closest('#notebook-container');\n",
              "if (notebookContainer) {{\n",
              "    x.observe(notebookContainer, {childList: true});\n",
              "}}\n",
              "\n",
              "// Listen for the clearing of the current output cell\n",
              "var outputEl = gd.closest('.output');\n",
              "if (outputEl) {{\n",
              "    x.observe(outputEl, {childList: true});\n",
              "}}\n",
              "\n",
              "                        })                };                            </script>        </div>\n",
              "</body>\n",
              "</html>"
            ]
          },
          "metadata": {}
        }
      ]
    },
    {
      "cell_type": "markdown",
      "source": [
        "Мы видим, что одна игра, выпущенная на одной из платформ в среднем приносила намного больше прибыли в 80-е и начале 90-х годов, чем в последние годы\n",
        "\n",
        "\n",
        "Мы также видим, что в большинстве случаев в годы начиная с 1996 по 2012 одна игра приносила в среднем прибыль 0.47 - 0.6\n",
        "\n",
        "\n",
        "\n",
        "Таким образом возникает вопрос, как долго игра может приносить прибыль? В случае, если бы популярная игра могла приносить стабильную прибыль на протяжении нескольких лет, мы бы увидели это на графике, и средняя выручка с игр, выпущенных, скажем, в 2008 - 2010 годах была бы существенно выше средней выручки с игр, выпущенных в 2015-2016 годах.\n",
        "\n",
        "\n",
        "\n",
        "Мы можем только наблюдать заметное падение средней выручки в 2016 году, что может натолкнуть нас на предположение, что в среднем игра приносит прибыль примерно 2-3 года"
      ],
      "metadata": {
        "id": "4Ipr5HdWz5nt"
      }
    },
    {
      "cell_type": "markdown",
      "source": [
        "### 2. Посмотрите, как менялись продажи по платформам. Выберите платформы с наибольшими суммарными продажами и постройте распределение по годам. За какой характерный срок появляются новые и исчезают старые платформы?"
      ],
      "metadata": {
        "id": "Wh3_TQPiv13i"
      }
    },
    {
      "cell_type": "code",
      "source": [
        "year_group_top = year_group2.groupby('platform').agg({'total_sales':'sum'}).reset_index().sort_values(by ='total_sales', ascending = False).head(10)"
      ],
      "metadata": {
        "id": "c_pQEGHyq9h3"
      },
      "execution_count": 66,
      "outputs": []
    },
    {
      "cell_type": "code",
      "source": [
        "list1 = list(year_group_top['platform'])"
      ],
      "metadata": {
        "id": "8r8adhuMrii2"
      },
      "execution_count": 20,
      "outputs": []
    },
    {
      "cell_type": "code",
      "source": [
        "pd.set_option('display.max_rows', None)"
      ],
      "metadata": {
        "id": "Xu64vGla7ugg"
      },
      "execution_count": 21,
      "outputs": []
    },
    {
      "cell_type": "code",
      "source": [
        "year_group1 = (\n",
        "    year_group2.query('platform in @list1').groupby(['year_of_release','platform']).agg({'total_sales':'sum'}).reset_index().\n",
        "rename(columns = {'total_sales':'sales_per_platform'})\n",
        ")\n",
        "year_group3 = year_group2.query('platform in @list1').groupby('year_of_release').agg({'total_sales':'sum'}).reset_index()\n",
        "year_group4 = year_group1.merge(year_group3, on = 'year_of_release', how = 'left').sort_values(by = 'year_of_release')\n",
        "year_group4['share'] = year_group4['sales_per_platform']/year_group4['total_sales']"
      ],
      "metadata": {
        "id": "CHPrjxQFkX85"
      },
      "execution_count": 22,
      "outputs": []
    },
    {
      "cell_type": "code",
      "source": [
        "year_group4['year_of_release'] = year_group4['year_of_release'].astype('int')"
      ],
      "metadata": {
        "id": "4oDVQziuC05i"
      },
      "execution_count": 24,
      "outputs": []
    },
    {
      "cell_type": "code",
      "source": [
        "fig = px.bar(year_group4, x=\"year_of_release\", y=\"sales_per_platform\", color=\"platform\", title='Продажи по платформам - топ 10')\n",
        "fig.show()"
      ],
      "metadata": {
        "colab": {
          "base_uri": "https://localhost:8080/",
          "height": 542
        },
        "id": "k25wCzmP-hnG",
        "outputId": "d308957a-44dd-4a69-e454-8a624c854d48"
      },
      "execution_count": 67,
      "outputs": [
        {
          "output_type": "display_data",
          "data": {
            "text/html": [
              "<html>\n",
              "<head><meta charset=\"utf-8\" /></head>\n",
              "<body>\n",
              "    <div>            <script src=\"https://cdnjs.cloudflare.com/ajax/libs/mathjax/2.7.5/MathJax.js?config=TeX-AMS-MML_SVG\"></script><script type=\"text/javascript\">if (window.MathJax && window.MathJax.Hub && window.MathJax.Hub.Config) {window.MathJax.Hub.Config({SVG: {font: \"STIX-Web\"}});}</script>                <script type=\"text/javascript\">window.PlotlyConfig = {MathJaxConfig: 'local'};</script>\n",
              "        <script charset=\"utf-8\" src=\"https://cdn.plot.ly/plotly-2.24.1.min.js\"></script>                <div id=\"9d1e4a5e-7434-4e1e-9d97-9e7849c4422a\" class=\"plotly-graph-div\" style=\"height:525px; width:100%;\"></div>            <script type=\"text/javascript\">                                    window.PLOTLYENV=window.PLOTLYENV || {};                                    if (document.getElementById(\"9d1e4a5e-7434-4e1e-9d97-9e7849c4422a\")) {                    Plotly.newPlot(                        \"9d1e4a5e-7434-4e1e-9d97-9e7849c4422a\",                        [{\"alignmentgroup\":\"True\",\"hovertemplate\":\"platform=DS\\u003cbr\\u003eyear_of_release=%{x}\\u003cbr\\u003esales_per_platform=%{y}\\u003cextra\\u003e\\u003c\\u002fextra\\u003e\",\"legendgroup\":\"DS\",\"marker\":{\"color\":\"#636efa\",\"pattern\":{\"shape\":\"\"}},\"name\":\"DS\",\"offsetgroup\":\"DS\",\"orientation\":\"v\",\"showlegend\":true,\"textposition\":\"auto\",\"x\":[1985,2004,2005,2006,2007,2008,2009,2010,2011,2012,2013],\"xaxis\":\"x\",\"y\":[0.02,17.27,130.14,119.81,146.94,145.31,119.54,85.02,26.18,11.01,1.54],\"yaxis\":\"y\",\"type\":\"bar\"},{\"alignmentgroup\":\"True\",\"hovertemplate\":\"platform=PS\\u003cbr\\u003eyear_of_release=%{x}\\u003cbr\\u003esales_per_platform=%{y}\\u003cextra\\u003e\\u003c\\u002fextra\\u003e\",\"legendgroup\":\"PS\",\"marker\":{\"color\":\"#EF553B\",\"pattern\":{\"shape\":\"\"}},\"name\":\"PS\",\"offsetgroup\":\"PS\",\"orientation\":\"v\",\"showlegend\":true,\"textposition\":\"auto\",\"x\":[1994,1995,1996,1997,1998,1999,2000,2001,2002,2003],\"xaxis\":\"x\",\"y\":[6.03,35.96,94.7,136.17000000000002,169.49,144.53,96.37,35.59,6.67,2.0700000000000003],\"yaxis\":\"y\",\"type\":\"bar\"},{\"alignmentgroup\":\"True\",\"hovertemplate\":\"platform=GBA\\u003cbr\\u003eyear_of_release=%{x}\\u003cbr\\u003esales_per_platform=%{y}\\u003cextra\\u003e\\u003c\\u002fextra\\u003e\",\"legendgroup\":\"GBA\",\"marker\":{\"color\":\"#00cc96\",\"pattern\":{\"shape\":\"\"}},\"name\":\"GBA\",\"offsetgroup\":\"GBA\",\"orientation\":\"v\",\"showlegend\":true,\"textposition\":\"auto\",\"x\":[2000,2001,2002,2003,2004,2005,2006,2007],\"xaxis\":\"x\",\"y\":[0.07,61.53,74.16,56.67,77.91,33.86,5.28,3.4],\"yaxis\":\"y\",\"type\":\"bar\"},{\"alignmentgroup\":\"True\",\"hovertemplate\":\"platform=PS2\\u003cbr\\u003eyear_of_release=%{x}\\u003cbr\\u003esales_per_platform=%{y}\\u003cextra\\u003e\\u003c\\u002fextra\\u003e\",\"legendgroup\":\"PS2\",\"marker\":{\"color\":\"#ab63fa\",\"pattern\":{\"shape\":\"\"}},\"name\":\"PS2\",\"offsetgroup\":\"PS2\",\"orientation\":\"v\",\"showlegend\":true,\"textposition\":\"auto\",\"x\":[2000,2001,2002,2003,2004,2005,2006,2007,2008,2009,2010,2011],\"xaxis\":\"x\",\"y\":[39.17,166.43,205.38,184.31,211.81,160.66,103.42,75.99,53.9,26.4,5.64,0.45],\"yaxis\":\"y\",\"type\":\"bar\"},{\"alignmentgroup\":\"True\",\"hovertemplate\":\"platform=PSP\\u003cbr\\u003eyear_of_release=%{x}\\u003cbr\\u003esales_per_platform=%{y}\\u003cextra\\u003e\\u003c\\u002fextra\\u003e\",\"legendgroup\":\"PSP\",\"marker\":{\"color\":\"#FFA15A\",\"pattern\":{\"shape\":\"\"}},\"name\":\"PSP\",\"offsetgroup\":\"PSP\",\"orientation\":\"v\",\"showlegend\":true,\"textposition\":\"auto\",\"x\":[2004,2005,2006,2007,2008,2009,2010,2011,2012,2013,2014,2015],\"xaxis\":\"x\",\"y\":[7.0600000000000005,43.84,55.32,46.93,34.55,37.78,35.04,17.82,7.69,3.14,0.24,0.12],\"yaxis\":\"y\",\"type\":\"bar\"},{\"alignmentgroup\":\"True\",\"hovertemplate\":\"platform=X360\\u003cbr\\u003eyear_of_release=%{x}\\u003cbr\\u003esales_per_platform=%{y}\\u003cextra\\u003e\\u003c\\u002fextra\\u003e\",\"legendgroup\":\"X360\",\"marker\":{\"color\":\"#19d3f3\",\"pattern\":{\"shape\":\"\"}},\"name\":\"X360\",\"offsetgroup\":\"X360\",\"orientation\":\"v\",\"showlegend\":true,\"textposition\":\"auto\",\"x\":[2005,2006,2007,2008,2009,2010,2011,2012,2013,2014,2015,2016],\"xaxis\":\"x\",\"y\":[8.25,51.620000000000005,95.41,135.26,120.29,170.03,143.84,99.74000000000001,88.58,34.74,11.959999999999999,1.52],\"yaxis\":\"y\",\"type\":\"bar\"},{\"alignmentgroup\":\"True\",\"hovertemplate\":\"platform=PS3\\u003cbr\\u003eyear_of_release=%{x}\\u003cbr\\u003esales_per_platform=%{y}\\u003cextra\\u003e\\u003c\\u002fextra\\u003e\",\"legendgroup\":\"PS3\",\"marker\":{\"color\":\"#FF6692\",\"pattern\":{\"shape\":\"\"}},\"name\":\"PS3\",\"offsetgroup\":\"PS3\",\"orientation\":\"v\",\"showlegend\":true,\"textposition\":\"auto\",\"x\":[2006,2007,2008,2009,2010,2011,2012,2013,2014,2015,2016],\"xaxis\":\"x\",\"y\":[20.96,73.19,118.52,130.93,142.17,156.78,107.36,113.25,47.760000000000005,16.82,3.6],\"yaxis\":\"y\",\"type\":\"bar\"},{\"alignmentgroup\":\"True\",\"hovertemplate\":\"platform=Wii\\u003cbr\\u003eyear_of_release=%{x}\\u003cbr\\u003esales_per_platform=%{y}\\u003cextra\\u003e\\u003c\\u002fextra\\u003e\",\"legendgroup\":\"Wii\",\"marker\":{\"color\":\"#B6E880\",\"pattern\":{\"shape\":\"\"}},\"name\":\"Wii\",\"offsetgroup\":\"Wii\",\"orientation\":\"v\",\"showlegend\":true,\"textposition\":\"auto\",\"x\":[2006,2007,2008,2009,2010,2011,2012,2013,2014,2015,2016],\"xaxis\":\"x\",\"y\":[137.15,152.77,171.32,206.97,127.95,59.65,21.71,8.59,3.75,1.14,0.18],\"yaxis\":\"y\",\"type\":\"bar\"},{\"alignmentgroup\":\"True\",\"hovertemplate\":\"platform=3DS\\u003cbr\\u003eyear_of_release=%{x}\\u003cbr\\u003esales_per_platform=%{y}\\u003cextra\\u003e\\u003c\\u002fextra\\u003e\",\"legendgroup\":\"3DS\",\"marker\":{\"color\":\"#FF97FF\",\"pattern\":{\"shape\":\"\"}},\"name\":\"3DS\",\"offsetgroup\":\"3DS\",\"orientation\":\"v\",\"showlegend\":true,\"textposition\":\"auto\",\"x\":[2011,2012,2013,2014,2015,2016],\"xaxis\":\"x\",\"y\":[63.199999999999996,51.36000000000001,56.57,43.76,27.78,15.14],\"yaxis\":\"y\",\"type\":\"bar\"},{\"alignmentgroup\":\"True\",\"hovertemplate\":\"platform=PS4\\u003cbr\\u003eyear_of_release=%{x}\\u003cbr\\u003esales_per_platform=%{y}\\u003cextra\\u003e\\u003c\\u002fextra\\u003e\",\"legendgroup\":\"PS4\",\"marker\":{\"color\":\"#FECB52\",\"pattern\":{\"shape\":\"\"}},\"name\":\"PS4\",\"offsetgroup\":\"PS4\",\"orientation\":\"v\",\"showlegend\":true,\"textposition\":\"auto\",\"x\":[2013,2014,2015,2016],\"xaxis\":\"x\",\"y\":[25.99,100.0,118.9,69.25],\"yaxis\":\"y\",\"type\":\"bar\"}],                        {\"template\":{\"data\":{\"histogram2dcontour\":[{\"type\":\"histogram2dcontour\",\"colorbar\":{\"outlinewidth\":0,\"ticks\":\"\"},\"colorscale\":[[0.0,\"#0d0887\"],[0.1111111111111111,\"#46039f\"],[0.2222222222222222,\"#7201a8\"],[0.3333333333333333,\"#9c179e\"],[0.4444444444444444,\"#bd3786\"],[0.5555555555555556,\"#d8576b\"],[0.6666666666666666,\"#ed7953\"],[0.7777777777777778,\"#fb9f3a\"],[0.8888888888888888,\"#fdca26\"],[1.0,\"#f0f921\"]]}],\"choropleth\":[{\"type\":\"choropleth\",\"colorbar\":{\"outlinewidth\":0,\"ticks\":\"\"}}],\"histogram2d\":[{\"type\":\"histogram2d\",\"colorbar\":{\"outlinewidth\":0,\"ticks\":\"\"},\"colorscale\":[[0.0,\"#0d0887\"],[0.1111111111111111,\"#46039f\"],[0.2222222222222222,\"#7201a8\"],[0.3333333333333333,\"#9c179e\"],[0.4444444444444444,\"#bd3786\"],[0.5555555555555556,\"#d8576b\"],[0.6666666666666666,\"#ed7953\"],[0.7777777777777778,\"#fb9f3a\"],[0.8888888888888888,\"#fdca26\"],[1.0,\"#f0f921\"]]}],\"heatmap\":[{\"type\":\"heatmap\",\"colorbar\":{\"outlinewidth\":0,\"ticks\":\"\"},\"colorscale\":[[0.0,\"#0d0887\"],[0.1111111111111111,\"#46039f\"],[0.2222222222222222,\"#7201a8\"],[0.3333333333333333,\"#9c179e\"],[0.4444444444444444,\"#bd3786\"],[0.5555555555555556,\"#d8576b\"],[0.6666666666666666,\"#ed7953\"],[0.7777777777777778,\"#fb9f3a\"],[0.8888888888888888,\"#fdca26\"],[1.0,\"#f0f921\"]]}],\"heatmapgl\":[{\"type\":\"heatmapgl\",\"colorbar\":{\"outlinewidth\":0,\"ticks\":\"\"},\"colorscale\":[[0.0,\"#0d0887\"],[0.1111111111111111,\"#46039f\"],[0.2222222222222222,\"#7201a8\"],[0.3333333333333333,\"#9c179e\"],[0.4444444444444444,\"#bd3786\"],[0.5555555555555556,\"#d8576b\"],[0.6666666666666666,\"#ed7953\"],[0.7777777777777778,\"#fb9f3a\"],[0.8888888888888888,\"#fdca26\"],[1.0,\"#f0f921\"]]}],\"contourcarpet\":[{\"type\":\"contourcarpet\",\"colorbar\":{\"outlinewidth\":0,\"ticks\":\"\"}}],\"contour\":[{\"type\":\"contour\",\"colorbar\":{\"outlinewidth\":0,\"ticks\":\"\"},\"colorscale\":[[0.0,\"#0d0887\"],[0.1111111111111111,\"#46039f\"],[0.2222222222222222,\"#7201a8\"],[0.3333333333333333,\"#9c179e\"],[0.4444444444444444,\"#bd3786\"],[0.5555555555555556,\"#d8576b\"],[0.6666666666666666,\"#ed7953\"],[0.7777777777777778,\"#fb9f3a\"],[0.8888888888888888,\"#fdca26\"],[1.0,\"#f0f921\"]]}],\"surface\":[{\"type\":\"surface\",\"colorbar\":{\"outlinewidth\":0,\"ticks\":\"\"},\"colorscale\":[[0.0,\"#0d0887\"],[0.1111111111111111,\"#46039f\"],[0.2222222222222222,\"#7201a8\"],[0.3333333333333333,\"#9c179e\"],[0.4444444444444444,\"#bd3786\"],[0.5555555555555556,\"#d8576b\"],[0.6666666666666666,\"#ed7953\"],[0.7777777777777778,\"#fb9f3a\"],[0.8888888888888888,\"#fdca26\"],[1.0,\"#f0f921\"]]}],\"mesh3d\":[{\"type\":\"mesh3d\",\"colorbar\":{\"outlinewidth\":0,\"ticks\":\"\"}}],\"scatter\":[{\"fillpattern\":{\"fillmode\":\"overlay\",\"size\":10,\"solidity\":0.2},\"type\":\"scatter\"}],\"parcoords\":[{\"type\":\"parcoords\",\"line\":{\"colorbar\":{\"outlinewidth\":0,\"ticks\":\"\"}}}],\"scatterpolargl\":[{\"type\":\"scatterpolargl\",\"marker\":{\"colorbar\":{\"outlinewidth\":0,\"ticks\":\"\"}}}],\"bar\":[{\"error_x\":{\"color\":\"#2a3f5f\"},\"error_y\":{\"color\":\"#2a3f5f\"},\"marker\":{\"line\":{\"color\":\"#E5ECF6\",\"width\":0.5},\"pattern\":{\"fillmode\":\"overlay\",\"size\":10,\"solidity\":0.2}},\"type\":\"bar\"}],\"scattergeo\":[{\"type\":\"scattergeo\",\"marker\":{\"colorbar\":{\"outlinewidth\":0,\"ticks\":\"\"}}}],\"scatterpolar\":[{\"type\":\"scatterpolar\",\"marker\":{\"colorbar\":{\"outlinewidth\":0,\"ticks\":\"\"}}}],\"histogram\":[{\"marker\":{\"pattern\":{\"fillmode\":\"overlay\",\"size\":10,\"solidity\":0.2}},\"type\":\"histogram\"}],\"scattergl\":[{\"type\":\"scattergl\",\"marker\":{\"colorbar\":{\"outlinewidth\":0,\"ticks\":\"\"}}}],\"scatter3d\":[{\"type\":\"scatter3d\",\"line\":{\"colorbar\":{\"outlinewidth\":0,\"ticks\":\"\"}},\"marker\":{\"colorbar\":{\"outlinewidth\":0,\"ticks\":\"\"}}}],\"scattermapbox\":[{\"type\":\"scattermapbox\",\"marker\":{\"colorbar\":{\"outlinewidth\":0,\"ticks\":\"\"}}}],\"scatterternary\":[{\"type\":\"scatterternary\",\"marker\":{\"colorbar\":{\"outlinewidth\":0,\"ticks\":\"\"}}}],\"scattercarpet\":[{\"type\":\"scattercarpet\",\"marker\":{\"colorbar\":{\"outlinewidth\":0,\"ticks\":\"\"}}}],\"carpet\":[{\"aaxis\":{\"endlinecolor\":\"#2a3f5f\",\"gridcolor\":\"white\",\"linecolor\":\"white\",\"minorgridcolor\":\"white\",\"startlinecolor\":\"#2a3f5f\"},\"baxis\":{\"endlinecolor\":\"#2a3f5f\",\"gridcolor\":\"white\",\"linecolor\":\"white\",\"minorgridcolor\":\"white\",\"startlinecolor\":\"#2a3f5f\"},\"type\":\"carpet\"}],\"table\":[{\"cells\":{\"fill\":{\"color\":\"#EBF0F8\"},\"line\":{\"color\":\"white\"}},\"header\":{\"fill\":{\"color\":\"#C8D4E3\"},\"line\":{\"color\":\"white\"}},\"type\":\"table\"}],\"barpolar\":[{\"marker\":{\"line\":{\"color\":\"#E5ECF6\",\"width\":0.5},\"pattern\":{\"fillmode\":\"overlay\",\"size\":10,\"solidity\":0.2}},\"type\":\"barpolar\"}],\"pie\":[{\"automargin\":true,\"type\":\"pie\"}]},\"layout\":{\"autotypenumbers\":\"strict\",\"colorway\":[\"#636efa\",\"#EF553B\",\"#00cc96\",\"#ab63fa\",\"#FFA15A\",\"#19d3f3\",\"#FF6692\",\"#B6E880\",\"#FF97FF\",\"#FECB52\"],\"font\":{\"color\":\"#2a3f5f\"},\"hovermode\":\"closest\",\"hoverlabel\":{\"align\":\"left\"},\"paper_bgcolor\":\"white\",\"plot_bgcolor\":\"#E5ECF6\",\"polar\":{\"bgcolor\":\"#E5ECF6\",\"angularaxis\":{\"gridcolor\":\"white\",\"linecolor\":\"white\",\"ticks\":\"\"},\"radialaxis\":{\"gridcolor\":\"white\",\"linecolor\":\"white\",\"ticks\":\"\"}},\"ternary\":{\"bgcolor\":\"#E5ECF6\",\"aaxis\":{\"gridcolor\":\"white\",\"linecolor\":\"white\",\"ticks\":\"\"},\"baxis\":{\"gridcolor\":\"white\",\"linecolor\":\"white\",\"ticks\":\"\"},\"caxis\":{\"gridcolor\":\"white\",\"linecolor\":\"white\",\"ticks\":\"\"}},\"coloraxis\":{\"colorbar\":{\"outlinewidth\":0,\"ticks\":\"\"}},\"colorscale\":{\"sequential\":[[0.0,\"#0d0887\"],[0.1111111111111111,\"#46039f\"],[0.2222222222222222,\"#7201a8\"],[0.3333333333333333,\"#9c179e\"],[0.4444444444444444,\"#bd3786\"],[0.5555555555555556,\"#d8576b\"],[0.6666666666666666,\"#ed7953\"],[0.7777777777777778,\"#fb9f3a\"],[0.8888888888888888,\"#fdca26\"],[1.0,\"#f0f921\"]],\"sequentialminus\":[[0.0,\"#0d0887\"],[0.1111111111111111,\"#46039f\"],[0.2222222222222222,\"#7201a8\"],[0.3333333333333333,\"#9c179e\"],[0.4444444444444444,\"#bd3786\"],[0.5555555555555556,\"#d8576b\"],[0.6666666666666666,\"#ed7953\"],[0.7777777777777778,\"#fb9f3a\"],[0.8888888888888888,\"#fdca26\"],[1.0,\"#f0f921\"]],\"diverging\":[[0,\"#8e0152\"],[0.1,\"#c51b7d\"],[0.2,\"#de77ae\"],[0.3,\"#f1b6da\"],[0.4,\"#fde0ef\"],[0.5,\"#f7f7f7\"],[0.6,\"#e6f5d0\"],[0.7,\"#b8e186\"],[0.8,\"#7fbc41\"],[0.9,\"#4d9221\"],[1,\"#276419\"]]},\"xaxis\":{\"gridcolor\":\"white\",\"linecolor\":\"white\",\"ticks\":\"\",\"title\":{\"standoff\":15},\"zerolinecolor\":\"white\",\"automargin\":true,\"zerolinewidth\":2},\"yaxis\":{\"gridcolor\":\"white\",\"linecolor\":\"white\",\"ticks\":\"\",\"title\":{\"standoff\":15},\"zerolinecolor\":\"white\",\"automargin\":true,\"zerolinewidth\":2},\"scene\":{\"xaxis\":{\"backgroundcolor\":\"#E5ECF6\",\"gridcolor\":\"white\",\"linecolor\":\"white\",\"showbackground\":true,\"ticks\":\"\",\"zerolinecolor\":\"white\",\"gridwidth\":2},\"yaxis\":{\"backgroundcolor\":\"#E5ECF6\",\"gridcolor\":\"white\",\"linecolor\":\"white\",\"showbackground\":true,\"ticks\":\"\",\"zerolinecolor\":\"white\",\"gridwidth\":2},\"zaxis\":{\"backgroundcolor\":\"#E5ECF6\",\"gridcolor\":\"white\",\"linecolor\":\"white\",\"showbackground\":true,\"ticks\":\"\",\"zerolinecolor\":\"white\",\"gridwidth\":2}},\"shapedefaults\":{\"line\":{\"color\":\"#2a3f5f\"}},\"annotationdefaults\":{\"arrowcolor\":\"#2a3f5f\",\"arrowhead\":0,\"arrowwidth\":1},\"geo\":{\"bgcolor\":\"white\",\"landcolor\":\"#E5ECF6\",\"subunitcolor\":\"white\",\"showland\":true,\"showlakes\":true,\"lakecolor\":\"white\"},\"title\":{\"x\":0.05},\"mapbox\":{\"style\":\"light\"}}},\"xaxis\":{\"anchor\":\"y\",\"domain\":[0.0,1.0],\"title\":{\"text\":\"year_of_release\"}},\"yaxis\":{\"anchor\":\"x\",\"domain\":[0.0,1.0],\"title\":{\"text\":\"sales_per_platform\"}},\"legend\":{\"title\":{\"text\":\"platform\"},\"tracegroupgap\":0},\"title\":{\"text\":\"\\u041f\\u0440\\u043e\\u0434\\u0430\\u0436\\u0438 \\u043f\\u043e \\u043f\\u043b\\u0430\\u0442\\u0444\\u043e\\u0440\\u043c\\u0430\\u043c - \\u0442\\u043e\\u043f 10\"},\"barmode\":\"relative\"},                        {\"responsive\": true}                    ).then(function(){\n",
              "                            \n",
              "var gd = document.getElementById('9d1e4a5e-7434-4e1e-9d97-9e7849c4422a');\n",
              "var x = new MutationObserver(function (mutations, observer) {{\n",
              "        var display = window.getComputedStyle(gd).display;\n",
              "        if (!display || display === 'none') {{\n",
              "            console.log([gd, 'removed!']);\n",
              "            Plotly.purge(gd);\n",
              "            observer.disconnect();\n",
              "        }}\n",
              "}});\n",
              "\n",
              "// Listen for the removal of the full notebook cells\n",
              "var notebookContainer = gd.closest('#notebook-container');\n",
              "if (notebookContainer) {{\n",
              "    x.observe(notebookContainer, {childList: true});\n",
              "}}\n",
              "\n",
              "// Listen for the clearing of the current output cell\n",
              "var outputEl = gd.closest('.output');\n",
              "if (outputEl) {{\n",
              "    x.observe(outputEl, {childList: true});\n",
              "}}\n",
              "\n",
              "                        })                };                            </script>        </div>\n",
              "</body>\n",
              "</html>"
            ]
          },
          "metadata": {}
        }
      ]
    },
    {
      "cell_type": "markdown",
      "source": [
        "Мы видим, как одни популярные платформы сменяют другие. Обычно в один период существуют не более 4 популярных платформ. Часто платформы сменяют друг друга каждые 5-7 лет. Но есть и долгожители. Так, платформа PS3 оставалась достаточно популярной на протяжении 8-9 лет."
      ],
      "metadata": {
        "id": "xP03qNfs3QZJ"
      }
    },
    {
      "cell_type": "code",
      "source": [
        "fig = px.bar(year_group4, x=\"year_of_release\", y=\"share\", color=\"platform\", title='Доля каждой платформы в продажах')\n",
        "fig.show()"
      ],
      "metadata": {
        "colab": {
          "base_uri": "https://localhost:8080/",
          "height": 542
        },
        "id": "E-LIPNuMsNcL",
        "outputId": "9f243312-fada-444f-c58a-0ac21aff0b49"
      },
      "execution_count": 26,
      "outputs": [
        {
          "output_type": "display_data",
          "data": {
            "text/html": [
              "<html>\n",
              "<head><meta charset=\"utf-8\" /></head>\n",
              "<body>\n",
              "    <div>            <script src=\"https://cdnjs.cloudflare.com/ajax/libs/mathjax/2.7.5/MathJax.js?config=TeX-AMS-MML_SVG\"></script><script type=\"text/javascript\">if (window.MathJax && window.MathJax.Hub && window.MathJax.Hub.Config) {window.MathJax.Hub.Config({SVG: {font: \"STIX-Web\"}});}</script>                <script type=\"text/javascript\">window.PlotlyConfig = {MathJaxConfig: 'local'};</script>\n",
              "        <script charset=\"utf-8\" src=\"https://cdn.plot.ly/plotly-2.24.1.min.js\"></script>                <div id=\"7f60591f-f6ba-454e-a1a6-2981a51311b8\" class=\"plotly-graph-div\" style=\"height:525px; width:100%;\"></div>            <script type=\"text/javascript\">                                    window.PLOTLYENV=window.PLOTLYENV || {};                                    if (document.getElementById(\"7f60591f-f6ba-454e-a1a6-2981a51311b8\")) {                    Plotly.newPlot(                        \"7f60591f-f6ba-454e-a1a6-2981a51311b8\",                        [{\"alignmentgroup\":\"True\",\"hovertemplate\":\"platform=DS\\u003cbr\\u003eyear_of_release=%{x}\\u003cbr\\u003eshare=%{y}\\u003cextra\\u003e\\u003c\\u002fextra\\u003e\",\"legendgroup\":\"DS\",\"marker\":{\"color\":\"#636efa\",\"pattern\":{\"shape\":\"\"}},\"name\":\"DS\",\"offsetgroup\":\"DS\",\"orientation\":\"v\",\"showlegend\":true,\"textposition\":\"auto\",\"x\":[1985,2004,2005,2006,2007,2008,2009,2010,2011,2012,2013],\"xaxis\":\"x\",\"y\":[1.0,0.05499124343257443,0.34542800265428,0.24274657589756057,0.2471116492608849,0.22054761254287708,0.18622548332320732,0.15025183352478572,0.055949734997435455,0.0368387593267976,0.005173688100517369],\"yaxis\":\"y\",\"type\":\"bar\"},{\"alignmentgroup\":\"True\",\"hovertemplate\":\"platform=PS\\u003cbr\\u003eyear_of_release=%{x}\\u003cbr\\u003eshare=%{y}\\u003cextra\\u003e\\u003c\\u002fextra\\u003e\",\"legendgroup\":\"PS\",\"marker\":{\"color\":\"#EF553B\",\"pattern\":{\"shape\":\"\"}},\"name\":\"PS\",\"offsetgroup\":\"PS\",\"orientation\":\"v\",\"showlegend\":true,\"textposition\":\"auto\",\"x\":[1994,1995,1996,1997,1998,1999,2000,2001,2002,2003],\"xaxis\":\"x\",\"y\":[1.0,1.0,1.0,1.0,1.0,1.0,0.7106408081999852,0.13504078922405616,0.023304566576988924,0.008516766097510802],\"yaxis\":\"y\",\"type\":\"bar\"},{\"alignmentgroup\":\"True\",\"hovertemplate\":\"platform=GBA\\u003cbr\\u003eyear_of_release=%{x}\\u003cbr\\u003eshare=%{y}\\u003cextra\\u003e\\u003c\\u002fextra\\u003e\",\"legendgroup\":\"GBA\",\"marker\":{\"color\":\"#00cc96\",\"pattern\":{\"shape\":\"\"}},\"name\":\"GBA\",\"offsetgroup\":\"GBA\",\"orientation\":\"v\",\"showlegend\":true,\"textposition\":\"auto\",\"x\":[2000,2001,2002,2003,2004,2005,2006,2007],\"xaxis\":\"x\",\"y\":[0.0005161861219674065,0.23346613545816733,0.2591104433807344,0.23316190084344784,0.24808151568221617,0.08987392169873921,0.010697787503039145,0.005717841346719809],\"yaxis\":\"y\",\"type\":\"bar\"},{\"alignmentgroup\":\"True\",\"hovertemplate\":\"platform=PS2\\u003cbr\\u003eyear_of_release=%{x}\\u003cbr\\u003eshare=%{y}\\u003cextra\\u003e\\u003c\\u002fextra\\u003e\",\"legendgroup\":\"PS2\",\"marker\":{\"color\":\"#ab63fa\",\"pattern\":{\"shape\":\"\"}},\"name\":\"PS2\",\"offsetgroup\":\"PS2\",\"orientation\":\"v\",\"showlegend\":true,\"textposition\":\"auto\",\"x\":[2000,2001,2002,2003,2004,2005,2006,2007,2008,2009,2010,2011],\"xaxis\":\"x\",\"y\":[0.2888430056780473,0.6314930753177765,0.7175849900422767,0.7583213330590414,0.6744467441490208,0.4264366290643663,0.20953886052354323,0.12779375409918772,0.08180797134444343,0.041127260830957614,0.009967305823097993,0.0009617028551889211],\"yaxis\":\"y\",\"type\":\"bar\"},{\"alignmentgroup\":\"True\",\"hovertemplate\":\"platform=PSP\\u003cbr\\u003eyear_of_release=%{x}\\u003cbr\\u003eshare=%{y}\\u003cextra\\u003e\\u003c\\u002fextra\\u003e\",\"legendgroup\":\"PSP\",\"marker\":{\"color\":\"#FFA15A\",\"pattern\":{\"shape\":\"\"}},\"name\":\"PSP\",\"offsetgroup\":\"PSP\",\"orientation\":\"v\",\"showlegend\":true,\"textposition\":\"auto\",\"x\":[2004,2005,2006,2007,2008,2009,2010,2011,2012,2013,2014,2015],\"xaxis\":\"x\",\"y\":[0.022480496736188505,0.11636363636363638,0.11208363724775103,0.0789230277651649,0.05243906140910056,0.058855602810362825,0.06192453830520456,0.03808343306548128,0.025730250610633387,0.010548948464691258,0.001042345276872964,0.0006790402897238569],\"yaxis\":\"y\",\"type\":\"bar\"},{\"alignmentgroup\":\"True\",\"hovertemplate\":\"platform=X360\\u003cbr\\u003eyear_of_release=%{x}\\u003cbr\\u003eshare=%{y}\\u003cextra\\u003e\\u003c\\u002fextra\\u003e\",\"legendgroup\":\"X360\",\"marker\":{\"color\":\"#19d3f3\",\"pattern\":{\"shape\":\"\"}},\"name\":\"X360\",\"offsetgroup\":\"X360\",\"orientation\":\"v\",\"showlegend\":true,\"textposition\":\"auto\",\"x\":[2005,2006,2007,2008,2009,2010,2011,2012,2013,2014,2015,2016],\"xaxis\":\"x\",\"y\":[0.021897810218978103,0.10458708161115164,0.16045271849721676,0.20529399265397807,0.1873938714149959,0.3004859945215163,0.30740297486749874,0.3337236925753672,0.29758785191157694,0.15087947882736158,0.0676776822091444,0.016947262794068458],\"yaxis\":\"y\",\"type\":\"bar\"},{\"alignmentgroup\":\"True\",\"hovertemplate\":\"platform=PS3\\u003cbr\\u003eyear_of_release=%{x}\\u003cbr\\u003eshare=%{y}\\u003cextra\\u003e\\u003c\\u002fextra\\u003e\",\"legendgroup\":\"PS3\",\"marker\":{\"color\":\"#FF6692\",\"pattern\":{\"shape\":\"\"}},\"name\":\"PS3\",\"offsetgroup\":\"PS3\",\"orientation\":\"v\",\"showlegend\":true,\"textposition\":\"auto\",\"x\":[2006,2007,2008,2009,2010,2011,2012,2013,2014,2015,2016],\"xaxis\":\"x\",\"y\":[0.0424669746332766,0.12308494357835965,0.17988647057037913,0.20396940381050305,0.251250331359901,0.33505727474782016,0.35921972764078025,0.3804676476516831,0.2074267100977199,0.09517881394296061,0.04013825398595161],\"yaxis\":\"y\",\"type\":\"bar\"},{\"alignmentgroup\":\"True\",\"hovertemplate\":\"platform=Wii\\u003cbr\\u003eyear_of_release=%{x}\\u003cbr\\u003eshare=%{y}\\u003cextra\\u003e\\u003c\\u002fextra\\u003e\",\"legendgroup\":\"Wii\",\"marker\":{\"color\":\"#B6E880\",\"pattern\":{\"shape\":\"\"}},\"name\":\"Wii\",\"offsetgroup\":\"Wii\",\"orientation\":\"v\",\"showlegend\":true,\"textposition\":\"auto\",\"x\":[2006,2007,2008,2009,2010,2011,2012,2013,2014,2015,2016],\"xaxis\":\"x\",\"y\":[0.2778790825836778,0.25691606545246626,0.26002489147922164,0.32242837780997335,0.22611999646549438,0.12747905624893144,0.07264027838190518,0.02885842908015857,0.016286644951140065,0.006450882752376641,0.0020069126992975804],\"yaxis\":\"y\",\"type\":\"bar\"},{\"alignmentgroup\":\"True\",\"hovertemplate\":\"platform=3DS\\u003cbr\\u003eyear_of_release=%{x}\\u003cbr\\u003eshare=%{y}\\u003cextra\\u003e\\u003c\\u002fextra\\u003e\",\"legendgroup\":\"3DS\",\"marker\":{\"color\":\"#FF97FF\",\"pattern\":{\"shape\":\"\"}},\"name\":\"3DS\",\"offsetgroup\":\"3DS\",\"orientation\":\"v\",\"showlegend\":true,\"textposition\":\"auto\",\"x\":[2011,2012,2013,2014,2015,2016],\"xaxis\":\"x\",\"y\":[0.13506582321764402,0.17184729146451636,0.19004904925082308,0.1900542888165038,0.15719782707107288,0.16880365704091874],\"yaxis\":\"y\",\"type\":\"bar\"},{\"alignmentgroup\":\"True\",\"hovertemplate\":\"platform=PS4\\u003cbr\\u003eyear_of_release=%{x}\\u003cbr\\u003eshare=%{y}\\u003cextra\\u003e\\u003c\\u002fextra\\u003e\",\"legendgroup\":\"PS4\",\"marker\":{\"color\":\"#FECB52\",\"pattern\":{\"shape\":\"\"}},\"name\":\"PS4\",\"offsetgroup\":\"PS4\",\"orientation\":\"v\",\"showlegend\":true,\"textposition\":\"auto\",\"x\":[2013,2014,2015,2016],\"xaxis\":\"x\",\"y\":[0.08731438554054961,0.43431053203040176,0.6728157537347216,0.7721039134797637],\"yaxis\":\"y\",\"type\":\"bar\"}],                        {\"template\":{\"data\":{\"histogram2dcontour\":[{\"type\":\"histogram2dcontour\",\"colorbar\":{\"outlinewidth\":0,\"ticks\":\"\"},\"colorscale\":[[0.0,\"#0d0887\"],[0.1111111111111111,\"#46039f\"],[0.2222222222222222,\"#7201a8\"],[0.3333333333333333,\"#9c179e\"],[0.4444444444444444,\"#bd3786\"],[0.5555555555555556,\"#d8576b\"],[0.6666666666666666,\"#ed7953\"],[0.7777777777777778,\"#fb9f3a\"],[0.8888888888888888,\"#fdca26\"],[1.0,\"#f0f921\"]]}],\"choropleth\":[{\"type\":\"choropleth\",\"colorbar\":{\"outlinewidth\":0,\"ticks\":\"\"}}],\"histogram2d\":[{\"type\":\"histogram2d\",\"colorbar\":{\"outlinewidth\":0,\"ticks\":\"\"},\"colorscale\":[[0.0,\"#0d0887\"],[0.1111111111111111,\"#46039f\"],[0.2222222222222222,\"#7201a8\"],[0.3333333333333333,\"#9c179e\"],[0.4444444444444444,\"#bd3786\"],[0.5555555555555556,\"#d8576b\"],[0.6666666666666666,\"#ed7953\"],[0.7777777777777778,\"#fb9f3a\"],[0.8888888888888888,\"#fdca26\"],[1.0,\"#f0f921\"]]}],\"heatmap\":[{\"type\":\"heatmap\",\"colorbar\":{\"outlinewidth\":0,\"ticks\":\"\"},\"colorscale\":[[0.0,\"#0d0887\"],[0.1111111111111111,\"#46039f\"],[0.2222222222222222,\"#7201a8\"],[0.3333333333333333,\"#9c179e\"],[0.4444444444444444,\"#bd3786\"],[0.5555555555555556,\"#d8576b\"],[0.6666666666666666,\"#ed7953\"],[0.7777777777777778,\"#fb9f3a\"],[0.8888888888888888,\"#fdca26\"],[1.0,\"#f0f921\"]]}],\"heatmapgl\":[{\"type\":\"heatmapgl\",\"colorbar\":{\"outlinewidth\":0,\"ticks\":\"\"},\"colorscale\":[[0.0,\"#0d0887\"],[0.1111111111111111,\"#46039f\"],[0.2222222222222222,\"#7201a8\"],[0.3333333333333333,\"#9c179e\"],[0.4444444444444444,\"#bd3786\"],[0.5555555555555556,\"#d8576b\"],[0.6666666666666666,\"#ed7953\"],[0.7777777777777778,\"#fb9f3a\"],[0.8888888888888888,\"#fdca26\"],[1.0,\"#f0f921\"]]}],\"contourcarpet\":[{\"type\":\"contourcarpet\",\"colorbar\":{\"outlinewidth\":0,\"ticks\":\"\"}}],\"contour\":[{\"type\":\"contour\",\"colorbar\":{\"outlinewidth\":0,\"ticks\":\"\"},\"colorscale\":[[0.0,\"#0d0887\"],[0.1111111111111111,\"#46039f\"],[0.2222222222222222,\"#7201a8\"],[0.3333333333333333,\"#9c179e\"],[0.4444444444444444,\"#bd3786\"],[0.5555555555555556,\"#d8576b\"],[0.6666666666666666,\"#ed7953\"],[0.7777777777777778,\"#fb9f3a\"],[0.8888888888888888,\"#fdca26\"],[1.0,\"#f0f921\"]]}],\"surface\":[{\"type\":\"surface\",\"colorbar\":{\"outlinewidth\":0,\"ticks\":\"\"},\"colorscale\":[[0.0,\"#0d0887\"],[0.1111111111111111,\"#46039f\"],[0.2222222222222222,\"#7201a8\"],[0.3333333333333333,\"#9c179e\"],[0.4444444444444444,\"#bd3786\"],[0.5555555555555556,\"#d8576b\"],[0.6666666666666666,\"#ed7953\"],[0.7777777777777778,\"#fb9f3a\"],[0.8888888888888888,\"#fdca26\"],[1.0,\"#f0f921\"]]}],\"mesh3d\":[{\"type\":\"mesh3d\",\"colorbar\":{\"outlinewidth\":0,\"ticks\":\"\"}}],\"scatter\":[{\"fillpattern\":{\"fillmode\":\"overlay\",\"size\":10,\"solidity\":0.2},\"type\":\"scatter\"}],\"parcoords\":[{\"type\":\"parcoords\",\"line\":{\"colorbar\":{\"outlinewidth\":0,\"ticks\":\"\"}}}],\"scatterpolargl\":[{\"type\":\"scatterpolargl\",\"marker\":{\"colorbar\":{\"outlinewidth\":0,\"ticks\":\"\"}}}],\"bar\":[{\"error_x\":{\"color\":\"#2a3f5f\"},\"error_y\":{\"color\":\"#2a3f5f\"},\"marker\":{\"line\":{\"color\":\"#E5ECF6\",\"width\":0.5},\"pattern\":{\"fillmode\":\"overlay\",\"size\":10,\"solidity\":0.2}},\"type\":\"bar\"}],\"scattergeo\":[{\"type\":\"scattergeo\",\"marker\":{\"colorbar\":{\"outlinewidth\":0,\"ticks\":\"\"}}}],\"scatterpolar\":[{\"type\":\"scatterpolar\",\"marker\":{\"colorbar\":{\"outlinewidth\":0,\"ticks\":\"\"}}}],\"histogram\":[{\"marker\":{\"pattern\":{\"fillmode\":\"overlay\",\"size\":10,\"solidity\":0.2}},\"type\":\"histogram\"}],\"scattergl\":[{\"type\":\"scattergl\",\"marker\":{\"colorbar\":{\"outlinewidth\":0,\"ticks\":\"\"}}}],\"scatter3d\":[{\"type\":\"scatter3d\",\"line\":{\"colorbar\":{\"outlinewidth\":0,\"ticks\":\"\"}},\"marker\":{\"colorbar\":{\"outlinewidth\":0,\"ticks\":\"\"}}}],\"scattermapbox\":[{\"type\":\"scattermapbox\",\"marker\":{\"colorbar\":{\"outlinewidth\":0,\"ticks\":\"\"}}}],\"scatterternary\":[{\"type\":\"scatterternary\",\"marker\":{\"colorbar\":{\"outlinewidth\":0,\"ticks\":\"\"}}}],\"scattercarpet\":[{\"type\":\"scattercarpet\",\"marker\":{\"colorbar\":{\"outlinewidth\":0,\"ticks\":\"\"}}}],\"carpet\":[{\"aaxis\":{\"endlinecolor\":\"#2a3f5f\",\"gridcolor\":\"white\",\"linecolor\":\"white\",\"minorgridcolor\":\"white\",\"startlinecolor\":\"#2a3f5f\"},\"baxis\":{\"endlinecolor\":\"#2a3f5f\",\"gridcolor\":\"white\",\"linecolor\":\"white\",\"minorgridcolor\":\"white\",\"startlinecolor\":\"#2a3f5f\"},\"type\":\"carpet\"}],\"table\":[{\"cells\":{\"fill\":{\"color\":\"#EBF0F8\"},\"line\":{\"color\":\"white\"}},\"header\":{\"fill\":{\"color\":\"#C8D4E3\"},\"line\":{\"color\":\"white\"}},\"type\":\"table\"}],\"barpolar\":[{\"marker\":{\"line\":{\"color\":\"#E5ECF6\",\"width\":0.5},\"pattern\":{\"fillmode\":\"overlay\",\"size\":10,\"solidity\":0.2}},\"type\":\"barpolar\"}],\"pie\":[{\"automargin\":true,\"type\":\"pie\"}]},\"layout\":{\"autotypenumbers\":\"strict\",\"colorway\":[\"#636efa\",\"#EF553B\",\"#00cc96\",\"#ab63fa\",\"#FFA15A\",\"#19d3f3\",\"#FF6692\",\"#B6E880\",\"#FF97FF\",\"#FECB52\"],\"font\":{\"color\":\"#2a3f5f\"},\"hovermode\":\"closest\",\"hoverlabel\":{\"align\":\"left\"},\"paper_bgcolor\":\"white\",\"plot_bgcolor\":\"#E5ECF6\",\"polar\":{\"bgcolor\":\"#E5ECF6\",\"angularaxis\":{\"gridcolor\":\"white\",\"linecolor\":\"white\",\"ticks\":\"\"},\"radialaxis\":{\"gridcolor\":\"white\",\"linecolor\":\"white\",\"ticks\":\"\"}},\"ternary\":{\"bgcolor\":\"#E5ECF6\",\"aaxis\":{\"gridcolor\":\"white\",\"linecolor\":\"white\",\"ticks\":\"\"},\"baxis\":{\"gridcolor\":\"white\",\"linecolor\":\"white\",\"ticks\":\"\"},\"caxis\":{\"gridcolor\":\"white\",\"linecolor\":\"white\",\"ticks\":\"\"}},\"coloraxis\":{\"colorbar\":{\"outlinewidth\":0,\"ticks\":\"\"}},\"colorscale\":{\"sequential\":[[0.0,\"#0d0887\"],[0.1111111111111111,\"#46039f\"],[0.2222222222222222,\"#7201a8\"],[0.3333333333333333,\"#9c179e\"],[0.4444444444444444,\"#bd3786\"],[0.5555555555555556,\"#d8576b\"],[0.6666666666666666,\"#ed7953\"],[0.7777777777777778,\"#fb9f3a\"],[0.8888888888888888,\"#fdca26\"],[1.0,\"#f0f921\"]],\"sequentialminus\":[[0.0,\"#0d0887\"],[0.1111111111111111,\"#46039f\"],[0.2222222222222222,\"#7201a8\"],[0.3333333333333333,\"#9c179e\"],[0.4444444444444444,\"#bd3786\"],[0.5555555555555556,\"#d8576b\"],[0.6666666666666666,\"#ed7953\"],[0.7777777777777778,\"#fb9f3a\"],[0.8888888888888888,\"#fdca26\"],[1.0,\"#f0f921\"]],\"diverging\":[[0,\"#8e0152\"],[0.1,\"#c51b7d\"],[0.2,\"#de77ae\"],[0.3,\"#f1b6da\"],[0.4,\"#fde0ef\"],[0.5,\"#f7f7f7\"],[0.6,\"#e6f5d0\"],[0.7,\"#b8e186\"],[0.8,\"#7fbc41\"],[0.9,\"#4d9221\"],[1,\"#276419\"]]},\"xaxis\":{\"gridcolor\":\"white\",\"linecolor\":\"white\",\"ticks\":\"\",\"title\":{\"standoff\":15},\"zerolinecolor\":\"white\",\"automargin\":true,\"zerolinewidth\":2},\"yaxis\":{\"gridcolor\":\"white\",\"linecolor\":\"white\",\"ticks\":\"\",\"title\":{\"standoff\":15},\"zerolinecolor\":\"white\",\"automargin\":true,\"zerolinewidth\":2},\"scene\":{\"xaxis\":{\"backgroundcolor\":\"#E5ECF6\",\"gridcolor\":\"white\",\"linecolor\":\"white\",\"showbackground\":true,\"ticks\":\"\",\"zerolinecolor\":\"white\",\"gridwidth\":2},\"yaxis\":{\"backgroundcolor\":\"#E5ECF6\",\"gridcolor\":\"white\",\"linecolor\":\"white\",\"showbackground\":true,\"ticks\":\"\",\"zerolinecolor\":\"white\",\"gridwidth\":2},\"zaxis\":{\"backgroundcolor\":\"#E5ECF6\",\"gridcolor\":\"white\",\"linecolor\":\"white\",\"showbackground\":true,\"ticks\":\"\",\"zerolinecolor\":\"white\",\"gridwidth\":2}},\"shapedefaults\":{\"line\":{\"color\":\"#2a3f5f\"}},\"annotationdefaults\":{\"arrowcolor\":\"#2a3f5f\",\"arrowhead\":0,\"arrowwidth\":1},\"geo\":{\"bgcolor\":\"white\",\"landcolor\":\"#E5ECF6\",\"subunitcolor\":\"white\",\"showland\":true,\"showlakes\":true,\"lakecolor\":\"white\"},\"title\":{\"x\":0.05},\"mapbox\":{\"style\":\"light\"}}},\"xaxis\":{\"anchor\":\"y\",\"domain\":[0.0,1.0],\"title\":{\"text\":\"year_of_release\"}},\"yaxis\":{\"anchor\":\"x\",\"domain\":[0.0,1.0],\"title\":{\"text\":\"share\"}},\"legend\":{\"title\":{\"text\":\"platform\"},\"tracegroupgap\":0},\"title\":{\"text\":\"\\u0414\\u043e\\u043b\\u044f \\u043a\\u0430\\u0436\\u0434\\u043e\\u0439 \\u043f\\u043b\\u0430\\u0442\\u0444\\u043e\\u0440\\u043c\\u044b \\u0432 \\u043f\\u0440\\u043e\\u0434\\u0430\\u0436\\u0430\\u0445\"},\"barmode\":\"relative\"},                        {\"responsive\": true}                    ).then(function(){\n",
              "                            \n",
              "var gd = document.getElementById('7f60591f-f6ba-454e-a1a6-2981a51311b8');\n",
              "var x = new MutationObserver(function (mutations, observer) {{\n",
              "        var display = window.getComputedStyle(gd).display;\n",
              "        if (!display || display === 'none') {{\n",
              "            console.log([gd, 'removed!']);\n",
              "            Plotly.purge(gd);\n",
              "            observer.disconnect();\n",
              "        }}\n",
              "}});\n",
              "\n",
              "// Listen for the removal of the full notebook cells\n",
              "var notebookContainer = gd.closest('#notebook-container');\n",
              "if (notebookContainer) {{\n",
              "    x.observe(notebookContainer, {childList: true});\n",
              "}}\n",
              "\n",
              "// Listen for the clearing of the current output cell\n",
              "var outputEl = gd.closest('.output');\n",
              "if (outputEl) {{\n",
              "    x.observe(outputEl, {childList: true});\n",
              "}}\n",
              "\n",
              "                        })                };                            </script>        </div>\n",
              "</body>\n",
              "</html>"
            ]
          },
          "metadata": {}
        }
      ]
    },
    {
      "cell_type": "markdown",
      "source": [
        "На графике мы видим, что в последнем году самую большую долю в продажах составляла платформа PS4. Платформа находится на стадии увеличения популярности, она существует на рынке 3-4 года. Можно сделать предположение, что и в следующем 2017 году она будет оставаться популярной."
      ],
      "metadata": {
        "id": "3BwqvNXIDVtk"
      }
    },
    {
      "cell_type": "markdown",
      "source": [
        "### Возьмите данные за соответствующий актуальный период. Актуальный период определите самостоятельно в результате исследования предыдущих вопросов. Основной фактор — эти данные помогут построить прогноз на 2017 год."
      ],
      "metadata": {
        "id": "7PibIH8dETfU"
      }
    },
    {
      "cell_type": "markdown",
      "source": [
        "В дальнейшем мы будем анализировать данные начиная с 2014 года. Таким образом 2017 год попадет в середину периода из 7 лет, за который ообычно сменяются платформы и, вероятно, меняются и вкусовые предпочтения аудитории."
      ],
      "metadata": {
        "id": "8Ba3jUzvD3SB"
      }
    },
    {
      "cell_type": "markdown",
      "source": [
        "### Какие платформы лидируют по продажам, растут или падают? Выберите несколько потенциально прибыльных платформ."
      ],
      "metadata": {
        "id": "Hr3O6LwoEYzm"
      }
    },
    {
      "cell_type": "code",
      "source": [
        "top_platform_recent = (df.query('year_of_release >2013').\n",
        "                       groupby('platform')\n",
        "                       .agg({'total_sales':'sum'})\n",
        "                       .reset_index().sort_values(by ='total_sales', ascending = False)\n",
        "                       .head(5))\n",
        "top_platform_recent\n"
      ],
      "metadata": {
        "colab": {
          "base_uri": "https://localhost:8080/",
          "height": 206
        },
        "id": "r7jrUzmHuFZJ",
        "outputId": "03ec807c-b64e-424d-ce35-905d9fa46b6f"
      },
      "execution_count": 27,
      "outputs": [
        {
          "output_type": "execute_result",
          "data": {
            "text/plain": [
              "  platform  total_sales\n",
              "3      PS4       288.15\n",
              "9     XOne       140.36\n",
              "0      3DS        86.68\n",
              "2      PS3        68.18\n",
              "8     X360        48.22"
            ],
            "text/html": [
              "\n",
              "  <div id=\"df-d562cec4-f63c-4e0e-9ceb-f31b9a74aa19\" class=\"colab-df-container\">\n",
              "    <div>\n",
              "<style scoped>\n",
              "    .dataframe tbody tr th:only-of-type {\n",
              "        vertical-align: middle;\n",
              "    }\n",
              "\n",
              "    .dataframe tbody tr th {\n",
              "        vertical-align: top;\n",
              "    }\n",
              "\n",
              "    .dataframe thead th {\n",
              "        text-align: right;\n",
              "    }\n",
              "</style>\n",
              "<table border=\"1\" class=\"dataframe\">\n",
              "  <thead>\n",
              "    <tr style=\"text-align: right;\">\n",
              "      <th></th>\n",
              "      <th>platform</th>\n",
              "      <th>total_sales</th>\n",
              "    </tr>\n",
              "  </thead>\n",
              "  <tbody>\n",
              "    <tr>\n",
              "      <th>3</th>\n",
              "      <td>PS4</td>\n",
              "      <td>288.15</td>\n",
              "    </tr>\n",
              "    <tr>\n",
              "      <th>9</th>\n",
              "      <td>XOne</td>\n",
              "      <td>140.36</td>\n",
              "    </tr>\n",
              "    <tr>\n",
              "      <th>0</th>\n",
              "      <td>3DS</td>\n",
              "      <td>86.68</td>\n",
              "    </tr>\n",
              "    <tr>\n",
              "      <th>2</th>\n",
              "      <td>PS3</td>\n",
              "      <td>68.18</td>\n",
              "    </tr>\n",
              "    <tr>\n",
              "      <th>8</th>\n",
              "      <td>X360</td>\n",
              "      <td>48.22</td>\n",
              "    </tr>\n",
              "  </tbody>\n",
              "</table>\n",
              "</div>\n",
              "    <div class=\"colab-df-buttons\">\n",
              "\n",
              "  <div class=\"colab-df-container\">\n",
              "    <button class=\"colab-df-convert\" onclick=\"convertToInteractive('df-d562cec4-f63c-4e0e-9ceb-f31b9a74aa19')\"\n",
              "            title=\"Convert this dataframe to an interactive table.\"\n",
              "            style=\"display:none;\">\n",
              "\n",
              "  <svg xmlns=\"http://www.w3.org/2000/svg\" height=\"24px\" viewBox=\"0 -960 960 960\">\n",
              "    <path d=\"M120-120v-720h720v720H120Zm60-500h600v-160H180v160Zm220 220h160v-160H400v160Zm0 220h160v-160H400v160ZM180-400h160v-160H180v160Zm440 0h160v-160H620v160ZM180-180h160v-160H180v160Zm440 0h160v-160H620v160Z\"/>\n",
              "  </svg>\n",
              "    </button>\n",
              "\n",
              "  <style>\n",
              "    .colab-df-container {\n",
              "      display:flex;\n",
              "      gap: 12px;\n",
              "    }\n",
              "\n",
              "    .colab-df-convert {\n",
              "      background-color: #E8F0FE;\n",
              "      border: none;\n",
              "      border-radius: 50%;\n",
              "      cursor: pointer;\n",
              "      display: none;\n",
              "      fill: #1967D2;\n",
              "      height: 32px;\n",
              "      padding: 0 0 0 0;\n",
              "      width: 32px;\n",
              "    }\n",
              "\n",
              "    .colab-df-convert:hover {\n",
              "      background-color: #E2EBFA;\n",
              "      box-shadow: 0px 1px 2px rgba(60, 64, 67, 0.3), 0px 1px 3px 1px rgba(60, 64, 67, 0.15);\n",
              "      fill: #174EA6;\n",
              "    }\n",
              "\n",
              "    .colab-df-buttons div {\n",
              "      margin-bottom: 4px;\n",
              "    }\n",
              "\n",
              "    [theme=dark] .colab-df-convert {\n",
              "      background-color: #3B4455;\n",
              "      fill: #D2E3FC;\n",
              "    }\n",
              "\n",
              "    [theme=dark] .colab-df-convert:hover {\n",
              "      background-color: #434B5C;\n",
              "      box-shadow: 0px 1px 3px 1px rgba(0, 0, 0, 0.15);\n",
              "      filter: drop-shadow(0px 1px 2px rgba(0, 0, 0, 0.3));\n",
              "      fill: #FFFFFF;\n",
              "    }\n",
              "  </style>\n",
              "\n",
              "    <script>\n",
              "      const buttonEl =\n",
              "        document.querySelector('#df-d562cec4-f63c-4e0e-9ceb-f31b9a74aa19 button.colab-df-convert');\n",
              "      buttonEl.style.display =\n",
              "        google.colab.kernel.accessAllowed ? 'block' : 'none';\n",
              "\n",
              "      async function convertToInteractive(key) {\n",
              "        const element = document.querySelector('#df-d562cec4-f63c-4e0e-9ceb-f31b9a74aa19');\n",
              "        const dataTable =\n",
              "          await google.colab.kernel.invokeFunction('convertToInteractive',\n",
              "                                                    [key], {});\n",
              "        if (!dataTable) return;\n",
              "\n",
              "        const docLinkHtml = 'Like what you see? Visit the ' +\n",
              "          '<a target=\"_blank\" href=https://colab.research.google.com/notebooks/data_table.ipynb>data table notebook</a>'\n",
              "          + ' to learn more about interactive tables.';\n",
              "        element.innerHTML = '';\n",
              "        dataTable['output_type'] = 'display_data';\n",
              "        await google.colab.output.renderOutput(dataTable, element);\n",
              "        const docLink = document.createElement('div');\n",
              "        docLink.innerHTML = docLinkHtml;\n",
              "        element.appendChild(docLink);\n",
              "      }\n",
              "    </script>\n",
              "  </div>\n",
              "\n",
              "\n",
              "<div id=\"df-7ab07223-04ad-4ab3-86ae-1905685f5efd\">\n",
              "  <button class=\"colab-df-quickchart\" onclick=\"quickchart('df-7ab07223-04ad-4ab3-86ae-1905685f5efd')\"\n",
              "            title=\"Suggest charts.\"\n",
              "            style=\"display:none;\">\n",
              "\n",
              "<svg xmlns=\"http://www.w3.org/2000/svg\" height=\"24px\"viewBox=\"0 0 24 24\"\n",
              "     width=\"24px\">\n",
              "    <g>\n",
              "        <path d=\"M19 3H5c-1.1 0-2 .9-2 2v14c0 1.1.9 2 2 2h14c1.1 0 2-.9 2-2V5c0-1.1-.9-2-2-2zM9 17H7v-7h2v7zm4 0h-2V7h2v10zm4 0h-2v-4h2v4z\"/>\n",
              "    </g>\n",
              "</svg>\n",
              "  </button>\n",
              "\n",
              "<style>\n",
              "  .colab-df-quickchart {\n",
              "      --bg-color: #E8F0FE;\n",
              "      --fill-color: #1967D2;\n",
              "      --hover-bg-color: #E2EBFA;\n",
              "      --hover-fill-color: #174EA6;\n",
              "      --disabled-fill-color: #AAA;\n",
              "      --disabled-bg-color: #DDD;\n",
              "  }\n",
              "\n",
              "  [theme=dark] .colab-df-quickchart {\n",
              "      --bg-color: #3B4455;\n",
              "      --fill-color: #D2E3FC;\n",
              "      --hover-bg-color: #434B5C;\n",
              "      --hover-fill-color: #FFFFFF;\n",
              "      --disabled-bg-color: #3B4455;\n",
              "      --disabled-fill-color: #666;\n",
              "  }\n",
              "\n",
              "  .colab-df-quickchart {\n",
              "    background-color: var(--bg-color);\n",
              "    border: none;\n",
              "    border-radius: 50%;\n",
              "    cursor: pointer;\n",
              "    display: none;\n",
              "    fill: var(--fill-color);\n",
              "    height: 32px;\n",
              "    padding: 0;\n",
              "    width: 32px;\n",
              "  }\n",
              "\n",
              "  .colab-df-quickchart:hover {\n",
              "    background-color: var(--hover-bg-color);\n",
              "    box-shadow: 0 1px 2px rgba(60, 64, 67, 0.3), 0 1px 3px 1px rgba(60, 64, 67, 0.15);\n",
              "    fill: var(--button-hover-fill-color);\n",
              "  }\n",
              "\n",
              "  .colab-df-quickchart-complete:disabled,\n",
              "  .colab-df-quickchart-complete:disabled:hover {\n",
              "    background-color: var(--disabled-bg-color);\n",
              "    fill: var(--disabled-fill-color);\n",
              "    box-shadow: none;\n",
              "  }\n",
              "\n",
              "  .colab-df-spinner {\n",
              "    border: 2px solid var(--fill-color);\n",
              "    border-color: transparent;\n",
              "    border-bottom-color: var(--fill-color);\n",
              "    animation:\n",
              "      spin 1s steps(1) infinite;\n",
              "  }\n",
              "\n",
              "  @keyframes spin {\n",
              "    0% {\n",
              "      border-color: transparent;\n",
              "      border-bottom-color: var(--fill-color);\n",
              "      border-left-color: var(--fill-color);\n",
              "    }\n",
              "    20% {\n",
              "      border-color: transparent;\n",
              "      border-left-color: var(--fill-color);\n",
              "      border-top-color: var(--fill-color);\n",
              "    }\n",
              "    30% {\n",
              "      border-color: transparent;\n",
              "      border-left-color: var(--fill-color);\n",
              "      border-top-color: var(--fill-color);\n",
              "      border-right-color: var(--fill-color);\n",
              "    }\n",
              "    40% {\n",
              "      border-color: transparent;\n",
              "      border-right-color: var(--fill-color);\n",
              "      border-top-color: var(--fill-color);\n",
              "    }\n",
              "    60% {\n",
              "      border-color: transparent;\n",
              "      border-right-color: var(--fill-color);\n",
              "    }\n",
              "    80% {\n",
              "      border-color: transparent;\n",
              "      border-right-color: var(--fill-color);\n",
              "      border-bottom-color: var(--fill-color);\n",
              "    }\n",
              "    90% {\n",
              "      border-color: transparent;\n",
              "      border-bottom-color: var(--fill-color);\n",
              "    }\n",
              "  }\n",
              "</style>\n",
              "\n",
              "  <script>\n",
              "    async function quickchart(key) {\n",
              "      const quickchartButtonEl =\n",
              "        document.querySelector('#' + key + ' button');\n",
              "      quickchartButtonEl.disabled = true;  // To prevent multiple clicks.\n",
              "      quickchartButtonEl.classList.add('colab-df-spinner');\n",
              "      try {\n",
              "        const charts = await google.colab.kernel.invokeFunction(\n",
              "            'suggestCharts', [key], {});\n",
              "      } catch (error) {\n",
              "        console.error('Error during call to suggestCharts:', error);\n",
              "      }\n",
              "      quickchartButtonEl.classList.remove('colab-df-spinner');\n",
              "      quickchartButtonEl.classList.add('colab-df-quickchart-complete');\n",
              "    }\n",
              "    (() => {\n",
              "      let quickchartButtonEl =\n",
              "        document.querySelector('#df-7ab07223-04ad-4ab3-86ae-1905685f5efd button');\n",
              "      quickchartButtonEl.style.display =\n",
              "        google.colab.kernel.accessAllowed ? 'block' : 'none';\n",
              "    })();\n",
              "  </script>\n",
              "</div>\n",
              "    </div>\n",
              "  </div>\n"
            ]
          },
          "metadata": {},
          "execution_count": 27
        }
      ]
    },
    {
      "cell_type": "markdown",
      "source": [
        "В таблице мы видим топ-5 платформ, лидирующих по продажам. С больши отрывом лидирует PS4"
      ],
      "metadata": {
        "id": "t-AUJLiWEdTE"
      }
    },
    {
      "cell_type": "markdown",
      "source": [
        "### Постройте график «ящик с усами» по глобальным продажам игр в разбивке по платформам. Опишите результат."
      ],
      "metadata": {
        "id": "KmeSM5cHFOhd"
      }
    },
    {
      "cell_type": "code",
      "source": [
        "list3 = list(top_platform_recent['platform'])"
      ],
      "metadata": {
        "id": "OFwG4xhwu69n"
      },
      "execution_count": 28,
      "outputs": []
    },
    {
      "cell_type": "code",
      "source": [
        "data = df.query('(platform in @list3)&(year_of_release > 2013)').copy(deep = True).dropna(subset = ['year_of_release'])"
      ],
      "metadata": {
        "id": "XKf9qCxfth7V"
      },
      "execution_count": 29,
      "outputs": []
    },
    {
      "cell_type": "code",
      "source": [
        "fig = px.box(data, x = 'platform', y='total_sales')\n",
        "fig.update_layout(yaxis_range= [0,6])\n",
        "fig.show()"
      ],
      "metadata": {
        "colab": {
          "base_uri": "https://localhost:8080/",
          "height": 542
        },
        "id": "KQW-jjoStgyg",
        "outputId": "0ecbdc4e-100d-49a5-89b6-70d239481376"
      },
      "execution_count": 30,
      "outputs": [
        {
          "output_type": "display_data",
          "data": {
            "text/html": [
              "<html>\n",
              "<head><meta charset=\"utf-8\" /></head>\n",
              "<body>\n",
              "    <div>            <script src=\"https://cdnjs.cloudflare.com/ajax/libs/mathjax/2.7.5/MathJax.js?config=TeX-AMS-MML_SVG\"></script><script type=\"text/javascript\">if (window.MathJax && window.MathJax.Hub && window.MathJax.Hub.Config) {window.MathJax.Hub.Config({SVG: {font: \"STIX-Web\"}});}</script>                <script type=\"text/javascript\">window.PlotlyConfig = {MathJaxConfig: 'local'};</script>\n",
              "        <script charset=\"utf-8\" src=\"https://cdn.plot.ly/plotly-2.24.1.min.js\"></script>                <div id=\"76ea6d04-aecb-4a54-a286-54860ff504a2\" class=\"plotly-graph-div\" style=\"height:525px; width:100%;\"></div>            <script type=\"text/javascript\">                                    window.PLOTLYENV=window.PLOTLYENV || {};                                    if (document.getElementById(\"76ea6d04-aecb-4a54-a286-54860ff504a2\")) {                    Plotly.newPlot(                        \"76ea6d04-aecb-4a54-a286-54860ff504a2\",                        [{\"alignmentgroup\":\"True\",\"hovertemplate\":\"platform=%{x}\\u003cbr\\u003etotal_sales=%{y}\\u003cextra\\u003e\\u003c\\u002fextra\\u003e\",\"legendgroup\":\"\",\"marker\":{\"color\":\"#636efa\"},\"name\":\"\",\"notched\":false,\"offsetgroup\":\"\",\"orientation\":\"v\",\"showlegend\":false,\"x\":[\"PS4\",\"PS4\",\"3DS\",\"PS4\",\"PS4\",\"PS4\",\"PS4\",\"3DS\",\"XOne\",\"PS4\",\"3DS\",\"PS4\",\"PS4\",\"XOne\",\"PS4\",\"XOne\",\"PS3\",\"PS4\",\"PS4\",\"XOne\",\"PS4\",\"PS3\",\"PS4\",\"X360\",\"PS3\",\"XOne\",\"PS4\",\"PS4\",\"PS4\",\"PS4\",\"PS4\",\"PS4\",\"3DS\",\"PS4\",\"PS4\",\"XOne\",\"XOne\",\"PS4\",\"PS4\",\"XOne\",\"3DS\",\"3DS\",\"XOne\",\"XOne\",\"PS4\",\"XOne\",\"3DS\",\"PS4\",\"XOne\",\"X360\",\"PS4\",\"PS4\",\"XOne\",\"PS3\",\"3DS\",\"XOne\",\"PS4\",\"PS4\",\"PS4\",\"XOne\",\"XOne\",\"3DS\",\"XOne\",\"3DS\",\"PS4\",\"XOne\",\"PS4\",\"PS4\",\"XOne\",\"XOne\",\"PS4\",\"PS4\",\"PS4\",\"PS4\",\"X360\",\"PS4\",\"PS4\",\"X360\",\"PS4\",\"PS4\",\"PS4\",\"3DS\",\"PS4\",\"PS4\",\"XOne\",\"PS4\",\"PS4\",\"PS4\",\"PS3\",\"PS4\",\"PS4\",\"XOne\",\"X360\",\"PS4\",\"PS3\",\"3DS\",\"PS4\",\"PS4\",\"XOne\",\"X360\",\"PS3\",\"XOne\",\"X360\",\"XOne\",\"PS4\",\"PS4\",\"XOne\",\"PS4\",\"PS3\",\"PS4\",\"XOne\",\"3DS\",\"XOne\",\"XOne\",\"X360\",\"XOne\",\"XOne\",\"XOne\",\"PS3\",\"3DS\",\"PS4\",\"XOne\",\"XOne\",\"PS3\",\"XOne\",\"PS3\",\"XOne\",\"X360\",\"PS3\",\"PS4\",\"X360\",\"3DS\",\"XOne\",\"PS3\",\"PS4\",\"XOne\",\"XOne\",\"PS4\",\"PS4\",\"XOne\",\"PS4\",\"PS4\",\"PS4\",\"3DS\",\"PS4\",\"PS4\",\"XOne\",\"X360\",\"X360\",\"XOne\",\"PS4\",\"XOne\",\"X360\",\"PS4\",\"PS4\",\"X360\",\"PS4\",\"PS3\",\"X360\",\"PS4\",\"PS4\",\"XOne\",\"3DS\",\"PS4\",\"PS3\",\"PS4\",\"PS3\",\"X360\",\"PS4\",\"XOne\",\"X360\",\"PS4\",\"X360\",\"PS4\",\"X360\",\"X360\",\"XOne\",\"PS4\",\"3DS\",\"X360\",\"3DS\",\"PS4\",\"PS3\",\"PS3\",\"PS4\",\"3DS\",\"PS4\",\"XOne\",\"X360\",\"PS3\",\"PS3\",\"XOne\",\"3DS\",\"3DS\",\"PS4\",\"XOne\",\"PS4\",\"PS4\",\"3DS\",\"X360\",\"PS4\",\"PS4\",\"XOne\",\"PS3\",\"PS3\",\"PS3\",\"PS4\",\"PS4\",\"3DS\",\"PS4\",\"X360\",\"PS4\",\"PS4\",\"PS4\",\"PS4\",\"PS3\",\"3DS\",\"XOne\",\"XOne\",\"PS4\",\"XOne\",\"XOne\",\"PS4\",\"PS3\",\"PS4\",\"XOne\",\"PS4\",\"PS3\",\"XOne\",\"PS4\",\"PS3\",\"X360\",\"PS4\",\"XOne\",\"XOne\",\"PS3\",\"3DS\",\"PS4\",\"PS4\",\"3DS\",\"PS4\",\"XOne\",\"PS3\",\"PS4\",\"PS3\",\"XOne\",\"PS4\",\"X360\",\"XOne\",\"PS4\",\"PS4\",\"PS4\",\"PS3\",\"XOne\",\"PS3\",\"PS3\",\"XOne\",\"XOne\",\"PS3\",\"3DS\",\"XOne\",\"3DS\",\"XOne\",\"PS3\",\"XOne\",\"PS4\",\"PS3\",\"PS4\",\"3DS\",\"XOne\",\"XOne\",\"3DS\",\"X360\",\"X360\",\"PS4\",\"PS4\",\"XOne\",\"PS3\",\"PS3\",\"PS4\",\"X360\",\"3DS\",\"3DS\",\"3DS\",\"XOne\",\"XOne\",\"3DS\",\"PS3\",\"XOne\",\"XOne\",\"XOne\",\"PS4\",\"X360\",\"XOne\",\"PS4\",\"PS3\",\"3DS\",\"X360\",\"X360\",\"3DS\",\"PS4\",\"PS3\",\"PS3\",\"PS4\",\"XOne\",\"X360\",\"XOne\",\"PS4\",\"3DS\",\"PS3\",\"XOne\",\"PS3\",\"X360\",\"PS4\",\"X360\",\"X360\",\"PS4\",\"3DS\",\"XOne\",\"PS4\",\"PS3\",\"XOne\",\"XOne\",\"PS3\",\"XOne\",\"PS4\",\"PS4\",\"PS4\",\"PS3\",\"X360\",\"PS4\",\"PS4\",\"XOne\",\"PS4\",\"PS3\",\"PS4\",\"PS4\",\"PS4\",\"X360\",\"PS4\",\"X360\",\"PS3\",\"PS4\",\"PS3\",\"PS4\",\"PS4\",\"3DS\",\"PS4\",\"PS3\",\"PS3\",\"PS4\",\"XOne\",\"PS3\",\"PS4\",\"3DS\",\"XOne\",\"PS3\",\"PS4\",\"X360\",\"PS4\",\"PS4\",\"X360\",\"XOne\",\"PS4\",\"XOne\",\"PS4\",\"XOne\",\"XOne\",\"PS4\",\"3DS\",\"PS4\",\"PS4\",\"PS4\",\"3DS\",\"PS3\",\"3DS\",\"XOne\",\"XOne\",\"3DS\",\"X360\",\"PS4\",\"X360\",\"X360\",\"PS3\",\"3DS\",\"XOne\",\"PS4\",\"PS4\",\"PS3\",\"PS4\",\"3DS\",\"XOne\",\"PS4\",\"X360\",\"PS4\",\"XOne\",\"PS4\",\"PS4\",\"PS3\",\"3DS\",\"XOne\",\"PS4\",\"PS4\",\"X360\",\"PS4\",\"3DS\",\"PS4\",\"X360\",\"PS3\",\"3DS\",\"X360\",\"PS4\",\"PS3\",\"3DS\",\"PS3\",\"PS4\",\"PS3\",\"XOne\",\"XOne\",\"PS3\",\"3DS\",\"PS4\",\"PS4\",\"PS4\",\"XOne\",\"XOne\",\"PS3\",\"PS3\",\"PS3\",\"PS4\",\"PS3\",\"XOne\",\"3DS\",\"PS3\",\"3DS\",\"PS4\",\"PS3\",\"PS3\",\"PS3\",\"PS4\",\"PS4\",\"XOne\",\"3DS\",\"XOne\",\"PS4\",\"XOne\",\"PS4\",\"3DS\",\"XOne\",\"3DS\",\"X360\",\"PS4\",\"3DS\",\"XOne\",\"3DS\",\"PS4\",\"X360\",\"PS4\",\"PS4\",\"XOne\",\"X360\",\"PS3\",\"X360\",\"3DS\",\"PS4\",\"PS4\",\"XOne\",\"XOne\",\"XOne\",\"3DS\",\"X360\",\"X360\",\"PS4\",\"3DS\",\"3DS\",\"3DS\",\"PS4\",\"XOne\",\"XOne\",\"3DS\",\"PS4\",\"PS4\",\"XOne\",\"PS4\",\"PS4\",\"3DS\",\"X360\",\"PS4\",\"XOne\",\"PS4\",\"XOne\",\"XOne\",\"PS3\",\"PS3\",\"3DS\",\"PS4\",\"3DS\",\"3DS\",\"PS3\",\"PS4\",\"PS3\",\"PS4\",\"XOne\",\"PS4\",\"PS4\",\"PS3\",\"XOne\",\"X360\",\"PS3\",\"PS4\",\"PS4\",\"PS3\",\"XOne\",\"PS4\",\"PS4\",\"PS4\",\"XOne\",\"PS4\",\"PS4\",\"PS4\",\"X360\",\"PS4\",\"3DS\",\"XOne\",\"PS4\",\"3DS\",\"X360\",\"3DS\",\"X360\",\"X360\",\"PS3\",\"3DS\",\"PS3\",\"XOne\",\"3DS\",\"XOne\",\"PS3\",\"PS4\",\"PS4\",\"XOne\",\"XOne\",\"PS3\",\"X360\",\"3DS\",\"XOne\",\"XOne\",\"3DS\",\"PS3\",\"PS3\",\"PS4\",\"XOne\",\"XOne\",\"PS4\",\"PS4\",\"3DS\",\"PS3\",\"PS4\",\"XOne\",\"3DS\",\"PS4\",\"3DS\",\"PS3\",\"X360\",\"PS4\",\"PS4\",\"XOne\",\"PS3\",\"3DS\",\"X360\",\"XOne\",\"3DS\",\"XOne\",\"PS3\",\"PS4\",\"XOne\",\"PS4\",\"XOne\",\"PS4\",\"PS3\",\"PS3\",\"PS3\",\"PS3\",\"XOne\",\"3DS\",\"3DS\",\"PS4\",\"XOne\",\"PS3\",\"PS3\",\"PS4\",\"3DS\",\"PS3\",\"3DS\",\"PS3\",\"XOne\",\"XOne\",\"XOne\",\"3DS\",\"3DS\",\"3DS\",\"PS3\",\"PS4\",\"PS4\",\"PS4\",\"PS4\",\"XOne\",\"X360\",\"XOne\",\"3DS\",\"PS3\",\"XOne\",\"PS3\",\"X360\",\"3DS\",\"3DS\",\"PS4\",\"PS3\",\"PS4\",\"PS3\",\"PS3\",\"PS3\",\"PS4\",\"3DS\",\"PS3\",\"3DS\",\"PS3\",\"3DS\",\"PS3\",\"PS3\",\"XOne\",\"PS4\",\"3DS\",\"PS4\",\"XOne\",\"3DS\",\"PS4\",\"XOne\",\"XOne\",\"PS4\",\"PS3\",\"XOne\",\"3DS\",\"X360\",\"X360\",\"PS3\",\"PS4\",\"PS3\",\"3DS\",\"PS3\",\"3DS\",\"XOne\",\"PS3\",\"XOne\",\"PS4\",\"PS3\",\"X360\",\"PS4\",\"PS4\",\"X360\",\"PS4\",\"PS4\",\"X360\",\"PS4\",\"PS4\",\"3DS\",\"PS4\",\"3DS\",\"XOne\",\"PS3\",\"3DS\",\"PS4\",\"PS4\",\"PS4\",\"PS4\",\"PS4\",\"PS3\",\"PS3\",\"3DS\",\"PS3\",\"X360\",\"PS3\",\"3DS\",\"PS3\",\"PS4\",\"X360\",\"X360\",\"PS4\",\"X360\",\"PS3\",\"PS3\",\"3DS\",\"PS3\",\"XOne\",\"PS3\",\"PS4\",\"XOne\",\"PS4\",\"3DS\",\"PS4\",\"PS4\",\"3DS\",\"PS4\",\"PS4\",\"PS4\",\"3DS\",\"X360\",\"PS4\",\"PS4\",\"X360\",\"PS4\",\"PS3\",\"PS4\",\"PS4\",\"3DS\",\"PS3\",\"X360\",\"X360\",\"PS4\",\"XOne\",\"3DS\",\"PS3\",\"PS4\",\"PS4\",\"PS4\",\"XOne\",\"XOne\",\"X360\",\"PS4\",\"3DS\",\"PS4\",\"3DS\",\"XOne\",\"PS4\",\"3DS\",\"3DS\",\"PS4\",\"PS3\",\"3DS\",\"3DS\",\"XOne\",\"PS3\",\"3DS\",\"PS4\",\"PS4\",\"XOne\",\"PS4\",\"X360\",\"3DS\",\"3DS\",\"X360\",\"X360\",\"X360\",\"XOne\",\"PS3\",\"3DS\",\"3DS\",\"PS4\",\"PS4\",\"PS4\",\"3DS\",\"3DS\",\"PS3\",\"X360\",\"PS4\",\"XOne\",\"3DS\",\"3DS\",\"3DS\",\"X360\",\"3DS\",\"PS4\",\"X360\",\"XOne\",\"3DS\",\"PS3\",\"3DS\",\"PS3\",\"3DS\",\"PS4\",\"XOne\",\"XOne\",\"X360\",\"PS3\",\"3DS\",\"PS4\",\"3DS\",\"3DS\",\"X360\",\"PS4\",\"PS4\",\"PS4\",\"PS3\",\"3DS\",\"PS3\",\"XOne\",\"PS4\",\"XOne\",\"X360\",\"3DS\",\"PS3\",\"3DS\",\"3DS\",\"3DS\",\"3DS\",\"XOne\",\"X360\",\"PS4\",\"PS3\",\"XOne\",\"PS4\",\"PS3\",\"PS4\",\"X360\",\"PS4\",\"PS4\",\"PS3\",\"PS3\",\"PS4\",\"PS4\",\"PS4\",\"XOne\",\"PS3\",\"PS4\",\"XOne\",\"3DS\",\"PS3\",\"3DS\",\"PS3\",\"PS4\",\"PS4\",\"PS3\",\"PS4\",\"XOne\",\"PS4\",\"PS3\",\"X360\",\"PS4\",\"XOne\",\"X360\",\"XOne\",\"PS4\",\"PS4\",\"XOne\",\"3DS\",\"PS4\",\"PS3\",\"PS4\",\"PS4\",\"3DS\",\"PS3\",\"XOne\",\"PS4\",\"PS4\",\"PS4\",\"PS4\",\"PS4\",\"PS3\",\"PS3\",\"XOne\",\"PS3\",\"XOne\",\"X360\",\"3DS\",\"3DS\",\"PS3\",\"PS4\",\"XOne\",\"PS4\",\"PS4\",\"3DS\",\"PS3\",\"PS4\",\"3DS\",\"XOne\",\"PS3\",\"X360\",\"3DS\",\"3DS\",\"PS4\",\"X360\",\"PS3\",\"PS3\",\"XOne\",\"PS3\",\"3DS\",\"PS4\",\"3DS\",\"3DS\",\"PS4\",\"PS3\",\"X360\",\"PS4\",\"PS3\",\"XOne\",\"3DS\",\"3DS\",\"PS3\",\"PS4\",\"3DS\",\"PS3\",\"PS4\",\"3DS\",\"3DS\",\"PS4\",\"PS4\",\"XOne\",\"3DS\",\"PS3\",\"XOne\",\"XOne\",\"PS4\",\"PS3\",\"PS4\",\"3DS\",\"PS3\",\"XOne\",\"X360\",\"X360\",\"PS4\",\"3DS\",\"3DS\",\"3DS\",\"3DS\",\"3DS\",\"PS4\",\"PS4\",\"PS4\",\"PS4\",\"3DS\",\"3DS\",\"PS4\",\"3DS\",\"PS4\",\"PS3\",\"3DS\",\"PS4\",\"PS4\",\"PS3\",\"PS3\",\"3DS\",\"PS3\",\"3DS\",\"3DS\",\"XOne\",\"X360\",\"3DS\",\"PS4\",\"PS4\",\"PS4\",\"3DS\",\"PS3\",\"X360\",\"PS3\",\"PS3\",\"X360\",\"PS3\",\"XOne\",\"XOne\",\"PS3\",\"PS4\",\"3DS\",\"X360\",\"XOne\",\"3DS\",\"3DS\",\"PS3\",\"3DS\",\"3DS\",\"XOne\",\"PS3\",\"PS4\",\"PS4\",\"3DS\",\"X360\",\"PS4\",\"PS3\",\"PS3\",\"3DS\",\"PS4\",\"PS3\",\"PS3\",\"3DS\",\"PS3\",\"XOne\",\"XOne\",\"PS4\",\"3DS\",\"PS4\",\"3DS\",\"3DS\",\"PS4\",\"PS4\",\"3DS\",\"PS4\",\"PS4\",\"PS3\",\"PS4\",\"XOne\",\"3DS\",\"PS4\",\"PS3\",\"X360\",\"PS4\",\"PS4\",\"PS3\",\"PS3\",\"PS4\",\"PS4\",\"PS4\",\"X360\",\"PS3\",\"PS3\",\"X360\",\"PS3\",\"PS4\",\"PS4\",\"PS3\",\"3DS\",\"3DS\",\"PS4\",\"PS3\",\"XOne\",\"PS4\",\"PS3\",\"PS3\",\"PS3\",\"PS4\",\"XOne\",\"X360\",\"PS4\",\"XOne\",\"PS3\",\"PS3\",\"PS3\",\"XOne\",\"XOne\",\"XOne\",\"PS4\",\"PS3\",\"3DS\",\"3DS\",\"3DS\",\"PS3\",\"PS4\",\"XOne\",\"PS3\",\"X360\",\"XOne\",\"PS4\",\"3DS\",\"XOne\",\"PS3\",\"PS3\",\"PS3\",\"3DS\",\"PS4\",\"XOne\",\"PS4\",\"PS3\",\"PS4\",\"PS3\",\"PS4\",\"PS4\",\"PS3\",\"PS4\",\"XOne\",\"PS4\",\"PS3\",\"PS3\",\"PS4\",\"PS4\",\"3DS\",\"PS4\",\"PS4\",\"3DS\",\"XOne\",\"XOne\",\"XOne\",\"XOne\",\"PS4\",\"PS4\",\"3DS\",\"XOne\",\"PS4\",\"XOne\",\"3DS\",\"PS3\",\"3DS\",\"PS4\",\"XOne\",\"XOne\",\"PS3\",\"XOne\",\"3DS\",\"PS3\",\"3DS\",\"XOne\",\"X360\",\"XOne\",\"XOne\",\"PS3\",\"PS4\",\"PS3\",\"XOne\",\"PS4\",\"3DS\",\"PS4\",\"3DS\",\"PS3\",\"3DS\",\"PS4\",\"X360\",\"PS4\",\"PS3\",\"PS4\",\"PS4\",\"3DS\",\"PS4\",\"XOne\",\"3DS\",\"PS4\",\"PS4\",\"XOne\",\"XOne\",\"PS3\",\"3DS\",\"PS3\",\"PS4\",\"XOne\",\"3DS\",\"XOne\",\"XOne\",\"3DS\",\"3DS\",\"3DS\",\"XOne\",\"PS3\",\"XOne\",\"XOne\",\"XOne\",\"3DS\",\"XOne\",\"PS3\",\"3DS\",\"PS3\",\"PS3\"],\"x0\":\" \",\"xaxis\":\"x\",\"y\":[14.629999999999999,12.620000000000001,11.68,8.58,7.98,7.66,7.6000000000000005,7.550000000000001,7.389999999999999,7.17,7.14,6.08,5.640000000000001,5.47,5.39,5.26,5.2700000000000005,4.72,4.62,4.49,4.470000000000001,4.36,4.32,4.28,4.28,4.22,4.07,4.05,4.04,3.9699999999999998,3.96,3.96,3.89,3.87,3.8,3.66,3.5,3.4200000000000004,3.3899999999999997,3.37,3.32,3.28,3.28,3.25,3.2399999999999998,3.23,3.05,2.96,2.95,2.92,2.7899999999999996,2.78,2.7600000000000002,2.6999999999999997,2.68,2.65,2.48,2.4499999999999997,2.42,2.4200000000000004,2.42,2.34,2.34,2.29,2.2600000000000002,2.25,2.21,2.19,2.18,2.1700000000000004,2.14,2.11,2.09,2.07,2.0500000000000003,2.01,1.9200000000000002,1.92,1.9100000000000001,1.8800000000000001,1.85,1.83,1.83,1.81,1.7999999999999998,1.7900000000000003,1.74,1.75,1.7400000000000002,1.7200000000000002,1.7200000000000002,1.73,1.7,1.6900000000000002,1.69,1.6700000000000002,1.6600000000000001,1.6600000000000001,1.6400000000000001,1.6300000000000001,1.6100000000000003,1.5700000000000003,1.5699999999999998,1.56,1.54,1.54,1.4900000000000002,1.49,1.4600000000000002,1.4000000000000001,1.4000000000000001,1.3800000000000001,1.38,1.3800000000000001,1.3599999999999999,1.3599999999999999,1.3399999999999999,1.3399999999999999,1.34,1.33,1.3199999999999998,1.3,1.2900000000000003,1.29,1.29,1.28,1.2800000000000002,1.27,1.2799999999999998,1.2699999999999998,1.25,1.25,1.23,1.23,1.21,1.21,1.2000000000000002,1.17,1.15,1.1300000000000001,1.14,1.13,1.1199999999999999,1.11,1.1,1.0799999999999998,1.08,1.08,1.07,1.06,1.05,1.03,1.01,1.02,0.98,0.97,0.9700000000000001,0.9500000000000001,0.9400000000000001,0.9400000000000001,0.93,0.93,0.93,0.92,0.93,0.93,0.93,0.9299999999999999,0.9,0.91,0.9,0.9,0.89,0.89,0.89,0.89,0.88,0.88,0.87,0.87,0.86,0.86,0.85,0.8500000000000001,0.8200000000000001,0.79,0.78,0.79,0.78,0.7799999999999999,0.7699999999999999,0.76,0.75,0.7500000000000001,0.7600000000000001,0.75,0.75,0.75,0.75,0.74,0.7300000000000001,0.73,0.75,0.7300000000000001,0.7300000000000001,0.7300000000000001,0.73,0.73,0.7200000000000001,0.72,0.73,0.73,0.7,0.71,0.6900000000000001,0.6900000000000001,0.6900000000000002,0.69,0.6799999999999999,0.6900000000000001,0.6800000000000002,0.6599999999999999,0.67,0.67,0.67,0.6599999999999999,0.66,0.66,0.6599999999999999,0.64,0.6399999999999999,0.6400000000000001,0.64,0.6400000000000001,0.6300000000000001,0.64,0.63,0.63,0.63,0.6200000000000001,0.62,0.6200000000000001,0.61,0.61,0.62,0.61,0.61,0.6100000000000001,0.6000000000000001,0.6,0.6,0.6,0.59,0.5900000000000001,0.5800000000000001,0.5800000000000001,0.5700000000000001,0.5700000000000001,0.56,0.5700000000000001,0.56,0.56,0.56,0.56,0.55,0.54,0.5599999999999999,0.56,0.53,0.53,0.53,0.53,0.53,0.53,0.51,0.52,0.49999999999999994,0.51,0.49,0.49000000000000005,0.48000000000000004,0.49,0.48,0.48000000000000004,0.48000000000000004,0.4799999999999999,0.4800000000000001,0.49000000000000005,0.48,0.47,0.45999999999999996,0.47000000000000003,0.46,0.45,0.46,0.46,0.4600000000000001,0.45,0.44999999999999996,0.45,0.45,0.44,0.44,0.44,0.44,0.45,0.43,0.43,0.44000000000000006,0.44,0.44,0.43,0.43,0.43,0.43000000000000005,0.42,0.43,0.42000000000000004,0.42,0.42,0.41000000000000003,0.41,0.41,0.41000000000000003,0.41,0.4,0.4,0.38999999999999996,0.39999999999999997,0.39,0.39999999999999997,0.4,0.38999999999999996,0.39999999999999997,0.39,0.37999999999999995,0.39,0.38,0.38,0.38,0.38,0.38,0.37,0.37,0.37,0.37000000000000005,0.38,0.36000000000000004,0.36000000000000004,0.37,0.36,0.37,0.36,0.36000000000000004,0.36,0.36,0.34,0.36000000000000004,0.36,0.35000000000000003,0.36,0.35,0.33999999999999997,0.34,0.33999999999999997,0.34,0.33999999999999997,0.33999999999999997,0.33999999999999997,0.33,0.34,0.33,0.33999999999999997,0.33,0.33,0.32000000000000006,0.31999999999999995,0.31999999999999995,0.32,0.31000000000000005,0.32,0.31999999999999995,0.31999999999999995,0.32000000000000006,0.31,0.31000000000000005,0.32,0.3,0.3,0.3,0.31000000000000005,0.31000000000000005,0.31,0.31000000000000005,0.3,0.29000000000000004,0.3,0.3,0.29000000000000004,0.29000000000000004,0.28,0.29,0.28,0.29000000000000004,0.27999999999999997,0.28,0.29000000000000004,0.27,0.28,0.28,0.27,0.29000000000000004,0.29,0.27,0.26999999999999996,0.27,0.27,0.27,0.27,0.26,0.26,0.27,0.26,0.26,0.26,0.26,0.26,0.26,0.26,0.26,0.26,0.25,0.25,0.25,0.25,0.26,0.25,0.25,0.24000000000000002,0.24000000000000002,0.25,0.24999999999999997,0.24000000000000002,0.24,0.25,0.24000000000000002,0.24000000000000002,0.24999999999999997,0.24000000000000002,0.24,0.23,0.24000000000000002,0.24,0.24000000000000002,0.23,0.24000000000000002,0.23,0.23,0.23,0.23,0.23,0.23,0.23,0.22,0.23,0.23,0.22,0.22,0.22,0.21000000000000002,0.22,0.22,0.21000000000000002,0.22,0.21000000000000002,0.21,0.21000000000000002,0.21,0.21,0.21,0.19999999999999998,0.2,0.21,0.2,0.19999999999999998,0.2,0.19999999999999998,0.2,0.19999999999999998,0.2,0.21,0.19999999999999998,0.19999999999999998,0.2,0.2,0.19999999999999998,0.19,0.18000000000000002,0.19,0.19,0.18,0.19,0.18,0.19999999999999998,0.19,0.19,0.18,0.18,0.18,0.18,0.18,0.18000000000000002,0.18,0.18,0.18000000000000002,0.17,0.18,0.17,0.16999999999999998,0.16,0.18,0.17,0.17,0.16,0.16999999999999998,0.17,0.16000000000000003,0.17,0.16999999999999998,0.16999999999999998,0.17,0.16,0.15000000000000002,0.16,0.16000000000000003,0.16000000000000003,0.17,0.16,0.16,0.15000000000000002,0.15000000000000002,0.16,0.16,0.16,0.15000000000000002,0.15000000000000002,0.15,0.15,0.15,0.15,0.15000000000000002,0.15000000000000002,0.15,0.13999999999999999,0.15,0.16,0.15,0.14,0.14,0.14,0.14,0.14,0.14,0.13999999999999999,0.13999999999999999,0.14,0.14,0.15,0.14,0.14,0.14,0.14,0.14,0.13999999999999999,0.14,0.13,0.13,0.13,0.14,0.14,0.13,0.13,0.13,0.13,0.13,0.12000000000000001,0.13,0.13,0.13,0.13,0.13,0.12999999999999998,0.13,0.12000000000000001,0.13,0.13,0.12,0.12,0.12,0.13,0.12,0.12,0.12,0.12000000000000001,0.11,0.12,0.12,0.12000000000000001,0.11,0.12,0.12,0.12,0.12,0.12,0.12,0.11,0.12,0.12,0.12,0.11000000000000001,0.12,0.12000000000000001,0.11,0.11,0.11,0.11,0.11,0.11,0.12000000000000001,0.11,0.12000000000000001,0.11,0.12000000000000001,0.11,0.11,0.11,0.10999999999999999,0.11,0.09999999999999999,0.11,0.11,0.11,0.09999999999999999,0.09999999999999999,0.11000000000000001,0.11,0.1,0.1,0.11,0.1,0.09999999999999999,0.11,0.1,0.1,0.1,0.09999999999999999,0.09,0.1,0.09999999999999999,0.09,0.1,0.09999999999999999,0.1,0.1,0.1,0.09999999999999999,0.1,0.09999999999999999,0.1,0.09999999999999999,0.09,0.09,0.1,0.09000000000000001,0.08,0.09,0.1,0.09,0.1,0.09,0.09000000000000001,0.09,0.09,0.09,0.09999999999999999,0.09,0.09,0.09,0.08,0.09,0.09,0.08,0.09999999999999999,0.09,0.09,0.09,0.09,0.09,0.08,0.08,0.09,0.08,0.08,0.08,0.08,0.08,0.08,0.08,0.08,0.06999999999999999,0.08,0.09,0.09000000000000001,0.07,0.08,0.07999999999999999,0.07999999999999999,0.08,0.08,0.08,0.08,0.06999999999999999,0.06999999999999999,0.08,0.08,0.08,0.09,0.07,0.08,0.08,0.08,0.08,0.08,0.08,0.08,0.08,0.07,0.07,0.07,0.08,0.08,0.07,0.06999999999999999,0.07,0.07,0.06999999999999999,0.08,0.07,0.06999999999999999,0.06999999999999999,0.06999999999999999,0.07999999999999999,0.06999999999999999,0.08,0.07,0.07,0.07,0.060000000000000005,0.06999999999999999,0.07,0.07,0.06999999999999999,0.060000000000000005,0.07,0.07,0.07,0.06,0.07,0.07,0.07,0.06999999999999999,0.06,0.06999999999999999,0.06,0.06,0.06999999999999999,0.06999999999999999,0.06,0.060000000000000005,0.060000000000000005,0.06,0.06999999999999999,0.06,0.06,0.060000000000000005,0.06,0.06,0.060000000000000005,0.060000000000000005,0.060000000000000005,0.06999999999999999,0.06,0.06,0.06,0.05,0.06,0.060000000000000005,0.07,0.06,0.060000000000000005,0.06,0.060000000000000005,0.06,0.06,0.060000000000000005,0.05,0.06,0.06999999999999999,0.060000000000000005,0.06,0.06,0.060000000000000005,0.05,0.060000000000000005,0.060000000000000005,0.060000000000000005,0.060000000000000005,0.060000000000000005,0.06,0.060000000000000005,0.05,0.060000000000000005,0.05,0.05,0.05,0.060000000000000005,0.060000000000000005,0.05,0.05,0.05,0.05,0.05,0.05,0.060000000000000005,0.05,0.05,0.05,0.05,0.05,0.060000000000000005,0.05,0.05,0.060000000000000005,0.05,0.05,0.05,0.05,0.05,0.04,0.060000000000000005,0.05,0.04,0.05,0.05,0.05,0.05,0.05,0.05,0.04,0.05,0.04,0.04,0.05,0.05,0.05,0.05,0.04,0.05,0.05,0.04,0.04,0.05,0.04,0.04,0.04,0.04,0.04,0.04,0.04,0.04,0.04,0.04,0.04,0.04,0.04,0.03,0.03,0.03,0.05,0.04,0.04,0.04,0.04,0.04,0.04,0.04,0.04,0.04,0.04,0.05,0.04,0.03,0.04,0.04,0.04,0.04,0.04,0.04,0.04,0.03,0.04,0.04,0.04,0.04,0.04,0.03,0.04,0.03,0.04,0.04,0.04,0.03,0.03,0.03,0.03,0.03,0.03,0.04,0.03,0.03,0.03,0.03,0.03,0.03,0.03,0.03,0.04,0.03,0.03,0.03,0.03,0.03,0.03,0.03,0.03,0.03,0.03,0.03,0.03,0.03,0.03,0.03,0.04,0.03,0.02,0.03,0.03,0.03,0.03,0.03,0.02,0.03,0.03,0.03,0.03,0.03,0.03,0.03,0.03,0.02,0.03,0.02,0.03,0.02,0.02,0.03,0.03,0.03,0.02,0.03,0.03,0.03,0.02,0.02,0.02,0.03,0.02,0.03,0.03,0.02,0.02,0.02,0.02,0.02,0.02,0.03,0.02,0.02,0.03,0.02,0.02,0.02,0.02,0.02,0.02,0.02,0.02,0.02,0.02,0.02,0.02,0.02,0.02,0.02,0.02,0.02,0.02,0.02,0.02,0.02,0.02,0.02,0.02,0.02,0.02,0.02,0.02,0.02,0.02,0.02,0.02,0.02,0.02,0.02,0.02,0.02,0.01,0.02,0.02,0.02,0.02,0.02,0.02,0.02,0.02,0.02,0.02,0.02,0.02,0.02,0.02,0.02,0.02,0.02,0.02,0.01,0.02,0.01,0.02,0.01,0.02,0.02,0.02,0.02,0.01,0.02,0.01,0.01,0.02,0.01,0.02,0.02,0.02,0.02,0.01,0.01,0.01,0.01,0.01,0.01,0.02,0.01,0.01,0.01,0.01,0.01,0.01,0.01,0.01,0.01,0.01,0.01,0.01,0.01,0.01,0.01,0.01,0.01,0.01,0.01,0.01,0.01,0.01,0.01,0.01,0.01,0.01,0.01,0.01,0.01,0.01,0.01,0.01,0.01,0.01,0.01,0.01,0.01,0.01,0.01,0.01,0.01,0.01,0.01,0.01,0.01,0.01,0.01,0.01,0.01,0.01,0.01,0.01,0.01,0.01,0.01,0.01,0.01,0.01,0.01,0.01,0.01,0.01,0.01,0.01,0.01],\"y0\":\" \",\"yaxis\":\"y\",\"type\":\"box\"}],                        {\"template\":{\"data\":{\"histogram2dcontour\":[{\"type\":\"histogram2dcontour\",\"colorbar\":{\"outlinewidth\":0,\"ticks\":\"\"},\"colorscale\":[[0.0,\"#0d0887\"],[0.1111111111111111,\"#46039f\"],[0.2222222222222222,\"#7201a8\"],[0.3333333333333333,\"#9c179e\"],[0.4444444444444444,\"#bd3786\"],[0.5555555555555556,\"#d8576b\"],[0.6666666666666666,\"#ed7953\"],[0.7777777777777778,\"#fb9f3a\"],[0.8888888888888888,\"#fdca26\"],[1.0,\"#f0f921\"]]}],\"choropleth\":[{\"type\":\"choropleth\",\"colorbar\":{\"outlinewidth\":0,\"ticks\":\"\"}}],\"histogram2d\":[{\"type\":\"histogram2d\",\"colorbar\":{\"outlinewidth\":0,\"ticks\":\"\"},\"colorscale\":[[0.0,\"#0d0887\"],[0.1111111111111111,\"#46039f\"],[0.2222222222222222,\"#7201a8\"],[0.3333333333333333,\"#9c179e\"],[0.4444444444444444,\"#bd3786\"],[0.5555555555555556,\"#d8576b\"],[0.6666666666666666,\"#ed7953\"],[0.7777777777777778,\"#fb9f3a\"],[0.8888888888888888,\"#fdca26\"],[1.0,\"#f0f921\"]]}],\"heatmap\":[{\"type\":\"heatmap\",\"colorbar\":{\"outlinewidth\":0,\"ticks\":\"\"},\"colorscale\":[[0.0,\"#0d0887\"],[0.1111111111111111,\"#46039f\"],[0.2222222222222222,\"#7201a8\"],[0.3333333333333333,\"#9c179e\"],[0.4444444444444444,\"#bd3786\"],[0.5555555555555556,\"#d8576b\"],[0.6666666666666666,\"#ed7953\"],[0.7777777777777778,\"#fb9f3a\"],[0.8888888888888888,\"#fdca26\"],[1.0,\"#f0f921\"]]}],\"heatmapgl\":[{\"type\":\"heatmapgl\",\"colorbar\":{\"outlinewidth\":0,\"ticks\":\"\"},\"colorscale\":[[0.0,\"#0d0887\"],[0.1111111111111111,\"#46039f\"],[0.2222222222222222,\"#7201a8\"],[0.3333333333333333,\"#9c179e\"],[0.4444444444444444,\"#bd3786\"],[0.5555555555555556,\"#d8576b\"],[0.6666666666666666,\"#ed7953\"],[0.7777777777777778,\"#fb9f3a\"],[0.8888888888888888,\"#fdca26\"],[1.0,\"#f0f921\"]]}],\"contourcarpet\":[{\"type\":\"contourcarpet\",\"colorbar\":{\"outlinewidth\":0,\"ticks\":\"\"}}],\"contour\":[{\"type\":\"contour\",\"colorbar\":{\"outlinewidth\":0,\"ticks\":\"\"},\"colorscale\":[[0.0,\"#0d0887\"],[0.1111111111111111,\"#46039f\"],[0.2222222222222222,\"#7201a8\"],[0.3333333333333333,\"#9c179e\"],[0.4444444444444444,\"#bd3786\"],[0.5555555555555556,\"#d8576b\"],[0.6666666666666666,\"#ed7953\"],[0.7777777777777778,\"#fb9f3a\"],[0.8888888888888888,\"#fdca26\"],[1.0,\"#f0f921\"]]}],\"surface\":[{\"type\":\"surface\",\"colorbar\":{\"outlinewidth\":0,\"ticks\":\"\"},\"colorscale\":[[0.0,\"#0d0887\"],[0.1111111111111111,\"#46039f\"],[0.2222222222222222,\"#7201a8\"],[0.3333333333333333,\"#9c179e\"],[0.4444444444444444,\"#bd3786\"],[0.5555555555555556,\"#d8576b\"],[0.6666666666666666,\"#ed7953\"],[0.7777777777777778,\"#fb9f3a\"],[0.8888888888888888,\"#fdca26\"],[1.0,\"#f0f921\"]]}],\"mesh3d\":[{\"type\":\"mesh3d\",\"colorbar\":{\"outlinewidth\":0,\"ticks\":\"\"}}],\"scatter\":[{\"fillpattern\":{\"fillmode\":\"overlay\",\"size\":10,\"solidity\":0.2},\"type\":\"scatter\"}],\"parcoords\":[{\"type\":\"parcoords\",\"line\":{\"colorbar\":{\"outlinewidth\":0,\"ticks\":\"\"}}}],\"scatterpolargl\":[{\"type\":\"scatterpolargl\",\"marker\":{\"colorbar\":{\"outlinewidth\":0,\"ticks\":\"\"}}}],\"bar\":[{\"error_x\":{\"color\":\"#2a3f5f\"},\"error_y\":{\"color\":\"#2a3f5f\"},\"marker\":{\"line\":{\"color\":\"#E5ECF6\",\"width\":0.5},\"pattern\":{\"fillmode\":\"overlay\",\"size\":10,\"solidity\":0.2}},\"type\":\"bar\"}],\"scattergeo\":[{\"type\":\"scattergeo\",\"marker\":{\"colorbar\":{\"outlinewidth\":0,\"ticks\":\"\"}}}],\"scatterpolar\":[{\"type\":\"scatterpolar\",\"marker\":{\"colorbar\":{\"outlinewidth\":0,\"ticks\":\"\"}}}],\"histogram\":[{\"marker\":{\"pattern\":{\"fillmode\":\"overlay\",\"size\":10,\"solidity\":0.2}},\"type\":\"histogram\"}],\"scattergl\":[{\"type\":\"scattergl\",\"marker\":{\"colorbar\":{\"outlinewidth\":0,\"ticks\":\"\"}}}],\"scatter3d\":[{\"type\":\"scatter3d\",\"line\":{\"colorbar\":{\"outlinewidth\":0,\"ticks\":\"\"}},\"marker\":{\"colorbar\":{\"outlinewidth\":0,\"ticks\":\"\"}}}],\"scattermapbox\":[{\"type\":\"scattermapbox\",\"marker\":{\"colorbar\":{\"outlinewidth\":0,\"ticks\":\"\"}}}],\"scatterternary\":[{\"type\":\"scatterternary\",\"marker\":{\"colorbar\":{\"outlinewidth\":0,\"ticks\":\"\"}}}],\"scattercarpet\":[{\"type\":\"scattercarpet\",\"marker\":{\"colorbar\":{\"outlinewidth\":0,\"ticks\":\"\"}}}],\"carpet\":[{\"aaxis\":{\"endlinecolor\":\"#2a3f5f\",\"gridcolor\":\"white\",\"linecolor\":\"white\",\"minorgridcolor\":\"white\",\"startlinecolor\":\"#2a3f5f\"},\"baxis\":{\"endlinecolor\":\"#2a3f5f\",\"gridcolor\":\"white\",\"linecolor\":\"white\",\"minorgridcolor\":\"white\",\"startlinecolor\":\"#2a3f5f\"},\"type\":\"carpet\"}],\"table\":[{\"cells\":{\"fill\":{\"color\":\"#EBF0F8\"},\"line\":{\"color\":\"white\"}},\"header\":{\"fill\":{\"color\":\"#C8D4E3\"},\"line\":{\"color\":\"white\"}},\"type\":\"table\"}],\"barpolar\":[{\"marker\":{\"line\":{\"color\":\"#E5ECF6\",\"width\":0.5},\"pattern\":{\"fillmode\":\"overlay\",\"size\":10,\"solidity\":0.2}},\"type\":\"barpolar\"}],\"pie\":[{\"automargin\":true,\"type\":\"pie\"}]},\"layout\":{\"autotypenumbers\":\"strict\",\"colorway\":[\"#636efa\",\"#EF553B\",\"#00cc96\",\"#ab63fa\",\"#FFA15A\",\"#19d3f3\",\"#FF6692\",\"#B6E880\",\"#FF97FF\",\"#FECB52\"],\"font\":{\"color\":\"#2a3f5f\"},\"hovermode\":\"closest\",\"hoverlabel\":{\"align\":\"left\"},\"paper_bgcolor\":\"white\",\"plot_bgcolor\":\"#E5ECF6\",\"polar\":{\"bgcolor\":\"#E5ECF6\",\"angularaxis\":{\"gridcolor\":\"white\",\"linecolor\":\"white\",\"ticks\":\"\"},\"radialaxis\":{\"gridcolor\":\"white\",\"linecolor\":\"white\",\"ticks\":\"\"}},\"ternary\":{\"bgcolor\":\"#E5ECF6\",\"aaxis\":{\"gridcolor\":\"white\",\"linecolor\":\"white\",\"ticks\":\"\"},\"baxis\":{\"gridcolor\":\"white\",\"linecolor\":\"white\",\"ticks\":\"\"},\"caxis\":{\"gridcolor\":\"white\",\"linecolor\":\"white\",\"ticks\":\"\"}},\"coloraxis\":{\"colorbar\":{\"outlinewidth\":0,\"ticks\":\"\"}},\"colorscale\":{\"sequential\":[[0.0,\"#0d0887\"],[0.1111111111111111,\"#46039f\"],[0.2222222222222222,\"#7201a8\"],[0.3333333333333333,\"#9c179e\"],[0.4444444444444444,\"#bd3786\"],[0.5555555555555556,\"#d8576b\"],[0.6666666666666666,\"#ed7953\"],[0.7777777777777778,\"#fb9f3a\"],[0.8888888888888888,\"#fdca26\"],[1.0,\"#f0f921\"]],\"sequentialminus\":[[0.0,\"#0d0887\"],[0.1111111111111111,\"#46039f\"],[0.2222222222222222,\"#7201a8\"],[0.3333333333333333,\"#9c179e\"],[0.4444444444444444,\"#bd3786\"],[0.5555555555555556,\"#d8576b\"],[0.6666666666666666,\"#ed7953\"],[0.7777777777777778,\"#fb9f3a\"],[0.8888888888888888,\"#fdca26\"],[1.0,\"#f0f921\"]],\"diverging\":[[0,\"#8e0152\"],[0.1,\"#c51b7d\"],[0.2,\"#de77ae\"],[0.3,\"#f1b6da\"],[0.4,\"#fde0ef\"],[0.5,\"#f7f7f7\"],[0.6,\"#e6f5d0\"],[0.7,\"#b8e186\"],[0.8,\"#7fbc41\"],[0.9,\"#4d9221\"],[1,\"#276419\"]]},\"xaxis\":{\"gridcolor\":\"white\",\"linecolor\":\"white\",\"ticks\":\"\",\"title\":{\"standoff\":15},\"zerolinecolor\":\"white\",\"automargin\":true,\"zerolinewidth\":2},\"yaxis\":{\"gridcolor\":\"white\",\"linecolor\":\"white\",\"ticks\":\"\",\"title\":{\"standoff\":15},\"zerolinecolor\":\"white\",\"automargin\":true,\"zerolinewidth\":2},\"scene\":{\"xaxis\":{\"backgroundcolor\":\"#E5ECF6\",\"gridcolor\":\"white\",\"linecolor\":\"white\",\"showbackground\":true,\"ticks\":\"\",\"zerolinecolor\":\"white\",\"gridwidth\":2},\"yaxis\":{\"backgroundcolor\":\"#E5ECF6\",\"gridcolor\":\"white\",\"linecolor\":\"white\",\"showbackground\":true,\"ticks\":\"\",\"zerolinecolor\":\"white\",\"gridwidth\":2},\"zaxis\":{\"backgroundcolor\":\"#E5ECF6\",\"gridcolor\":\"white\",\"linecolor\":\"white\",\"showbackground\":true,\"ticks\":\"\",\"zerolinecolor\":\"white\",\"gridwidth\":2}},\"shapedefaults\":{\"line\":{\"color\":\"#2a3f5f\"}},\"annotationdefaults\":{\"arrowcolor\":\"#2a3f5f\",\"arrowhead\":0,\"arrowwidth\":1},\"geo\":{\"bgcolor\":\"white\",\"landcolor\":\"#E5ECF6\",\"subunitcolor\":\"white\",\"showland\":true,\"showlakes\":true,\"lakecolor\":\"white\"},\"title\":{\"x\":0.05},\"mapbox\":{\"style\":\"light\"}}},\"xaxis\":{\"anchor\":\"y\",\"domain\":[0.0,1.0],\"title\":{\"text\":\"platform\"}},\"yaxis\":{\"anchor\":\"x\",\"domain\":[0.0,1.0],\"title\":{\"text\":\"total_sales\"},\"range\":[0,6]},\"legend\":{\"tracegroupgap\":0},\"margin\":{\"t\":60},\"boxmode\":\"group\"},                        {\"responsive\": true}                    ).then(function(){\n",
              "                            \n",
              "var gd = document.getElementById('76ea6d04-aecb-4a54-a286-54860ff504a2');\n",
              "var x = new MutationObserver(function (mutations, observer) {{\n",
              "        var display = window.getComputedStyle(gd).display;\n",
              "        if (!display || display === 'none') {{\n",
              "            console.log([gd, 'removed!']);\n",
              "            Plotly.purge(gd);\n",
              "            observer.disconnect();\n",
              "        }}\n",
              "}});\n",
              "\n",
              "// Listen for the removal of the full notebook cells\n",
              "var notebookContainer = gd.closest('#notebook-container');\n",
              "if (notebookContainer) {{\n",
              "    x.observe(notebookContainer, {childList: true});\n",
              "}}\n",
              "\n",
              "// Listen for the clearing of the current output cell\n",
              "var outputEl = gd.closest('.output');\n",
              "if (outputEl) {{\n",
              "    x.observe(outputEl, {childList: true});\n",
              "}}\n",
              "\n",
              "                        })                };                            </script>        </div>\n",
              "</body>\n",
              "</html>"
            ]
          },
          "metadata": {}
        }
      ]
    },
    {
      "cell_type": "markdown",
      "source": [
        "На графике самые лучшие результаты у платформ PS4 и XONe. Мы ранее наблюдали. что по суммарным продажам заметно лидирует PS4, однако, отдельная игра, выпущенная на XONe может продаваться не хуже"
      ],
      "metadata": {
        "id": "zjvic4wYFc__"
      }
    },
    {
      "cell_type": "markdown",
      "source": [
        "### Посмотрите, как влияют на продажи внутри одной популярной платформы отзывы пользователей и критиков. Постройте диаграмму рассеяния и посчитайте корреляцию между отзывами и продажами. Сформулируйте выводы."
      ],
      "metadata": {
        "id": "7ed8gfUEGCjD"
      }
    },
    {
      "cell_type": "code",
      "source": [
        "sns.scatterplot(data=data.query('platform == \"PS4\"'), x=\"critic_score\", y=\"total_sales\").set(title = 'Зависимость продаж от рейтинга критиков, платформа PS4')\n",
        "plt.show()"
      ],
      "metadata": {
        "colab": {
          "base_uri": "https://localhost:8080/",
          "height": 472
        },
        "id": "dSB9vCjJzEaj",
        "outputId": "bba10a93-2428-4991-bd99-bc17d6bdf665"
      },
      "execution_count": 31,
      "outputs": [
        {
          "output_type": "display_data",
          "data": {
            "text/plain": [
              "<Figure size 640x480 with 1 Axes>"
            ],
            "image/png": "[encoded data removed]"
          },
          "metadata": {}
        }
      ]
    },
    {
      "cell_type": "markdown",
      "source": [
        "Мы наблюдаем явную зависимость продаваемости игр от рейтинга критиков"
      ],
      "metadata": {
        "id": "_AOHZ6rnGMX5"
      }
    },
    {
      "cell_type": "markdown",
      "source": [
        "Посмотрим, если ли общая зависимость продаж на всех платформах от рейтинга критиков"
      ],
      "metadata": {
        "id": "GRovkkN8GksM"
      }
    },
    {
      "cell_type": "code",
      "source": [
        "sns.scatterplot(data=data, x=\"critic_score\", y=\"total_sales\").set(title = 'Зависимость продаж от рейтинга критиков')\n",
        "plt.show()"
      ],
      "metadata": {
        "colab": {
          "base_uri": "https://localhost:8080/",
          "height": 472
        },
        "id": "rphCvHcQG2y7",
        "outputId": "b11a4504-4db2-4654-944e-3d9516472c34"
      },
      "execution_count": 32,
      "outputs": [
        {
          "output_type": "display_data",
          "data": {
            "text/plain": [
              "<Figure size 640x480 with 1 Axes>"
            ],
            "image/png": "[encoded data removed]"
          },
          "metadata": {}
        }
      ]
    },
    {
      "cell_type": "markdown",
      "source": [
        "Мы также видим зависимость продаж от рейтинга критиков и на других платформах"
      ],
      "metadata": {
        "id": "Y7RIpaA2G8Nq"
      }
    },
    {
      "cell_type": "markdown",
      "source": [
        "Посмотрим, есть ли зависимость продаж от рейтинга пользователей"
      ],
      "metadata": {
        "id": "voVFwz2dGWhc"
      }
    },
    {
      "cell_type": "code",
      "source": [
        "sns.scatterplot(data=data, x=\"user_score\", y=\"total_sales\").set(title = 'Зависимость продаж от рейтинга пользователей')\n",
        "plt.show()"
      ],
      "metadata": {
        "colab": {
          "base_uri": "https://localhost:8080/",
          "height": 472
        },
        "id": "xq4Urh4ZxbhV",
        "outputId": "f302b7f0-da4e-442c-ae07-52e551ac3114"
      },
      "execution_count": 33,
      "outputs": [
        {
          "output_type": "display_data",
          "data": {
            "text/plain": [
              "<Figure size 640x480 with 1 Axes>"
            ],
            "image/png": "[encoded data removed]"
          },
          "metadata": {}
        }
      ]
    },
    {
      "cell_type": "markdown",
      "source": [
        "Зависимость не столь явная, но все жи мы видим большее количество продаж там, где рейтинг больше 6"
      ],
      "metadata": {
        "id": "_1u0VBSYHHDF"
      }
    },
    {
      "cell_type": "markdown",
      "source": [
        "### Посмотрите на общее распределение игр по жанрам. Что можно сказать о самых прибыльных жанрах? Выделяются ли жанры с высокими и низкими продажами?"
      ],
      "metadata": {
        "id": "cZULpWZ8HU2A"
      }
    },
    {
      "cell_type": "code",
      "source": [
        "fig = px.box(data, x = 'genre', y='total_sales')\n",
        "fig.update_layout(yaxis_range= [0,3])\n",
        "fig.update_layout(title = \"Продажи игр по жанрам\")\n",
        "fig.show()"
      ],
      "metadata": {
        "colab": {
          "base_uri": "https://localhost:8080/",
          "height": 542
        },
        "id": "aE5iOJl2zwcP",
        "outputId": "4376a135-157b-43ef-cfec-f718cce0ca8b"
      },
      "execution_count": 34,
      "outputs": [
        {
          "output_type": "display_data",
          "data": {
            "text/html": [
              "<html>\n",
              "<head><meta charset=\"utf-8\" /></head>\n",
              "<body>\n",
              "    <div>            <script src=\"https://cdnjs.cloudflare.com/ajax/libs/mathjax/2.7.5/MathJax.js?config=TeX-AMS-MML_SVG\"></script><script type=\"text/javascript\">if (window.MathJax && window.MathJax.Hub && window.MathJax.Hub.Config) {window.MathJax.Hub.Config({SVG: {font: \"STIX-Web\"}});}</script>                <script type=\"text/javascript\">window.PlotlyConfig = {MathJaxConfig: 'local'};</script>\n",
              "        <script charset=\"utf-8\" src=\"https://cdn.plot.ly/plotly-2.24.1.min.js\"></script>                <div id=\"456d1415-32e5-46d3-ac0a-01abb9fcf87e\" class=\"plotly-graph-div\" style=\"height:525px; width:100%;\"></div>            <script type=\"text/javascript\">                                    window.PLOTLYENV=window.PLOTLYENV || {};                                    if (document.getElementById(\"456d1415-32e5-46d3-ac0a-01abb9fcf87e\")) {                    Plotly.newPlot(                        \"456d1415-32e5-46d3-ac0a-01abb9fcf87e\",                        [{\"alignmentgroup\":\"True\",\"hovertemplate\":\"genre=%{x}\\u003cbr\\u003etotal_sales=%{y}\\u003cextra\\u003e\\u003c\\u002fextra\\u003e\",\"legendgroup\":\"\",\"marker\":{\"color\":\"#636efa\"},\"name\":\"\",\"notched\":false,\"offsetgroup\":\"\",\"orientation\":\"v\",\"showlegend\":false,\"x\":[\"Shooter\",\"Action\",\"Role-Playing\",\"Sports\",\"Shooter\",\"Shooter\",\"Sports\",\"Fighting\",\"Shooter\",\"Role-Playing\",\"Role-Playing\",\"Sports\",\"Shooter\",\"Action\",\"Shooter\",\"Shooter\",\"Misc\",\"Action\",\"Action\",\"Shooter\",\"Shooter\",\"Shooter\",\"Misc\",\"Shooter\",\"Sports\",\"Role-Playing\",\"Shooter\",\"Action\",\"Shooter\",\"Role-Playing\",\"Action\",\"Action\",\"Role-Playing\",\"Sports\",\"Shooter\",\"Shooter\",\"Action\",\"Action\",\"Action\",\"Shooter\",\"Action\",\"Role-Playing\",\"Shooter\",\"Sports\",\"Sports\",\"Shooter\",\"Simulation\",\"Action\",\"Shooter\",\"Sports\",\"Action\",\"Fighting\",\"Misc\",\"Sports\",\"Role-Playing\",\"Sports\",\"Action\",\"Sports\",\"Racing\",\"Shooter\",\"Sports\",\"Action\",\"Sports\",\"Action\",\"Action\",\"Shooter\",\"Shooter\",\"Sports\",\"Sports\",\"Shooter\",\"Shooter\",\"Shooter\",\"Action\",\"Racing\",\"Sports\",\"Role-Playing\",\"Shooter\",\"Shooter\",\"Platform\",\"Sports\",\"Action\",\"Platform\",\"Role-Playing\",\"Action\",\"Racing\",\"Action\",\"Sports\",\"Role-Playing\",\"Action\",\"Shooter\",\"Racing\",\"Sports\",\"Shooter\",\"Action\",\"Shooter\",\"Role-Playing\",\"Adventure\",\"Role-Playing\",\"Shooter\",\"Sports\",\"Shooter\",\"Action\",\"Sports\",\"Sports\",\"Shooter\",\"Platform\",\"Action\",\"Shooter\",\"Sports\",\"Action\",\"Racing\",\"Platform\",\"Fighting\",\"Adventure\",\"Shooter\",\"Action\",\"Shooter\",\"Shooter\",\"Sports\",\"Action\",\"Role-Playing\",\"Role-Playing\",\"Action\",\"Shooter\",\"Action\",\"Action\",\"Role-Playing\",\"Action\",\"Role-Playing\",\"Action\",\"Action\",\"Role-Playing\",\"Sports\",\"Role-Playing\",\"Sports\",\"Shooter\",\"Shooter\",\"Action\",\"Sports\",\"Shooter\",\"Fighting\",\"Action\",\"Shooter\",\"Action\",\"Fighting\",\"Racing\",\"Racing\",\"Action\",\"Shooter\",\"Shooter\",\"Sports\",\"Sports\",\"Action\",\"Platform\",\"Role-Playing\",\"Sports\",\"Shooter\",\"Action\",\"Sports\",\"Adventure\",\"Sports\",\"Role-Playing\",\"Action\",\"Action\",\"Action\",\"Sports\",\"Role-Playing\",\"Role-Playing\",\"Fighting\",\"Action\",\"Shooter\",\"Action\",\"Action\",\"Action\",\"Action\",\"Adventure\",\"Action\",\"Shooter\",\"Action\",\"Action\",\"Role-Playing\",\"Misc\",\"Action\",\"Action\",\"Action\",\"Role-Playing\",\"Sports\",\"Misc\",\"Racing\",\"Sports\",\"Sports\",\"Shooter\",\"Role-Playing\",\"Misc\",\"Shooter\",\"Action\",\"Sports\",\"Role-Playing\",\"Misc\",\"Role-Playing\",\"Role-Playing\",\"Action\",\"Role-Playing\",\"Action\",\"Sports\",\"Sports\",\"Action\",\"Action\",\"Role-Playing\",\"Sports\",\"Shooter\",\"Action\",\"Action\",\"Action\",\"Adventure\",\"Adventure\",\"Action\",\"Racing\",\"Shooter\",\"Shooter\",\"Shooter\",\"Action\",\"Action\",\"Action\",\"Racing\",\"Role-Playing\",\"Action\",\"Shooter\",\"Action\",\"Action\",\"Action\",\"Sports\",\"Action\",\"Racing\",\"Shooter\",\"Platform\",\"Role-Playing\",\"Misc\",\"Sports\",\"Action\",\"Action\",\"Action\",\"Sports\",\"Shooter\",\"Shooter\",\"Action\",\"Role-Playing\",\"Misc\",\"Sports\",\"Action\",\"Sports\",\"Sports\",\"Role-Playing\",\"Sports\",\"Action\",\"Sports\",\"Shooter\",\"Sports\",\"Role-Playing\",\"Role-Playing\",\"Adventure\",\"Action\",\"Action\",\"Action\",\"Misc\",\"Action\",\"Action\",\"Action\",\"Role-Playing\",\"Misc\",\"Action\",\"Action\",\"Action\",\"Role-Playing\",\"Action\",\"Role-Playing\",\"Shooter\",\"Sports\",\"Action\",\"Shooter\",\"Action\",\"Misc\",\"Role-Playing\",\"Puzzle\",\"Action\",\"Shooter\",\"Sports\",\"Fighting\",\"Sports\",\"Misc\",\"Sports\",\"Action\",\"Action\",\"Action\",\"Adventure\",\"Action\",\"Sports\",\"Action\",\"Sports\",\"Action\",\"Sports\",\"Action\",\"Shooter\",\"Action\",\"Action\",\"Role-Playing\",\"Shooter\",\"Action\",\"Action\",\"Fighting\",\"Action\",\"Sports\",\"Sports\",\"Action\",\"Sports\",\"Action\",\"Racing\",\"Simulation\",\"Sports\",\"Simulation\",\"Shooter\",\"Action\",\"Sports\",\"Racing\",\"Misc\",\"Role-Playing\",\"Role-Playing\",\"Adventure\",\"Sports\",\"Action\",\"Action\",\"Action\",\"Role-Playing\",\"Adventure\",\"Sports\",\"Racing\",\"Misc\",\"Misc\",\"Shooter\",\"Role-Playing\",\"Sports\",\"Fighting\",\"Action\",\"Simulation\",\"Role-Playing\",\"Shooter\",\"Misc\",\"Sports\",\"Shooter\",\"Action\",\"Racing\",\"Action\",\"Sports\",\"Misc\",\"Role-Playing\",\"Action\",\"Action\",\"Simulation\",\"Simulation\",\"Shooter\",\"Fighting\",\"Shooter\",\"Action\",\"Platform\",\"Shooter\",\"Action\",\"Platform\",\"Action\",\"Fighting\",\"Action\",\"Role-Playing\",\"Sports\",\"Role-Playing\",\"Fighting\",\"Shooter\",\"Misc\",\"Misc\",\"Fighting\",\"Strategy\",\"Misc\",\"Action\",\"Adventure\",\"Action\",\"Fighting\",\"Action\",\"Action\",\"Simulation\",\"Action\",\"Fighting\",\"Action\",\"Misc\",\"Fighting\",\"Action\",\"Shooter\",\"Action\",\"Action\",\"Action\",\"Sports\",\"Action\",\"Action\",\"Action\",\"Role-Playing\",\"Action\",\"Shooter\",\"Role-Playing\",\"Action\",\"Shooter\",\"Shooter\",\"Shooter\",\"Action\",\"Action\",\"Action\",\"Action\",\"Adventure\",\"Misc\",\"Adventure\",\"Action\",\"Action\",\"Action\",\"Action\",\"Action\",\"Action\",\"Platform\",\"Fighting\",\"Sports\",\"Racing\",\"Action\",\"Action\",\"Action\",\"Shooter\",\"Action\",\"Role-Playing\",\"Adventure\",\"Misc\",\"Role-Playing\",\"Misc\",\"Misc\",\"Action\",\"Adventure\",\"Adventure\",\"Role-Playing\",\"Racing\",\"Role-Playing\",\"Racing\",\"Action\",\"Action\",\"Action\",\"Platform\",\"Sports\",\"Action\",\"Fighting\",\"Shooter\",\"Role-Playing\",\"Sports\",\"Action\",\"Sports\",\"Action\",\"Action\",\"Role-Playing\",\"Role-Playing\",\"Misc\",\"Role-Playing\",\"Racing\",\"Action\",\"Action\",\"Racing\",\"Action\",\"Role-Playing\",\"Action\",\"Action\",\"Fighting\",\"Racing\",\"Action\",\"Strategy\",\"Action\",\"Role-Playing\",\"Adventure\",\"Strategy\",\"Sports\",\"Platform\",\"Sports\",\"Action\",\"Action\",\"Role-Playing\",\"Shooter\",\"Simulation\",\"Adventure\",\"Action\",\"Action\",\"Role-Playing\",\"Action\",\"Simulation\",\"Action\",\"Action\",\"Role-Playing\",\"Role-Playing\",\"Action\",\"Action\",\"Misc\",\"Action\",\"Adventure\",\"Misc\",\"Misc\",\"Role-Playing\",\"Action\",\"Fighting\",\"Misc\",\"Action\",\"Role-Playing\",\"Fighting\",\"Racing\",\"Racing\",\"Shooter\",\"Action\",\"Adventure\",\"Sports\",\"Misc\",\"Action\",\"Racing\",\"Action\",\"Sports\",\"Sports\",\"Role-Playing\",\"Role-Playing\",\"Action\",\"Action\",\"Adventure\",\"Role-Playing\",\"Racing\",\"Sports\",\"Sports\",\"Role-Playing\",\"Fighting\",\"Platform\",\"Simulation\",\"Action\",\"Action\",\"Fighting\",\"Adventure\",\"Shooter\",\"Adventure\",\"Role-Playing\",\"Action\",\"Simulation\",\"Misc\",\"Action\",\"Misc\",\"Action\",\"Action\",\"Action\",\"Action\",\"Shooter\",\"Fighting\",\"Action\",\"Action\",\"Role-Playing\",\"Action\",\"Action\",\"Sports\",\"Action\",\"Sports\",\"Action\",\"Action\",\"Platform\",\"Strategy\",\"Sports\",\"Sports\",\"Platform\",\"Sports\",\"Adventure\",\"Action\",\"Shooter\",\"Sports\",\"Action\",\"Action\",\"Action\",\"Action\",\"Adventure\",\"Action\",\"Role-Playing\",\"Fighting\",\"Action\",\"Adventure\",\"Adventure\",\"Action\",\"Action\",\"Misc\",\"Misc\",\"Sports\",\"Action\",\"Action\",\"Fighting\",\"Adventure\",\"Sports\",\"Action\",\"Racing\",\"Racing\",\"Misc\",\"Role-Playing\",\"Action\",\"Action\",\"Sports\",\"Role-Playing\",\"Role-Playing\",\"Action\",\"Shooter\",\"Action\",\"Simulation\",\"Role-Playing\",\"Role-Playing\",\"Sports\",\"Adventure\",\"Sports\",\"Action\",\"Fighting\",\"Action\",\"Role-Playing\",\"Action\",\"Sports\",\"Sports\",\"Action\",\"Sports\",\"Action\",\"Role-Playing\",\"Puzzle\",\"Action\",\"Action\",\"Action\",\"Racing\",\"Action\",\"Role-Playing\",\"Misc\",\"Role-Playing\",\"Action\",\"Puzzle\",\"Action\",\"Sports\",\"Shooter\",\"Role-Playing\",\"Racing\",\"Sports\",\"Role-Playing\",\"Sports\",\"Adventure\",\"Platform\",\"Action\",\"Action\",\"Action\",\"Role-Playing\",\"Role-Playing\",\"Racing\",\"Adventure\",\"Action\",\"Action\",\"Role-Playing\",\"Action\",\"Fighting\",\"Shooter\",\"Adventure\",\"Action\",\"Role-Playing\",\"Sports\",\"Simulation\",\"Action\",\"Role-Playing\",\"Action\",\"Sports\",\"Platform\",\"Adventure\",\"Action\",\"Misc\",\"Action\",\"Action\",\"Action\",\"Racing\",\"Misc\",\"Fighting\",\"Platform\",\"Action\",\"Action\",\"Adventure\",\"Action\",\"Sports\",\"Racing\",\"Platform\",\"Platform\",\"Action\",\"Racing\",\"Action\",\"Action\",\"Action\",\"Sports\",\"Fighting\",\"Action\",\"Adventure\",\"Sports\",\"Role-Playing\",\"Action\",\"Action\",\"Action\",\"Action\",\"Action\",\"Strategy\",\"Fighting\",\"Adventure\",\"Action\",\"Sports\",\"Action\",\"Racing\",\"Platform\",\"Action\",\"Fighting\",\"Platform\",\"Action\",\"Role-Playing\",\"Action\",\"Fighting\",\"Sports\",\"Adventure\",\"Adventure\",\"Sports\",\"Shooter\",\"Action\",\"Role-Playing\",\"Action\",\"Action\",\"Action\",\"Racing\",\"Action\",\"Role-Playing\",\"Misc\",\"Adventure\",\"Action\",\"Adventure\",\"Misc\",\"Strategy\",\"Role-Playing\",\"Fighting\",\"Role-Playing\",\"Role-Playing\",\"Action\",\"Role-Playing\",\"Action\",\"Role-Playing\",\"Action\",\"Role-Playing\",\"Action\",\"Adventure\",\"Puzzle\",\"Action\",\"Sports\",\"Misc\",\"Action\",\"Fighting\",\"Action\",\"Action\",\"Adventure\",\"Action\",\"Adventure\",\"Action\",\"Role-Playing\",\"Adventure\",\"Fighting\",\"Action\",\"Action\",\"Strategy\",\"Action\",\"Adventure\",\"Action\",\"Misc\",\"Adventure\",\"Role-Playing\",\"Action\",\"Puzzle\",\"Misc\",\"Action\",\"Role-Playing\",\"Action\",\"Racing\",\"Fighting\",\"Action\",\"Action\",\"Action\",\"Action\",\"Action\",\"Simulation\",\"Adventure\",\"Racing\",\"Role-Playing\",\"Shooter\",\"Role-Playing\",\"Action\",\"Action\",\"Strategy\",\"Action\",\"Role-Playing\",\"Action\",\"Fighting\",\"Action\",\"Sports\",\"Strategy\",\"Adventure\",\"Role-Playing\",\"Role-Playing\",\"Racing\",\"Action\",\"Adventure\",\"Fighting\",\"Action\",\"Action\",\"Action\",\"Sports\",\"Simulation\",\"Sports\",\"Action\",\"Sports\",\"Role-Playing\",\"Sports\",\"Strategy\",\"Misc\",\"Action\",\"Shooter\",\"Action\",\"Action\",\"Action\",\"Adventure\",\"Adventure\",\"Racing\",\"Platform\",\"Sports\",\"Racing\",\"Role-Playing\",\"Action\",\"Sports\",\"Action\",\"Adventure\",\"Shooter\",\"Action\",\"Role-Playing\",\"Role-Playing\",\"Adventure\",\"Misc\",\"Sports\",\"Action\",\"Adventure\",\"Racing\",\"Action\",\"Role-Playing\",\"Action\",\"Role-Playing\",\"Action\",\"Misc\",\"Shooter\",\"Action\",\"Racing\",\"Role-Playing\",\"Adventure\",\"Action\",\"Sports\",\"Role-Playing\",\"Strategy\",\"Action\",\"Role-Playing\",\"Adventure\",\"Misc\",\"Racing\",\"Shooter\",\"Action\",\"Racing\",\"Action\",\"Action\",\"Action\",\"Misc\",\"Action\",\"Puzzle\",\"Shooter\",\"Platform\",\"Action\",\"Strategy\",\"Action\",\"Fighting\",\"Role-Playing\",\"Adventure\",\"Action\",\"Action\",\"Fighting\",\"Action\",\"Action\",\"Sports\",\"Action\",\"Shooter\",\"Adventure\",\"Action\",\"Action\",\"Adventure\",\"Adventure\",\"Action\",\"Action\",\"Misc\",\"Adventure\",\"Role-Playing\",\"Platform\",\"Adventure\",\"Action\",\"Action\",\"Sports\",\"Action\",\"Adventure\",\"Action\",\"Racing\",\"Role-Playing\",\"Role-Playing\",\"Action\",\"Strategy\",\"Misc\",\"Misc\",\"Misc\",\"Sports\",\"Action\",\"Misc\",\"Action\",\"Simulation\",\"Action\",\"Action\",\"Action\",\"Action\",\"Sports\",\"Shooter\",\"Puzzle\",\"Role-Playing\",\"Role-Playing\",\"Action\",\"Fighting\",\"Action\",\"Role-Playing\",\"Misc\",\"Action\",\"Role-Playing\",\"Role-Playing\",\"Role-Playing\",\"Role-Playing\",\"Role-Playing\",\"Misc\",\"Adventure\",\"Adventure\",\"Action\",\"Action\",\"Role-Playing\",\"Action\",\"Action\",\"Fighting\",\"Sports\",\"Shooter\",\"Sports\",\"Adventure\",\"Role-Playing\",\"Racing\",\"Sports\",\"Action\",\"Action\",\"Action\",\"Sports\",\"Racing\",\"Role-Playing\",\"Strategy\",\"Action\",\"Action\",\"Misc\",\"Adventure\",\"Sports\",\"Action\",\"Puzzle\",\"Action\",\"Shooter\",\"Adventure\",\"Racing\",\"Action\",\"Misc\",\"Action\",\"Adventure\",\"Adventure\",\"Action\",\"Sports\",\"Sports\",\"Role-Playing\",\"Action\",\"Simulation\",\"Misc\",\"Fighting\",\"Strategy\",\"Action\",\"Action\",\"Simulation\",\"Adventure\",\"Misc\",\"Misc\",\"Action\",\"Shooter\",\"Role-Playing\",\"Fighting\",\"Adventure\",\"Action\",\"Shooter\",\"Role-Playing\",\"Action\",\"Action\",\"Misc\",\"Action\",\"Adventure\",\"Action\",\"Action\",\"Fighting\",\"Sports\",\"Action\",\"Action\",\"Action\",\"Misc\",\"Action\",\"Adventure\",\"Sports\",\"Action\",\"Sports\",\"Role-Playing\",\"Shooter\",\"Simulation\",\"Adventure\",\"Shooter\",\"Misc\",\"Adventure\",\"Action\",\"Misc\",\"Role-Playing\",\"Adventure\",\"Misc\",\"Action\",\"Shooter\",\"Action\",\"Action\",\"Adventure\",\"Action\",\"Strategy\",\"Action\",\"Action\",\"Action\",\"Action\",\"Action\",\"Action\",\"Platform\",\"Simulation\",\"Misc\",\"Action\",\"Misc\",\"Action\",\"Action\",\"Action\",\"Action\",\"Adventure\",\"Misc\",\"Action\",\"Action\",\"Action\",\"Fighting\",\"Action\",\"Action\",\"Sports\",\"Adventure\",\"Misc\",\"Action\",\"Adventure\",\"Action\",\"Action\",\"Action\",\"Action\",\"Misc\",\"Adventure\",\"Action\",\"Sports\",\"Action\",\"Racing\",\"Adventure\",\"Action\",\"Simulation\",\"Sports\",\"Shooter\",\"Action\",\"Action\",\"Sports\",\"Action\",\"Role-Playing\",\"Adventure\",\"Misc\",\"Action\",\"Action\",\"Action\",\"Sports\",\"Action\",\"Action\",\"Adventure\",\"Action\",\"Adventure\",\"Platform\",\"Action\",\"Fighting\",\"Simulation\",\"Adventure\",\"Adventure\",\"Sports\",\"Action\",\"Adventure\",\"Action\",\"Action\",\"Racing\",\"Action\",\"Fighting\",\"Adventure\",\"Adventure\",\"Action\",\"Adventure\",\"Racing\",\"Adventure\",\"Role-Playing\",\"Action\",\"Action\",\"Action\",\"Adventure\",\"Action\",\"Action\",\"Simulation\",\"Action\",\"Action\",\"Misc\",\"Action\",\"Puzzle\",\"Misc\",\"Adventure\",\"Racing\",\"Sports\",\"Sports\",\"Action\",\"Action\",\"Action\",\"Action\",\"Action\",\"Action\",\"Action\",\"Action\"],\"x0\":\" \",\"xaxis\":\"x\",\"y\":[14.629999999999999,12.620000000000001,11.68,8.58,7.98,7.66,7.6000000000000005,7.550000000000001,7.389999999999999,7.17,7.14,6.08,5.640000000000001,5.47,5.39,5.26,5.2700000000000005,4.72,4.62,4.49,4.470000000000001,4.36,4.32,4.28,4.28,4.22,4.07,4.05,4.04,3.9699999999999998,3.96,3.96,3.89,3.87,3.8,3.66,3.5,3.4200000000000004,3.3899999999999997,3.37,3.32,3.28,3.28,3.25,3.2399999999999998,3.23,3.05,2.96,2.95,2.92,2.7899999999999996,2.78,2.7600000000000002,2.6999999999999997,2.68,2.65,2.48,2.4499999999999997,2.42,2.4200000000000004,2.42,2.34,2.34,2.29,2.2600000000000002,2.25,2.21,2.19,2.18,2.1700000000000004,2.14,2.11,2.09,2.07,2.0500000000000003,2.01,1.9200000000000002,1.92,1.9100000000000001,1.8800000000000001,1.85,1.83,1.83,1.81,1.7999999999999998,1.7900000000000003,1.74,1.75,1.7400000000000002,1.7200000000000002,1.7200000000000002,1.73,1.7,1.6900000000000002,1.69,1.6700000000000002,1.6600000000000001,1.6600000000000001,1.6400000000000001,1.6300000000000001,1.6100000000000003,1.5700000000000003,1.5699999999999998,1.56,1.54,1.54,1.4900000000000002,1.49,1.4600000000000002,1.4000000000000001,1.4000000000000001,1.3800000000000001,1.38,1.3800000000000001,1.3599999999999999,1.3599999999999999,1.3399999999999999,1.3399999999999999,1.34,1.33,1.3199999999999998,1.3,1.2900000000000003,1.29,1.29,1.28,1.2800000000000002,1.27,1.2799999999999998,1.2699999999999998,1.25,1.25,1.23,1.23,1.21,1.21,1.2000000000000002,1.17,1.15,1.1300000000000001,1.14,1.13,1.1199999999999999,1.11,1.1,1.0799999999999998,1.08,1.08,1.07,1.06,1.05,1.03,1.01,1.02,0.98,0.97,0.9700000000000001,0.9500000000000001,0.9400000000000001,0.9400000000000001,0.93,0.93,0.93,0.92,0.93,0.93,0.93,0.9299999999999999,0.9,0.91,0.9,0.9,0.89,0.89,0.89,0.89,0.88,0.88,0.87,0.87,0.86,0.86,0.85,0.8500000000000001,0.8200000000000001,0.79,0.78,0.79,0.78,0.7799999999999999,0.7699999999999999,0.76,0.75,0.7500000000000001,0.7600000000000001,0.75,0.75,0.75,0.75,0.74,0.7300000000000001,0.73,0.75,0.7300000000000001,0.7300000000000001,0.7300000000000001,0.73,0.73,0.7200000000000001,0.72,0.73,0.73,0.7,0.71,0.6900000000000001,0.6900000000000001,0.6900000000000002,0.69,0.6799999999999999,0.6900000000000001,0.6800000000000002,0.6599999999999999,0.67,0.67,0.67,0.6599999999999999,0.66,0.66,0.6599999999999999,0.64,0.6399999999999999,0.6400000000000001,0.64,0.6400000000000001,0.6300000000000001,0.64,0.63,0.63,0.63,0.6200000000000001,0.62,0.6200000000000001,0.61,0.61,0.62,0.61,0.61,0.6100000000000001,0.6000000000000001,0.6,0.6,0.6,0.59,0.5900000000000001,0.5800000000000001,0.5800000000000001,0.5700000000000001,0.5700000000000001,0.56,0.5700000000000001,0.56,0.56,0.56,0.56,0.55,0.54,0.5599999999999999,0.56,0.53,0.53,0.53,0.53,0.53,0.53,0.51,0.52,0.49999999999999994,0.51,0.49,0.49000000000000005,0.48000000000000004,0.49,0.48,0.48000000000000004,0.48000000000000004,0.4799999999999999,0.4800000000000001,0.49000000000000005,0.48,0.47,0.45999999999999996,0.47000000000000003,0.46,0.45,0.46,0.46,0.4600000000000001,0.45,0.44999999999999996,0.45,0.45,0.44,0.44,0.44,0.44,0.45,0.43,0.43,0.44000000000000006,0.44,0.44,0.43,0.43,0.43,0.43000000000000005,0.42,0.43,0.42000000000000004,0.42,0.42,0.41000000000000003,0.41,0.41,0.41000000000000003,0.41,0.4,0.4,0.38999999999999996,0.39999999999999997,0.39,0.39999999999999997,0.4,0.38999999999999996,0.39999999999999997,0.39,0.37999999999999995,0.39,0.38,0.38,0.38,0.38,0.38,0.37,0.37,0.37,0.37000000000000005,0.38,0.36000000000000004,0.36000000000000004,0.37,0.36,0.37,0.36,0.36000000000000004,0.36,0.36,0.34,0.36000000000000004,0.36,0.35000000000000003,0.36,0.35,0.33999999999999997,0.34,0.33999999999999997,0.34,0.33999999999999997,0.33999999999999997,0.33999999999999997,0.33,0.34,0.33,0.33999999999999997,0.33,0.33,0.32000000000000006,0.31999999999999995,0.31999999999999995,0.32,0.31000000000000005,0.32,0.31999999999999995,0.31999999999999995,0.32000000000000006,0.31,0.31000000000000005,0.32,0.3,0.3,0.3,0.31000000000000005,0.31000000000000005,0.31,0.31000000000000005,0.3,0.29000000000000004,0.3,0.3,0.29000000000000004,0.29000000000000004,0.28,0.29,0.28,0.29000000000000004,0.27999999999999997,0.28,0.29000000000000004,0.27,0.28,0.28,0.27,0.29000000000000004,0.29,0.27,0.26999999999999996,0.27,0.27,0.27,0.27,0.26,0.26,0.27,0.26,0.26,0.26,0.26,0.26,0.26,0.26,0.26,0.26,0.25,0.25,0.25,0.25,0.26,0.25,0.25,0.24000000000000002,0.24000000000000002,0.25,0.24999999999999997,0.24000000000000002,0.24,0.25,0.24000000000000002,0.24000000000000002,0.24999999999999997,0.24000000000000002,0.24,0.23,0.24000000000000002,0.24,0.24000000000000002,0.23,0.24000000000000002,0.23,0.23,0.23,0.23,0.23,0.23,0.23,0.22,0.23,0.23,0.22,0.22,0.22,0.21000000000000002,0.22,0.22,0.21000000000000002,0.22,0.21000000000000002,0.21,0.21000000000000002,0.21,0.21,0.21,0.19999999999999998,0.2,0.21,0.2,0.19999999999999998,0.2,0.19999999999999998,0.2,0.19999999999999998,0.2,0.21,0.19999999999999998,0.19999999999999998,0.2,0.2,0.19999999999999998,0.19,0.18000000000000002,0.19,0.19,0.18,0.19,0.18,0.19999999999999998,0.19,0.19,0.18,0.18,0.18,0.18,0.18,0.18000000000000002,0.18,0.18,0.18000000000000002,0.17,0.18,0.17,0.16999999999999998,0.16,0.18,0.17,0.17,0.16,0.16999999999999998,0.17,0.16000000000000003,0.17,0.16999999999999998,0.16999999999999998,0.17,0.16,0.15000000000000002,0.16,0.16000000000000003,0.16000000000000003,0.17,0.16,0.16,0.15000000000000002,0.15000000000000002,0.16,0.16,0.16,0.15000000000000002,0.15000000000000002,0.15,0.15,0.15,0.15,0.15000000000000002,0.15000000000000002,0.15,0.13999999999999999,0.15,0.16,0.15,0.14,0.14,0.14,0.14,0.14,0.14,0.13999999999999999,0.13999999999999999,0.14,0.14,0.15,0.14,0.14,0.14,0.14,0.14,0.13999999999999999,0.14,0.13,0.13,0.13,0.14,0.14,0.13,0.13,0.13,0.13,0.13,0.12000000000000001,0.13,0.13,0.13,0.13,0.13,0.12999999999999998,0.13,0.12000000000000001,0.13,0.13,0.12,0.12,0.12,0.13,0.12,0.12,0.12,0.12000000000000001,0.11,0.12,0.12,0.12000000000000001,0.11,0.12,0.12,0.12,0.12,0.12,0.12,0.11,0.12,0.12,0.12,0.11000000000000001,0.12,0.12000000000000001,0.11,0.11,0.11,0.11,0.11,0.11,0.12000000000000001,0.11,0.12000000000000001,0.11,0.12000000000000001,0.11,0.11,0.11,0.10999999999999999,0.11,0.09999999999999999,0.11,0.11,0.11,0.09999999999999999,0.09999999999999999,0.11000000000000001,0.11,0.1,0.1,0.11,0.1,0.09999999999999999,0.11,0.1,0.1,0.1,0.09999999999999999,0.09,0.1,0.09999999999999999,0.09,0.1,0.09999999999999999,0.1,0.1,0.1,0.09999999999999999,0.1,0.09999999999999999,0.1,0.09999999999999999,0.09,0.09,0.1,0.09000000000000001,0.08,0.09,0.1,0.09,0.1,0.09,0.09000000000000001,0.09,0.09,0.09,0.09999999999999999,0.09,0.09,0.09,0.08,0.09,0.09,0.08,0.09999999999999999,0.09,0.09,0.09,0.09,0.09,0.08,0.08,0.09,0.08,0.08,0.08,0.08,0.08,0.08,0.08,0.08,0.06999999999999999,0.08,0.09,0.09000000000000001,0.07,0.08,0.07999999999999999,0.07999999999999999,0.08,0.08,0.08,0.08,0.06999999999999999,0.06999999999999999,0.08,0.08,0.08,0.09,0.07,0.08,0.08,0.08,0.08,0.08,0.08,0.08,0.08,0.07,0.07,0.07,0.08,0.08,0.07,0.06999999999999999,0.07,0.07,0.06999999999999999,0.08,0.07,0.06999999999999999,0.06999999999999999,0.06999999999999999,0.07999999999999999,0.06999999999999999,0.08,0.07,0.07,0.07,0.060000000000000005,0.06999999999999999,0.07,0.07,0.06999999999999999,0.060000000000000005,0.07,0.07,0.07,0.06,0.07,0.07,0.07,0.06999999999999999,0.06,0.06999999999999999,0.06,0.06,0.06999999999999999,0.06999999999999999,0.06,0.060000000000000005,0.060000000000000005,0.06,0.06999999999999999,0.06,0.06,0.060000000000000005,0.06,0.06,0.060000000000000005,0.060000000000000005,0.060000000000000005,0.06999999999999999,0.06,0.06,0.06,0.05,0.06,0.060000000000000005,0.07,0.06,0.060000000000000005,0.06,0.060000000000000005,0.06,0.06,0.060000000000000005,0.05,0.06,0.06999999999999999,0.060000000000000005,0.06,0.06,0.060000000000000005,0.05,0.060000000000000005,0.060000000000000005,0.060000000000000005,0.060000000000000005,0.060000000000000005,0.06,0.060000000000000005,0.05,0.060000000000000005,0.05,0.05,0.05,0.060000000000000005,0.060000000000000005,0.05,0.05,0.05,0.05,0.05,0.05,0.060000000000000005,0.05,0.05,0.05,0.05,0.05,0.060000000000000005,0.05,0.05,0.060000000000000005,0.05,0.05,0.05,0.05,0.05,0.04,0.060000000000000005,0.05,0.04,0.05,0.05,0.05,0.05,0.05,0.05,0.04,0.05,0.04,0.04,0.05,0.05,0.05,0.05,0.04,0.05,0.05,0.04,0.04,0.05,0.04,0.04,0.04,0.04,0.04,0.04,0.04,0.04,0.04,0.04,0.04,0.04,0.04,0.03,0.03,0.03,0.05,0.04,0.04,0.04,0.04,0.04,0.04,0.04,0.04,0.04,0.04,0.05,0.04,0.03,0.04,0.04,0.04,0.04,0.04,0.04,0.04,0.03,0.04,0.04,0.04,0.04,0.04,0.03,0.04,0.03,0.04,0.04,0.04,0.03,0.03,0.03,0.03,0.03,0.03,0.04,0.03,0.03,0.03,0.03,0.03,0.03,0.03,0.03,0.04,0.03,0.03,0.03,0.03,0.03,0.03,0.03,0.03,0.03,0.03,0.03,0.03,0.03,0.03,0.03,0.04,0.03,0.02,0.03,0.03,0.03,0.03,0.03,0.02,0.03,0.03,0.03,0.03,0.03,0.03,0.03,0.03,0.02,0.03,0.02,0.03,0.02,0.02,0.03,0.03,0.03,0.02,0.03,0.03,0.03,0.02,0.02,0.02,0.03,0.02,0.03,0.03,0.02,0.02,0.02,0.02,0.02,0.02,0.03,0.02,0.02,0.03,0.02,0.02,0.02,0.02,0.02,0.02,0.02,0.02,0.02,0.02,0.02,0.02,0.02,0.02,0.02,0.02,0.02,0.02,0.02,0.02,0.02,0.02,0.02,0.02,0.02,0.02,0.02,0.02,0.02,0.02,0.02,0.02,0.02,0.02,0.02,0.02,0.02,0.01,0.02,0.02,0.02,0.02,0.02,0.02,0.02,0.02,0.02,0.02,0.02,0.02,0.02,0.02,0.02,0.02,0.02,0.02,0.01,0.02,0.01,0.02,0.01,0.02,0.02,0.02,0.02,0.01,0.02,0.01,0.01,0.02,0.01,0.02,0.02,0.02,0.02,0.01,0.01,0.01,0.01,0.01,0.01,0.02,0.01,0.01,0.01,0.01,0.01,0.01,0.01,0.01,0.01,0.01,0.01,0.01,0.01,0.01,0.01,0.01,0.01,0.01,0.01,0.01,0.01,0.01,0.01,0.01,0.01,0.01,0.01,0.01,0.01,0.01,0.01,0.01,0.01,0.01,0.01,0.01,0.01,0.01,0.01,0.01,0.01,0.01,0.01,0.01,0.01,0.01,0.01,0.01,0.01,0.01,0.01,0.01,0.01,0.01,0.01,0.01,0.01,0.01,0.01,0.01,0.01,0.01,0.01,0.01,0.01],\"y0\":\" \",\"yaxis\":\"y\",\"type\":\"box\"}],                        {\"template\":{\"data\":{\"histogram2dcontour\":[{\"type\":\"histogram2dcontour\",\"colorbar\":{\"outlinewidth\":0,\"ticks\":\"\"},\"colorscale\":[[0.0,\"#0d0887\"],[0.1111111111111111,\"#46039f\"],[0.2222222222222222,\"#7201a8\"],[0.3333333333333333,\"#9c179e\"],[0.4444444444444444,\"#bd3786\"],[0.5555555555555556,\"#d8576b\"],[0.6666666666666666,\"#ed7953\"],[0.7777777777777778,\"#fb9f3a\"],[0.8888888888888888,\"#fdca26\"],[1.0,\"#f0f921\"]]}],\"choropleth\":[{\"type\":\"choropleth\",\"colorbar\":{\"outlinewidth\":0,\"ticks\":\"\"}}],\"histogram2d\":[{\"type\":\"histogram2d\",\"colorbar\":{\"outlinewidth\":0,\"ticks\":\"\"},\"colorscale\":[[0.0,\"#0d0887\"],[0.1111111111111111,\"#46039f\"],[0.2222222222222222,\"#7201a8\"],[0.3333333333333333,\"#9c179e\"],[0.4444444444444444,\"#bd3786\"],[0.5555555555555556,\"#d8576b\"],[0.6666666666666666,\"#ed7953\"],[0.7777777777777778,\"#fb9f3a\"],[0.8888888888888888,\"#fdca26\"],[1.0,\"#f0f921\"]]}],\"heatmap\":[{\"type\":\"heatmap\",\"colorbar\":{\"outlinewidth\":0,\"ticks\":\"\"},\"colorscale\":[[0.0,\"#0d0887\"],[0.1111111111111111,\"#46039f\"],[0.2222222222222222,\"#7201a8\"],[0.3333333333333333,\"#9c179e\"],[0.4444444444444444,\"#bd3786\"],[0.5555555555555556,\"#d8576b\"],[0.6666666666666666,\"#ed7953\"],[0.7777777777777778,\"#fb9f3a\"],[0.8888888888888888,\"#fdca26\"],[1.0,\"#f0f921\"]]}],\"heatmapgl\":[{\"type\":\"heatmapgl\",\"colorbar\":{\"outlinewidth\":0,\"ticks\":\"\"},\"colorscale\":[[0.0,\"#0d0887\"],[0.1111111111111111,\"#46039f\"],[0.2222222222222222,\"#7201a8\"],[0.3333333333333333,\"#9c179e\"],[0.4444444444444444,\"#bd3786\"],[0.5555555555555556,\"#d8576b\"],[0.6666666666666666,\"#ed7953\"],[0.7777777777777778,\"#fb9f3a\"],[0.8888888888888888,\"#fdca26\"],[1.0,\"#f0f921\"]]}],\"contourcarpet\":[{\"type\":\"contourcarpet\",\"colorbar\":{\"outlinewidth\":0,\"ticks\":\"\"}}],\"contour\":[{\"type\":\"contour\",\"colorbar\":{\"outlinewidth\":0,\"ticks\":\"\"},\"colorscale\":[[0.0,\"#0d0887\"],[0.1111111111111111,\"#46039f\"],[0.2222222222222222,\"#7201a8\"],[0.3333333333333333,\"#9c179e\"],[0.4444444444444444,\"#bd3786\"],[0.5555555555555556,\"#d8576b\"],[0.6666666666666666,\"#ed7953\"],[0.7777777777777778,\"#fb9f3a\"],[0.8888888888888888,\"#fdca26\"],[1.0,\"#f0f921\"]]}],\"surface\":[{\"type\":\"surface\",\"colorbar\":{\"outlinewidth\":0,\"ticks\":\"\"},\"colorscale\":[[0.0,\"#0d0887\"],[0.1111111111111111,\"#46039f\"],[0.2222222222222222,\"#7201a8\"],[0.3333333333333333,\"#9c179e\"],[0.4444444444444444,\"#bd3786\"],[0.5555555555555556,\"#d8576b\"],[0.6666666666666666,\"#ed7953\"],[0.7777777777777778,\"#fb9f3a\"],[0.8888888888888888,\"#fdca26\"],[1.0,\"#f0f921\"]]}],\"mesh3d\":[{\"type\":\"mesh3d\",\"colorbar\":{\"outlinewidth\":0,\"ticks\":\"\"}}],\"scatter\":[{\"fillpattern\":{\"fillmode\":\"overlay\",\"size\":10,\"solidity\":0.2},\"type\":\"scatter\"}],\"parcoords\":[{\"type\":\"parcoords\",\"line\":{\"colorbar\":{\"outlinewidth\":0,\"ticks\":\"\"}}}],\"scatterpolargl\":[{\"type\":\"scatterpolargl\",\"marker\":{\"colorbar\":{\"outlinewidth\":0,\"ticks\":\"\"}}}],\"bar\":[{\"error_x\":{\"color\":\"#2a3f5f\"},\"error_y\":{\"color\":\"#2a3f5f\"},\"marker\":{\"line\":{\"color\":\"#E5ECF6\",\"width\":0.5},\"pattern\":{\"fillmode\":\"overlay\",\"size\":10,\"solidity\":0.2}},\"type\":\"bar\"}],\"scattergeo\":[{\"type\":\"scattergeo\",\"marker\":{\"colorbar\":{\"outlinewidth\":0,\"ticks\":\"\"}}}],\"scatterpolar\":[{\"type\":\"scatterpolar\",\"marker\":{\"colorbar\":{\"outlinewidth\":0,\"ticks\":\"\"}}}],\"histogram\":[{\"marker\":{\"pattern\":{\"fillmode\":\"overlay\",\"size\":10,\"solidity\":0.2}},\"type\":\"histogram\"}],\"scattergl\":[{\"type\":\"scattergl\",\"marker\":{\"colorbar\":{\"outlinewidth\":0,\"ticks\":\"\"}}}],\"scatter3d\":[{\"type\":\"scatter3d\",\"line\":{\"colorbar\":{\"outlinewidth\":0,\"ticks\":\"\"}},\"marker\":{\"colorbar\":{\"outlinewidth\":0,\"ticks\":\"\"}}}],\"scattermapbox\":[{\"type\":\"scattermapbox\",\"marker\":{\"colorbar\":{\"outlinewidth\":0,\"ticks\":\"\"}}}],\"scatterternary\":[{\"type\":\"scatterternary\",\"marker\":{\"colorbar\":{\"outlinewidth\":0,\"ticks\":\"\"}}}],\"scattercarpet\":[{\"type\":\"scattercarpet\",\"marker\":{\"colorbar\":{\"outlinewidth\":0,\"ticks\":\"\"}}}],\"carpet\":[{\"aaxis\":{\"endlinecolor\":\"#2a3f5f\",\"gridcolor\":\"white\",\"linecolor\":\"white\",\"minorgridcolor\":\"white\",\"startlinecolor\":\"#2a3f5f\"},\"baxis\":{\"endlinecolor\":\"#2a3f5f\",\"gridcolor\":\"white\",\"linecolor\":\"white\",\"minorgridcolor\":\"white\",\"startlinecolor\":\"#2a3f5f\"},\"type\":\"carpet\"}],\"table\":[{\"cells\":{\"fill\":{\"color\":\"#EBF0F8\"},\"line\":{\"color\":\"white\"}},\"header\":{\"fill\":{\"color\":\"#C8D4E3\"},\"line\":{\"color\":\"white\"}},\"type\":\"table\"}],\"barpolar\":[{\"marker\":{\"line\":{\"color\":\"#E5ECF6\",\"width\":0.5},\"pattern\":{\"fillmode\":\"overlay\",\"size\":10,\"solidity\":0.2}},\"type\":\"barpolar\"}],\"pie\":[{\"automargin\":true,\"type\":\"pie\"}]},\"layout\":{\"autotypenumbers\":\"strict\",\"colorway\":[\"#636efa\",\"#EF553B\",\"#00cc96\",\"#ab63fa\",\"#FFA15A\",\"#19d3f3\",\"#FF6692\",\"#B6E880\",\"#FF97FF\",\"#FECB52\"],\"font\":{\"color\":\"#2a3f5f\"},\"hovermode\":\"closest\",\"hoverlabel\":{\"align\":\"left\"},\"paper_bgcolor\":\"white\",\"plot_bgcolor\":\"#E5ECF6\",\"polar\":{\"bgcolor\":\"#E5ECF6\",\"angularaxis\":{\"gridcolor\":\"white\",\"linecolor\":\"white\",\"ticks\":\"\"},\"radialaxis\":{\"gridcolor\":\"white\",\"linecolor\":\"white\",\"ticks\":\"\"}},\"ternary\":{\"bgcolor\":\"#E5ECF6\",\"aaxis\":{\"gridcolor\":\"white\",\"linecolor\":\"white\",\"ticks\":\"\"},\"baxis\":{\"gridcolor\":\"white\",\"linecolor\":\"white\",\"ticks\":\"\"},\"caxis\":{\"gridcolor\":\"white\",\"linecolor\":\"white\",\"ticks\":\"\"}},\"coloraxis\":{\"colorbar\":{\"outlinewidth\":0,\"ticks\":\"\"}},\"colorscale\":{\"sequential\":[[0.0,\"#0d0887\"],[0.1111111111111111,\"#46039f\"],[0.2222222222222222,\"#7201a8\"],[0.3333333333333333,\"#9c179e\"],[0.4444444444444444,\"#bd3786\"],[0.5555555555555556,\"#d8576b\"],[0.6666666666666666,\"#ed7953\"],[0.7777777777777778,\"#fb9f3a\"],[0.8888888888888888,\"#fdca26\"],[1.0,\"#f0f921\"]],\"sequentialminus\":[[0.0,\"#0d0887\"],[0.1111111111111111,\"#46039f\"],[0.2222222222222222,\"#7201a8\"],[0.3333333333333333,\"#9c179e\"],[0.4444444444444444,\"#bd3786\"],[0.5555555555555556,\"#d8576b\"],[0.6666666666666666,\"#ed7953\"],[0.7777777777777778,\"#fb9f3a\"],[0.8888888888888888,\"#fdca26\"],[1.0,\"#f0f921\"]],\"diverging\":[[0,\"#8e0152\"],[0.1,\"#c51b7d\"],[0.2,\"#de77ae\"],[0.3,\"#f1b6da\"],[0.4,\"#fde0ef\"],[0.5,\"#f7f7f7\"],[0.6,\"#e6f5d0\"],[0.7,\"#b8e186\"],[0.8,\"#7fbc41\"],[0.9,\"#4d9221\"],[1,\"#276419\"]]},\"xaxis\":{\"gridcolor\":\"white\",\"linecolor\":\"white\",\"ticks\":\"\",\"title\":{\"standoff\":15},\"zerolinecolor\":\"white\",\"automargin\":true,\"zerolinewidth\":2},\"yaxis\":{\"gridcolor\":\"white\",\"linecolor\":\"white\",\"ticks\":\"\",\"title\":{\"standoff\":15},\"zerolinecolor\":\"white\",\"automargin\":true,\"zerolinewidth\":2},\"scene\":{\"xaxis\":{\"backgroundcolor\":\"#E5ECF6\",\"gridcolor\":\"white\",\"linecolor\":\"white\",\"showbackground\":true,\"ticks\":\"\",\"zerolinecolor\":\"white\",\"gridwidth\":2},\"yaxis\":{\"backgroundcolor\":\"#E5ECF6\",\"gridcolor\":\"white\",\"linecolor\":\"white\",\"showbackground\":true,\"ticks\":\"\",\"zerolinecolor\":\"white\",\"gridwidth\":2},\"zaxis\":{\"backgroundcolor\":\"#E5ECF6\",\"gridcolor\":\"white\",\"linecolor\":\"white\",\"showbackground\":true,\"ticks\":\"\",\"zerolinecolor\":\"white\",\"gridwidth\":2}},\"shapedefaults\":{\"line\":{\"color\":\"#2a3f5f\"}},\"annotationdefaults\":{\"arrowcolor\":\"#2a3f5f\",\"arrowhead\":0,\"arrowwidth\":1},\"geo\":{\"bgcolor\":\"white\",\"landcolor\":\"#E5ECF6\",\"subunitcolor\":\"white\",\"showland\":true,\"showlakes\":true,\"lakecolor\":\"white\"},\"title\":{\"x\":0.05},\"mapbox\":{\"style\":\"light\"}}},\"xaxis\":{\"anchor\":\"y\",\"domain\":[0.0,1.0],\"title\":{\"text\":\"genre\"}},\"yaxis\":{\"anchor\":\"x\",\"domain\":[0.0,1.0],\"title\":{\"text\":\"total_sales\"},\"range\":[0,3]},\"legend\":{\"tracegroupgap\":0},\"margin\":{\"t\":60},\"boxmode\":\"group\",\"title\":{\"text\":\"\\u041f\\u0440\\u043e\\u0434\\u0430\\u0436\\u0438 \\u0438\\u0433\\u0440 \\u043f\\u043e \\u0436\\u0430\\u043d\\u0440\\u0430\\u043c\"}},                        {\"responsive\": true}                    ).then(function(){\n",
              "                            \n",
              "var gd = document.getElementById('456d1415-32e5-46d3-ac0a-01abb9fcf87e');\n",
              "var x = new MutationObserver(function (mutations, observer) {{\n",
              "        var display = window.getComputedStyle(gd).display;\n",
              "        if (!display || display === 'none') {{\n",
              "            console.log([gd, 'removed!']);\n",
              "            Plotly.purge(gd);\n",
              "            observer.disconnect();\n",
              "        }}\n",
              "}});\n",
              "\n",
              "// Listen for the removal of the full notebook cells\n",
              "var notebookContainer = gd.closest('#notebook-container');\n",
              "if (notebookContainer) {{\n",
              "    x.observe(notebookContainer, {childList: true});\n",
              "}}\n",
              "\n",
              "// Listen for the clearing of the current output cell\n",
              "var outputEl = gd.closest('.output');\n",
              "if (outputEl) {{\n",
              "    x.observe(outputEl, {childList: true});\n",
              "}}\n",
              "\n",
              "                        })                };                            </script>        </div>\n",
              "</body>\n",
              "</html>"
            ]
          },
          "metadata": {}
        }
      ]
    },
    {
      "cell_type": "markdown",
      "source": [
        "В последние годы с большим отрывом лидирует жанр Shooter. Второе и третье место по популярности разделили жанры Sports и Role-Playing"
      ],
      "metadata": {
        "id": "X_XgdZhkHaJ1"
      }
    },
    {
      "cell_type": "markdown",
      "source": [
        "### Шаг 4. Составьте портрет пользователя каждого региона\n",
        "Определите для пользователя каждого региона (NA, EU, JP):\n",
        "Самые популярные платформы (топ-5). Опишите различия в долях продаж.\n",
        "Самые популярные жанры (топ-5). Поясните разницу.\n",
        "Влияет ли рейтинг ESRB на продажи в отдельном регионе?"
      ],
      "metadata": {
        "id": "he8dumHzH2wt"
      }
    },
    {
      "cell_type": "code",
      "source": [
        "def top_5(data, col):\n",
        "  df1 = data.groupby(col).agg({'na_sales':['sum','mean'], 'eu_sales':['sum', 'mean'], 'jp_sales':['sum', 'mean']}).reset_index()\n",
        "  df1.columns = [col, 'sum_na_sales', 'mean_na_sales', 'sum_eu_sales', 'mean_eu_sales', 'sum_jp_sales', 'mean_jp_sales']\n",
        "  na_sales_sum = list(df1.sort_values(by = 'sum_na_sales', ascending = False).head(5)[col])\n",
        "  eu_sales_sum = list(df1.sort_values(by = 'sum_eu_sales', ascending = False).head(5)[col])\n",
        "  jp_sales_sum = list(df1.sort_values(by = 'sum_eu_sales', ascending = False).head(5)[col])\n",
        "  na_sales_mean = list(df1.sort_values(by = 'mean_na_sales', ascending = False).head(5)[col])\n",
        "  eu_sales_mean = list(df1.sort_values(by = 'mean_eu_sales', ascending = False).head(5)[col])\n",
        "  jp_sales_mean = list(df1.sort_values(by = 'mean_eu_sales', ascending = False).head(5)[col])\n",
        "  list1 = list(set(na_sales_sum + eu_sales_sum + jp_sales_sum))\n",
        "  list2 = list(set(na_sales_mean+ eu_sales_mean + jp_sales_mean))\n",
        "  df_sum = df1[df1[col].isin(list1)]\n",
        "  df_mean = df1[df1[col].isin(list2)]\n",
        "  return df_sum, df_mean"
      ],
      "metadata": {
        "id": "aAYdHACrWdJR"
      },
      "execution_count": 35,
      "outputs": []
    },
    {
      "cell_type": "markdown",
      "source": [
        "Мы написали функцию, которая сначала подсчитывает суммарные и средние продажи в каждом из регионов. Мы можем группировать данные как по платформам, так и по жанрам. В результате мы формируем табличку df_sum, в которой отобраны только топовые по сумме продаж платформы в каждом из регионов. Аналогично мы можем формировать табличку с топовыми и средними показателями продаж для каждого региона по жанрам."
      ],
      "metadata": {
        "id": "lhsyrdg6H9e4"
      }
    },
    {
      "cell_type": "code",
      "source": [
        "df_sum, df_mean = top_5(data, 'platform')\n",
        "df_sum.sample()\n"
      ],
      "metadata": {
        "colab": {
          "base_uri": "https://localhost:8080/",
          "height": 81
        },
        "id": "Os2flSfYXInT",
        "outputId": "eb51cec0-0334-41d9-bf32-57c598f43388"
      },
      "execution_count": 36,
      "outputs": [
        {
          "output_type": "execute_result",
          "data": {
            "text/plain": [
              "  platform  sum_na_sales  mean_na_sales  sum_eu_sales  mean_eu_sales  \\\n",
              "3     X360          28.3       0.254955         15.49        0.13955   \n",
              "\n",
              "   sum_jp_sales  mean_jp_sales  \n",
              "3          0.08       0.000721  "
            ],
            "text/html": [
              "\n",
              "  <div id=\"df-36640614-1675-4989-88bb-4ca35cba1df7\" class=\"colab-df-container\">\n",
              "    <div>\n",
              "<style scoped>\n",
              "    .dataframe tbody tr th:only-of-type {\n",
              "        vertical-align: middle;\n",
              "    }\n",
              "\n",
              "    .dataframe tbody tr th {\n",
              "        vertical-align: top;\n",
              "    }\n",
              "\n",
              "    .dataframe thead th {\n",
              "        text-align: right;\n",
              "    }\n",
              "</style>\n",
              "<table border=\"1\" class=\"dataframe\">\n",
              "  <thead>\n",
              "    <tr style=\"text-align: right;\">\n",
              "      <th></th>\n",
              "      <th>platform</th>\n",
              "      <th>sum_na_sales</th>\n",
              "      <th>mean_na_sales</th>\n",
              "      <th>sum_eu_sales</th>\n",
              "      <th>mean_eu_sales</th>\n",
              "      <th>sum_jp_sales</th>\n",
              "      <th>mean_jp_sales</th>\n",
              "    </tr>\n",
              "  </thead>\n",
              "  <tbody>\n",
              "    <tr>\n",
              "      <th>3</th>\n",
              "      <td>X360</td>\n",
              "      <td>28.3</td>\n",
              "      <td>0.254955</td>\n",
              "      <td>15.49</td>\n",
              "      <td>0.13955</td>\n",
              "      <td>0.08</td>\n",
              "      <td>0.000721</td>\n",
              "    </tr>\n",
              "  </tbody>\n",
              "</table>\n",
              "</div>\n",
              "    <div class=\"colab-df-buttons\">\n",
              "\n",
              "  <div class=\"colab-df-container\">\n",
              "    <button class=\"colab-df-convert\" onclick=\"convertToInteractive('df-36640614-1675-4989-88bb-4ca35cba1df7')\"\n",
              "            title=\"Convert this dataframe to an interactive table.\"\n",
              "            style=\"display:none;\">\n",
              "\n",
              "  <svg xmlns=\"http://www.w3.org/2000/svg\" height=\"24px\" viewBox=\"0 -960 960 960\">\n",
              "    <path d=\"M120-120v-720h720v720H120Zm60-500h600v-160H180v160Zm220 220h160v-160H400v160Zm0 220h160v-160H400v160ZM180-400h160v-160H180v160Zm440 0h160v-160H620v160ZM180-180h160v-160H180v160Zm440 0h160v-160H620v160Z\"/>\n",
              "  </svg>\n",
              "    </button>\n",
              "\n",
              "  <style>\n",
              "    .colab-df-container {\n",
              "      display:flex;\n",
              "      gap: 12px;\n",
              "    }\n",
              "\n",
              "    .colab-df-convert {\n",
              "      background-color: #E8F0FE;\n",
              "      border: none;\n",
              "      border-radius: 50%;\n",
              "      cursor: pointer;\n",
              "      display: none;\n",
              "      fill: #1967D2;\n",
              "      height: 32px;\n",
              "      padding: 0 0 0 0;\n",
              "      width: 32px;\n",
              "    }\n",
              "\n",
              "    .colab-df-convert:hover {\n",
              "      background-color: #E2EBFA;\n",
              "      box-shadow: 0px 1px 2px rgba(60, 64, 67, 0.3), 0px 1px 3px 1px rgba(60, 64, 67, 0.15);\n",
              "      fill: #174EA6;\n",
              "    }\n",
              "\n",
              "    .colab-df-buttons div {\n",
              "      margin-bottom: 4px;\n",
              "    }\n",
              "\n",
              "    [theme=dark] .colab-df-convert {\n",
              "      background-color: #3B4455;\n",
              "      fill: #D2E3FC;\n",
              "    }\n",
              "\n",
              "    [theme=dark] .colab-df-convert:hover {\n",
              "      background-color: #434B5C;\n",
              "      box-shadow: 0px 1px 3px 1px rgba(0, 0, 0, 0.15);\n",
              "      filter: drop-shadow(0px 1px 2px rgba(0, 0, 0, 0.3));\n",
              "      fill: #FFFFFF;\n",
              "    }\n",
              "  </style>\n",
              "\n",
              "    <script>\n",
              "      const buttonEl =\n",
              "        document.querySelector('#df-36640614-1675-4989-88bb-4ca35cba1df7 button.colab-df-convert');\n",
              "      buttonEl.style.display =\n",
              "        google.colab.kernel.accessAllowed ? 'block' : 'none';\n",
              "\n",
              "      async function convertToInteractive(key) {\n",
              "        const element = document.querySelector('#df-36640614-1675-4989-88bb-4ca35cba1df7');\n",
              "        const dataTable =\n",
              "          await google.colab.kernel.invokeFunction('convertToInteractive',\n",
              "                                                    [key], {});\n",
              "        if (!dataTable) return;\n",
              "\n",
              "        const docLinkHtml = 'Like what you see? Visit the ' +\n",
              "          '<a target=\"_blank\" href=https://colab.research.google.com/notebooks/data_table.ipynb>data table notebook</a>'\n",
              "          + ' to learn more about interactive tables.';\n",
              "        element.innerHTML = '';\n",
              "        dataTable['output_type'] = 'display_data';\n",
              "        await google.colab.output.renderOutput(dataTable, element);\n",
              "        const docLink = document.createElement('div');\n",
              "        docLink.innerHTML = docLinkHtml;\n",
              "        element.appendChild(docLink);\n",
              "      }\n",
              "    </script>\n",
              "  </div>\n",
              "\n",
              "    </div>\n",
              "  </div>\n"
            ]
          },
          "metadata": {},
          "execution_count": 36
        }
      ]
    },
    {
      "cell_type": "code",
      "source": [
        "df_mean.sample()"
      ],
      "metadata": {
        "colab": {
          "base_uri": "https://localhost:8080/",
          "height": 81
        },
        "id": "j0BgiGyCFiPR",
        "outputId": "5dc87c7e-1fd4-415b-da20-69d793facb96"
      },
      "execution_count": 37,
      "outputs": [
        {
          "output_type": "execute_result",
          "data": {
            "text/plain": [
              "  platform  sum_na_sales  mean_na_sales  sum_eu_sales  mean_eu_sales  \\\n",
              "2      PS4         98.61       0.262261        130.04       0.345851   \n",
              "\n",
              "   sum_jp_sales  mean_jp_sales  \n",
              "2         15.02       0.039947  "
            ],
            "text/html": [
              "\n",
              "  <div id=\"df-4026f46c-ff9f-4470-9405-7317698bd2e5\" class=\"colab-df-container\">\n",
              "    <div>\n",
              "<style scoped>\n",
              "    .dataframe tbody tr th:only-of-type {\n",
              "        vertical-align: middle;\n",
              "    }\n",
              "\n",
              "    .dataframe tbody tr th {\n",
              "        vertical-align: top;\n",
              "    }\n",
              "\n",
              "    .dataframe thead th {\n",
              "        text-align: right;\n",
              "    }\n",
              "</style>\n",
              "<table border=\"1\" class=\"dataframe\">\n",
              "  <thead>\n",
              "    <tr style=\"text-align: right;\">\n",
              "      <th></th>\n",
              "      <th>platform</th>\n",
              "      <th>sum_na_sales</th>\n",
              "      <th>mean_na_sales</th>\n",
              "      <th>sum_eu_sales</th>\n",
              "      <th>mean_eu_sales</th>\n",
              "      <th>sum_jp_sales</th>\n",
              "      <th>mean_jp_sales</th>\n",
              "    </tr>\n",
              "  </thead>\n",
              "  <tbody>\n",
              "    <tr>\n",
              "      <th>2</th>\n",
              "      <td>PS4</td>\n",
              "      <td>98.61</td>\n",
              "      <td>0.262261</td>\n",
              "      <td>130.04</td>\n",
              "      <td>0.345851</td>\n",
              "      <td>15.02</td>\n",
              "      <td>0.039947</td>\n",
              "    </tr>\n",
              "  </tbody>\n",
              "</table>\n",
              "</div>\n",
              "    <div class=\"colab-df-buttons\">\n",
              "\n",
              "  <div class=\"colab-df-container\">\n",
              "    <button class=\"colab-df-convert\" onclick=\"convertToInteractive('df-4026f46c-ff9f-4470-9405-7317698bd2e5')\"\n",
              "            title=\"Convert this dataframe to an interactive table.\"\n",
              "            style=\"display:none;\">\n",
              "\n",
              "  <svg xmlns=\"http://www.w3.org/2000/svg\" height=\"24px\" viewBox=\"0 -960 960 960\">\n",
              "    <path d=\"M120-120v-720h720v720H120Zm60-500h600v-160H180v160Zm220 220h160v-160H400v160Zm0 220h160v-160H400v160ZM180-400h160v-160H180v160Zm440 0h160v-160H620v160ZM180-180h160v-160H180v160Zm440 0h160v-160H620v160Z\"/>\n",
              "  </svg>\n",
              "    </button>\n",
              "\n",
              "  <style>\n",
              "    .colab-df-container {\n",
              "      display:flex;\n",
              "      gap: 12px;\n",
              "    }\n",
              "\n",
              "    .colab-df-convert {\n",
              "      background-color: #E8F0FE;\n",
              "      border: none;\n",
              "      border-radius: 50%;\n",
              "      cursor: pointer;\n",
              "      display: none;\n",
              "      fill: #1967D2;\n",
              "      height: 32px;\n",
              "      padding: 0 0 0 0;\n",
              "      width: 32px;\n",
              "    }\n",
              "\n",
              "    .colab-df-convert:hover {\n",
              "      background-color: #E2EBFA;\n",
              "      box-shadow: 0px 1px 2px rgba(60, 64, 67, 0.3), 0px 1px 3px 1px rgba(60, 64, 67, 0.15);\n",
              "      fill: #174EA6;\n",
              "    }\n",
              "\n",
              "    .colab-df-buttons div {\n",
              "      margin-bottom: 4px;\n",
              "    }\n",
              "\n",
              "    [theme=dark] .colab-df-convert {\n",
              "      background-color: #3B4455;\n",
              "      fill: #D2E3FC;\n",
              "    }\n",
              "\n",
              "    [theme=dark] .colab-df-convert:hover {\n",
              "      background-color: #434B5C;\n",
              "      box-shadow: 0px 1px 3px 1px rgba(0, 0, 0, 0.15);\n",
              "      filter: drop-shadow(0px 1px 2px rgba(0, 0, 0, 0.3));\n",
              "      fill: #FFFFFF;\n",
              "    }\n",
              "  </style>\n",
              "\n",
              "    <script>\n",
              "      const buttonEl =\n",
              "        document.querySelector('#df-4026f46c-ff9f-4470-9405-7317698bd2e5 button.colab-df-convert');\n",
              "      buttonEl.style.display =\n",
              "        google.colab.kernel.accessAllowed ? 'block' : 'none';\n",
              "\n",
              "      async function convertToInteractive(key) {\n",
              "        const element = document.querySelector('#df-4026f46c-ff9f-4470-9405-7317698bd2e5');\n",
              "        const dataTable =\n",
              "          await google.colab.kernel.invokeFunction('convertToInteractive',\n",
              "                                                    [key], {});\n",
              "        if (!dataTable) return;\n",
              "\n",
              "        const docLinkHtml = 'Like what you see? Visit the ' +\n",
              "          '<a target=\"_blank\" href=https://colab.research.google.com/notebooks/data_table.ipynb>data table notebook</a>'\n",
              "          + ' to learn more about interactive tables.';\n",
              "        element.innerHTML = '';\n",
              "        dataTable['output_type'] = 'display_data';\n",
              "        await google.colab.output.renderOutput(dataTable, element);\n",
              "        const docLink = document.createElement('div');\n",
              "        docLink.innerHTML = docLinkHtml;\n",
              "        element.appendChild(docLink);\n",
              "      }\n",
              "    </script>\n",
              "  </div>\n",
              "\n",
              "    </div>\n",
              "  </div>\n"
            ]
          },
          "metadata": {},
          "execution_count": 37
        }
      ]
    },
    {
      "cell_type": "code",
      "source": [
        "def bar_cat(df, col, name, col1, col2, col3):\n",
        "  fig = go.Figure()\n",
        "  fig.add_trace(go.Bar(x = df[col], y = df[col1], name= col1))\n",
        "  fig.add_trace(go.Bar(x = df[col], y = df[col2], name = col2))\n",
        "  fig.add_trace(go.Bar(x = df[col], y = df[col3], name = col3))\n",
        "  fig.update_layout(title= name, xaxis_tickangle=-45)\n",
        "  fig.show()"
      ],
      "metadata": {
        "id": "fk0DX4tTaxwO"
      },
      "execution_count": 38,
      "outputs": []
    },
    {
      "cell_type": "code",
      "source": [
        "bar_cat(df_sum, 'platform', \"Суммарные продажи в разных регионах по платформам\", 'sum_na_sales', 'sum_eu_sales', 'sum_jp_sales')"
      ],
      "metadata": {
        "colab": {
          "base_uri": "https://localhost:8080/",
          "height": 542
        },
        "id": "H8hCNsO-eHnB",
        "outputId": "9ca4655b-1151-48b3-9c8f-9933ccfb981c"
      },
      "execution_count": 39,
      "outputs": [
        {
          "output_type": "display_data",
          "data": {
            "text/html": [
              "<html>\n",
              "<head><meta charset=\"utf-8\" /></head>\n",
              "<body>\n",
              "    <div>            <script src=\"https://cdnjs.cloudflare.com/ajax/libs/mathjax/2.7.5/MathJax.js?config=TeX-AMS-MML_SVG\"></script><script type=\"text/javascript\">if (window.MathJax && window.MathJax.Hub && window.MathJax.Hub.Config) {window.MathJax.Hub.Config({SVG: {font: \"STIX-Web\"}});}</script>                <script type=\"text/javascript\">window.PlotlyConfig = {MathJaxConfig: 'local'};</script>\n",
              "        <script charset=\"utf-8\" src=\"https://cdn.plot.ly/plotly-2.24.1.min.js\"></script>                <div id=\"d5df4d52-8943-4a37-afd4-b15595c92736\" class=\"plotly-graph-div\" style=\"height:525px; width:100%;\"></div>            <script type=\"text/javascript\">                                    window.PLOTLYENV=window.PLOTLYENV || {};                                    if (document.getElementById(\"d5df4d52-8943-4a37-afd4-b15595c92736\")) {                    Plotly.newPlot(                        \"d5df4d52-8943-4a37-afd4-b15595c92736\",                        [{\"name\":\"sum_na_sales\",\"x\":[\"3DS\",\"PS3\",\"PS4\",\"X360\",\"XOne\"],\"y\":[22.64,22.05,98.61,28.3,81.27],\"type\":\"bar\"},{\"name\":\"sum_eu_sales\",\"x\":[\"3DS\",\"PS3\",\"PS4\",\"X360\",\"XOne\"],\"y\":[16.12,25.54,130.04,15.49,46.25],\"type\":\"bar\"},{\"name\":\"sum_jp_sales\",\"x\":[\"3DS\",\"PS3\",\"PS4\",\"X360\",\"XOne\"],\"y\":[44.24,11.22,15.02,0.08,0.32],\"type\":\"bar\"}],                        {\"template\":{\"data\":{\"histogram2dcontour\":[{\"type\":\"histogram2dcontour\",\"colorbar\":{\"outlinewidth\":0,\"ticks\":\"\"},\"colorscale\":[[0.0,\"#0d0887\"],[0.1111111111111111,\"#46039f\"],[0.2222222222222222,\"#7201a8\"],[0.3333333333333333,\"#9c179e\"],[0.4444444444444444,\"#bd3786\"],[0.5555555555555556,\"#d8576b\"],[0.6666666666666666,\"#ed7953\"],[0.7777777777777778,\"#fb9f3a\"],[0.8888888888888888,\"#fdca26\"],[1.0,\"#f0f921\"]]}],\"choropleth\":[{\"type\":\"choropleth\",\"colorbar\":{\"outlinewidth\":0,\"ticks\":\"\"}}],\"histogram2d\":[{\"type\":\"histogram2d\",\"colorbar\":{\"outlinewidth\":0,\"ticks\":\"\"},\"colorscale\":[[0.0,\"#0d0887\"],[0.1111111111111111,\"#46039f\"],[0.2222222222222222,\"#7201a8\"],[0.3333333333333333,\"#9c179e\"],[0.4444444444444444,\"#bd3786\"],[0.5555555555555556,\"#d8576b\"],[0.6666666666666666,\"#ed7953\"],[0.7777777777777778,\"#fb9f3a\"],[0.8888888888888888,\"#fdca26\"],[1.0,\"#f0f921\"]]}],\"heatmap\":[{\"type\":\"heatmap\",\"colorbar\":{\"outlinewidth\":0,\"ticks\":\"\"},\"colorscale\":[[0.0,\"#0d0887\"],[0.1111111111111111,\"#46039f\"],[0.2222222222222222,\"#7201a8\"],[0.3333333333333333,\"#9c179e\"],[0.4444444444444444,\"#bd3786\"],[0.5555555555555556,\"#d8576b\"],[0.6666666666666666,\"#ed7953\"],[0.7777777777777778,\"#fb9f3a\"],[0.8888888888888888,\"#fdca26\"],[1.0,\"#f0f921\"]]}],\"heatmapgl\":[{\"type\":\"heatmapgl\",\"colorbar\":{\"outlinewidth\":0,\"ticks\":\"\"},\"colorscale\":[[0.0,\"#0d0887\"],[0.1111111111111111,\"#46039f\"],[0.2222222222222222,\"#7201a8\"],[0.3333333333333333,\"#9c179e\"],[0.4444444444444444,\"#bd3786\"],[0.5555555555555556,\"#d8576b\"],[0.6666666666666666,\"#ed7953\"],[0.7777777777777778,\"#fb9f3a\"],[0.8888888888888888,\"#fdca26\"],[1.0,\"#f0f921\"]]}],\"contourcarpet\":[{\"type\":\"contourcarpet\",\"colorbar\":{\"outlinewidth\":0,\"ticks\":\"\"}}],\"contour\":[{\"type\":\"contour\",\"colorbar\":{\"outlinewidth\":0,\"ticks\":\"\"},\"colorscale\":[[0.0,\"#0d0887\"],[0.1111111111111111,\"#46039f\"],[0.2222222222222222,\"#7201a8\"],[0.3333333333333333,\"#9c179e\"],[0.4444444444444444,\"#bd3786\"],[0.5555555555555556,\"#d8576b\"],[0.6666666666666666,\"#ed7953\"],[0.7777777777777778,\"#fb9f3a\"],[0.8888888888888888,\"#fdca26\"],[1.0,\"#f0f921\"]]}],\"surface\":[{\"type\":\"surface\",\"colorbar\":{\"outlinewidth\":0,\"ticks\":\"\"},\"colorscale\":[[0.0,\"#0d0887\"],[0.1111111111111111,\"#46039f\"],[0.2222222222222222,\"#7201a8\"],[0.3333333333333333,\"#9c179e\"],[0.4444444444444444,\"#bd3786\"],[0.5555555555555556,\"#d8576b\"],[0.6666666666666666,\"#ed7953\"],[0.7777777777777778,\"#fb9f3a\"],[0.8888888888888888,\"#fdca26\"],[1.0,\"#f0f921\"]]}],\"mesh3d\":[{\"type\":\"mesh3d\",\"colorbar\":{\"outlinewidth\":0,\"ticks\":\"\"}}],\"scatter\":[{\"fillpattern\":{\"fillmode\":\"overlay\",\"size\":10,\"solidity\":0.2},\"type\":\"scatter\"}],\"parcoords\":[{\"type\":\"parcoords\",\"line\":{\"colorbar\":{\"outlinewidth\":0,\"ticks\":\"\"}}}],\"scatterpolargl\":[{\"type\":\"scatterpolargl\",\"marker\":{\"colorbar\":{\"outlinewidth\":0,\"ticks\":\"\"}}}],\"bar\":[{\"error_x\":{\"color\":\"#2a3f5f\"},\"error_y\":{\"color\":\"#2a3f5f\"},\"marker\":{\"line\":{\"color\":\"#E5ECF6\",\"width\":0.5},\"pattern\":{\"fillmode\":\"overlay\",\"size\":10,\"solidity\":0.2}},\"type\":\"bar\"}],\"scattergeo\":[{\"type\":\"scattergeo\",\"marker\":{\"colorbar\":{\"outlinewidth\":0,\"ticks\":\"\"}}}],\"scatterpolar\":[{\"type\":\"scatterpolar\",\"marker\":{\"colorbar\":{\"outlinewidth\":0,\"ticks\":\"\"}}}],\"histogram\":[{\"marker\":{\"pattern\":{\"fillmode\":\"overlay\",\"size\":10,\"solidity\":0.2}},\"type\":\"histogram\"}],\"scattergl\":[{\"type\":\"scattergl\",\"marker\":{\"colorbar\":{\"outlinewidth\":0,\"ticks\":\"\"}}}],\"scatter3d\":[{\"type\":\"scatter3d\",\"line\":{\"colorbar\":{\"outlinewidth\":0,\"ticks\":\"\"}},\"marker\":{\"colorbar\":{\"outlinewidth\":0,\"ticks\":\"\"}}}],\"scattermapbox\":[{\"type\":\"scattermapbox\",\"marker\":{\"colorbar\":{\"outlinewidth\":0,\"ticks\":\"\"}}}],\"scatterternary\":[{\"type\":\"scatterternary\",\"marker\":{\"colorbar\":{\"outlinewidth\":0,\"ticks\":\"\"}}}],\"scattercarpet\":[{\"type\":\"scattercarpet\",\"marker\":{\"colorbar\":{\"outlinewidth\":0,\"ticks\":\"\"}}}],\"carpet\":[{\"aaxis\":{\"endlinecolor\":\"#2a3f5f\",\"gridcolor\":\"white\",\"linecolor\":\"white\",\"minorgridcolor\":\"white\",\"startlinecolor\":\"#2a3f5f\"},\"baxis\":{\"endlinecolor\":\"#2a3f5f\",\"gridcolor\":\"white\",\"linecolor\":\"white\",\"minorgridcolor\":\"white\",\"startlinecolor\":\"#2a3f5f\"},\"type\":\"carpet\"}],\"table\":[{\"cells\":{\"fill\":{\"color\":\"#EBF0F8\"},\"line\":{\"color\":\"white\"}},\"header\":{\"fill\":{\"color\":\"#C8D4E3\"},\"line\":{\"color\":\"white\"}},\"type\":\"table\"}],\"barpolar\":[{\"marker\":{\"line\":{\"color\":\"#E5ECF6\",\"width\":0.5},\"pattern\":{\"fillmode\":\"overlay\",\"size\":10,\"solidity\":0.2}},\"type\":\"barpolar\"}],\"pie\":[{\"automargin\":true,\"type\":\"pie\"}]},\"layout\":{\"autotypenumbers\":\"strict\",\"colorway\":[\"#636efa\",\"#EF553B\",\"#00cc96\",\"#ab63fa\",\"#FFA15A\",\"#19d3f3\",\"#FF6692\",\"#B6E880\",\"#FF97FF\",\"#FECB52\"],\"font\":{\"color\":\"#2a3f5f\"},\"hovermode\":\"closest\",\"hoverlabel\":{\"align\":\"left\"},\"paper_bgcolor\":\"white\",\"plot_bgcolor\":\"#E5ECF6\",\"polar\":{\"bgcolor\":\"#E5ECF6\",\"angularaxis\":{\"gridcolor\":\"white\",\"linecolor\":\"white\",\"ticks\":\"\"},\"radialaxis\":{\"gridcolor\":\"white\",\"linecolor\":\"white\",\"ticks\":\"\"}},\"ternary\":{\"bgcolor\":\"#E5ECF6\",\"aaxis\":{\"gridcolor\":\"white\",\"linecolor\":\"white\",\"ticks\":\"\"},\"baxis\":{\"gridcolor\":\"white\",\"linecolor\":\"white\",\"ticks\":\"\"},\"caxis\":{\"gridcolor\":\"white\",\"linecolor\":\"white\",\"ticks\":\"\"}},\"coloraxis\":{\"colorbar\":{\"outlinewidth\":0,\"ticks\":\"\"}},\"colorscale\":{\"sequential\":[[0.0,\"#0d0887\"],[0.1111111111111111,\"#46039f\"],[0.2222222222222222,\"#7201a8\"],[0.3333333333333333,\"#9c179e\"],[0.4444444444444444,\"#bd3786\"],[0.5555555555555556,\"#d8576b\"],[0.6666666666666666,\"#ed7953\"],[0.7777777777777778,\"#fb9f3a\"],[0.8888888888888888,\"#fdca26\"],[1.0,\"#f0f921\"]],\"sequentialminus\":[[0.0,\"#0d0887\"],[0.1111111111111111,\"#46039f\"],[0.2222222222222222,\"#7201a8\"],[0.3333333333333333,\"#9c179e\"],[0.4444444444444444,\"#bd3786\"],[0.5555555555555556,\"#d8576b\"],[0.6666666666666666,\"#ed7953\"],[0.7777777777777778,\"#fb9f3a\"],[0.8888888888888888,\"#fdca26\"],[1.0,\"#f0f921\"]],\"diverging\":[[0,\"#8e0152\"],[0.1,\"#c51b7d\"],[0.2,\"#de77ae\"],[0.3,\"#f1b6da\"],[0.4,\"#fde0ef\"],[0.5,\"#f7f7f7\"],[0.6,\"#e6f5d0\"],[0.7,\"#b8e186\"],[0.8,\"#7fbc41\"],[0.9,\"#4d9221\"],[1,\"#276419\"]]},\"xaxis\":{\"gridcolor\":\"white\",\"linecolor\":\"white\",\"ticks\":\"\",\"title\":{\"standoff\":15},\"zerolinecolor\":\"white\",\"automargin\":true,\"zerolinewidth\":2},\"yaxis\":{\"gridcolor\":\"white\",\"linecolor\":\"white\",\"ticks\":\"\",\"title\":{\"standoff\":15},\"zerolinecolor\":\"white\",\"automargin\":true,\"zerolinewidth\":2},\"scene\":{\"xaxis\":{\"backgroundcolor\":\"#E5ECF6\",\"gridcolor\":\"white\",\"linecolor\":\"white\",\"showbackground\":true,\"ticks\":\"\",\"zerolinecolor\":\"white\",\"gridwidth\":2},\"yaxis\":{\"backgroundcolor\":\"#E5ECF6\",\"gridcolor\":\"white\",\"linecolor\":\"white\",\"showbackground\":true,\"ticks\":\"\",\"zerolinecolor\":\"white\",\"gridwidth\":2},\"zaxis\":{\"backgroundcolor\":\"#E5ECF6\",\"gridcolor\":\"white\",\"linecolor\":\"white\",\"showbackground\":true,\"ticks\":\"\",\"zerolinecolor\":\"white\",\"gridwidth\":2}},\"shapedefaults\":{\"line\":{\"color\":\"#2a3f5f\"}},\"annotationdefaults\":{\"arrowcolor\":\"#2a3f5f\",\"arrowhead\":0,\"arrowwidth\":1},\"geo\":{\"bgcolor\":\"white\",\"landcolor\":\"#E5ECF6\",\"subunitcolor\":\"white\",\"showland\":true,\"showlakes\":true,\"lakecolor\":\"white\"},\"title\":{\"x\":0.05},\"mapbox\":{\"style\":\"light\"}}},\"xaxis\":{\"tickangle\":-45},\"title\":{\"text\":\"\\u0421\\u0443\\u043c\\u043c\\u0430\\u0440\\u043d\\u044b\\u0435 \\u043f\\u0440\\u043e\\u0434\\u0430\\u0436\\u0438 \\u0432 \\u0440\\u0430\\u0437\\u043d\\u044b\\u0445 \\u0440\\u0435\\u0433\\u0438\\u043e\\u043d\\u0430\\u0445 \\u043f\\u043e \\u043f\\u043b\\u0430\\u0442\\u0444\\u043e\\u0440\\u043c\\u0430\\u043c\"}},                        {\"responsive\": true}                    ).then(function(){\n",
              "                            \n",
              "var gd = document.getElementById('d5df4d52-8943-4a37-afd4-b15595c92736');\n",
              "var x = new MutationObserver(function (mutations, observer) {{\n",
              "        var display = window.getComputedStyle(gd).display;\n",
              "        if (!display || display === 'none') {{\n",
              "            console.log([gd, 'removed!']);\n",
              "            Plotly.purge(gd);\n",
              "            observer.disconnect();\n",
              "        }}\n",
              "}});\n",
              "\n",
              "// Listen for the removal of the full notebook cells\n",
              "var notebookContainer = gd.closest('#notebook-container');\n",
              "if (notebookContainer) {{\n",
              "    x.observe(notebookContainer, {childList: true});\n",
              "}}\n",
              "\n",
              "// Listen for the clearing of the current output cell\n",
              "var outputEl = gd.closest('.output');\n",
              "if (outputEl) {{\n",
              "    x.observe(outputEl, {childList: true});\n",
              "}}\n",
              "\n",
              "                        })                };                            </script>        </div>\n",
              "</body>\n",
              "</html>"
            ]
          },
          "metadata": {}
        }
      ]
    },
    {
      "cell_type": "code",
      "source": [
        "bar_cat(df_mean, 'platform', \"Средние продажи в разных регионах по платформам\", 'mean_na_sales', 'mean_eu_sales', 'mean_jp_sales')"
      ],
      "metadata": {
        "colab": {
          "base_uri": "https://localhost:8080/",
          "height": 542
        },
        "id": "meYQWYznG6Iy",
        "outputId": "b902fa13-db48-416a-8e53-0d1af993fa00"
      },
      "execution_count": 40,
      "outputs": [
        {
          "output_type": "display_data",
          "data": {
            "text/html": [
              "<html>\n",
              "<head><meta charset=\"utf-8\" /></head>\n",
              "<body>\n",
              "    <div>            <script src=\"https://cdnjs.cloudflare.com/ajax/libs/mathjax/2.7.5/MathJax.js?config=TeX-AMS-MML_SVG\"></script><script type=\"text/javascript\">if (window.MathJax && window.MathJax.Hub && window.MathJax.Hub.Config) {window.MathJax.Hub.Config({SVG: {font: \"STIX-Web\"}});}</script>                <script type=\"text/javascript\">window.PlotlyConfig = {MathJaxConfig: 'local'};</script>\n",
              "        <script charset=\"utf-8\" src=\"https://cdn.plot.ly/plotly-2.24.1.min.js\"></script>                <div id=\"e64ed578-a9f8-40b8-bd28-8f7312a55d0d\" class=\"plotly-graph-div\" style=\"height:525px; width:100%;\"></div>            <script type=\"text/javascript\">                                    window.PLOTLYENV=window.PLOTLYENV || {};                                    if (document.getElementById(\"e64ed578-a9f8-40b8-bd28-8f7312a55d0d\")) {                    Plotly.newPlot(                        \"e64ed578-a9f8-40b8-bd28-8f7312a55d0d\",                        [{\"name\":\"mean_na_sales\",\"x\":[\"3DS\",\"PS3\",\"PS4\",\"X360\",\"XOne\"],\"y\":[0.10679245283018868,0.10068493150684932,0.26226063829787233,0.25495495495495496,0.3564473684210526],\"type\":\"bar\"},{\"name\":\"mean_eu_sales\",\"x\":[\"3DS\",\"PS3\",\"PS4\",\"X360\",\"XOne\"],\"y\":[0.07603773584905661,0.11662100456621004,0.3458510638297872,0.13954954954954954,0.20285087719298245],\"type\":\"bar\"},{\"name\":\"mean_jp_sales\",\"x\":[\"3DS\",\"PS3\",\"PS4\",\"X360\",\"XOne\"],\"y\":[0.20867924528301887,0.05123287671232877,0.039946808510638296,0.0007207207207207207,0.0014035087719298247],\"type\":\"bar\"}],                        {\"template\":{\"data\":{\"histogram2dcontour\":[{\"type\":\"histogram2dcontour\",\"colorbar\":{\"outlinewidth\":0,\"ticks\":\"\"},\"colorscale\":[[0.0,\"#0d0887\"],[0.1111111111111111,\"#46039f\"],[0.2222222222222222,\"#7201a8\"],[0.3333333333333333,\"#9c179e\"],[0.4444444444444444,\"#bd3786\"],[0.5555555555555556,\"#d8576b\"],[0.6666666666666666,\"#ed7953\"],[0.7777777777777778,\"#fb9f3a\"],[0.8888888888888888,\"#fdca26\"],[1.0,\"#f0f921\"]]}],\"choropleth\":[{\"type\":\"choropleth\",\"colorbar\":{\"outlinewidth\":0,\"ticks\":\"\"}}],\"histogram2d\":[{\"type\":\"histogram2d\",\"colorbar\":{\"outlinewidth\":0,\"ticks\":\"\"},\"colorscale\":[[0.0,\"#0d0887\"],[0.1111111111111111,\"#46039f\"],[0.2222222222222222,\"#7201a8\"],[0.3333333333333333,\"#9c179e\"],[0.4444444444444444,\"#bd3786\"],[0.5555555555555556,\"#d8576b\"],[0.6666666666666666,\"#ed7953\"],[0.7777777777777778,\"#fb9f3a\"],[0.8888888888888888,\"#fdca26\"],[1.0,\"#f0f921\"]]}],\"heatmap\":[{\"type\":\"heatmap\",\"colorbar\":{\"outlinewidth\":0,\"ticks\":\"\"},\"colorscale\":[[0.0,\"#0d0887\"],[0.1111111111111111,\"#46039f\"],[0.2222222222222222,\"#7201a8\"],[0.3333333333333333,\"#9c179e\"],[0.4444444444444444,\"#bd3786\"],[0.5555555555555556,\"#d8576b\"],[0.6666666666666666,\"#ed7953\"],[0.7777777777777778,\"#fb9f3a\"],[0.8888888888888888,\"#fdca26\"],[1.0,\"#f0f921\"]]}],\"heatmapgl\":[{\"type\":\"heatmapgl\",\"colorbar\":{\"outlinewidth\":0,\"ticks\":\"\"},\"colorscale\":[[0.0,\"#0d0887\"],[0.1111111111111111,\"#46039f\"],[0.2222222222222222,\"#7201a8\"],[0.3333333333333333,\"#9c179e\"],[0.4444444444444444,\"#bd3786\"],[0.5555555555555556,\"#d8576b\"],[0.6666666666666666,\"#ed7953\"],[0.7777777777777778,\"#fb9f3a\"],[0.8888888888888888,\"#fdca26\"],[1.0,\"#f0f921\"]]}],\"contourcarpet\":[{\"type\":\"contourcarpet\",\"colorbar\":{\"outlinewidth\":0,\"ticks\":\"\"}}],\"contour\":[{\"type\":\"contour\",\"colorbar\":{\"outlinewidth\":0,\"ticks\":\"\"},\"colorscale\":[[0.0,\"#0d0887\"],[0.1111111111111111,\"#46039f\"],[0.2222222222222222,\"#7201a8\"],[0.3333333333333333,\"#9c179e\"],[0.4444444444444444,\"#bd3786\"],[0.5555555555555556,\"#d8576b\"],[0.6666666666666666,\"#ed7953\"],[0.7777777777777778,\"#fb9f3a\"],[0.8888888888888888,\"#fdca26\"],[1.0,\"#f0f921\"]]}],\"surface\":[{\"type\":\"surface\",\"colorbar\":{\"outlinewidth\":0,\"ticks\":\"\"},\"colorscale\":[[0.0,\"#0d0887\"],[0.1111111111111111,\"#46039f\"],[0.2222222222222222,\"#7201a8\"],[0.3333333333333333,\"#9c179e\"],[0.4444444444444444,\"#bd3786\"],[0.5555555555555556,\"#d8576b\"],[0.6666666666666666,\"#ed7953\"],[0.7777777777777778,\"#fb9f3a\"],[0.8888888888888888,\"#fdca26\"],[1.0,\"#f0f921\"]]}],\"mesh3d\":[{\"type\":\"mesh3d\",\"colorbar\":{\"outlinewidth\":0,\"ticks\":\"\"}}],\"scatter\":[{\"fillpattern\":{\"fillmode\":\"overlay\",\"size\":10,\"solidity\":0.2},\"type\":\"scatter\"}],\"parcoords\":[{\"type\":\"parcoords\",\"line\":{\"colorbar\":{\"outlinewidth\":0,\"ticks\":\"\"}}}],\"scatterpolargl\":[{\"type\":\"scatterpolargl\",\"marker\":{\"colorbar\":{\"outlinewidth\":0,\"ticks\":\"\"}}}],\"bar\":[{\"error_x\":{\"color\":\"#2a3f5f\"},\"error_y\":{\"color\":\"#2a3f5f\"},\"marker\":{\"line\":{\"color\":\"#E5ECF6\",\"width\":0.5},\"pattern\":{\"fillmode\":\"overlay\",\"size\":10,\"solidity\":0.2}},\"type\":\"bar\"}],\"scattergeo\":[{\"type\":\"scattergeo\",\"marker\":{\"colorbar\":{\"outlinewidth\":0,\"ticks\":\"\"}}}],\"scatterpolar\":[{\"type\":\"scatterpolar\",\"marker\":{\"colorbar\":{\"outlinewidth\":0,\"ticks\":\"\"}}}],\"histogram\":[{\"marker\":{\"pattern\":{\"fillmode\":\"overlay\",\"size\":10,\"solidity\":0.2}},\"type\":\"histogram\"}],\"scattergl\":[{\"type\":\"scattergl\",\"marker\":{\"colorbar\":{\"outlinewidth\":0,\"ticks\":\"\"}}}],\"scatter3d\":[{\"type\":\"scatter3d\",\"line\":{\"colorbar\":{\"outlinewidth\":0,\"ticks\":\"\"}},\"marker\":{\"colorbar\":{\"outlinewidth\":0,\"ticks\":\"\"}}}],\"scattermapbox\":[{\"type\":\"scattermapbox\",\"marker\":{\"colorbar\":{\"outlinewidth\":0,\"ticks\":\"\"}}}],\"scatterternary\":[{\"type\":\"scatterternary\",\"marker\":{\"colorbar\":{\"outlinewidth\":0,\"ticks\":\"\"}}}],\"scattercarpet\":[{\"type\":\"scattercarpet\",\"marker\":{\"colorbar\":{\"outlinewidth\":0,\"ticks\":\"\"}}}],\"carpet\":[{\"aaxis\":{\"endlinecolor\":\"#2a3f5f\",\"gridcolor\":\"white\",\"linecolor\":\"white\",\"minorgridcolor\":\"white\",\"startlinecolor\":\"#2a3f5f\"},\"baxis\":{\"endlinecolor\":\"#2a3f5f\",\"gridcolor\":\"white\",\"linecolor\":\"white\",\"minorgridcolor\":\"white\",\"startlinecolor\":\"#2a3f5f\"},\"type\":\"carpet\"}],\"table\":[{\"cells\":{\"fill\":{\"color\":\"#EBF0F8\"},\"line\":{\"color\":\"white\"}},\"header\":{\"fill\":{\"color\":\"#C8D4E3\"},\"line\":{\"color\":\"white\"}},\"type\":\"table\"}],\"barpolar\":[{\"marker\":{\"line\":{\"color\":\"#E5ECF6\",\"width\":0.5},\"pattern\":{\"fillmode\":\"overlay\",\"size\":10,\"solidity\":0.2}},\"type\":\"barpolar\"}],\"pie\":[{\"automargin\":true,\"type\":\"pie\"}]},\"layout\":{\"autotypenumbers\":\"strict\",\"colorway\":[\"#636efa\",\"#EF553B\",\"#00cc96\",\"#ab63fa\",\"#FFA15A\",\"#19d3f3\",\"#FF6692\",\"#B6E880\",\"#FF97FF\",\"#FECB52\"],\"font\":{\"color\":\"#2a3f5f\"},\"hovermode\":\"closest\",\"hoverlabel\":{\"align\":\"left\"},\"paper_bgcolor\":\"white\",\"plot_bgcolor\":\"#E5ECF6\",\"polar\":{\"bgcolor\":\"#E5ECF6\",\"angularaxis\":{\"gridcolor\":\"white\",\"linecolor\":\"white\",\"ticks\":\"\"},\"radialaxis\":{\"gridcolor\":\"white\",\"linecolor\":\"white\",\"ticks\":\"\"}},\"ternary\":{\"bgcolor\":\"#E5ECF6\",\"aaxis\":{\"gridcolor\":\"white\",\"linecolor\":\"white\",\"ticks\":\"\"},\"baxis\":{\"gridcolor\":\"white\",\"linecolor\":\"white\",\"ticks\":\"\"},\"caxis\":{\"gridcolor\":\"white\",\"linecolor\":\"white\",\"ticks\":\"\"}},\"coloraxis\":{\"colorbar\":{\"outlinewidth\":0,\"ticks\":\"\"}},\"colorscale\":{\"sequential\":[[0.0,\"#0d0887\"],[0.1111111111111111,\"#46039f\"],[0.2222222222222222,\"#7201a8\"],[0.3333333333333333,\"#9c179e\"],[0.4444444444444444,\"#bd3786\"],[0.5555555555555556,\"#d8576b\"],[0.6666666666666666,\"#ed7953\"],[0.7777777777777778,\"#fb9f3a\"],[0.8888888888888888,\"#fdca26\"],[1.0,\"#f0f921\"]],\"sequentialminus\":[[0.0,\"#0d0887\"],[0.1111111111111111,\"#46039f\"],[0.2222222222222222,\"#7201a8\"],[0.3333333333333333,\"#9c179e\"],[0.4444444444444444,\"#bd3786\"],[0.5555555555555556,\"#d8576b\"],[0.6666666666666666,\"#ed7953\"],[0.7777777777777778,\"#fb9f3a\"],[0.8888888888888888,\"#fdca26\"],[1.0,\"#f0f921\"]],\"diverging\":[[0,\"#8e0152\"],[0.1,\"#c51b7d\"],[0.2,\"#de77ae\"],[0.3,\"#f1b6da\"],[0.4,\"#fde0ef\"],[0.5,\"#f7f7f7\"],[0.6,\"#e6f5d0\"],[0.7,\"#b8e186\"],[0.8,\"#7fbc41\"],[0.9,\"#4d9221\"],[1,\"#276419\"]]},\"xaxis\":{\"gridcolor\":\"white\",\"linecolor\":\"white\",\"ticks\":\"\",\"title\":{\"standoff\":15},\"zerolinecolor\":\"white\",\"automargin\":true,\"zerolinewidth\":2},\"yaxis\":{\"gridcolor\":\"white\",\"linecolor\":\"white\",\"ticks\":\"\",\"title\":{\"standoff\":15},\"zerolinecolor\":\"white\",\"automargin\":true,\"zerolinewidth\":2},\"scene\":{\"xaxis\":{\"backgroundcolor\":\"#E5ECF6\",\"gridcolor\":\"white\",\"linecolor\":\"white\",\"showbackground\":true,\"ticks\":\"\",\"zerolinecolor\":\"white\",\"gridwidth\":2},\"yaxis\":{\"backgroundcolor\":\"#E5ECF6\",\"gridcolor\":\"white\",\"linecolor\":\"white\",\"showbackground\":true,\"ticks\":\"\",\"zerolinecolor\":\"white\",\"gridwidth\":2},\"zaxis\":{\"backgroundcolor\":\"#E5ECF6\",\"gridcolor\":\"white\",\"linecolor\":\"white\",\"showbackground\":true,\"ticks\":\"\",\"zerolinecolor\":\"white\",\"gridwidth\":2}},\"shapedefaults\":{\"line\":{\"color\":\"#2a3f5f\"}},\"annotationdefaults\":{\"arrowcolor\":\"#2a3f5f\",\"arrowhead\":0,\"arrowwidth\":1},\"geo\":{\"bgcolor\":\"white\",\"landcolor\":\"#E5ECF6\",\"subunitcolor\":\"white\",\"showland\":true,\"showlakes\":true,\"lakecolor\":\"white\"},\"title\":{\"x\":0.05},\"mapbox\":{\"style\":\"light\"}}},\"xaxis\":{\"tickangle\":-45},\"title\":{\"text\":\"\\u0421\\u0440\\u0435\\u0434\\u043d\\u0438\\u0435 \\u043f\\u0440\\u043e\\u0434\\u0430\\u0436\\u0438 \\u0432 \\u0440\\u0430\\u0437\\u043d\\u044b\\u0445 \\u0440\\u0435\\u0433\\u0438\\u043e\\u043d\\u0430\\u0445 \\u043f\\u043e \\u043f\\u043b\\u0430\\u0442\\u0444\\u043e\\u0440\\u043c\\u0430\\u043c\"}},                        {\"responsive\": true}                    ).then(function(){\n",
              "                            \n",
              "var gd = document.getElementById('e64ed578-a9f8-40b8-bd28-8f7312a55d0d');\n",
              "var x = new MutationObserver(function (mutations, observer) {{\n",
              "        var display = window.getComputedStyle(gd).display;\n",
              "        if (!display || display === 'none') {{\n",
              "            console.log([gd, 'removed!']);\n",
              "            Plotly.purge(gd);\n",
              "            observer.disconnect();\n",
              "        }}\n",
              "}});\n",
              "\n",
              "// Listen for the removal of the full notebook cells\n",
              "var notebookContainer = gd.closest('#notebook-container');\n",
              "if (notebookContainer) {{\n",
              "    x.observe(notebookContainer, {childList: true});\n",
              "}}\n",
              "\n",
              "// Listen for the clearing of the current output cell\n",
              "var outputEl = gd.closest('.output');\n",
              "if (outputEl) {{\n",
              "    x.observe(outputEl, {childList: true});\n",
              "}}\n",
              "\n",
              "                        })                };                            </script>        </div>\n",
              "</body>\n",
              "</html>"
            ]
          },
          "metadata": {}
        }
      ]
    },
    {
      "cell_type": "markdown",
      "source": [
        "В Европе и Америке самые популярные платформы - PS4 и XOne. ПРи этом, вероятно, больше игр выходит на PS4. Поэтому, именно эта платформа лидирует по сумме продаж. Однако, по средним показателям платформа XOne демонстрирует даже лучшие результаты в Америке, чем PS4\n",
        "\n",
        "В Японии первое место как по суммарным продажам, так и по средним продажам на игру, занимает платформа 3DS"
      ],
      "metadata": {
        "id": "u2E_KDbSJQzp"
      }
    },
    {
      "cell_type": "code",
      "source": [
        "top_genre_sum, top_genre_mean = top_5(data, 'genre')"
      ],
      "metadata": {
        "id": "ZClZAIaAXdJ6"
      },
      "execution_count": 41,
      "outputs": []
    },
    {
      "cell_type": "code",
      "source": [
        "bar_cat(top_genre_sum, 'genre', \"Суммарные продажи в разных регионах по жанрам\", 'sum_na_sales', 'sum_eu_sales', 'sum_jp_sales')"
      ],
      "metadata": {
        "colab": {
          "base_uri": "https://localhost:8080/",
          "height": 542
        },
        "id": "I3Z5lSzieZ7U",
        "outputId": "825c0cc3-333d-4dc4-9a1b-2b81e4a812bf"
      },
      "execution_count": 42,
      "outputs": [
        {
          "output_type": "display_data",
          "data": {
            "text/html": [
              "<html>\n",
              "<head><meta charset=\"utf-8\" /></head>\n",
              "<body>\n",
              "    <div>            <script src=\"https://cdnjs.cloudflare.com/ajax/libs/mathjax/2.7.5/MathJax.js?config=TeX-AMS-MML_SVG\"></script><script type=\"text/javascript\">if (window.MathJax && window.MathJax.Hub && window.MathJax.Hub.Config) {window.MathJax.Hub.Config({SVG: {font: \"STIX-Web\"}});}</script>                <script type=\"text/javascript\">window.PlotlyConfig = {MathJaxConfig: 'local'};</script>\n",
              "        <script charset=\"utf-8\" src=\"https://cdn.plot.ly/plotly-2.24.1.min.js\"></script>                <div id=\"33f659b8-d81a-4101-9b00-9aba5dfc7aba\" class=\"plotly-graph-div\" style=\"height:525px; width:100%;\"></div>            <script type=\"text/javascript\">                                    window.PLOTLYENV=window.PLOTLYENV || {};                                    if (document.getElementById(\"33f659b8-d81a-4101-9b00-9aba5dfc7aba\")) {                    Plotly.newPlot(                        \"33f659b8-d81a-4101-9b00-9aba5dfc7aba\",                        [{\"name\":\"sum_na_sales\",\"x\":[\"Action\",\"Misc\",\"Racing\",\"Role-Playing\",\"Shooter\",\"Sports\"],\"y\":[64.87,11.19,5.59,30.46,75.1,45.410000000000004],\"type\":\"bar\"},{\"name\":\"sum_eu_sales\",\"x\":[\"Action\",\"Misc\",\"Racing\",\"Role-Playing\",\"Shooter\",\"Sports\"],\"y\":[65.79,9.15,11.36,24.44,60.59,43.88],\"type\":\"bar\"},{\"name\":\"sum_jp_sales\",\"x\":[\"Action\",\"Misc\",\"Racing\",\"Role-Playing\",\"Shooter\",\"Sports\"],\"y\":[23.79,2.9,0.39,26.21,3.33,2.54],\"type\":\"bar\"}],                        {\"template\":{\"data\":{\"histogram2dcontour\":[{\"type\":\"histogram2dcontour\",\"colorbar\":{\"outlinewidth\":0,\"ticks\":\"\"},\"colorscale\":[[0.0,\"#0d0887\"],[0.1111111111111111,\"#46039f\"],[0.2222222222222222,\"#7201a8\"],[0.3333333333333333,\"#9c179e\"],[0.4444444444444444,\"#bd3786\"],[0.5555555555555556,\"#d8576b\"],[0.6666666666666666,\"#ed7953\"],[0.7777777777777778,\"#fb9f3a\"],[0.8888888888888888,\"#fdca26\"],[1.0,\"#f0f921\"]]}],\"choropleth\":[{\"type\":\"choropleth\",\"colorbar\":{\"outlinewidth\":0,\"ticks\":\"\"}}],\"histogram2d\":[{\"type\":\"histogram2d\",\"colorbar\":{\"outlinewidth\":0,\"ticks\":\"\"},\"colorscale\":[[0.0,\"#0d0887\"],[0.1111111111111111,\"#46039f\"],[0.2222222222222222,\"#7201a8\"],[0.3333333333333333,\"#9c179e\"],[0.4444444444444444,\"#bd3786\"],[0.5555555555555556,\"#d8576b\"],[0.6666666666666666,\"#ed7953\"],[0.7777777777777778,\"#fb9f3a\"],[0.8888888888888888,\"#fdca26\"],[1.0,\"#f0f921\"]]}],\"heatmap\":[{\"type\":\"heatmap\",\"colorbar\":{\"outlinewidth\":0,\"ticks\":\"\"},\"colorscale\":[[0.0,\"#0d0887\"],[0.1111111111111111,\"#46039f\"],[0.2222222222222222,\"#7201a8\"],[0.3333333333333333,\"#9c179e\"],[0.4444444444444444,\"#bd3786\"],[0.5555555555555556,\"#d8576b\"],[0.6666666666666666,\"#ed7953\"],[0.7777777777777778,\"#fb9f3a\"],[0.8888888888888888,\"#fdca26\"],[1.0,\"#f0f921\"]]}],\"heatmapgl\":[{\"type\":\"heatmapgl\",\"colorbar\":{\"outlinewidth\":0,\"ticks\":\"\"},\"colorscale\":[[0.0,\"#0d0887\"],[0.1111111111111111,\"#46039f\"],[0.2222222222222222,\"#7201a8\"],[0.3333333333333333,\"#9c179e\"],[0.4444444444444444,\"#bd3786\"],[0.5555555555555556,\"#d8576b\"],[0.6666666666666666,\"#ed7953\"],[0.7777777777777778,\"#fb9f3a\"],[0.8888888888888888,\"#fdca26\"],[1.0,\"#f0f921\"]]}],\"contourcarpet\":[{\"type\":\"contourcarpet\",\"colorbar\":{\"outlinewidth\":0,\"ticks\":\"\"}}],\"contour\":[{\"type\":\"contour\",\"colorbar\":{\"outlinewidth\":0,\"ticks\":\"\"},\"colorscale\":[[0.0,\"#0d0887\"],[0.1111111111111111,\"#46039f\"],[0.2222222222222222,\"#7201a8\"],[0.3333333333333333,\"#9c179e\"],[0.4444444444444444,\"#bd3786\"],[0.5555555555555556,\"#d8576b\"],[0.6666666666666666,\"#ed7953\"],[0.7777777777777778,\"#fb9f3a\"],[0.8888888888888888,\"#fdca26\"],[1.0,\"#f0f921\"]]}],\"surface\":[{\"type\":\"surface\",\"colorbar\":{\"outlinewidth\":0,\"ticks\":\"\"},\"colorscale\":[[0.0,\"#0d0887\"],[0.1111111111111111,\"#46039f\"],[0.2222222222222222,\"#7201a8\"],[0.3333333333333333,\"#9c179e\"],[0.4444444444444444,\"#bd3786\"],[0.5555555555555556,\"#d8576b\"],[0.6666666666666666,\"#ed7953\"],[0.7777777777777778,\"#fb9f3a\"],[0.8888888888888888,\"#fdca26\"],[1.0,\"#f0f921\"]]}],\"mesh3d\":[{\"type\":\"mesh3d\",\"colorbar\":{\"outlinewidth\":0,\"ticks\":\"\"}}],\"scatter\":[{\"fillpattern\":{\"fillmode\":\"overlay\",\"size\":10,\"solidity\":0.2},\"type\":\"scatter\"}],\"parcoords\":[{\"type\":\"parcoords\",\"line\":{\"colorbar\":{\"outlinewidth\":0,\"ticks\":\"\"}}}],\"scatterpolargl\":[{\"type\":\"scatterpolargl\",\"marker\":{\"colorbar\":{\"outlinewidth\":0,\"ticks\":\"\"}}}],\"bar\":[{\"error_x\":{\"color\":\"#2a3f5f\"},\"error_y\":{\"color\":\"#2a3f5f\"},\"marker\":{\"line\":{\"color\":\"#E5ECF6\",\"width\":0.5},\"pattern\":{\"fillmode\":\"overlay\",\"size\":10,\"solidity\":0.2}},\"type\":\"bar\"}],\"scattergeo\":[{\"type\":\"scattergeo\",\"marker\":{\"colorbar\":{\"outlinewidth\":0,\"ticks\":\"\"}}}],\"scatterpolar\":[{\"type\":\"scatterpolar\",\"marker\":{\"colorbar\":{\"outlinewidth\":0,\"ticks\":\"\"}}}],\"histogram\":[{\"marker\":{\"pattern\":{\"fillmode\":\"overlay\",\"size\":10,\"solidity\":0.2}},\"type\":\"histogram\"}],\"scattergl\":[{\"type\":\"scattergl\",\"marker\":{\"colorbar\":{\"outlinewidth\":0,\"ticks\":\"\"}}}],\"scatter3d\":[{\"type\":\"scatter3d\",\"line\":{\"colorbar\":{\"outlinewidth\":0,\"ticks\":\"\"}},\"marker\":{\"colorbar\":{\"outlinewidth\":0,\"ticks\":\"\"}}}],\"scattermapbox\":[{\"type\":\"scattermapbox\",\"marker\":{\"colorbar\":{\"outlinewidth\":0,\"ticks\":\"\"}}}],\"scatterternary\":[{\"type\":\"scatterternary\",\"marker\":{\"colorbar\":{\"outlinewidth\":0,\"ticks\":\"\"}}}],\"scattercarpet\":[{\"type\":\"scattercarpet\",\"marker\":{\"colorbar\":{\"outlinewidth\":0,\"ticks\":\"\"}}}],\"carpet\":[{\"aaxis\":{\"endlinecolor\":\"#2a3f5f\",\"gridcolor\":\"white\",\"linecolor\":\"white\",\"minorgridcolor\":\"white\",\"startlinecolor\":\"#2a3f5f\"},\"baxis\":{\"endlinecolor\":\"#2a3f5f\",\"gridcolor\":\"white\",\"linecolor\":\"white\",\"minorgridcolor\":\"white\",\"startlinecolor\":\"#2a3f5f\"},\"type\":\"carpet\"}],\"table\":[{\"cells\":{\"fill\":{\"color\":\"#EBF0F8\"},\"line\":{\"color\":\"white\"}},\"header\":{\"fill\":{\"color\":\"#C8D4E3\"},\"line\":{\"color\":\"white\"}},\"type\":\"table\"}],\"barpolar\":[{\"marker\":{\"line\":{\"color\":\"#E5ECF6\",\"width\":0.5},\"pattern\":{\"fillmode\":\"overlay\",\"size\":10,\"solidity\":0.2}},\"type\":\"barpolar\"}],\"pie\":[{\"automargin\":true,\"type\":\"pie\"}]},\"layout\":{\"autotypenumbers\":\"strict\",\"colorway\":[\"#636efa\",\"#EF553B\",\"#00cc96\",\"#ab63fa\",\"#FFA15A\",\"#19d3f3\",\"#FF6692\",\"#B6E880\",\"#FF97FF\",\"#FECB52\"],\"font\":{\"color\":\"#2a3f5f\"},\"hovermode\":\"closest\",\"hoverlabel\":{\"align\":\"left\"},\"paper_bgcolor\":\"white\",\"plot_bgcolor\":\"#E5ECF6\",\"polar\":{\"bgcolor\":\"#E5ECF6\",\"angularaxis\":{\"gridcolor\":\"white\",\"linecolor\":\"white\",\"ticks\":\"\"},\"radialaxis\":{\"gridcolor\":\"white\",\"linecolor\":\"white\",\"ticks\":\"\"}},\"ternary\":{\"bgcolor\":\"#E5ECF6\",\"aaxis\":{\"gridcolor\":\"white\",\"linecolor\":\"white\",\"ticks\":\"\"},\"baxis\":{\"gridcolor\":\"white\",\"linecolor\":\"white\",\"ticks\":\"\"},\"caxis\":{\"gridcolor\":\"white\",\"linecolor\":\"white\",\"ticks\":\"\"}},\"coloraxis\":{\"colorbar\":{\"outlinewidth\":0,\"ticks\":\"\"}},\"colorscale\":{\"sequential\":[[0.0,\"#0d0887\"],[0.1111111111111111,\"#46039f\"],[0.2222222222222222,\"#7201a8\"],[0.3333333333333333,\"#9c179e\"],[0.4444444444444444,\"#bd3786\"],[0.5555555555555556,\"#d8576b\"],[0.6666666666666666,\"#ed7953\"],[0.7777777777777778,\"#fb9f3a\"],[0.8888888888888888,\"#fdca26\"],[1.0,\"#f0f921\"]],\"sequentialminus\":[[0.0,\"#0d0887\"],[0.1111111111111111,\"#46039f\"],[0.2222222222222222,\"#7201a8\"],[0.3333333333333333,\"#9c179e\"],[0.4444444444444444,\"#bd3786\"],[0.5555555555555556,\"#d8576b\"],[0.6666666666666666,\"#ed7953\"],[0.7777777777777778,\"#fb9f3a\"],[0.8888888888888888,\"#fdca26\"],[1.0,\"#f0f921\"]],\"diverging\":[[0,\"#8e0152\"],[0.1,\"#c51b7d\"],[0.2,\"#de77ae\"],[0.3,\"#f1b6da\"],[0.4,\"#fde0ef\"],[0.5,\"#f7f7f7\"],[0.6,\"#e6f5d0\"],[0.7,\"#b8e186\"],[0.8,\"#7fbc41\"],[0.9,\"#4d9221\"],[1,\"#276419\"]]},\"xaxis\":{\"gridcolor\":\"white\",\"linecolor\":\"white\",\"ticks\":\"\",\"title\":{\"standoff\":15},\"zerolinecolor\":\"white\",\"automargin\":true,\"zerolinewidth\":2},\"yaxis\":{\"gridcolor\":\"white\",\"linecolor\":\"white\",\"ticks\":\"\",\"title\":{\"standoff\":15},\"zerolinecolor\":\"white\",\"automargin\":true,\"zerolinewidth\":2},\"scene\":{\"xaxis\":{\"backgroundcolor\":\"#E5ECF6\",\"gridcolor\":\"white\",\"linecolor\":\"white\",\"showbackground\":true,\"ticks\":\"\",\"zerolinecolor\":\"white\",\"gridwidth\":2},\"yaxis\":{\"backgroundcolor\":\"#E5ECF6\",\"gridcolor\":\"white\",\"linecolor\":\"white\",\"showbackground\":true,\"ticks\":\"\",\"zerolinecolor\":\"white\",\"gridwidth\":2},\"zaxis\":{\"backgroundcolor\":\"#E5ECF6\",\"gridcolor\":\"white\",\"linecolor\":\"white\",\"showbackground\":true,\"ticks\":\"\",\"zerolinecolor\":\"white\",\"gridwidth\":2}},\"shapedefaults\":{\"line\":{\"color\":\"#2a3f5f\"}},\"annotationdefaults\":{\"arrowcolor\":\"#2a3f5f\",\"arrowhead\":0,\"arrowwidth\":1},\"geo\":{\"bgcolor\":\"white\",\"landcolor\":\"#E5ECF6\",\"subunitcolor\":\"white\",\"showland\":true,\"showlakes\":true,\"lakecolor\":\"white\"},\"title\":{\"x\":0.05},\"mapbox\":{\"style\":\"light\"}}},\"xaxis\":{\"tickangle\":-45},\"title\":{\"text\":\"\\u0421\\u0443\\u043c\\u043c\\u0430\\u0440\\u043d\\u044b\\u0435 \\u043f\\u0440\\u043e\\u0434\\u0430\\u0436\\u0438 \\u0432 \\u0440\\u0430\\u0437\\u043d\\u044b\\u0445 \\u0440\\u0435\\u0433\\u0438\\u043e\\u043d\\u0430\\u0445 \\u043f\\u043e \\u0436\\u0430\\u043d\\u0440\\u0430\\u043c\"}},                        {\"responsive\": true}                    ).then(function(){\n",
              "                            \n",
              "var gd = document.getElementById('33f659b8-d81a-4101-9b00-9aba5dfc7aba');\n",
              "var x = new MutationObserver(function (mutations, observer) {{\n",
              "        var display = window.getComputedStyle(gd).display;\n",
              "        if (!display || display === 'none') {{\n",
              "            console.log([gd, 'removed!']);\n",
              "            Plotly.purge(gd);\n",
              "            observer.disconnect();\n",
              "        }}\n",
              "}});\n",
              "\n",
              "// Listen for the removal of the full notebook cells\n",
              "var notebookContainer = gd.closest('#notebook-container');\n",
              "if (notebookContainer) {{\n",
              "    x.observe(notebookContainer, {childList: true});\n",
              "}}\n",
              "\n",
              "// Listen for the clearing of the current output cell\n",
              "var outputEl = gd.closest('.output');\n",
              "if (outputEl) {{\n",
              "    x.observe(outputEl, {childList: true});\n",
              "}}\n",
              "\n",
              "                        })                };                            </script>        </div>\n",
              "</body>\n",
              "</html>"
            ]
          },
          "metadata": {}
        }
      ]
    },
    {
      "cell_type": "code",
      "source": [
        "bar_cat(top_genre_mean, 'genre', \"Средние продажи в разных регионах по жанрам\", 'mean_na_sales', 'mean_eu_sales', 'mean_jp_sales')"
      ],
      "metadata": {
        "colab": {
          "base_uri": "https://localhost:8080/",
          "height": 542
        },
        "id": "zYJYDEedHrqW",
        "outputId": "adb99c3b-6a58-471f-bb65-dab3ce376190"
      },
      "execution_count": 43,
      "outputs": [
        {
          "output_type": "display_data",
          "data": {
            "text/html": [
              "<html>\n",
              "<head><meta charset=\"utf-8\" /></head>\n",
              "<body>\n",
              "    <div>            <script src=\"https://cdnjs.cloudflare.com/ajax/libs/mathjax/2.7.5/MathJax.js?config=TeX-AMS-MML_SVG\"></script><script type=\"text/javascript\">if (window.MathJax && window.MathJax.Hub && window.MathJax.Hub.Config) {window.MathJax.Hub.Config({SVG: {font: \"STIX-Web\"}});}</script>                <script type=\"text/javascript\">window.PlotlyConfig = {MathJaxConfig: 'local'};</script>\n",
              "        <script charset=\"utf-8\" src=\"https://cdn.plot.ly/plotly-2.24.1.min.js\"></script>                <div id=\"44b63117-acb2-4aef-b636-2568aaf2ccf8\" class=\"plotly-graph-div\" style=\"height:525px; width:100%;\"></div>            <script type=\"text/javascript\">                                    window.PLOTLYENV=window.PLOTLYENV || {};                                    if (document.getElementById(\"44b63117-acb2-4aef-b636-2568aaf2ccf8\")) {                    Plotly.newPlot(                        \"44b63117-acb2-4aef-b636-2568aaf2ccf8\",                        [{\"name\":\"mean_na_sales\",\"x\":[\"Action\",\"Fighting\",\"Platform\",\"Racing\",\"Role-Playing\",\"Shooter\",\"Sports\"],\"y\":[0.15372037914691944,0.18836734693877552,0.14923076923076922,0.1075,0.21757142857142858,0.729126213592233,0.33389705882352944],\"type\":\"bar\"},{\"name\":\"mean_eu_sales\",\"x\":[\"Action\",\"Fighting\",\"Platform\",\"Racing\",\"Role-Playing\",\"Shooter\",\"Sports\"],\"y\":[0.1559004739336493,0.10551020408163266,0.17230769230769233,0.21846153846153846,0.17457142857142857,0.588252427184466,0.32264705882352945],\"type\":\"bar\"},{\"name\":\"mean_jp_sales\",\"x\":[\"Action\",\"Fighting\",\"Platform\",\"Racing\",\"Role-Playing\",\"Shooter\",\"Sports\"],\"y\":[0.056374407582938386,0.1006122448979592,0.050769230769230775,0.007500000000000001,0.18721428571428572,0.03233009708737864,0.018676470588235294],\"type\":\"bar\"}],                        {\"template\":{\"data\":{\"histogram2dcontour\":[{\"type\":\"histogram2dcontour\",\"colorbar\":{\"outlinewidth\":0,\"ticks\":\"\"},\"colorscale\":[[0.0,\"#0d0887\"],[0.1111111111111111,\"#46039f\"],[0.2222222222222222,\"#7201a8\"],[0.3333333333333333,\"#9c179e\"],[0.4444444444444444,\"#bd3786\"],[0.5555555555555556,\"#d8576b\"],[0.6666666666666666,\"#ed7953\"],[0.7777777777777778,\"#fb9f3a\"],[0.8888888888888888,\"#fdca26\"],[1.0,\"#f0f921\"]]}],\"choropleth\":[{\"type\":\"choropleth\",\"colorbar\":{\"outlinewidth\":0,\"ticks\":\"\"}}],\"histogram2d\":[{\"type\":\"histogram2d\",\"colorbar\":{\"outlinewidth\":0,\"ticks\":\"\"},\"colorscale\":[[0.0,\"#0d0887\"],[0.1111111111111111,\"#46039f\"],[0.2222222222222222,\"#7201a8\"],[0.3333333333333333,\"#9c179e\"],[0.4444444444444444,\"#bd3786\"],[0.5555555555555556,\"#d8576b\"],[0.6666666666666666,\"#ed7953\"],[0.7777777777777778,\"#fb9f3a\"],[0.8888888888888888,\"#fdca26\"],[1.0,\"#f0f921\"]]}],\"heatmap\":[{\"type\":\"heatmap\",\"colorbar\":{\"outlinewidth\":0,\"ticks\":\"\"},\"colorscale\":[[0.0,\"#0d0887\"],[0.1111111111111111,\"#46039f\"],[0.2222222222222222,\"#7201a8\"],[0.3333333333333333,\"#9c179e\"],[0.4444444444444444,\"#bd3786\"],[0.5555555555555556,\"#d8576b\"],[0.6666666666666666,\"#ed7953\"],[0.7777777777777778,\"#fb9f3a\"],[0.8888888888888888,\"#fdca26\"],[1.0,\"#f0f921\"]]}],\"heatmapgl\":[{\"type\":\"heatmapgl\",\"colorbar\":{\"outlinewidth\":0,\"ticks\":\"\"},\"colorscale\":[[0.0,\"#0d0887\"],[0.1111111111111111,\"#46039f\"],[0.2222222222222222,\"#7201a8\"],[0.3333333333333333,\"#9c179e\"],[0.4444444444444444,\"#bd3786\"],[0.5555555555555556,\"#d8576b\"],[0.6666666666666666,\"#ed7953\"],[0.7777777777777778,\"#fb9f3a\"],[0.8888888888888888,\"#fdca26\"],[1.0,\"#f0f921\"]]}],\"contourcarpet\":[{\"type\":\"contourcarpet\",\"colorbar\":{\"outlinewidth\":0,\"ticks\":\"\"}}],\"contour\":[{\"type\":\"contour\",\"colorbar\":{\"outlinewidth\":0,\"ticks\":\"\"},\"colorscale\":[[0.0,\"#0d0887\"],[0.1111111111111111,\"#46039f\"],[0.2222222222222222,\"#7201a8\"],[0.3333333333333333,\"#9c179e\"],[0.4444444444444444,\"#bd3786\"],[0.5555555555555556,\"#d8576b\"],[0.6666666666666666,\"#ed7953\"],[0.7777777777777778,\"#fb9f3a\"],[0.8888888888888888,\"#fdca26\"],[1.0,\"#f0f921\"]]}],\"surface\":[{\"type\":\"surface\",\"colorbar\":{\"outlinewidth\":0,\"ticks\":\"\"},\"colorscale\":[[0.0,\"#0d0887\"],[0.1111111111111111,\"#46039f\"],[0.2222222222222222,\"#7201a8\"],[0.3333333333333333,\"#9c179e\"],[0.4444444444444444,\"#bd3786\"],[0.5555555555555556,\"#d8576b\"],[0.6666666666666666,\"#ed7953\"],[0.7777777777777778,\"#fb9f3a\"],[0.8888888888888888,\"#fdca26\"],[1.0,\"#f0f921\"]]}],\"mesh3d\":[{\"type\":\"mesh3d\",\"colorbar\":{\"outlinewidth\":0,\"ticks\":\"\"}}],\"scatter\":[{\"fillpattern\":{\"fillmode\":\"overlay\",\"size\":10,\"solidity\":0.2},\"type\":\"scatter\"}],\"parcoords\":[{\"type\":\"parcoords\",\"line\":{\"colorbar\":{\"outlinewidth\":0,\"ticks\":\"\"}}}],\"scatterpolargl\":[{\"type\":\"scatterpolargl\",\"marker\":{\"colorbar\":{\"outlinewidth\":0,\"ticks\":\"\"}}}],\"bar\":[{\"error_x\":{\"color\":\"#2a3f5f\"},\"error_y\":{\"color\":\"#2a3f5f\"},\"marker\":{\"line\":{\"color\":\"#E5ECF6\",\"width\":0.5},\"pattern\":{\"fillmode\":\"overlay\",\"size\":10,\"solidity\":0.2}},\"type\":\"bar\"}],\"scattergeo\":[{\"type\":\"scattergeo\",\"marker\":{\"colorbar\":{\"outlinewidth\":0,\"ticks\":\"\"}}}],\"scatterpolar\":[{\"type\":\"scatterpolar\",\"marker\":{\"colorbar\":{\"outlinewidth\":0,\"ticks\":\"\"}}}],\"histogram\":[{\"marker\":{\"pattern\":{\"fillmode\":\"overlay\",\"size\":10,\"solidity\":0.2}},\"type\":\"histogram\"}],\"scattergl\":[{\"type\":\"scattergl\",\"marker\":{\"colorbar\":{\"outlinewidth\":0,\"ticks\":\"\"}}}],\"scatter3d\":[{\"type\":\"scatter3d\",\"line\":{\"colorbar\":{\"outlinewidth\":0,\"ticks\":\"\"}},\"marker\":{\"colorbar\":{\"outlinewidth\":0,\"ticks\":\"\"}}}],\"scattermapbox\":[{\"type\":\"scattermapbox\",\"marker\":{\"colorbar\":{\"outlinewidth\":0,\"ticks\":\"\"}}}],\"scatterternary\":[{\"type\":\"scatterternary\",\"marker\":{\"colorbar\":{\"outlinewidth\":0,\"ticks\":\"\"}}}],\"scattercarpet\":[{\"type\":\"scattercarpet\",\"marker\":{\"colorbar\":{\"outlinewidth\":0,\"ticks\":\"\"}}}],\"carpet\":[{\"aaxis\":{\"endlinecolor\":\"#2a3f5f\",\"gridcolor\":\"white\",\"linecolor\":\"white\",\"minorgridcolor\":\"white\",\"startlinecolor\":\"#2a3f5f\"},\"baxis\":{\"endlinecolor\":\"#2a3f5f\",\"gridcolor\":\"white\",\"linecolor\":\"white\",\"minorgridcolor\":\"white\",\"startlinecolor\":\"#2a3f5f\"},\"type\":\"carpet\"}],\"table\":[{\"cells\":{\"fill\":{\"color\":\"#EBF0F8\"},\"line\":{\"color\":\"white\"}},\"header\":{\"fill\":{\"color\":\"#C8D4E3\"},\"line\":{\"color\":\"white\"}},\"type\":\"table\"}],\"barpolar\":[{\"marker\":{\"line\":{\"color\":\"#E5ECF6\",\"width\":0.5},\"pattern\":{\"fillmode\":\"overlay\",\"size\":10,\"solidity\":0.2}},\"type\":\"barpolar\"}],\"pie\":[{\"automargin\":true,\"type\":\"pie\"}]},\"layout\":{\"autotypenumbers\":\"strict\",\"colorway\":[\"#636efa\",\"#EF553B\",\"#00cc96\",\"#ab63fa\",\"#FFA15A\",\"#19d3f3\",\"#FF6692\",\"#B6E880\",\"#FF97FF\",\"#FECB52\"],\"font\":{\"color\":\"#2a3f5f\"},\"hovermode\":\"closest\",\"hoverlabel\":{\"align\":\"left\"},\"paper_bgcolor\":\"white\",\"plot_bgcolor\":\"#E5ECF6\",\"polar\":{\"bgcolor\":\"#E5ECF6\",\"angularaxis\":{\"gridcolor\":\"white\",\"linecolor\":\"white\",\"ticks\":\"\"},\"radialaxis\":{\"gridcolor\":\"white\",\"linecolor\":\"white\",\"ticks\":\"\"}},\"ternary\":{\"bgcolor\":\"#E5ECF6\",\"aaxis\":{\"gridcolor\":\"white\",\"linecolor\":\"white\",\"ticks\":\"\"},\"baxis\":{\"gridcolor\":\"white\",\"linecolor\":\"white\",\"ticks\":\"\"},\"caxis\":{\"gridcolor\":\"white\",\"linecolor\":\"white\",\"ticks\":\"\"}},\"coloraxis\":{\"colorbar\":{\"outlinewidth\":0,\"ticks\":\"\"}},\"colorscale\":{\"sequential\":[[0.0,\"#0d0887\"],[0.1111111111111111,\"#46039f\"],[0.2222222222222222,\"#7201a8\"],[0.3333333333333333,\"#9c179e\"],[0.4444444444444444,\"#bd3786\"],[0.5555555555555556,\"#d8576b\"],[0.6666666666666666,\"#ed7953\"],[0.7777777777777778,\"#fb9f3a\"],[0.8888888888888888,\"#fdca26\"],[1.0,\"#f0f921\"]],\"sequentialminus\":[[0.0,\"#0d0887\"],[0.1111111111111111,\"#46039f\"],[0.2222222222222222,\"#7201a8\"],[0.3333333333333333,\"#9c179e\"],[0.4444444444444444,\"#bd3786\"],[0.5555555555555556,\"#d8576b\"],[0.6666666666666666,\"#ed7953\"],[0.7777777777777778,\"#fb9f3a\"],[0.8888888888888888,\"#fdca26\"],[1.0,\"#f0f921\"]],\"diverging\":[[0,\"#8e0152\"],[0.1,\"#c51b7d\"],[0.2,\"#de77ae\"],[0.3,\"#f1b6da\"],[0.4,\"#fde0ef\"],[0.5,\"#f7f7f7\"],[0.6,\"#e6f5d0\"],[0.7,\"#b8e186\"],[0.8,\"#7fbc41\"],[0.9,\"#4d9221\"],[1,\"#276419\"]]},\"xaxis\":{\"gridcolor\":\"white\",\"linecolor\":\"white\",\"ticks\":\"\",\"title\":{\"standoff\":15},\"zerolinecolor\":\"white\",\"automargin\":true,\"zerolinewidth\":2},\"yaxis\":{\"gridcolor\":\"white\",\"linecolor\":\"white\",\"ticks\":\"\",\"title\":{\"standoff\":15},\"zerolinecolor\":\"white\",\"automargin\":true,\"zerolinewidth\":2},\"scene\":{\"xaxis\":{\"backgroundcolor\":\"#E5ECF6\",\"gridcolor\":\"white\",\"linecolor\":\"white\",\"showbackground\":true,\"ticks\":\"\",\"zerolinecolor\":\"white\",\"gridwidth\":2},\"yaxis\":{\"backgroundcolor\":\"#E5ECF6\",\"gridcolor\":\"white\",\"linecolor\":\"white\",\"showbackground\":true,\"ticks\":\"\",\"zerolinecolor\":\"white\",\"gridwidth\":2},\"zaxis\":{\"backgroundcolor\":\"#E5ECF6\",\"gridcolor\":\"white\",\"linecolor\":\"white\",\"showbackground\":true,\"ticks\":\"\",\"zerolinecolor\":\"white\",\"gridwidth\":2}},\"shapedefaults\":{\"line\":{\"color\":\"#2a3f5f\"}},\"annotationdefaults\":{\"arrowcolor\":\"#2a3f5f\",\"arrowhead\":0,\"arrowwidth\":1},\"geo\":{\"bgcolor\":\"white\",\"landcolor\":\"#E5ECF6\",\"subunitcolor\":\"white\",\"showland\":true,\"showlakes\":true,\"lakecolor\":\"white\"},\"title\":{\"x\":0.05},\"mapbox\":{\"style\":\"light\"}}},\"xaxis\":{\"tickangle\":-45},\"title\":{\"text\":\"\\u0421\\u0440\\u0435\\u0434\\u043d\\u0438\\u0435 \\u043f\\u0440\\u043e\\u0434\\u0430\\u0436\\u0438 \\u0432 \\u0440\\u0430\\u0437\\u043d\\u044b\\u0445 \\u0440\\u0435\\u0433\\u0438\\u043e\\u043d\\u0430\\u0445 \\u043f\\u043e \\u0436\\u0430\\u043d\\u0440\\u0430\\u043c\"}},                        {\"responsive\": true}                    ).then(function(){\n",
              "                            \n",
              "var gd = document.getElementById('44b63117-acb2-4aef-b636-2568aaf2ccf8');\n",
              "var x = new MutationObserver(function (mutations, observer) {{\n",
              "        var display = window.getComputedStyle(gd).display;\n",
              "        if (!display || display === 'none') {{\n",
              "            console.log([gd, 'removed!']);\n",
              "            Plotly.purge(gd);\n",
              "            observer.disconnect();\n",
              "        }}\n",
              "}});\n",
              "\n",
              "// Listen for the removal of the full notebook cells\n",
              "var notebookContainer = gd.closest('#notebook-container');\n",
              "if (notebookContainer) {{\n",
              "    x.observe(notebookContainer, {childList: true});\n",
              "}}\n",
              "\n",
              "// Listen for the clearing of the current output cell\n",
              "var outputEl = gd.closest('.output');\n",
              "if (outputEl) {{\n",
              "    x.observe(outputEl, {childList: true});\n",
              "}}\n",
              "\n",
              "                        })                };                            </script>        </div>\n",
              "</body>\n",
              "</html>"
            ]
          },
          "metadata": {}
        }
      ]
    },
    {
      "cell_type": "markdown",
      "source": [
        "Жанр Shooter лидирует с большим отрывом как по суммарным, так и по средним значения продаж в Северной Америке и Европе. При этом жанр Action, занимающий второе место по продажам в Америке и первое в Европе, приносит значительно меньше прибыли в среднем на игру.\n",
        "\n",
        "В Японии лучше всего продаются игры жанров Role_Playing. Этот жанр лидирует и по суммарным продажам и по средним показателям. Жанр Action, занимающий второе место по сумме продаж в Японии, демонстрирует заметно более низкие средние показатели продаж с игры."
      ],
      "metadata": {
        "id": "xtuT5xHpKGmx"
      }
    },
    {
      "cell_type": "code",
      "source": [
        "fig = px.pie(df_sum, values='sum_na_sales', names = 'platform', title='Доли продаж по платформам в Северной Америке')\n",
        "fig.show()"
      ],
      "metadata": {
        "colab": {
          "base_uri": "https://localhost:8080/",
          "height": 542
        },
        "id": "ZVOJdFhALbuL",
        "outputId": "ab9e86e3-a9fc-4990-97ab-8afe86d90e9c"
      },
      "execution_count": 44,
      "outputs": [
        {
          "output_type": "display_data",
          "data": {
            "text/html": [
              "<html>\n",
              "<head><meta charset=\"utf-8\" /></head>\n",
              "<body>\n",
              "    <div>            <script src=\"https://cdnjs.cloudflare.com/ajax/libs/mathjax/2.7.5/MathJax.js?config=TeX-AMS-MML_SVG\"></script><script type=\"text/javascript\">if (window.MathJax && window.MathJax.Hub && window.MathJax.Hub.Config) {window.MathJax.Hub.Config({SVG: {font: \"STIX-Web\"}});}</script>                <script type=\"text/javascript\">window.PlotlyConfig = {MathJaxConfig: 'local'};</script>\n",
              "        <script charset=\"utf-8\" src=\"https://cdn.plot.ly/plotly-2.24.1.min.js\"></script>                <div id=\"f25f20a2-1ecf-4bc4-8b3f-fe130fb82070\" class=\"plotly-graph-div\" style=\"height:525px; width:100%;\"></div>            <script type=\"text/javascript\">                                    window.PLOTLYENV=window.PLOTLYENV || {};                                    if (document.getElementById(\"f25f20a2-1ecf-4bc4-8b3f-fe130fb82070\")) {                    Plotly.newPlot(                        \"f25f20a2-1ecf-4bc4-8b3f-fe130fb82070\",                        [{\"domain\":{\"x\":[0.0,1.0],\"y\":[0.0,1.0]},\"hovertemplate\":\"platform=%{label}\\u003cbr\\u003esum_na_sales=%{value}\\u003cextra\\u003e\\u003c\\u002fextra\\u003e\",\"labels\":[\"3DS\",\"PS3\",\"PS4\",\"X360\",\"XOne\"],\"legendgroup\":\"\",\"name\":\"\",\"showlegend\":true,\"values\":[22.64,22.05,98.61,28.3,81.27],\"type\":\"pie\"}],                        {\"template\":{\"data\":{\"histogram2dcontour\":[{\"type\":\"histogram2dcontour\",\"colorbar\":{\"outlinewidth\":0,\"ticks\":\"\"},\"colorscale\":[[0.0,\"#0d0887\"],[0.1111111111111111,\"#46039f\"],[0.2222222222222222,\"#7201a8\"],[0.3333333333333333,\"#9c179e\"],[0.4444444444444444,\"#bd3786\"],[0.5555555555555556,\"#d8576b\"],[0.6666666666666666,\"#ed7953\"],[0.7777777777777778,\"#fb9f3a\"],[0.8888888888888888,\"#fdca26\"],[1.0,\"#f0f921\"]]}],\"choropleth\":[{\"type\":\"choropleth\",\"colorbar\":{\"outlinewidth\":0,\"ticks\":\"\"}}],\"histogram2d\":[{\"type\":\"histogram2d\",\"colorbar\":{\"outlinewidth\":0,\"ticks\":\"\"},\"colorscale\":[[0.0,\"#0d0887\"],[0.1111111111111111,\"#46039f\"],[0.2222222222222222,\"#7201a8\"],[0.3333333333333333,\"#9c179e\"],[0.4444444444444444,\"#bd3786\"],[0.5555555555555556,\"#d8576b\"],[0.6666666666666666,\"#ed7953\"],[0.7777777777777778,\"#fb9f3a\"],[0.8888888888888888,\"#fdca26\"],[1.0,\"#f0f921\"]]}],\"heatmap\":[{\"type\":\"heatmap\",\"colorbar\":{\"outlinewidth\":0,\"ticks\":\"\"},\"colorscale\":[[0.0,\"#0d0887\"],[0.1111111111111111,\"#46039f\"],[0.2222222222222222,\"#7201a8\"],[0.3333333333333333,\"#9c179e\"],[0.4444444444444444,\"#bd3786\"],[0.5555555555555556,\"#d8576b\"],[0.6666666666666666,\"#ed7953\"],[0.7777777777777778,\"#fb9f3a\"],[0.8888888888888888,\"#fdca26\"],[1.0,\"#f0f921\"]]}],\"heatmapgl\":[{\"type\":\"heatmapgl\",\"colorbar\":{\"outlinewidth\":0,\"ticks\":\"\"},\"colorscale\":[[0.0,\"#0d0887\"],[0.1111111111111111,\"#46039f\"],[0.2222222222222222,\"#7201a8\"],[0.3333333333333333,\"#9c179e\"],[0.4444444444444444,\"#bd3786\"],[0.5555555555555556,\"#d8576b\"],[0.6666666666666666,\"#ed7953\"],[0.7777777777777778,\"#fb9f3a\"],[0.8888888888888888,\"#fdca26\"],[1.0,\"#f0f921\"]]}],\"contourcarpet\":[{\"type\":\"contourcarpet\",\"colorbar\":{\"outlinewidth\":0,\"ticks\":\"\"}}],\"contour\":[{\"type\":\"contour\",\"colorbar\":{\"outlinewidth\":0,\"ticks\":\"\"},\"colorscale\":[[0.0,\"#0d0887\"],[0.1111111111111111,\"#46039f\"],[0.2222222222222222,\"#7201a8\"],[0.3333333333333333,\"#9c179e\"],[0.4444444444444444,\"#bd3786\"],[0.5555555555555556,\"#d8576b\"],[0.6666666666666666,\"#ed7953\"],[0.7777777777777778,\"#fb9f3a\"],[0.8888888888888888,\"#fdca26\"],[1.0,\"#f0f921\"]]}],\"surface\":[{\"type\":\"surface\",\"colorbar\":{\"outlinewidth\":0,\"ticks\":\"\"},\"colorscale\":[[0.0,\"#0d0887\"],[0.1111111111111111,\"#46039f\"],[0.2222222222222222,\"#7201a8\"],[0.3333333333333333,\"#9c179e\"],[0.4444444444444444,\"#bd3786\"],[0.5555555555555556,\"#d8576b\"],[0.6666666666666666,\"#ed7953\"],[0.7777777777777778,\"#fb9f3a\"],[0.8888888888888888,\"#fdca26\"],[1.0,\"#f0f921\"]]}],\"mesh3d\":[{\"type\":\"mesh3d\",\"colorbar\":{\"outlinewidth\":0,\"ticks\":\"\"}}],\"scatter\":[{\"fillpattern\":{\"fillmode\":\"overlay\",\"size\":10,\"solidity\":0.2},\"type\":\"scatter\"}],\"parcoords\":[{\"type\":\"parcoords\",\"line\":{\"colorbar\":{\"outlinewidth\":0,\"ticks\":\"\"}}}],\"scatterpolargl\":[{\"type\":\"scatterpolargl\",\"marker\":{\"colorbar\":{\"outlinewidth\":0,\"ticks\":\"\"}}}],\"bar\":[{\"error_x\":{\"color\":\"#2a3f5f\"},\"error_y\":{\"color\":\"#2a3f5f\"},\"marker\":{\"line\":{\"color\":\"#E5ECF6\",\"width\":0.5},\"pattern\":{\"fillmode\":\"overlay\",\"size\":10,\"solidity\":0.2}},\"type\":\"bar\"}],\"scattergeo\":[{\"type\":\"scattergeo\",\"marker\":{\"colorbar\":{\"outlinewidth\":0,\"ticks\":\"\"}}}],\"scatterpolar\":[{\"type\":\"scatterpolar\",\"marker\":{\"colorbar\":{\"outlinewidth\":0,\"ticks\":\"\"}}}],\"histogram\":[{\"marker\":{\"pattern\":{\"fillmode\":\"overlay\",\"size\":10,\"solidity\":0.2}},\"type\":\"histogram\"}],\"scattergl\":[{\"type\":\"scattergl\",\"marker\":{\"colorbar\":{\"outlinewidth\":0,\"ticks\":\"\"}}}],\"scatter3d\":[{\"type\":\"scatter3d\",\"line\":{\"colorbar\":{\"outlinewidth\":0,\"ticks\":\"\"}},\"marker\":{\"colorbar\":{\"outlinewidth\":0,\"ticks\":\"\"}}}],\"scattermapbox\":[{\"type\":\"scattermapbox\",\"marker\":{\"colorbar\":{\"outlinewidth\":0,\"ticks\":\"\"}}}],\"scatterternary\":[{\"type\":\"scatterternary\",\"marker\":{\"colorbar\":{\"outlinewidth\":0,\"ticks\":\"\"}}}],\"scattercarpet\":[{\"type\":\"scattercarpet\",\"marker\":{\"colorbar\":{\"outlinewidth\":0,\"ticks\":\"\"}}}],\"carpet\":[{\"aaxis\":{\"endlinecolor\":\"#2a3f5f\",\"gridcolor\":\"white\",\"linecolor\":\"white\",\"minorgridcolor\":\"white\",\"startlinecolor\":\"#2a3f5f\"},\"baxis\":{\"endlinecolor\":\"#2a3f5f\",\"gridcolor\":\"white\",\"linecolor\":\"white\",\"minorgridcolor\":\"white\",\"startlinecolor\":\"#2a3f5f\"},\"type\":\"carpet\"}],\"table\":[{\"cells\":{\"fill\":{\"color\":\"#EBF0F8\"},\"line\":{\"color\":\"white\"}},\"header\":{\"fill\":{\"color\":\"#C8D4E3\"},\"line\":{\"color\":\"white\"}},\"type\":\"table\"}],\"barpolar\":[{\"marker\":{\"line\":{\"color\":\"#E5ECF6\",\"width\":0.5},\"pattern\":{\"fillmode\":\"overlay\",\"size\":10,\"solidity\":0.2}},\"type\":\"barpolar\"}],\"pie\":[{\"automargin\":true,\"type\":\"pie\"}]},\"layout\":{\"autotypenumbers\":\"strict\",\"colorway\":[\"#636efa\",\"#EF553B\",\"#00cc96\",\"#ab63fa\",\"#FFA15A\",\"#19d3f3\",\"#FF6692\",\"#B6E880\",\"#FF97FF\",\"#FECB52\"],\"font\":{\"color\":\"#2a3f5f\"},\"hovermode\":\"closest\",\"hoverlabel\":{\"align\":\"left\"},\"paper_bgcolor\":\"white\",\"plot_bgcolor\":\"#E5ECF6\",\"polar\":{\"bgcolor\":\"#E5ECF6\",\"angularaxis\":{\"gridcolor\":\"white\",\"linecolor\":\"white\",\"ticks\":\"\"},\"radialaxis\":{\"gridcolor\":\"white\",\"linecolor\":\"white\",\"ticks\":\"\"}},\"ternary\":{\"bgcolor\":\"#E5ECF6\",\"aaxis\":{\"gridcolor\":\"white\",\"linecolor\":\"white\",\"ticks\":\"\"},\"baxis\":{\"gridcolor\":\"white\",\"linecolor\":\"white\",\"ticks\":\"\"},\"caxis\":{\"gridcolor\":\"white\",\"linecolor\":\"white\",\"ticks\":\"\"}},\"coloraxis\":{\"colorbar\":{\"outlinewidth\":0,\"ticks\":\"\"}},\"colorscale\":{\"sequential\":[[0.0,\"#0d0887\"],[0.1111111111111111,\"#46039f\"],[0.2222222222222222,\"#7201a8\"],[0.3333333333333333,\"#9c179e\"],[0.4444444444444444,\"#bd3786\"],[0.5555555555555556,\"#d8576b\"],[0.6666666666666666,\"#ed7953\"],[0.7777777777777778,\"#fb9f3a\"],[0.8888888888888888,\"#fdca26\"],[1.0,\"#f0f921\"]],\"sequentialminus\":[[0.0,\"#0d0887\"],[0.1111111111111111,\"#46039f\"],[0.2222222222222222,\"#7201a8\"],[0.3333333333333333,\"#9c179e\"],[0.4444444444444444,\"#bd3786\"],[0.5555555555555556,\"#d8576b\"],[0.6666666666666666,\"#ed7953\"],[0.7777777777777778,\"#fb9f3a\"],[0.8888888888888888,\"#fdca26\"],[1.0,\"#f0f921\"]],\"diverging\":[[0,\"#8e0152\"],[0.1,\"#c51b7d\"],[0.2,\"#de77ae\"],[0.3,\"#f1b6da\"],[0.4,\"#fde0ef\"],[0.5,\"#f7f7f7\"],[0.6,\"#e6f5d0\"],[0.7,\"#b8e186\"],[0.8,\"#7fbc41\"],[0.9,\"#4d9221\"],[1,\"#276419\"]]},\"xaxis\":{\"gridcolor\":\"white\",\"linecolor\":\"white\",\"ticks\":\"\",\"title\":{\"standoff\":15},\"zerolinecolor\":\"white\",\"automargin\":true,\"zerolinewidth\":2},\"yaxis\":{\"gridcolor\":\"white\",\"linecolor\":\"white\",\"ticks\":\"\",\"title\":{\"standoff\":15},\"zerolinecolor\":\"white\",\"automargin\":true,\"zerolinewidth\":2},\"scene\":{\"xaxis\":{\"backgroundcolor\":\"#E5ECF6\",\"gridcolor\":\"white\",\"linecolor\":\"white\",\"showbackground\":true,\"ticks\":\"\",\"zerolinecolor\":\"white\",\"gridwidth\":2},\"yaxis\":{\"backgroundcolor\":\"#E5ECF6\",\"gridcolor\":\"white\",\"linecolor\":\"white\",\"showbackground\":true,\"ticks\":\"\",\"zerolinecolor\":\"white\",\"gridwidth\":2},\"zaxis\":{\"backgroundcolor\":\"#E5ECF6\",\"gridcolor\":\"white\",\"linecolor\":\"white\",\"showbackground\":true,\"ticks\":\"\",\"zerolinecolor\":\"white\",\"gridwidth\":2}},\"shapedefaults\":{\"line\":{\"color\":\"#2a3f5f\"}},\"annotationdefaults\":{\"arrowcolor\":\"#2a3f5f\",\"arrowhead\":0,\"arrowwidth\":1},\"geo\":{\"bgcolor\":\"white\",\"landcolor\":\"#E5ECF6\",\"subunitcolor\":\"white\",\"showland\":true,\"showlakes\":true,\"lakecolor\":\"white\"},\"title\":{\"x\":0.05},\"mapbox\":{\"style\":\"light\"}}},\"legend\":{\"tracegroupgap\":0},\"title\":{\"text\":\"\\u0414\\u043e\\u043b\\u0438 \\u043f\\u0440\\u043e\\u0434\\u0430\\u0436 \\u043f\\u043e \\u043f\\u043b\\u0430\\u0442\\u0444\\u043e\\u0440\\u043c\\u0430\\u043c \\u0432 \\u0421\\u0435\\u0432\\u0435\\u0440\\u043d\\u043e\\u0439 \\u0410\\u043c\\u0435\\u0440\\u0438\\u043a\\u0435\"}},                        {\"responsive\": true}                    ).then(function(){\n",
              "                            \n",
              "var gd = document.getElementById('f25f20a2-1ecf-4bc4-8b3f-fe130fb82070');\n",
              "var x = new MutationObserver(function (mutations, observer) {{\n",
              "        var display = window.getComputedStyle(gd).display;\n",
              "        if (!display || display === 'none') {{\n",
              "            console.log([gd, 'removed!']);\n",
              "            Plotly.purge(gd);\n",
              "            observer.disconnect();\n",
              "        }}\n",
              "}});\n",
              "\n",
              "// Listen for the removal of the full notebook cells\n",
              "var notebookContainer = gd.closest('#notebook-container');\n",
              "if (notebookContainer) {{\n",
              "    x.observe(notebookContainer, {childList: true});\n",
              "}}\n",
              "\n",
              "// Listen for the clearing of the current output cell\n",
              "var outputEl = gd.closest('.output');\n",
              "if (outputEl) {{\n",
              "    x.observe(outputEl, {childList: true});\n",
              "}}\n",
              "\n",
              "                        })                };                            </script>        </div>\n",
              "</body>\n",
              "</html>"
            ]
          },
          "metadata": {}
        }
      ]
    },
    {
      "cell_type": "code",
      "source": [
        "fig = px.pie(df_sum, values='sum_eu_sales', names = 'platform', title='Доли продаж по платформам в Европе')\n",
        "fig.show()"
      ],
      "metadata": {
        "colab": {
          "base_uri": "https://localhost:8080/",
          "height": 542
        },
        "id": "GRMy7C76NBXl",
        "outputId": "48dae671-eec6-41e2-9908-a292e17fbc07"
      },
      "execution_count": 45,
      "outputs": [
        {
          "output_type": "display_data",
          "data": {
            "text/html": [
              "<html>\n",
              "<head><meta charset=\"utf-8\" /></head>\n",
              "<body>\n",
              "    <div>            <script src=\"https://cdnjs.cloudflare.com/ajax/libs/mathjax/2.7.5/MathJax.js?config=TeX-AMS-MML_SVG\"></script><script type=\"text/javascript\">if (window.MathJax && window.MathJax.Hub && window.MathJax.Hub.Config) {window.MathJax.Hub.Config({SVG: {font: \"STIX-Web\"}});}</script>                <script type=\"text/javascript\">window.PlotlyConfig = {MathJaxConfig: 'local'};</script>\n",
              "        <script charset=\"utf-8\" src=\"https://cdn.plot.ly/plotly-2.24.1.min.js\"></script>                <div id=\"fc0b4710-8c69-43f6-ba88-c81d35d0a7aa\" class=\"plotly-graph-div\" style=\"height:525px; width:100%;\"></div>            <script type=\"text/javascript\">                                    window.PLOTLYENV=window.PLOTLYENV || {};                                    if (document.getElementById(\"fc0b4710-8c69-43f6-ba88-c81d35d0a7aa\")) {                    Plotly.newPlot(                        \"fc0b4710-8c69-43f6-ba88-c81d35d0a7aa\",                        [{\"domain\":{\"x\":[0.0,1.0],\"y\":[0.0,1.0]},\"hovertemplate\":\"platform=%{label}\\u003cbr\\u003esum_eu_sales=%{value}\\u003cextra\\u003e\\u003c\\u002fextra\\u003e\",\"labels\":[\"3DS\",\"PS3\",\"PS4\",\"X360\",\"XOne\"],\"legendgroup\":\"\",\"name\":\"\",\"showlegend\":true,\"values\":[16.12,25.54,130.04,15.49,46.25],\"type\":\"pie\"}],                        {\"template\":{\"data\":{\"histogram2dcontour\":[{\"type\":\"histogram2dcontour\",\"colorbar\":{\"outlinewidth\":0,\"ticks\":\"\"},\"colorscale\":[[0.0,\"#0d0887\"],[0.1111111111111111,\"#46039f\"],[0.2222222222222222,\"#7201a8\"],[0.3333333333333333,\"#9c179e\"],[0.4444444444444444,\"#bd3786\"],[0.5555555555555556,\"#d8576b\"],[0.6666666666666666,\"#ed7953\"],[0.7777777777777778,\"#fb9f3a\"],[0.8888888888888888,\"#fdca26\"],[1.0,\"#f0f921\"]]}],\"choropleth\":[{\"type\":\"choropleth\",\"colorbar\":{\"outlinewidth\":0,\"ticks\":\"\"}}],\"histogram2d\":[{\"type\":\"histogram2d\",\"colorbar\":{\"outlinewidth\":0,\"ticks\":\"\"},\"colorscale\":[[0.0,\"#0d0887\"],[0.1111111111111111,\"#46039f\"],[0.2222222222222222,\"#7201a8\"],[0.3333333333333333,\"#9c179e\"],[0.4444444444444444,\"#bd3786\"],[0.5555555555555556,\"#d8576b\"],[0.6666666666666666,\"#ed7953\"],[0.7777777777777778,\"#fb9f3a\"],[0.8888888888888888,\"#fdca26\"],[1.0,\"#f0f921\"]]}],\"heatmap\":[{\"type\":\"heatmap\",\"colorbar\":{\"outlinewidth\":0,\"ticks\":\"\"},\"colorscale\":[[0.0,\"#0d0887\"],[0.1111111111111111,\"#46039f\"],[0.2222222222222222,\"#7201a8\"],[0.3333333333333333,\"#9c179e\"],[0.4444444444444444,\"#bd3786\"],[0.5555555555555556,\"#d8576b\"],[0.6666666666666666,\"#ed7953\"],[0.7777777777777778,\"#fb9f3a\"],[0.8888888888888888,\"#fdca26\"],[1.0,\"#f0f921\"]]}],\"heatmapgl\":[{\"type\":\"heatmapgl\",\"colorbar\":{\"outlinewidth\":0,\"ticks\":\"\"},\"colorscale\":[[0.0,\"#0d0887\"],[0.1111111111111111,\"#46039f\"],[0.2222222222222222,\"#7201a8\"],[0.3333333333333333,\"#9c179e\"],[0.4444444444444444,\"#bd3786\"],[0.5555555555555556,\"#d8576b\"],[0.6666666666666666,\"#ed7953\"],[0.7777777777777778,\"#fb9f3a\"],[0.8888888888888888,\"#fdca26\"],[1.0,\"#f0f921\"]]}],\"contourcarpet\":[{\"type\":\"contourcarpet\",\"colorbar\":{\"outlinewidth\":0,\"ticks\":\"\"}}],\"contour\":[{\"type\":\"contour\",\"colorbar\":{\"outlinewidth\":0,\"ticks\":\"\"},\"colorscale\":[[0.0,\"#0d0887\"],[0.1111111111111111,\"#46039f\"],[0.2222222222222222,\"#7201a8\"],[0.3333333333333333,\"#9c179e\"],[0.4444444444444444,\"#bd3786\"],[0.5555555555555556,\"#d8576b\"],[0.6666666666666666,\"#ed7953\"],[0.7777777777777778,\"#fb9f3a\"],[0.8888888888888888,\"#fdca26\"],[1.0,\"#f0f921\"]]}],\"surface\":[{\"type\":\"surface\",\"colorbar\":{\"outlinewidth\":0,\"ticks\":\"\"},\"colorscale\":[[0.0,\"#0d0887\"],[0.1111111111111111,\"#46039f\"],[0.2222222222222222,\"#7201a8\"],[0.3333333333333333,\"#9c179e\"],[0.4444444444444444,\"#bd3786\"],[0.5555555555555556,\"#d8576b\"],[0.6666666666666666,\"#ed7953\"],[0.7777777777777778,\"#fb9f3a\"],[0.8888888888888888,\"#fdca26\"],[1.0,\"#f0f921\"]]}],\"mesh3d\":[{\"type\":\"mesh3d\",\"colorbar\":{\"outlinewidth\":0,\"ticks\":\"\"}}],\"scatter\":[{\"fillpattern\":{\"fillmode\":\"overlay\",\"size\":10,\"solidity\":0.2},\"type\":\"scatter\"}],\"parcoords\":[{\"type\":\"parcoords\",\"line\":{\"colorbar\":{\"outlinewidth\":0,\"ticks\":\"\"}}}],\"scatterpolargl\":[{\"type\":\"scatterpolargl\",\"marker\":{\"colorbar\":{\"outlinewidth\":0,\"ticks\":\"\"}}}],\"bar\":[{\"error_x\":{\"color\":\"#2a3f5f\"},\"error_y\":{\"color\":\"#2a3f5f\"},\"marker\":{\"line\":{\"color\":\"#E5ECF6\",\"width\":0.5},\"pattern\":{\"fillmode\":\"overlay\",\"size\":10,\"solidity\":0.2}},\"type\":\"bar\"}],\"scattergeo\":[{\"type\":\"scattergeo\",\"marker\":{\"colorbar\":{\"outlinewidth\":0,\"ticks\":\"\"}}}],\"scatterpolar\":[{\"type\":\"scatterpolar\",\"marker\":{\"colorbar\":{\"outlinewidth\":0,\"ticks\":\"\"}}}],\"histogram\":[{\"marker\":{\"pattern\":{\"fillmode\":\"overlay\",\"size\":10,\"solidity\":0.2}},\"type\":\"histogram\"}],\"scattergl\":[{\"type\":\"scattergl\",\"marker\":{\"colorbar\":{\"outlinewidth\":0,\"ticks\":\"\"}}}],\"scatter3d\":[{\"type\":\"scatter3d\",\"line\":{\"colorbar\":{\"outlinewidth\":0,\"ticks\":\"\"}},\"marker\":{\"colorbar\":{\"outlinewidth\":0,\"ticks\":\"\"}}}],\"scattermapbox\":[{\"type\":\"scattermapbox\",\"marker\":{\"colorbar\":{\"outlinewidth\":0,\"ticks\":\"\"}}}],\"scatterternary\":[{\"type\":\"scatterternary\",\"marker\":{\"colorbar\":{\"outlinewidth\":0,\"ticks\":\"\"}}}],\"scattercarpet\":[{\"type\":\"scattercarpet\",\"marker\":{\"colorbar\":{\"outlinewidth\":0,\"ticks\":\"\"}}}],\"carpet\":[{\"aaxis\":{\"endlinecolor\":\"#2a3f5f\",\"gridcolor\":\"white\",\"linecolor\":\"white\",\"minorgridcolor\":\"white\",\"startlinecolor\":\"#2a3f5f\"},\"baxis\":{\"endlinecolor\":\"#2a3f5f\",\"gridcolor\":\"white\",\"linecolor\":\"white\",\"minorgridcolor\":\"white\",\"startlinecolor\":\"#2a3f5f\"},\"type\":\"carpet\"}],\"table\":[{\"cells\":{\"fill\":{\"color\":\"#EBF0F8\"},\"line\":{\"color\":\"white\"}},\"header\":{\"fill\":{\"color\":\"#C8D4E3\"},\"line\":{\"color\":\"white\"}},\"type\":\"table\"}],\"barpolar\":[{\"marker\":{\"line\":{\"color\":\"#E5ECF6\",\"width\":0.5},\"pattern\":{\"fillmode\":\"overlay\",\"size\":10,\"solidity\":0.2}},\"type\":\"barpolar\"}],\"pie\":[{\"automargin\":true,\"type\":\"pie\"}]},\"layout\":{\"autotypenumbers\":\"strict\",\"colorway\":[\"#636efa\",\"#EF553B\",\"#00cc96\",\"#ab63fa\",\"#FFA15A\",\"#19d3f3\",\"#FF6692\",\"#B6E880\",\"#FF97FF\",\"#FECB52\"],\"font\":{\"color\":\"#2a3f5f\"},\"hovermode\":\"closest\",\"hoverlabel\":{\"align\":\"left\"},\"paper_bgcolor\":\"white\",\"plot_bgcolor\":\"#E5ECF6\",\"polar\":{\"bgcolor\":\"#E5ECF6\",\"angularaxis\":{\"gridcolor\":\"white\",\"linecolor\":\"white\",\"ticks\":\"\"},\"radialaxis\":{\"gridcolor\":\"white\",\"linecolor\":\"white\",\"ticks\":\"\"}},\"ternary\":{\"bgcolor\":\"#E5ECF6\",\"aaxis\":{\"gridcolor\":\"white\",\"linecolor\":\"white\",\"ticks\":\"\"},\"baxis\":{\"gridcolor\":\"white\",\"linecolor\":\"white\",\"ticks\":\"\"},\"caxis\":{\"gridcolor\":\"white\",\"linecolor\":\"white\",\"ticks\":\"\"}},\"coloraxis\":{\"colorbar\":{\"outlinewidth\":0,\"ticks\":\"\"}},\"colorscale\":{\"sequential\":[[0.0,\"#0d0887\"],[0.1111111111111111,\"#46039f\"],[0.2222222222222222,\"#7201a8\"],[0.3333333333333333,\"#9c179e\"],[0.4444444444444444,\"#bd3786\"],[0.5555555555555556,\"#d8576b\"],[0.6666666666666666,\"#ed7953\"],[0.7777777777777778,\"#fb9f3a\"],[0.8888888888888888,\"#fdca26\"],[1.0,\"#f0f921\"]],\"sequentialminus\":[[0.0,\"#0d0887\"],[0.1111111111111111,\"#46039f\"],[0.2222222222222222,\"#7201a8\"],[0.3333333333333333,\"#9c179e\"],[0.4444444444444444,\"#bd3786\"],[0.5555555555555556,\"#d8576b\"],[0.6666666666666666,\"#ed7953\"],[0.7777777777777778,\"#fb9f3a\"],[0.8888888888888888,\"#fdca26\"],[1.0,\"#f0f921\"]],\"diverging\":[[0,\"#8e0152\"],[0.1,\"#c51b7d\"],[0.2,\"#de77ae\"],[0.3,\"#f1b6da\"],[0.4,\"#fde0ef\"],[0.5,\"#f7f7f7\"],[0.6,\"#e6f5d0\"],[0.7,\"#b8e186\"],[0.8,\"#7fbc41\"],[0.9,\"#4d9221\"],[1,\"#276419\"]]},\"xaxis\":{\"gridcolor\":\"white\",\"linecolor\":\"white\",\"ticks\":\"\",\"title\":{\"standoff\":15},\"zerolinecolor\":\"white\",\"automargin\":true,\"zerolinewidth\":2},\"yaxis\":{\"gridcolor\":\"white\",\"linecolor\":\"white\",\"ticks\":\"\",\"title\":{\"standoff\":15},\"zerolinecolor\":\"white\",\"automargin\":true,\"zerolinewidth\":2},\"scene\":{\"xaxis\":{\"backgroundcolor\":\"#E5ECF6\",\"gridcolor\":\"white\",\"linecolor\":\"white\",\"showbackground\":true,\"ticks\":\"\",\"zerolinecolor\":\"white\",\"gridwidth\":2},\"yaxis\":{\"backgroundcolor\":\"#E5ECF6\",\"gridcolor\":\"white\",\"linecolor\":\"white\",\"showbackground\":true,\"ticks\":\"\",\"zerolinecolor\":\"white\",\"gridwidth\":2},\"zaxis\":{\"backgroundcolor\":\"#E5ECF6\",\"gridcolor\":\"white\",\"linecolor\":\"white\",\"showbackground\":true,\"ticks\":\"\",\"zerolinecolor\":\"white\",\"gridwidth\":2}},\"shapedefaults\":{\"line\":{\"color\":\"#2a3f5f\"}},\"annotationdefaults\":{\"arrowcolor\":\"#2a3f5f\",\"arrowhead\":0,\"arrowwidth\":1},\"geo\":{\"bgcolor\":\"white\",\"landcolor\":\"#E5ECF6\",\"subunitcolor\":\"white\",\"showland\":true,\"showlakes\":true,\"lakecolor\":\"white\"},\"title\":{\"x\":0.05},\"mapbox\":{\"style\":\"light\"}}},\"legend\":{\"tracegroupgap\":0},\"title\":{\"text\":\"\\u0414\\u043e\\u043b\\u0438 \\u043f\\u0440\\u043e\\u0434\\u0430\\u0436 \\u043f\\u043e \\u043f\\u043b\\u0430\\u0442\\u0444\\u043e\\u0440\\u043c\\u0430\\u043c \\u0432 \\u0415\\u0432\\u0440\\u043e\\u043f\\u0435\"}},                        {\"responsive\": true}                    ).then(function(){\n",
              "                            \n",
              "var gd = document.getElementById('fc0b4710-8c69-43f6-ba88-c81d35d0a7aa');\n",
              "var x = new MutationObserver(function (mutations, observer) {{\n",
              "        var display = window.getComputedStyle(gd).display;\n",
              "        if (!display || display === 'none') {{\n",
              "            console.log([gd, 'removed!']);\n",
              "            Plotly.purge(gd);\n",
              "            observer.disconnect();\n",
              "        }}\n",
              "}});\n",
              "\n",
              "// Listen for the removal of the full notebook cells\n",
              "var notebookContainer = gd.closest('#notebook-container');\n",
              "if (notebookContainer) {{\n",
              "    x.observe(notebookContainer, {childList: true});\n",
              "}}\n",
              "\n",
              "// Listen for the clearing of the current output cell\n",
              "var outputEl = gd.closest('.output');\n",
              "if (outputEl) {{\n",
              "    x.observe(outputEl, {childList: true});\n",
              "}}\n",
              "\n",
              "                        })                };                            </script>        </div>\n",
              "</body>\n",
              "</html>"
            ]
          },
          "metadata": {}
        }
      ]
    },
    {
      "cell_type": "code",
      "source": [
        "fig = px.pie(df_sum, values='sum_jp_sales', names = 'platform', title='Доли продаж по платформам в Японии')\n",
        "fig.show()"
      ],
      "metadata": {
        "colab": {
          "base_uri": "https://localhost:8080/",
          "height": 542
        },
        "id": "dlzPEEPoNH9x",
        "outputId": "8ee39de4-b10e-49cc-8339-8d83fae973ed"
      },
      "execution_count": 46,
      "outputs": [
        {
          "output_type": "display_data",
          "data": {
            "text/html": [
              "<html>\n",
              "<head><meta charset=\"utf-8\" /></head>\n",
              "<body>\n",
              "    <div>            <script src=\"https://cdnjs.cloudflare.com/ajax/libs/mathjax/2.7.5/MathJax.js?config=TeX-AMS-MML_SVG\"></script><script type=\"text/javascript\">if (window.MathJax && window.MathJax.Hub && window.MathJax.Hub.Config) {window.MathJax.Hub.Config({SVG: {font: \"STIX-Web\"}});}</script>                <script type=\"text/javascript\">window.PlotlyConfig = {MathJaxConfig: 'local'};</script>\n",
              "        <script charset=\"utf-8\" src=\"https://cdn.plot.ly/plotly-2.24.1.min.js\"></script>                <div id=\"3ee7492e-3b23-4bcc-8206-df5139a89085\" class=\"plotly-graph-div\" style=\"height:525px; width:100%;\"></div>            <script type=\"text/javascript\">                                    window.PLOTLYENV=window.PLOTLYENV || {};                                    if (document.getElementById(\"3ee7492e-3b23-4bcc-8206-df5139a89085\")) {                    Plotly.newPlot(                        \"3ee7492e-3b23-4bcc-8206-df5139a89085\",                        [{\"domain\":{\"x\":[0.0,1.0],\"y\":[0.0,1.0]},\"hovertemplate\":\"platform=%{label}\\u003cbr\\u003esum_jp_sales=%{value}\\u003cextra\\u003e\\u003c\\u002fextra\\u003e\",\"labels\":[\"3DS\",\"PS3\",\"PS4\",\"X360\",\"XOne\"],\"legendgroup\":\"\",\"name\":\"\",\"showlegend\":true,\"values\":[44.24,11.22,15.02,0.08,0.32],\"type\":\"pie\"}],                        {\"template\":{\"data\":{\"histogram2dcontour\":[{\"type\":\"histogram2dcontour\",\"colorbar\":{\"outlinewidth\":0,\"ticks\":\"\"},\"colorscale\":[[0.0,\"#0d0887\"],[0.1111111111111111,\"#46039f\"],[0.2222222222222222,\"#7201a8\"],[0.3333333333333333,\"#9c179e\"],[0.4444444444444444,\"#bd3786\"],[0.5555555555555556,\"#d8576b\"],[0.6666666666666666,\"#ed7953\"],[0.7777777777777778,\"#fb9f3a\"],[0.8888888888888888,\"#fdca26\"],[1.0,\"#f0f921\"]]}],\"choropleth\":[{\"type\":\"choropleth\",\"colorbar\":{\"outlinewidth\":0,\"ticks\":\"\"}}],\"histogram2d\":[{\"type\":\"histogram2d\",\"colorbar\":{\"outlinewidth\":0,\"ticks\":\"\"},\"colorscale\":[[0.0,\"#0d0887\"],[0.1111111111111111,\"#46039f\"],[0.2222222222222222,\"#7201a8\"],[0.3333333333333333,\"#9c179e\"],[0.4444444444444444,\"#bd3786\"],[0.5555555555555556,\"#d8576b\"],[0.6666666666666666,\"#ed7953\"],[0.7777777777777778,\"#fb9f3a\"],[0.8888888888888888,\"#fdca26\"],[1.0,\"#f0f921\"]]}],\"heatmap\":[{\"type\":\"heatmap\",\"colorbar\":{\"outlinewidth\":0,\"ticks\":\"\"},\"colorscale\":[[0.0,\"#0d0887\"],[0.1111111111111111,\"#46039f\"],[0.2222222222222222,\"#7201a8\"],[0.3333333333333333,\"#9c179e\"],[0.4444444444444444,\"#bd3786\"],[0.5555555555555556,\"#d8576b\"],[0.6666666666666666,\"#ed7953\"],[0.7777777777777778,\"#fb9f3a\"],[0.8888888888888888,\"#fdca26\"],[1.0,\"#f0f921\"]]}],\"heatmapgl\":[{\"type\":\"heatmapgl\",\"colorbar\":{\"outlinewidth\":0,\"ticks\":\"\"},\"colorscale\":[[0.0,\"#0d0887\"],[0.1111111111111111,\"#46039f\"],[0.2222222222222222,\"#7201a8\"],[0.3333333333333333,\"#9c179e\"],[0.4444444444444444,\"#bd3786\"],[0.5555555555555556,\"#d8576b\"],[0.6666666666666666,\"#ed7953\"],[0.7777777777777778,\"#fb9f3a\"],[0.8888888888888888,\"#fdca26\"],[1.0,\"#f0f921\"]]}],\"contourcarpet\":[{\"type\":\"contourcarpet\",\"colorbar\":{\"outlinewidth\":0,\"ticks\":\"\"}}],\"contour\":[{\"type\":\"contour\",\"colorbar\":{\"outlinewidth\":0,\"ticks\":\"\"},\"colorscale\":[[0.0,\"#0d0887\"],[0.1111111111111111,\"#46039f\"],[0.2222222222222222,\"#7201a8\"],[0.3333333333333333,\"#9c179e\"],[0.4444444444444444,\"#bd3786\"],[0.5555555555555556,\"#d8576b\"],[0.6666666666666666,\"#ed7953\"],[0.7777777777777778,\"#fb9f3a\"],[0.8888888888888888,\"#fdca26\"],[1.0,\"#f0f921\"]]}],\"surface\":[{\"type\":\"surface\",\"colorbar\":{\"outlinewidth\":0,\"ticks\":\"\"},\"colorscale\":[[0.0,\"#0d0887\"],[0.1111111111111111,\"#46039f\"],[0.2222222222222222,\"#7201a8\"],[0.3333333333333333,\"#9c179e\"],[0.4444444444444444,\"#bd3786\"],[0.5555555555555556,\"#d8576b\"],[0.6666666666666666,\"#ed7953\"],[0.7777777777777778,\"#fb9f3a\"],[0.8888888888888888,\"#fdca26\"],[1.0,\"#f0f921\"]]}],\"mesh3d\":[{\"type\":\"mesh3d\",\"colorbar\":{\"outlinewidth\":0,\"ticks\":\"\"}}],\"scatter\":[{\"fillpattern\":{\"fillmode\":\"overlay\",\"size\":10,\"solidity\":0.2},\"type\":\"scatter\"}],\"parcoords\":[{\"type\":\"parcoords\",\"line\":{\"colorbar\":{\"outlinewidth\":0,\"ticks\":\"\"}}}],\"scatterpolargl\":[{\"type\":\"scatterpolargl\",\"marker\":{\"colorbar\":{\"outlinewidth\":0,\"ticks\":\"\"}}}],\"bar\":[{\"error_x\":{\"color\":\"#2a3f5f\"},\"error_y\":{\"color\":\"#2a3f5f\"},\"marker\":{\"line\":{\"color\":\"#E5ECF6\",\"width\":0.5},\"pattern\":{\"fillmode\":\"overlay\",\"size\":10,\"solidity\":0.2}},\"type\":\"bar\"}],\"scattergeo\":[{\"type\":\"scattergeo\",\"marker\":{\"colorbar\":{\"outlinewidth\":0,\"ticks\":\"\"}}}],\"scatterpolar\":[{\"type\":\"scatterpolar\",\"marker\":{\"colorbar\":{\"outlinewidth\":0,\"ticks\":\"\"}}}],\"histogram\":[{\"marker\":{\"pattern\":{\"fillmode\":\"overlay\",\"size\":10,\"solidity\":0.2}},\"type\":\"histogram\"}],\"scattergl\":[{\"type\":\"scattergl\",\"marker\":{\"colorbar\":{\"outlinewidth\":0,\"ticks\":\"\"}}}],\"scatter3d\":[{\"type\":\"scatter3d\",\"line\":{\"colorbar\":{\"outlinewidth\":0,\"ticks\":\"\"}},\"marker\":{\"colorbar\":{\"outlinewidth\":0,\"ticks\":\"\"}}}],\"scattermapbox\":[{\"type\":\"scattermapbox\",\"marker\":{\"colorbar\":{\"outlinewidth\":0,\"ticks\":\"\"}}}],\"scatterternary\":[{\"type\":\"scatterternary\",\"marker\":{\"colorbar\":{\"outlinewidth\":0,\"ticks\":\"\"}}}],\"scattercarpet\":[{\"type\":\"scattercarpet\",\"marker\":{\"colorbar\":{\"outlinewidth\":0,\"ticks\":\"\"}}}],\"carpet\":[{\"aaxis\":{\"endlinecolor\":\"#2a3f5f\",\"gridcolor\":\"white\",\"linecolor\":\"white\",\"minorgridcolor\":\"white\",\"startlinecolor\":\"#2a3f5f\"},\"baxis\":{\"endlinecolor\":\"#2a3f5f\",\"gridcolor\":\"white\",\"linecolor\":\"white\",\"minorgridcolor\":\"white\",\"startlinecolor\":\"#2a3f5f\"},\"type\":\"carpet\"}],\"table\":[{\"cells\":{\"fill\":{\"color\":\"#EBF0F8\"},\"line\":{\"color\":\"white\"}},\"header\":{\"fill\":{\"color\":\"#C8D4E3\"},\"line\":{\"color\":\"white\"}},\"type\":\"table\"}],\"barpolar\":[{\"marker\":{\"line\":{\"color\":\"#E5ECF6\",\"width\":0.5},\"pattern\":{\"fillmode\":\"overlay\",\"size\":10,\"solidity\":0.2}},\"type\":\"barpolar\"}],\"pie\":[{\"automargin\":true,\"type\":\"pie\"}]},\"layout\":{\"autotypenumbers\":\"strict\",\"colorway\":[\"#636efa\",\"#EF553B\",\"#00cc96\",\"#ab63fa\",\"#FFA15A\",\"#19d3f3\",\"#FF6692\",\"#B6E880\",\"#FF97FF\",\"#FECB52\"],\"font\":{\"color\":\"#2a3f5f\"},\"hovermode\":\"closest\",\"hoverlabel\":{\"align\":\"left\"},\"paper_bgcolor\":\"white\",\"plot_bgcolor\":\"#E5ECF6\",\"polar\":{\"bgcolor\":\"#E5ECF6\",\"angularaxis\":{\"gridcolor\":\"white\",\"linecolor\":\"white\",\"ticks\":\"\"},\"radialaxis\":{\"gridcolor\":\"white\",\"linecolor\":\"white\",\"ticks\":\"\"}},\"ternary\":{\"bgcolor\":\"#E5ECF6\",\"aaxis\":{\"gridcolor\":\"white\",\"linecolor\":\"white\",\"ticks\":\"\"},\"baxis\":{\"gridcolor\":\"white\",\"linecolor\":\"white\",\"ticks\":\"\"},\"caxis\":{\"gridcolor\":\"white\",\"linecolor\":\"white\",\"ticks\":\"\"}},\"coloraxis\":{\"colorbar\":{\"outlinewidth\":0,\"ticks\":\"\"}},\"colorscale\":{\"sequential\":[[0.0,\"#0d0887\"],[0.1111111111111111,\"#46039f\"],[0.2222222222222222,\"#7201a8\"],[0.3333333333333333,\"#9c179e\"],[0.4444444444444444,\"#bd3786\"],[0.5555555555555556,\"#d8576b\"],[0.6666666666666666,\"#ed7953\"],[0.7777777777777778,\"#fb9f3a\"],[0.8888888888888888,\"#fdca26\"],[1.0,\"#f0f921\"]],\"sequentialminus\":[[0.0,\"#0d0887\"],[0.1111111111111111,\"#46039f\"],[0.2222222222222222,\"#7201a8\"],[0.3333333333333333,\"#9c179e\"],[0.4444444444444444,\"#bd3786\"],[0.5555555555555556,\"#d8576b\"],[0.6666666666666666,\"#ed7953\"],[0.7777777777777778,\"#fb9f3a\"],[0.8888888888888888,\"#fdca26\"],[1.0,\"#f0f921\"]],\"diverging\":[[0,\"#8e0152\"],[0.1,\"#c51b7d\"],[0.2,\"#de77ae\"],[0.3,\"#f1b6da\"],[0.4,\"#fde0ef\"],[0.5,\"#f7f7f7\"],[0.6,\"#e6f5d0\"],[0.7,\"#b8e186\"],[0.8,\"#7fbc41\"],[0.9,\"#4d9221\"],[1,\"#276419\"]]},\"xaxis\":{\"gridcolor\":\"white\",\"linecolor\":\"white\",\"ticks\":\"\",\"title\":{\"standoff\":15},\"zerolinecolor\":\"white\",\"automargin\":true,\"zerolinewidth\":2},\"yaxis\":{\"gridcolor\":\"white\",\"linecolor\":\"white\",\"ticks\":\"\",\"title\":{\"standoff\":15},\"zerolinecolor\":\"white\",\"automargin\":true,\"zerolinewidth\":2},\"scene\":{\"xaxis\":{\"backgroundcolor\":\"#E5ECF6\",\"gridcolor\":\"white\",\"linecolor\":\"white\",\"showbackground\":true,\"ticks\":\"\",\"zerolinecolor\":\"white\",\"gridwidth\":2},\"yaxis\":{\"backgroundcolor\":\"#E5ECF6\",\"gridcolor\":\"white\",\"linecolor\":\"white\",\"showbackground\":true,\"ticks\":\"\",\"zerolinecolor\":\"white\",\"gridwidth\":2},\"zaxis\":{\"backgroundcolor\":\"#E5ECF6\",\"gridcolor\":\"white\",\"linecolor\":\"white\",\"showbackground\":true,\"ticks\":\"\",\"zerolinecolor\":\"white\",\"gridwidth\":2}},\"shapedefaults\":{\"line\":{\"color\":\"#2a3f5f\"}},\"annotationdefaults\":{\"arrowcolor\":\"#2a3f5f\",\"arrowhead\":0,\"arrowwidth\":1},\"geo\":{\"bgcolor\":\"white\",\"landcolor\":\"#E5ECF6\",\"subunitcolor\":\"white\",\"showland\":true,\"showlakes\":true,\"lakecolor\":\"white\"},\"title\":{\"x\":0.05},\"mapbox\":{\"style\":\"light\"}}},\"legend\":{\"tracegroupgap\":0},\"title\":{\"text\":\"\\u0414\\u043e\\u043b\\u0438 \\u043f\\u0440\\u043e\\u0434\\u0430\\u0436 \\u043f\\u043e \\u043f\\u043b\\u0430\\u0442\\u0444\\u043e\\u0440\\u043c\\u0430\\u043c \\u0432 \\u042f\\u043f\\u043e\\u043d\\u0438\\u0438\"}},                        {\"responsive\": true}                    ).then(function(){\n",
              "                            \n",
              "var gd = document.getElementById('3ee7492e-3b23-4bcc-8206-df5139a89085');\n",
              "var x = new MutationObserver(function (mutations, observer) {{\n",
              "        var display = window.getComputedStyle(gd).display;\n",
              "        if (!display || display === 'none') {{\n",
              "            console.log([gd, 'removed!']);\n",
              "            Plotly.purge(gd);\n",
              "            observer.disconnect();\n",
              "        }}\n",
              "}});\n",
              "\n",
              "// Listen for the removal of the full notebook cells\n",
              "var notebookContainer = gd.closest('#notebook-container');\n",
              "if (notebookContainer) {{\n",
              "    x.observe(notebookContainer, {childList: true});\n",
              "}}\n",
              "\n",
              "// Listen for the clearing of the current output cell\n",
              "var outputEl = gd.closest('.output');\n",
              "if (outputEl) {{\n",
              "    x.observe(outputEl, {childList: true});\n",
              "}}\n",
              "\n",
              "                        })                };                            </script>        </div>\n",
              "</body>\n",
              "</html>"
            ]
          },
          "metadata": {}
        }
      ]
    },
    {
      "cell_type": "code",
      "source": [
        "fig = px.pie(top_genre_sum, values='sum_na_sales', names = 'genre', title='Доли продаж по жанрам в Северной Америке')\n",
        "fig.show()"
      ],
      "metadata": {
        "colab": {
          "base_uri": "https://localhost:8080/",
          "height": 542
        },
        "id": "OlgFkLxANOmx",
        "outputId": "0a3cfdd4-7a46-415e-cb42-b77da1297eb2"
      },
      "execution_count": 47,
      "outputs": [
        {
          "output_type": "display_data",
          "data": {
            "text/html": [
              "<html>\n",
              "<head><meta charset=\"utf-8\" /></head>\n",
              "<body>\n",
              "    <div>            <script src=\"https://cdnjs.cloudflare.com/ajax/libs/mathjax/2.7.5/MathJax.js?config=TeX-AMS-MML_SVG\"></script><script type=\"text/javascript\">if (window.MathJax && window.MathJax.Hub && window.MathJax.Hub.Config) {window.MathJax.Hub.Config({SVG: {font: \"STIX-Web\"}});}</script>                <script type=\"text/javascript\">window.PlotlyConfig = {MathJaxConfig: 'local'};</script>\n",
              "        <script charset=\"utf-8\" src=\"https://cdn.plot.ly/plotly-2.24.1.min.js\"></script>                <div id=\"cca9cd0c-6f54-475f-ae03-2f565151d4a7\" class=\"plotly-graph-div\" style=\"height:525px; width:100%;\"></div>            <script type=\"text/javascript\">                                    window.PLOTLYENV=window.PLOTLYENV || {};                                    if (document.getElementById(\"cca9cd0c-6f54-475f-ae03-2f565151d4a7\")) {                    Plotly.newPlot(                        \"cca9cd0c-6f54-475f-ae03-2f565151d4a7\",                        [{\"domain\":{\"x\":[0.0,1.0],\"y\":[0.0,1.0]},\"hovertemplate\":\"genre=%{label}\\u003cbr\\u003esum_na_sales=%{value}\\u003cextra\\u003e\\u003c\\u002fextra\\u003e\",\"labels\":[\"Action\",\"Misc\",\"Racing\",\"Role-Playing\",\"Shooter\",\"Sports\"],\"legendgroup\":\"\",\"name\":\"\",\"showlegend\":true,\"values\":[64.87,11.19,5.59,30.46,75.1,45.410000000000004],\"type\":\"pie\"}],                        {\"template\":{\"data\":{\"histogram2dcontour\":[{\"type\":\"histogram2dcontour\",\"colorbar\":{\"outlinewidth\":0,\"ticks\":\"\"},\"colorscale\":[[0.0,\"#0d0887\"],[0.1111111111111111,\"#46039f\"],[0.2222222222222222,\"#7201a8\"],[0.3333333333333333,\"#9c179e\"],[0.4444444444444444,\"#bd3786\"],[0.5555555555555556,\"#d8576b\"],[0.6666666666666666,\"#ed7953\"],[0.7777777777777778,\"#fb9f3a\"],[0.8888888888888888,\"#fdca26\"],[1.0,\"#f0f921\"]]}],\"choropleth\":[{\"type\":\"choropleth\",\"colorbar\":{\"outlinewidth\":0,\"ticks\":\"\"}}],\"histogram2d\":[{\"type\":\"histogram2d\",\"colorbar\":{\"outlinewidth\":0,\"ticks\":\"\"},\"colorscale\":[[0.0,\"#0d0887\"],[0.1111111111111111,\"#46039f\"],[0.2222222222222222,\"#7201a8\"],[0.3333333333333333,\"#9c179e\"],[0.4444444444444444,\"#bd3786\"],[0.5555555555555556,\"#d8576b\"],[0.6666666666666666,\"#ed7953\"],[0.7777777777777778,\"#fb9f3a\"],[0.8888888888888888,\"#fdca26\"],[1.0,\"#f0f921\"]]}],\"heatmap\":[{\"type\":\"heatmap\",\"colorbar\":{\"outlinewidth\":0,\"ticks\":\"\"},\"colorscale\":[[0.0,\"#0d0887\"],[0.1111111111111111,\"#46039f\"],[0.2222222222222222,\"#7201a8\"],[0.3333333333333333,\"#9c179e\"],[0.4444444444444444,\"#bd3786\"],[0.5555555555555556,\"#d8576b\"],[0.6666666666666666,\"#ed7953\"],[0.7777777777777778,\"#fb9f3a\"],[0.8888888888888888,\"#fdca26\"],[1.0,\"#f0f921\"]]}],\"heatmapgl\":[{\"type\":\"heatmapgl\",\"colorbar\":{\"outlinewidth\":0,\"ticks\":\"\"},\"colorscale\":[[0.0,\"#0d0887\"],[0.1111111111111111,\"#46039f\"],[0.2222222222222222,\"#7201a8\"],[0.3333333333333333,\"#9c179e\"],[0.4444444444444444,\"#bd3786\"],[0.5555555555555556,\"#d8576b\"],[0.6666666666666666,\"#ed7953\"],[0.7777777777777778,\"#fb9f3a\"],[0.8888888888888888,\"#fdca26\"],[1.0,\"#f0f921\"]]}],\"contourcarpet\":[{\"type\":\"contourcarpet\",\"colorbar\":{\"outlinewidth\":0,\"ticks\":\"\"}}],\"contour\":[{\"type\":\"contour\",\"colorbar\":{\"outlinewidth\":0,\"ticks\":\"\"},\"colorscale\":[[0.0,\"#0d0887\"],[0.1111111111111111,\"#46039f\"],[0.2222222222222222,\"#7201a8\"],[0.3333333333333333,\"#9c179e\"],[0.4444444444444444,\"#bd3786\"],[0.5555555555555556,\"#d8576b\"],[0.6666666666666666,\"#ed7953\"],[0.7777777777777778,\"#fb9f3a\"],[0.8888888888888888,\"#fdca26\"],[1.0,\"#f0f921\"]]}],\"surface\":[{\"type\":\"surface\",\"colorbar\":{\"outlinewidth\":0,\"ticks\":\"\"},\"colorscale\":[[0.0,\"#0d0887\"],[0.1111111111111111,\"#46039f\"],[0.2222222222222222,\"#7201a8\"],[0.3333333333333333,\"#9c179e\"],[0.4444444444444444,\"#bd3786\"],[0.5555555555555556,\"#d8576b\"],[0.6666666666666666,\"#ed7953\"],[0.7777777777777778,\"#fb9f3a\"],[0.8888888888888888,\"#fdca26\"],[1.0,\"#f0f921\"]]}],\"mesh3d\":[{\"type\":\"mesh3d\",\"colorbar\":{\"outlinewidth\":0,\"ticks\":\"\"}}],\"scatter\":[{\"fillpattern\":{\"fillmode\":\"overlay\",\"size\":10,\"solidity\":0.2},\"type\":\"scatter\"}],\"parcoords\":[{\"type\":\"parcoords\",\"line\":{\"colorbar\":{\"outlinewidth\":0,\"ticks\":\"\"}}}],\"scatterpolargl\":[{\"type\":\"scatterpolargl\",\"marker\":{\"colorbar\":{\"outlinewidth\":0,\"ticks\":\"\"}}}],\"bar\":[{\"error_x\":{\"color\":\"#2a3f5f\"},\"error_y\":{\"color\":\"#2a3f5f\"},\"marker\":{\"line\":{\"color\":\"#E5ECF6\",\"width\":0.5},\"pattern\":{\"fillmode\":\"overlay\",\"size\":10,\"solidity\":0.2}},\"type\":\"bar\"}],\"scattergeo\":[{\"type\":\"scattergeo\",\"marker\":{\"colorbar\":{\"outlinewidth\":0,\"ticks\":\"\"}}}],\"scatterpolar\":[{\"type\":\"scatterpolar\",\"marker\":{\"colorbar\":{\"outlinewidth\":0,\"ticks\":\"\"}}}],\"histogram\":[{\"marker\":{\"pattern\":{\"fillmode\":\"overlay\",\"size\":10,\"solidity\":0.2}},\"type\":\"histogram\"}],\"scattergl\":[{\"type\":\"scattergl\",\"marker\":{\"colorbar\":{\"outlinewidth\":0,\"ticks\":\"\"}}}],\"scatter3d\":[{\"type\":\"scatter3d\",\"line\":{\"colorbar\":{\"outlinewidth\":0,\"ticks\":\"\"}},\"marker\":{\"colorbar\":{\"outlinewidth\":0,\"ticks\":\"\"}}}],\"scattermapbox\":[{\"type\":\"scattermapbox\",\"marker\":{\"colorbar\":{\"outlinewidth\":0,\"ticks\":\"\"}}}],\"scatterternary\":[{\"type\":\"scatterternary\",\"marker\":{\"colorbar\":{\"outlinewidth\":0,\"ticks\":\"\"}}}],\"scattercarpet\":[{\"type\":\"scattercarpet\",\"marker\":{\"colorbar\":{\"outlinewidth\":0,\"ticks\":\"\"}}}],\"carpet\":[{\"aaxis\":{\"endlinecolor\":\"#2a3f5f\",\"gridcolor\":\"white\",\"linecolor\":\"white\",\"minorgridcolor\":\"white\",\"startlinecolor\":\"#2a3f5f\"},\"baxis\":{\"endlinecolor\":\"#2a3f5f\",\"gridcolor\":\"white\",\"linecolor\":\"white\",\"minorgridcolor\":\"white\",\"startlinecolor\":\"#2a3f5f\"},\"type\":\"carpet\"}],\"table\":[{\"cells\":{\"fill\":{\"color\":\"#EBF0F8\"},\"line\":{\"color\":\"white\"}},\"header\":{\"fill\":{\"color\":\"#C8D4E3\"},\"line\":{\"color\":\"white\"}},\"type\":\"table\"}],\"barpolar\":[{\"marker\":{\"line\":{\"color\":\"#E5ECF6\",\"width\":0.5},\"pattern\":{\"fillmode\":\"overlay\",\"size\":10,\"solidity\":0.2}},\"type\":\"barpolar\"}],\"pie\":[{\"automargin\":true,\"type\":\"pie\"}]},\"layout\":{\"autotypenumbers\":\"strict\",\"colorway\":[\"#636efa\",\"#EF553B\",\"#00cc96\",\"#ab63fa\",\"#FFA15A\",\"#19d3f3\",\"#FF6692\",\"#B6E880\",\"#FF97FF\",\"#FECB52\"],\"font\":{\"color\":\"#2a3f5f\"},\"hovermode\":\"closest\",\"hoverlabel\":{\"align\":\"left\"},\"paper_bgcolor\":\"white\",\"plot_bgcolor\":\"#E5ECF6\",\"polar\":{\"bgcolor\":\"#E5ECF6\",\"angularaxis\":{\"gridcolor\":\"white\",\"linecolor\":\"white\",\"ticks\":\"\"},\"radialaxis\":{\"gridcolor\":\"white\",\"linecolor\":\"white\",\"ticks\":\"\"}},\"ternary\":{\"bgcolor\":\"#E5ECF6\",\"aaxis\":{\"gridcolor\":\"white\",\"linecolor\":\"white\",\"ticks\":\"\"},\"baxis\":{\"gridcolor\":\"white\",\"linecolor\":\"white\",\"ticks\":\"\"},\"caxis\":{\"gridcolor\":\"white\",\"linecolor\":\"white\",\"ticks\":\"\"}},\"coloraxis\":{\"colorbar\":{\"outlinewidth\":0,\"ticks\":\"\"}},\"colorscale\":{\"sequential\":[[0.0,\"#0d0887\"],[0.1111111111111111,\"#46039f\"],[0.2222222222222222,\"#7201a8\"],[0.3333333333333333,\"#9c179e\"],[0.4444444444444444,\"#bd3786\"],[0.5555555555555556,\"#d8576b\"],[0.6666666666666666,\"#ed7953\"],[0.7777777777777778,\"#fb9f3a\"],[0.8888888888888888,\"#fdca26\"],[1.0,\"#f0f921\"]],\"sequentialminus\":[[0.0,\"#0d0887\"],[0.1111111111111111,\"#46039f\"],[0.2222222222222222,\"#7201a8\"],[0.3333333333333333,\"#9c179e\"],[0.4444444444444444,\"#bd3786\"],[0.5555555555555556,\"#d8576b\"],[0.6666666666666666,\"#ed7953\"],[0.7777777777777778,\"#fb9f3a\"],[0.8888888888888888,\"#fdca26\"],[1.0,\"#f0f921\"]],\"diverging\":[[0,\"#8e0152\"],[0.1,\"#c51b7d\"],[0.2,\"#de77ae\"],[0.3,\"#f1b6da\"],[0.4,\"#fde0ef\"],[0.5,\"#f7f7f7\"],[0.6,\"#e6f5d0\"],[0.7,\"#b8e186\"],[0.8,\"#7fbc41\"],[0.9,\"#4d9221\"],[1,\"#276419\"]]},\"xaxis\":{\"gridcolor\":\"white\",\"linecolor\":\"white\",\"ticks\":\"\",\"title\":{\"standoff\":15},\"zerolinecolor\":\"white\",\"automargin\":true,\"zerolinewidth\":2},\"yaxis\":{\"gridcolor\":\"white\",\"linecolor\":\"white\",\"ticks\":\"\",\"title\":{\"standoff\":15},\"zerolinecolor\":\"white\",\"automargin\":true,\"zerolinewidth\":2},\"scene\":{\"xaxis\":{\"backgroundcolor\":\"#E5ECF6\",\"gridcolor\":\"white\",\"linecolor\":\"white\",\"showbackground\":true,\"ticks\":\"\",\"zerolinecolor\":\"white\",\"gridwidth\":2},\"yaxis\":{\"backgroundcolor\":\"#E5ECF6\",\"gridcolor\":\"white\",\"linecolor\":\"white\",\"showbackground\":true,\"ticks\":\"\",\"zerolinecolor\":\"white\",\"gridwidth\":2},\"zaxis\":{\"backgroundcolor\":\"#E5ECF6\",\"gridcolor\":\"white\",\"linecolor\":\"white\",\"showbackground\":true,\"ticks\":\"\",\"zerolinecolor\":\"white\",\"gridwidth\":2}},\"shapedefaults\":{\"line\":{\"color\":\"#2a3f5f\"}},\"annotationdefaults\":{\"arrowcolor\":\"#2a3f5f\",\"arrowhead\":0,\"arrowwidth\":1},\"geo\":{\"bgcolor\":\"white\",\"landcolor\":\"#E5ECF6\",\"subunitcolor\":\"white\",\"showland\":true,\"showlakes\":true,\"lakecolor\":\"white\"},\"title\":{\"x\":0.05},\"mapbox\":{\"style\":\"light\"}}},\"legend\":{\"tracegroupgap\":0},\"title\":{\"text\":\"\\u0414\\u043e\\u043b\\u0438 \\u043f\\u0440\\u043e\\u0434\\u0430\\u0436 \\u043f\\u043e \\u0436\\u0430\\u043d\\u0440\\u0430\\u043c \\u0432 \\u0421\\u0435\\u0432\\u0435\\u0440\\u043d\\u043e\\u0439 \\u0410\\u043c\\u0435\\u0440\\u0438\\u043a\\u0435\"}},                        {\"responsive\": true}                    ).then(function(){\n",
              "                            \n",
              "var gd = document.getElementById('cca9cd0c-6f54-475f-ae03-2f565151d4a7');\n",
              "var x = new MutationObserver(function (mutations, observer) {{\n",
              "        var display = window.getComputedStyle(gd).display;\n",
              "        if (!display || display === 'none') {{\n",
              "            console.log([gd, 'removed!']);\n",
              "            Plotly.purge(gd);\n",
              "            observer.disconnect();\n",
              "        }}\n",
              "}});\n",
              "\n",
              "// Listen for the removal of the full notebook cells\n",
              "var notebookContainer = gd.closest('#notebook-container');\n",
              "if (notebookContainer) {{\n",
              "    x.observe(notebookContainer, {childList: true});\n",
              "}}\n",
              "\n",
              "// Listen for the clearing of the current output cell\n",
              "var outputEl = gd.closest('.output');\n",
              "if (outputEl) {{\n",
              "    x.observe(outputEl, {childList: true});\n",
              "}}\n",
              "\n",
              "                        })                };                            </script>        </div>\n",
              "</body>\n",
              "</html>"
            ]
          },
          "metadata": {}
        }
      ]
    },
    {
      "cell_type": "code",
      "source": [
        "fig = px.pie(top_genre_sum, values='sum_eu_sales', names = 'genre', title='Доли продаж по жанрам в Европе')\n",
        "fig.show()"
      ],
      "metadata": {
        "colab": {
          "base_uri": "https://localhost:8080/",
          "height": 542
        },
        "id": "wBvHuDzxNlnb",
        "outputId": "2f8ee924-99aa-4063-810a-8f0b314b6963"
      },
      "execution_count": 48,
      "outputs": [
        {
          "output_type": "display_data",
          "data": {
            "text/html": [
              "<html>\n",
              "<head><meta charset=\"utf-8\" /></head>\n",
              "<body>\n",
              "    <div>            <script src=\"https://cdnjs.cloudflare.com/ajax/libs/mathjax/2.7.5/MathJax.js?config=TeX-AMS-MML_SVG\"></script><script type=\"text/javascript\">if (window.MathJax && window.MathJax.Hub && window.MathJax.Hub.Config) {window.MathJax.Hub.Config({SVG: {font: \"STIX-Web\"}});}</script>                <script type=\"text/javascript\">window.PlotlyConfig = {MathJaxConfig: 'local'};</script>\n",
              "        <script charset=\"utf-8\" src=\"https://cdn.plot.ly/plotly-2.24.1.min.js\"></script>                <div id=\"c13dadd7-6b26-4eb3-bff9-fcb8c57d7041\" class=\"plotly-graph-div\" style=\"height:525px; width:100%;\"></div>            <script type=\"text/javascript\">                                    window.PLOTLYENV=window.PLOTLYENV || {};                                    if (document.getElementById(\"c13dadd7-6b26-4eb3-bff9-fcb8c57d7041\")) {                    Plotly.newPlot(                        \"c13dadd7-6b26-4eb3-bff9-fcb8c57d7041\",                        [{\"domain\":{\"x\":[0.0,1.0],\"y\":[0.0,1.0]},\"hovertemplate\":\"genre=%{label}\\u003cbr\\u003esum_eu_sales=%{value}\\u003cextra\\u003e\\u003c\\u002fextra\\u003e\",\"labels\":[\"Action\",\"Misc\",\"Racing\",\"Role-Playing\",\"Shooter\",\"Sports\"],\"legendgroup\":\"\",\"name\":\"\",\"showlegend\":true,\"values\":[65.79,9.15,11.36,24.44,60.59,43.88],\"type\":\"pie\"}],                        {\"template\":{\"data\":{\"histogram2dcontour\":[{\"type\":\"histogram2dcontour\",\"colorbar\":{\"outlinewidth\":0,\"ticks\":\"\"},\"colorscale\":[[0.0,\"#0d0887\"],[0.1111111111111111,\"#46039f\"],[0.2222222222222222,\"#7201a8\"],[0.3333333333333333,\"#9c179e\"],[0.4444444444444444,\"#bd3786\"],[0.5555555555555556,\"#d8576b\"],[0.6666666666666666,\"#ed7953\"],[0.7777777777777778,\"#fb9f3a\"],[0.8888888888888888,\"#fdca26\"],[1.0,\"#f0f921\"]]}],\"choropleth\":[{\"type\":\"choropleth\",\"colorbar\":{\"outlinewidth\":0,\"ticks\":\"\"}}],\"histogram2d\":[{\"type\":\"histogram2d\",\"colorbar\":{\"outlinewidth\":0,\"ticks\":\"\"},\"colorscale\":[[0.0,\"#0d0887\"],[0.1111111111111111,\"#46039f\"],[0.2222222222222222,\"#7201a8\"],[0.3333333333333333,\"#9c179e\"],[0.4444444444444444,\"#bd3786\"],[0.5555555555555556,\"#d8576b\"],[0.6666666666666666,\"#ed7953\"],[0.7777777777777778,\"#fb9f3a\"],[0.8888888888888888,\"#fdca26\"],[1.0,\"#f0f921\"]]}],\"heatmap\":[{\"type\":\"heatmap\",\"colorbar\":{\"outlinewidth\":0,\"ticks\":\"\"},\"colorscale\":[[0.0,\"#0d0887\"],[0.1111111111111111,\"#46039f\"],[0.2222222222222222,\"#7201a8\"],[0.3333333333333333,\"#9c179e\"],[0.4444444444444444,\"#bd3786\"],[0.5555555555555556,\"#d8576b\"],[0.6666666666666666,\"#ed7953\"],[0.7777777777777778,\"#fb9f3a\"],[0.8888888888888888,\"#fdca26\"],[1.0,\"#f0f921\"]]}],\"heatmapgl\":[{\"type\":\"heatmapgl\",\"colorbar\":{\"outlinewidth\":0,\"ticks\":\"\"},\"colorscale\":[[0.0,\"#0d0887\"],[0.1111111111111111,\"#46039f\"],[0.2222222222222222,\"#7201a8\"],[0.3333333333333333,\"#9c179e\"],[0.4444444444444444,\"#bd3786\"],[0.5555555555555556,\"#d8576b\"],[0.6666666666666666,\"#ed7953\"],[0.7777777777777778,\"#fb9f3a\"],[0.8888888888888888,\"#fdca26\"],[1.0,\"#f0f921\"]]}],\"contourcarpet\":[{\"type\":\"contourcarpet\",\"colorbar\":{\"outlinewidth\":0,\"ticks\":\"\"}}],\"contour\":[{\"type\":\"contour\",\"colorbar\":{\"outlinewidth\":0,\"ticks\":\"\"},\"colorscale\":[[0.0,\"#0d0887\"],[0.1111111111111111,\"#46039f\"],[0.2222222222222222,\"#7201a8\"],[0.3333333333333333,\"#9c179e\"],[0.4444444444444444,\"#bd3786\"],[0.5555555555555556,\"#d8576b\"],[0.6666666666666666,\"#ed7953\"],[0.7777777777777778,\"#fb9f3a\"],[0.8888888888888888,\"#fdca26\"],[1.0,\"#f0f921\"]]}],\"surface\":[{\"type\":\"surface\",\"colorbar\":{\"outlinewidth\":0,\"ticks\":\"\"},\"colorscale\":[[0.0,\"#0d0887\"],[0.1111111111111111,\"#46039f\"],[0.2222222222222222,\"#7201a8\"],[0.3333333333333333,\"#9c179e\"],[0.4444444444444444,\"#bd3786\"],[0.5555555555555556,\"#d8576b\"],[0.6666666666666666,\"#ed7953\"],[0.7777777777777778,\"#fb9f3a\"],[0.8888888888888888,\"#fdca26\"],[1.0,\"#f0f921\"]]}],\"mesh3d\":[{\"type\":\"mesh3d\",\"colorbar\":{\"outlinewidth\":0,\"ticks\":\"\"}}],\"scatter\":[{\"fillpattern\":{\"fillmode\":\"overlay\",\"size\":10,\"solidity\":0.2},\"type\":\"scatter\"}],\"parcoords\":[{\"type\":\"parcoords\",\"line\":{\"colorbar\":{\"outlinewidth\":0,\"ticks\":\"\"}}}],\"scatterpolargl\":[{\"type\":\"scatterpolargl\",\"marker\":{\"colorbar\":{\"outlinewidth\":0,\"ticks\":\"\"}}}],\"bar\":[{\"error_x\":{\"color\":\"#2a3f5f\"},\"error_y\":{\"color\":\"#2a3f5f\"},\"marker\":{\"line\":{\"color\":\"#E5ECF6\",\"width\":0.5},\"pattern\":{\"fillmode\":\"overlay\",\"size\":10,\"solidity\":0.2}},\"type\":\"bar\"}],\"scattergeo\":[{\"type\":\"scattergeo\",\"marker\":{\"colorbar\":{\"outlinewidth\":0,\"ticks\":\"\"}}}],\"scatterpolar\":[{\"type\":\"scatterpolar\",\"marker\":{\"colorbar\":{\"outlinewidth\":0,\"ticks\":\"\"}}}],\"histogram\":[{\"marker\":{\"pattern\":{\"fillmode\":\"overlay\",\"size\":10,\"solidity\":0.2}},\"type\":\"histogram\"}],\"scattergl\":[{\"type\":\"scattergl\",\"marker\":{\"colorbar\":{\"outlinewidth\":0,\"ticks\":\"\"}}}],\"scatter3d\":[{\"type\":\"scatter3d\",\"line\":{\"colorbar\":{\"outlinewidth\":0,\"ticks\":\"\"}},\"marker\":{\"colorbar\":{\"outlinewidth\":0,\"ticks\":\"\"}}}],\"scattermapbox\":[{\"type\":\"scattermapbox\",\"marker\":{\"colorbar\":{\"outlinewidth\":0,\"ticks\":\"\"}}}],\"scatterternary\":[{\"type\":\"scatterternary\",\"marker\":{\"colorbar\":{\"outlinewidth\":0,\"ticks\":\"\"}}}],\"scattercarpet\":[{\"type\":\"scattercarpet\",\"marker\":{\"colorbar\":{\"outlinewidth\":0,\"ticks\":\"\"}}}],\"carpet\":[{\"aaxis\":{\"endlinecolor\":\"#2a3f5f\",\"gridcolor\":\"white\",\"linecolor\":\"white\",\"minorgridcolor\":\"white\",\"startlinecolor\":\"#2a3f5f\"},\"baxis\":{\"endlinecolor\":\"#2a3f5f\",\"gridcolor\":\"white\",\"linecolor\":\"white\",\"minorgridcolor\":\"white\",\"startlinecolor\":\"#2a3f5f\"},\"type\":\"carpet\"}],\"table\":[{\"cells\":{\"fill\":{\"color\":\"#EBF0F8\"},\"line\":{\"color\":\"white\"}},\"header\":{\"fill\":{\"color\":\"#C8D4E3\"},\"line\":{\"color\":\"white\"}},\"type\":\"table\"}],\"barpolar\":[{\"marker\":{\"line\":{\"color\":\"#E5ECF6\",\"width\":0.5},\"pattern\":{\"fillmode\":\"overlay\",\"size\":10,\"solidity\":0.2}},\"type\":\"barpolar\"}],\"pie\":[{\"automargin\":true,\"type\":\"pie\"}]},\"layout\":{\"autotypenumbers\":\"strict\",\"colorway\":[\"#636efa\",\"#EF553B\",\"#00cc96\",\"#ab63fa\",\"#FFA15A\",\"#19d3f3\",\"#FF6692\",\"#B6E880\",\"#FF97FF\",\"#FECB52\"],\"font\":{\"color\":\"#2a3f5f\"},\"hovermode\":\"closest\",\"hoverlabel\":{\"align\":\"left\"},\"paper_bgcolor\":\"white\",\"plot_bgcolor\":\"#E5ECF6\",\"polar\":{\"bgcolor\":\"#E5ECF6\",\"angularaxis\":{\"gridcolor\":\"white\",\"linecolor\":\"white\",\"ticks\":\"\"},\"radialaxis\":{\"gridcolor\":\"white\",\"linecolor\":\"white\",\"ticks\":\"\"}},\"ternary\":{\"bgcolor\":\"#E5ECF6\",\"aaxis\":{\"gridcolor\":\"white\",\"linecolor\":\"white\",\"ticks\":\"\"},\"baxis\":{\"gridcolor\":\"white\",\"linecolor\":\"white\",\"ticks\":\"\"},\"caxis\":{\"gridcolor\":\"white\",\"linecolor\":\"white\",\"ticks\":\"\"}},\"coloraxis\":{\"colorbar\":{\"outlinewidth\":0,\"ticks\":\"\"}},\"colorscale\":{\"sequential\":[[0.0,\"#0d0887\"],[0.1111111111111111,\"#46039f\"],[0.2222222222222222,\"#7201a8\"],[0.3333333333333333,\"#9c179e\"],[0.4444444444444444,\"#bd3786\"],[0.5555555555555556,\"#d8576b\"],[0.6666666666666666,\"#ed7953\"],[0.7777777777777778,\"#fb9f3a\"],[0.8888888888888888,\"#fdca26\"],[1.0,\"#f0f921\"]],\"sequentialminus\":[[0.0,\"#0d0887\"],[0.1111111111111111,\"#46039f\"],[0.2222222222222222,\"#7201a8\"],[0.3333333333333333,\"#9c179e\"],[0.4444444444444444,\"#bd3786\"],[0.5555555555555556,\"#d8576b\"],[0.6666666666666666,\"#ed7953\"],[0.7777777777777778,\"#fb9f3a\"],[0.8888888888888888,\"#fdca26\"],[1.0,\"#f0f921\"]],\"diverging\":[[0,\"#8e0152\"],[0.1,\"#c51b7d\"],[0.2,\"#de77ae\"],[0.3,\"#f1b6da\"],[0.4,\"#fde0ef\"],[0.5,\"#f7f7f7\"],[0.6,\"#e6f5d0\"],[0.7,\"#b8e186\"],[0.8,\"#7fbc41\"],[0.9,\"#4d9221\"],[1,\"#276419\"]]},\"xaxis\":{\"gridcolor\":\"white\",\"linecolor\":\"white\",\"ticks\":\"\",\"title\":{\"standoff\":15},\"zerolinecolor\":\"white\",\"automargin\":true,\"zerolinewidth\":2},\"yaxis\":{\"gridcolor\":\"white\",\"linecolor\":\"white\",\"ticks\":\"\",\"title\":{\"standoff\":15},\"zerolinecolor\":\"white\",\"automargin\":true,\"zerolinewidth\":2},\"scene\":{\"xaxis\":{\"backgroundcolor\":\"#E5ECF6\",\"gridcolor\":\"white\",\"linecolor\":\"white\",\"showbackground\":true,\"ticks\":\"\",\"zerolinecolor\":\"white\",\"gridwidth\":2},\"yaxis\":{\"backgroundcolor\":\"#E5ECF6\",\"gridcolor\":\"white\",\"linecolor\":\"white\",\"showbackground\":true,\"ticks\":\"\",\"zerolinecolor\":\"white\",\"gridwidth\":2},\"zaxis\":{\"backgroundcolor\":\"#E5ECF6\",\"gridcolor\":\"white\",\"linecolor\":\"white\",\"showbackground\":true,\"ticks\":\"\",\"zerolinecolor\":\"white\",\"gridwidth\":2}},\"shapedefaults\":{\"line\":{\"color\":\"#2a3f5f\"}},\"annotationdefaults\":{\"arrowcolor\":\"#2a3f5f\",\"arrowhead\":0,\"arrowwidth\":1},\"geo\":{\"bgcolor\":\"white\",\"landcolor\":\"#E5ECF6\",\"subunitcolor\":\"white\",\"showland\":true,\"showlakes\":true,\"lakecolor\":\"white\"},\"title\":{\"x\":0.05},\"mapbox\":{\"style\":\"light\"}}},\"legend\":{\"tracegroupgap\":0},\"title\":{\"text\":\"\\u0414\\u043e\\u043b\\u0438 \\u043f\\u0440\\u043e\\u0434\\u0430\\u0436 \\u043f\\u043e \\u0436\\u0430\\u043d\\u0440\\u0430\\u043c \\u0432 \\u0415\\u0432\\u0440\\u043e\\u043f\\u0435\"}},                        {\"responsive\": true}                    ).then(function(){\n",
              "                            \n",
              "var gd = document.getElementById('c13dadd7-6b26-4eb3-bff9-fcb8c57d7041');\n",
              "var x = new MutationObserver(function (mutations, observer) {{\n",
              "        var display = window.getComputedStyle(gd).display;\n",
              "        if (!display || display === 'none') {{\n",
              "            console.log([gd, 'removed!']);\n",
              "            Plotly.purge(gd);\n",
              "            observer.disconnect();\n",
              "        }}\n",
              "}});\n",
              "\n",
              "// Listen for the removal of the full notebook cells\n",
              "var notebookContainer = gd.closest('#notebook-container');\n",
              "if (notebookContainer) {{\n",
              "    x.observe(notebookContainer, {childList: true});\n",
              "}}\n",
              "\n",
              "// Listen for the clearing of the current output cell\n",
              "var outputEl = gd.closest('.output');\n",
              "if (outputEl) {{\n",
              "    x.observe(outputEl, {childList: true});\n",
              "}}\n",
              "\n",
              "                        })                };                            </script>        </div>\n",
              "</body>\n",
              "</html>"
            ]
          },
          "metadata": {}
        }
      ]
    },
    {
      "cell_type": "code",
      "source": [
        "fig = px.pie(top_genre_sum, values='sum_jp_sales', names = 'genre', title='Доли продаж по жанрам в Японии')\n",
        "fig.show()"
      ],
      "metadata": {
        "colab": {
          "base_uri": "https://localhost:8080/",
          "height": 542
        },
        "id": "7IHdCX7mNrO5",
        "outputId": "2b049063-5c47-4e7f-8b07-ab26d89f3f71"
      },
      "execution_count": 49,
      "outputs": [
        {
          "output_type": "display_data",
          "data": {
            "text/html": [
              "<html>\n",
              "<head><meta charset=\"utf-8\" /></head>\n",
              "<body>\n",
              "    <div>            <script src=\"https://cdnjs.cloudflare.com/ajax/libs/mathjax/2.7.5/MathJax.js?config=TeX-AMS-MML_SVG\"></script><script type=\"text/javascript\">if (window.MathJax && window.MathJax.Hub && window.MathJax.Hub.Config) {window.MathJax.Hub.Config({SVG: {font: \"STIX-Web\"}});}</script>                <script type=\"text/javascript\">window.PlotlyConfig = {MathJaxConfig: 'local'};</script>\n",
              "        <script charset=\"utf-8\" src=\"https://cdn.plot.ly/plotly-2.24.1.min.js\"></script>                <div id=\"1102dc6c-dc07-4d08-9d74-539fae8e8f3c\" class=\"plotly-graph-div\" style=\"height:525px; width:100%;\"></div>            <script type=\"text/javascript\">                                    window.PLOTLYENV=window.PLOTLYENV || {};                                    if (document.getElementById(\"1102dc6c-dc07-4d08-9d74-539fae8e8f3c\")) {                    Plotly.newPlot(                        \"1102dc6c-dc07-4d08-9d74-539fae8e8f3c\",                        [{\"domain\":{\"x\":[0.0,1.0],\"y\":[0.0,1.0]},\"hovertemplate\":\"genre=%{label}\\u003cbr\\u003esum_jp_sales=%{value}\\u003cextra\\u003e\\u003c\\u002fextra\\u003e\",\"labels\":[\"Action\",\"Misc\",\"Racing\",\"Role-Playing\",\"Shooter\",\"Sports\"],\"legendgroup\":\"\",\"name\":\"\",\"showlegend\":true,\"values\":[23.79,2.9,0.39,26.21,3.33,2.54],\"type\":\"pie\"}],                        {\"template\":{\"data\":{\"histogram2dcontour\":[{\"type\":\"histogram2dcontour\",\"colorbar\":{\"outlinewidth\":0,\"ticks\":\"\"},\"colorscale\":[[0.0,\"#0d0887\"],[0.1111111111111111,\"#46039f\"],[0.2222222222222222,\"#7201a8\"],[0.3333333333333333,\"#9c179e\"],[0.4444444444444444,\"#bd3786\"],[0.5555555555555556,\"#d8576b\"],[0.6666666666666666,\"#ed7953\"],[0.7777777777777778,\"#fb9f3a\"],[0.8888888888888888,\"#fdca26\"],[1.0,\"#f0f921\"]]}],\"choropleth\":[{\"type\":\"choropleth\",\"colorbar\":{\"outlinewidth\":0,\"ticks\":\"\"}}],\"histogram2d\":[{\"type\":\"histogram2d\",\"colorbar\":{\"outlinewidth\":0,\"ticks\":\"\"},\"colorscale\":[[0.0,\"#0d0887\"],[0.1111111111111111,\"#46039f\"],[0.2222222222222222,\"#7201a8\"],[0.3333333333333333,\"#9c179e\"],[0.4444444444444444,\"#bd3786\"],[0.5555555555555556,\"#d8576b\"],[0.6666666666666666,\"#ed7953\"],[0.7777777777777778,\"#fb9f3a\"],[0.8888888888888888,\"#fdca26\"],[1.0,\"#f0f921\"]]}],\"heatmap\":[{\"type\":\"heatmap\",\"colorbar\":{\"outlinewidth\":0,\"ticks\":\"\"},\"colorscale\":[[0.0,\"#0d0887\"],[0.1111111111111111,\"#46039f\"],[0.2222222222222222,\"#7201a8\"],[0.3333333333333333,\"#9c179e\"],[0.4444444444444444,\"#bd3786\"],[0.5555555555555556,\"#d8576b\"],[0.6666666666666666,\"#ed7953\"],[0.7777777777777778,\"#fb9f3a\"],[0.8888888888888888,\"#fdca26\"],[1.0,\"#f0f921\"]]}],\"heatmapgl\":[{\"type\":\"heatmapgl\",\"colorbar\":{\"outlinewidth\":0,\"ticks\":\"\"},\"colorscale\":[[0.0,\"#0d0887\"],[0.1111111111111111,\"#46039f\"],[0.2222222222222222,\"#7201a8\"],[0.3333333333333333,\"#9c179e\"],[0.4444444444444444,\"#bd3786\"],[0.5555555555555556,\"#d8576b\"],[0.6666666666666666,\"#ed7953\"],[0.7777777777777778,\"#fb9f3a\"],[0.8888888888888888,\"#fdca26\"],[1.0,\"#f0f921\"]]}],\"contourcarpet\":[{\"type\":\"contourcarpet\",\"colorbar\":{\"outlinewidth\":0,\"ticks\":\"\"}}],\"contour\":[{\"type\":\"contour\",\"colorbar\":{\"outlinewidth\":0,\"ticks\":\"\"},\"colorscale\":[[0.0,\"#0d0887\"],[0.1111111111111111,\"#46039f\"],[0.2222222222222222,\"#7201a8\"],[0.3333333333333333,\"#9c179e\"],[0.4444444444444444,\"#bd3786\"],[0.5555555555555556,\"#d8576b\"],[0.6666666666666666,\"#ed7953\"],[0.7777777777777778,\"#fb9f3a\"],[0.8888888888888888,\"#fdca26\"],[1.0,\"#f0f921\"]]}],\"surface\":[{\"type\":\"surface\",\"colorbar\":{\"outlinewidth\":0,\"ticks\":\"\"},\"colorscale\":[[0.0,\"#0d0887\"],[0.1111111111111111,\"#46039f\"],[0.2222222222222222,\"#7201a8\"],[0.3333333333333333,\"#9c179e\"],[0.4444444444444444,\"#bd3786\"],[0.5555555555555556,\"#d8576b\"],[0.6666666666666666,\"#ed7953\"],[0.7777777777777778,\"#fb9f3a\"],[0.8888888888888888,\"#fdca26\"],[1.0,\"#f0f921\"]]}],\"mesh3d\":[{\"type\":\"mesh3d\",\"colorbar\":{\"outlinewidth\":0,\"ticks\":\"\"}}],\"scatter\":[{\"fillpattern\":{\"fillmode\":\"overlay\",\"size\":10,\"solidity\":0.2},\"type\":\"scatter\"}],\"parcoords\":[{\"type\":\"parcoords\",\"line\":{\"colorbar\":{\"outlinewidth\":0,\"ticks\":\"\"}}}],\"scatterpolargl\":[{\"type\":\"scatterpolargl\",\"marker\":{\"colorbar\":{\"outlinewidth\":0,\"ticks\":\"\"}}}],\"bar\":[{\"error_x\":{\"color\":\"#2a3f5f\"},\"error_y\":{\"color\":\"#2a3f5f\"},\"marker\":{\"line\":{\"color\":\"#E5ECF6\",\"width\":0.5},\"pattern\":{\"fillmode\":\"overlay\",\"size\":10,\"solidity\":0.2}},\"type\":\"bar\"}],\"scattergeo\":[{\"type\":\"scattergeo\",\"marker\":{\"colorbar\":{\"outlinewidth\":0,\"ticks\":\"\"}}}],\"scatterpolar\":[{\"type\":\"scatterpolar\",\"marker\":{\"colorbar\":{\"outlinewidth\":0,\"ticks\":\"\"}}}],\"histogram\":[{\"marker\":{\"pattern\":{\"fillmode\":\"overlay\",\"size\":10,\"solidity\":0.2}},\"type\":\"histogram\"}],\"scattergl\":[{\"type\":\"scattergl\",\"marker\":{\"colorbar\":{\"outlinewidth\":0,\"ticks\":\"\"}}}],\"scatter3d\":[{\"type\":\"scatter3d\",\"line\":{\"colorbar\":{\"outlinewidth\":0,\"ticks\":\"\"}},\"marker\":{\"colorbar\":{\"outlinewidth\":0,\"ticks\":\"\"}}}],\"scattermapbox\":[{\"type\":\"scattermapbox\",\"marker\":{\"colorbar\":{\"outlinewidth\":0,\"ticks\":\"\"}}}],\"scatterternary\":[{\"type\":\"scatterternary\",\"marker\":{\"colorbar\":{\"outlinewidth\":0,\"ticks\":\"\"}}}],\"scattercarpet\":[{\"type\":\"scattercarpet\",\"marker\":{\"colorbar\":{\"outlinewidth\":0,\"ticks\":\"\"}}}],\"carpet\":[{\"aaxis\":{\"endlinecolor\":\"#2a3f5f\",\"gridcolor\":\"white\",\"linecolor\":\"white\",\"minorgridcolor\":\"white\",\"startlinecolor\":\"#2a3f5f\"},\"baxis\":{\"endlinecolor\":\"#2a3f5f\",\"gridcolor\":\"white\",\"linecolor\":\"white\",\"minorgridcolor\":\"white\",\"startlinecolor\":\"#2a3f5f\"},\"type\":\"carpet\"}],\"table\":[{\"cells\":{\"fill\":{\"color\":\"#EBF0F8\"},\"line\":{\"color\":\"white\"}},\"header\":{\"fill\":{\"color\":\"#C8D4E3\"},\"line\":{\"color\":\"white\"}},\"type\":\"table\"}],\"barpolar\":[{\"marker\":{\"line\":{\"color\":\"#E5ECF6\",\"width\":0.5},\"pattern\":{\"fillmode\":\"overlay\",\"size\":10,\"solidity\":0.2}},\"type\":\"barpolar\"}],\"pie\":[{\"automargin\":true,\"type\":\"pie\"}]},\"layout\":{\"autotypenumbers\":\"strict\",\"colorway\":[\"#636efa\",\"#EF553B\",\"#00cc96\",\"#ab63fa\",\"#FFA15A\",\"#19d3f3\",\"#FF6692\",\"#B6E880\",\"#FF97FF\",\"#FECB52\"],\"font\":{\"color\":\"#2a3f5f\"},\"hovermode\":\"closest\",\"hoverlabel\":{\"align\":\"left\"},\"paper_bgcolor\":\"white\",\"plot_bgcolor\":\"#E5ECF6\",\"polar\":{\"bgcolor\":\"#E5ECF6\",\"angularaxis\":{\"gridcolor\":\"white\",\"linecolor\":\"white\",\"ticks\":\"\"},\"radialaxis\":{\"gridcolor\":\"white\",\"linecolor\":\"white\",\"ticks\":\"\"}},\"ternary\":{\"bgcolor\":\"#E5ECF6\",\"aaxis\":{\"gridcolor\":\"white\",\"linecolor\":\"white\",\"ticks\":\"\"},\"baxis\":{\"gridcolor\":\"white\",\"linecolor\":\"white\",\"ticks\":\"\"},\"caxis\":{\"gridcolor\":\"white\",\"linecolor\":\"white\",\"ticks\":\"\"}},\"coloraxis\":{\"colorbar\":{\"outlinewidth\":0,\"ticks\":\"\"}},\"colorscale\":{\"sequential\":[[0.0,\"#0d0887\"],[0.1111111111111111,\"#46039f\"],[0.2222222222222222,\"#7201a8\"],[0.3333333333333333,\"#9c179e\"],[0.4444444444444444,\"#bd3786\"],[0.5555555555555556,\"#d8576b\"],[0.6666666666666666,\"#ed7953\"],[0.7777777777777778,\"#fb9f3a\"],[0.8888888888888888,\"#fdca26\"],[1.0,\"#f0f921\"]],\"sequentialminus\":[[0.0,\"#0d0887\"],[0.1111111111111111,\"#46039f\"],[0.2222222222222222,\"#7201a8\"],[0.3333333333333333,\"#9c179e\"],[0.4444444444444444,\"#bd3786\"],[0.5555555555555556,\"#d8576b\"],[0.6666666666666666,\"#ed7953\"],[0.7777777777777778,\"#fb9f3a\"],[0.8888888888888888,\"#fdca26\"],[1.0,\"#f0f921\"]],\"diverging\":[[0,\"#8e0152\"],[0.1,\"#c51b7d\"],[0.2,\"#de77ae\"],[0.3,\"#f1b6da\"],[0.4,\"#fde0ef\"],[0.5,\"#f7f7f7\"],[0.6,\"#e6f5d0\"],[0.7,\"#b8e186\"],[0.8,\"#7fbc41\"],[0.9,\"#4d9221\"],[1,\"#276419\"]]},\"xaxis\":{\"gridcolor\":\"white\",\"linecolor\":\"white\",\"ticks\":\"\",\"title\":{\"standoff\":15},\"zerolinecolor\":\"white\",\"automargin\":true,\"zerolinewidth\":2},\"yaxis\":{\"gridcolor\":\"white\",\"linecolor\":\"white\",\"ticks\":\"\",\"title\":{\"standoff\":15},\"zerolinecolor\":\"white\",\"automargin\":true,\"zerolinewidth\":2},\"scene\":{\"xaxis\":{\"backgroundcolor\":\"#E5ECF6\",\"gridcolor\":\"white\",\"linecolor\":\"white\",\"showbackground\":true,\"ticks\":\"\",\"zerolinecolor\":\"white\",\"gridwidth\":2},\"yaxis\":{\"backgroundcolor\":\"#E5ECF6\",\"gridcolor\":\"white\",\"linecolor\":\"white\",\"showbackground\":true,\"ticks\":\"\",\"zerolinecolor\":\"white\",\"gridwidth\":2},\"zaxis\":{\"backgroundcolor\":\"#E5ECF6\",\"gridcolor\":\"white\",\"linecolor\":\"white\",\"showbackground\":true,\"ticks\":\"\",\"zerolinecolor\":\"white\",\"gridwidth\":2}},\"shapedefaults\":{\"line\":{\"color\":\"#2a3f5f\"}},\"annotationdefaults\":{\"arrowcolor\":\"#2a3f5f\",\"arrowhead\":0,\"arrowwidth\":1},\"geo\":{\"bgcolor\":\"white\",\"landcolor\":\"#E5ECF6\",\"subunitcolor\":\"white\",\"showland\":true,\"showlakes\":true,\"lakecolor\":\"white\"},\"title\":{\"x\":0.05},\"mapbox\":{\"style\":\"light\"}}},\"legend\":{\"tracegroupgap\":0},\"title\":{\"text\":\"\\u0414\\u043e\\u043b\\u0438 \\u043f\\u0440\\u043e\\u0434\\u0430\\u0436 \\u043f\\u043e \\u0436\\u0430\\u043d\\u0440\\u0430\\u043c \\u0432 \\u042f\\u043f\\u043e\\u043d\\u0438\\u0438\"}},                        {\"responsive\": true}                    ).then(function(){\n",
              "                            \n",
              "var gd = document.getElementById('1102dc6c-dc07-4d08-9d74-539fae8e8f3c');\n",
              "var x = new MutationObserver(function (mutations, observer) {{\n",
              "        var display = window.getComputedStyle(gd).display;\n",
              "        if (!display || display === 'none') {{\n",
              "            console.log([gd, 'removed!']);\n",
              "            Plotly.purge(gd);\n",
              "            observer.disconnect();\n",
              "        }}\n",
              "}});\n",
              "\n",
              "// Listen for the removal of the full notebook cells\n",
              "var notebookContainer = gd.closest('#notebook-container');\n",
              "if (notebookContainer) {{\n",
              "    x.observe(notebookContainer, {childList: true});\n",
              "}}\n",
              "\n",
              "// Listen for the clearing of the current output cell\n",
              "var outputEl = gd.closest('.output');\n",
              "if (outputEl) {{\n",
              "    x.observe(outputEl, {childList: true});\n",
              "}}\n",
              "\n",
              "                        })                };                            </script>        </div>\n",
              "</body>\n",
              "</html>"
            ]
          },
          "metadata": {}
        }
      ]
    },
    {
      "cell_type": "markdown",
      "source": [
        "### Влияет ли рейтинг ESRB на продажи в отдельном регионе?"
      ],
      "metadata": {
        "id": "frPgDMTFN2Lh"
      }
    },
    {
      "cell_type": "code",
      "source": [
        "fig = px.box(data, x = 'rating', y='na_sales')\n",
        "fig.update_layout(yaxis_range= [0,3])\n",
        "fig.update_layout(title = \"Распределение по продажам в Северной Америке в зависимости от рейтинга ESRB\")\n",
        "fig.show()"
      ],
      "metadata": {
        "colab": {
          "base_uri": "https://localhost:8080/",
          "height": 542
        },
        "id": "x9luDLv1fDes",
        "outputId": "4e3b09f5-ae02-4cb7-ad66-4a52eedcd763"
      },
      "execution_count": 50,
      "outputs": [
        {
          "output_type": "display_data",
          "data": {
            "text/html": [
              "<html>\n",
              "<head><meta charset=\"utf-8\" /></head>\n",
              "<body>\n",
              "    <div>            <script src=\"https://cdnjs.cloudflare.com/ajax/libs/mathjax/2.7.5/MathJax.js?config=TeX-AMS-MML_SVG\"></script><script type=\"text/javascript\">if (window.MathJax && window.MathJax.Hub && window.MathJax.Hub.Config) {window.MathJax.Hub.Config({SVG: {font: \"STIX-Web\"}});}</script>                <script type=\"text/javascript\">window.PlotlyConfig = {MathJaxConfig: 'local'};</script>\n",
              "        <script charset=\"utf-8\" src=\"https://cdn.plot.ly/plotly-2.24.1.min.js\"></script>                <div id=\"55d0f2fc-9241-4ccb-9073-f996d940ad06\" class=\"plotly-graph-div\" style=\"height:525px; width:100%;\"></div>            <script type=\"text/javascript\">                                    window.PLOTLYENV=window.PLOTLYENV || {};                                    if (document.getElementById(\"55d0f2fc-9241-4ccb-9073-f996d940ad06\")) {                    Plotly.newPlot(                        \"55d0f2fc-9241-4ccb-9073-f996d940ad06\",                        [{\"alignmentgroup\":\"True\",\"hovertemplate\":\"rating=%{x}\\u003cbr\\u003ena_sales=%{y}\\u003cextra\\u003e\\u003c\\u002fextra\\u003e\",\"legendgroup\":\"\",\"marker\":{\"color\":\"#636efa\"},\"name\":\"\",\"notched\":false,\"offsetgroup\":\"\",\"orientation\":\"v\",\"showlegend\":false,\"x\":[null,\"M\",null,\"E\",null,\"M\",\"E\",null,null,\"M\",null,\"E\",\"T\",\"M\",\"T\",\"M\",null,null,\"T\",\"T\",\"M\",\"M\",null,\"M\",\"E\",\"M\",\"M\",\"M\",\"M\",\"M\",\"M\",\"M\",\"T\",\"E10+\",\"M\",null,\"M\",\"M\",\"M\",\"T\",null,null,\"M\",\"E\",\"E\",\"M\",\"E\",\"M\",\"M\",\"E\",\"T\",\"M\",null,\"E\",null,\"E\",\"M\",\"E\",null,\"M\",\"E\",\"E10+\",\"E10+\",null,\"M\",\"M\",\"M\",\"E\",\"E\",\"M\",\"T\",\"M\",\"M\",\"E\",\"E\",\"M\",\"T\",\"T\",\"E\",\"E\",\"M\",\"E\",\"M\",\"M\",\"E\",\"M\",\"E\",null,\"M\",\"M\",\"T\",\"E\",null,\"T\",null,null,\"M\",\"M\",\"M\",\"E\",\"T\",\"M\",\"E\",\"E\",\"M\",null,\"M\",null,\"E\",null,\"E10+\",\"E\",\"M\",\"M\",\"M\",\"M\",\"M\",\"M\",\"E\",null,null,\"M\",\"M\",\"M\",\"M\",\"M\",\"M\",\"E10+\",\"T\",\"M\",\"M\",\"E\",\"E\",null,\"T\",\"M\",\"T\",null,\"T\",\"M\",\"T\",\"M\",\"M\",\"E\",\"T\",\"E\",\"E\",null,\"E10+\",\"T\",\"T\",\"E\",\"M\",\"E10+\",null,\"E\",\"M\",null,\"E\",null,\"T\",\"M\",\"E\",\"E10+\",\"E10+\",\"E\",\"M\",\"M\",\"T\",\"M\",\"M\",\"E10+\",\"E10+\",null,\"E10+\",null,\"M\",\"M\",null,\"E10+\",\"T\",\"T\",\"E10+\",\"M\",null,null,\"E\",\"M\",\"E10+\",\"T\",\"E\",null,null,null,\"M\",\"M\",\"E\",null,null,\"T\",null,null,null,\"E10+\",\"E\",\"E\",\"E10+\",\"E10+\",\"M\",\"E\",\"M\",null,\"T\",\"E10+\",null,null,\"E10+\",null,\"E10+\",\"M\",\"M\",\"M\",\"E10+\",\"E10+\",\"E\",null,null,\"E10+\",\"E10+\",null,\"M\",\"T\",\"M\",\"T\",\"M\",\"E\",null,null,\"E10+\",\"E10+\",null,\"M\",\"E\",\"E10+\",\"M\",null,null,\"E10+\",\"E10+\",\"E10+\",\"T\",\"E10+\",\"M\",\"T\",\"M\",\"E\",\"M\",\"T\",\"T\",null,null,null,\"M\",\"M\",\"T\",\"M\",null,null,\"E10+\",\"E10+\",\"E10+\",null,null,\"M\",\"E\",\"M\",\"M\",\"T\",null,\"E10+\",\"M\",\"E\",\"T\",null,null,\"E10+\",\"E\",\"T\",\"E10+\",\"T\",\"T\",\"T\",\"M\",null,null,\"E10+\",\"E\",\"E10+\",\"E10+\",\"E10+\",\"E\",null,\"M\",\"E10+\",null,null,\"M\",null,null,\"T\",\"E10+\",\"E\",\"T\",null,\"E\",\"E10+\",\"E10+\",\"E10+\",\"T\",\"E\",\"M\",\"E10+\",\"E10+\",\"E\",null,null,\"T\",\"M\",\"E\",null,null,null,null,\"M\",\"E\",null,\"E10+\",\"T\",\"M\",\"M\",\"E\",null,null,null,null,\"M\",\"T\",\"E\",\"T\",\"E10+\",\"E\",null,\"E10+\",\"E10+\",\"E10+\",\"M\",null,null,null,\"M\",\"T\",\"T\",\"E10+\",\"T\",\"M\",\"E\",\"E10+\",null,null,null,\"E10+\",\"E10+\",null,\"T\",\"M\",\"E10+\",\"E10+\",\"T\",null,\"E10+\",\"M\",\"M\",\"E10+\",null,null,null,\"T\",\"E10+\",\"T\",null,\"E\",\"T\",\"M\",\"M\",null,\"E10+\",\"M\",\"E\",\"M\",\"E\",\"M\",\"T\",null,\"M\",null,null,null,\"M\",\"M\",\"E10+\",null,null,\"T\",null,\"T\",null,null,\"E\",\"E10+\",\"E10+\",\"E\",\"T\",\"E\",null,\"T\",\"E\",null,null,\"T\",\"T\",\"T\",null,\"E10+\",\"E10+\",\"E10+\",\"M\",\"T\",null,\"E10+\",null,\"T\",\"E\",\"T\",\"E10+\",\"M\",\"E10+\",\"T\",null,\"E10+\",null,\"T\",\"T\",\"E10+\",\"E\",null,\"E\",null,\"T\",\"T\",null,\"T\",null,\"E\",null,null,\"E\",\"M\",\"M\",null,\"M\",\"T\",\"T\",null,\"T\",\"E10+\",\"T\",\"M\",null,\"E\",\"E\",\"T\",\"M\",null,null,null,null,\"E10+\",null,\"T\",\"T\",null,null,\"M\",null,null,\"M\",null,\"E10+\",\"E10+\",\"T\",null,null,\"T\",\"T\",null,null,\"E\",\"M\",\"E10+\",\"T\",\"E\",\"E\",null,\"M\",\"T\",\"E\",\"E10+\",null,null,\"T\",\"E\",null,null,\"M\",\"T\",null,\"E10+\",null,\"E\",\"E\",null,\"T\",\"T\",\"T\",\"E10+\",\"M\",\"E10+\",null,null,\"M\",null,\"T\",null,null,\"E10+\",null,null,null,null,null,null,\"T\",\"T\",\"E10+\",null,\"T\",null,\"T\",null,\"T\",null,null,\"M\",\"E10+\",\"T\",\"E\",\"T\",\"E\",\"E\",null,null,\"M\",null,\"M\",\"T\",\"M\",null,\"T\",\"M\",null,\"T\",null,\"M\",\"E10+\",null,\"T\",\"E10+\",null,\"E\",\"T\",null,null,null,\"E\",\"M\",\"E\",null,null,null,\"E10+\",null,\"E\",null,null,null,\"T\",\"E10+\",\"E\",null,null,\"T\",null,\"E\",\"E10+\",null,null,null,\"T\",null,\"E\",\"M\",\"E\",\"E\",null,null,\"T\",null,null,\"E\",null,\"T\",null,null,\"T\",null,\"T\",\"E\",null,\"T\",\"E\",\"E\",null,\"T\",\"E10+\",\"E10+\",\"T\",null,null,\"M\",null,\"E\",\"E10+\",\"M\",null,null,\"M\",\"T\",\"T\",null,\"T\",\"M\",\"E\",null,null,null,\"T\",null,\"E10+\",\"E10+\",null,null,null,null,\"T\",null,null,\"E10+\",null,\"M\",\"M\",null,\"E10+\",\"E\",\"E\",\"E10+\",\"E\",\"T\",\"E\",null,null,\"T\",null,null,\"T\",null,\"E\",null,null,\"T\",\"T\",null,null,null,\"T\",null,null,\"E\",\"T\",\"E\",\"E\",\"T\",null,\"E\",\"E10+\",\"M\",\"T\",\"T\",null,null,\"E10+\",null,\"M\",\"E\",null,null,\"M\",null,\"E\",\"T\",null,null,\"M\",null,\"M\",null,\"T\",\"T\",null,null,null,\"M\",null,null,\"T\",\"E\",\"T\",\"M\",null,\"E\",\"M\",\"T\",\"E10+\",\"T\",null,null,null,\"E10+\",null,null,null,null,null,\"T\",\"T\",\"T\",null,\"E\",null,\"E\",null,\"T\",\"M\",null,\"E\",null,null,\"T\",null,\"E\",\"T\",\"E\",null,null,null,\"T\",\"E10+\",null,\"E\",null,\"M\",\"M\",null,null,null,null,null,\"E\",\"E10+\",null,\"T\",null,null,\"T\",null,null,\"E10+\",null,\"T\",null,null,\"T\",\"E\",\"T\",\"E\",null,\"E\",\"T\",\"E\",null,null,\"M\",\"M\",null,null,null,null,\"E10+\",\"E10+\",\"E10+\",null,null,null,\"M\",null,\"T\",null,\"M\",\"T\",\"M\",\"M\",null,null,null,null,\"M\",null,null,null,\"T\",\"M\",null,\"T\",null,\"M\",\"E\",\"E10+\",null,\"T\",\"E\",null,\"T\",\"M\",null,null,\"E10+\",\"E\",\"M\",null,\"E\",\"E\",null,\"T\",null,\"T\",null,\"M\",\"E10+\",null,\"T\",\"T\",\"T\",null,\"T\",null,null,\"T\",\"E\",\"E10+\",\"E\",null,\"M\",\"T\",\"E\",\"T\",null,null,\"T\",\"M\",null,null,null,\"E\",null,null,\"M\",null,null,null,null,\"E\",\"T\",null,\"T\",null,null,\"E10+\",\"E10+\",\"E\",null,null,null,null,null,null,null,\"T\",\"E\",\"M\",null,null,null,null,\"T\",null,null,\"E10+\",\"T\",null,null,null,null,null,null,null,null,\"E\",null,null,\"M\",null,null,\"E\",\"T\",null,null,null,null,\"E\",null,\"E10+\",\"E10+\",\"E\",\"E\",null,null,\"T\",\"E10+\",null,\"M\",\"E\",null,\"E10+\",null,\"T\",null,\"E\",null,null,\"M\",null,null,\"E\",null,null,\"M\",null,null,null,null,null,\"E\",\"T\",\"E\",\"T\",\"E\",null,\"E10+\",\"M\",null,null,null,\"E\",\"E10+\",\"T\",null,\"T\",\"E\",\"E\",\"M\",\"E\",\"T\",null,\"E\",null,null,\"T\",null,null,\"T\",null,null,\"E\",null,\"M\",null,null,\"E10+\",\"E\",null,null,\"E\",\"T\",\"M\",null,\"M\",null,\"T\",\"M\",null,\"E10+\",null,null,null,null,null,\"E10+\",\"E10+\",\"E10+\",null,null,\"T\",null,null,null,null,\"M\",\"T\",null,null,null,null,null,null,null,\"T\",\"T\",\"T\",null,null,null,null,null,null,null,null,\"M\",\"T\",null,\"E\",\"E10+\",\"M\",null,null,\"E10+\",\"M\",\"E10+\",\"E\",null,null,null,\"T\",null,\"M\",null,null,\"T\",\"E10+\",null,\"M\",null,null,null,\"T\",\"T\",null,null,null,null,null,\"E10+\",\"E10+\",null,null,null,\"T\",null,null,null,\"E\",null,\"T\",\"M\",\"E\",\"T\",null,null,null,null,null,\"E\",null,\"M\",\"E\",null,null,\"E\",\"E\",\"E\",null,null,null,\"M\",null,null,null,null],\"x0\":\" \",\"xaxis\":\"x\",\"y\":[6.03,3.96,4.35,1.12,2.99,2.81,0.66,3.27,4.59,2.53,2.98,0.8,2.49,2.81,1.85,3.22,2.03,1.88,2.07,2.78,1.61,1.56,1.48,2.77,0.58,2.51,1.1,1.4,1.13,1.02,1.19,1.53,0.68,2.49,1.35,2.04,2.27,1.09,0.81,2.14,0.27,0.09,2.61,0.89,2.34,1.91,0.51,1.01,1.84,0.79,1.28,1.5,1.61,0.41,0.0,0.43,1.03,1.47,0.5,1.46,2.08,1.15,1.95,0.0,0.6,1.28,0.55,1.54,0.6,1.29,0.81,0.71,0.96,0.36,1.77,0.73,0.78,1.31,0.66,1.25,0.47,0.61,0.51,0.42,0.73,0.55,1.25,0.67,0.56,0.61,0.35,1.37,1.14,0.63,0.49,0.81,0.45,0.65,0.8,1.35,0.68,0.9,0.57,1.31,0.47,0.5,0.88,0.54,1.08,0.47,0.5,0.48,1.03,0.55,0.87,0.73,0.78,0.77,0.87,0.0,0.48,0.69,0.62,0.34,0.86,0.46,0.78,0.69,0.4,0.45,0.72,0.48,1.08,0.52,0.41,0.72,0.85,0.36,0.39,0.63,0.41,0.37,0.34,0.53,0.3,0.2,0.42,0.64,0.51,0.63,0.46,0.86,0.58,0.22,0.37,0.85,0.36,0.46,0.79,0.23,0.29,0.56,0.28,0.37,0.33,0.68,0.43,0.58,0.4,0.44,0.45,0.32,0.54,0.72,0.48,0.48,0.47,0.38,0.0,0.47,0.0,0.34,0.35,0.26,0.28,0.0,0.13,0.49,0.35,0.36,0.57,0.44,0.16,0.03,0.34,0.41,0.09,0.33,0.0,0.48,0.29,0.17,0.41,0.33,0.45,0.05,0.26,0.24,0.34,0.58,0.46,0.24,0.24,0.16,0.25,0.27,0.28,0.3,0.39,0.24,0.34,0.35,0.24,0.26,0.09,0.36,0.22,0.22,0.38,0.24,0.22,0.38,0.22,0.25,0.37,0.2,0.0,0.35,0.36,0.31,0.27,0.28,0.15,0.21,0.26,0.35,0.21,0.42,0.3,0.13,0.17,0.31,0.27,0.32,0.14,0.1,0.37,0.29,0.05,0.27,0.3,0.0,0.3,0.2,0.3,0.13,0.17,0.2,0.16,0.35,0.35,0.05,0.26,0.36,0.18,0.18,0.22,0.22,0.0,0.2,0.28,0.18,0.17,0.06,0.28,0.29,0.15,0.16,0.38,0.38,0.3,0.09,0.25,0.26,0.12,0.12,0.09,0.2,0.35,0.21,0.02,0.16,0.14,0.19,0.25,0.25,0.26,0.16,0.17,0.15,0.23,0.35,0.27,0.1,0.15,0.25,0.13,0.0,0.24,0.05,0.13,0.22,0.31,0.07,0.29,0.04,0.17,0.15,0.09,0.21,0.13,0.12,0.26,0.18,0.31,0.03,0.19,0.26,0.18,0.11,0.07,0.0,0.1,0.11,0.0,0.1,0.13,0.03,0.17,0.16,0.04,0.26,0.21,0.17,0.08,0.17,0.1,0.1,0.22,0.06,0.11,0.24,0.19,0.11,0.2,0.03,0.13,0.2,0.09,0.02,0.08,0.19,0.07,0.12,0.12,0.16,0.25,0.18,0.0,0.23,0.09,0.18,0.18,0.05,0.0,0.15,0.06,0.17,0.1,0.12,0.08,0.21,0.25,0.16,0.09,0.14,0.14,0.0,0.06,0.17,0.15,0.11,0.0,0.17,0.1,0.0,0.1,0.15,0.1,0.16,0.14,0.04,0.09,0.0,0.11,0.09,0.0,0.16,0.13,0.1,0.15,0.07,0.09,0.08,0.12,0.11,0.06,0.0,0.0,0.12,0.0,0.16,0.04,0.13,0.12,0.06,0.09,0.0,0.11,0.1,0.1,0.08,0.16,0.12,0.14,0.17,0.08,0.09,0.2,0.1,0.17,0.05,0.09,0.05,0.0,0.16,0.1,0.1,0.0,0.14,0.13,0.0,0.08,0.0,0.09,0.04,0.12,0.1,0.12,0.1,0.14,0.06,0.07,0.14,0.05,0.02,0.1,0.14,0.17,0.14,0.09,0.04,0.1,0.07,0.05,0.0,0.11,0.0,0.11,0.07,0.1,0.1,0.03,0.16,0.05,0.08,0.0,0.07,0.1,0.06,0.09,0.0,0.15,0.06,0.11,0.1,0.08,0.12,0.06,0.0,0.04,0.05,0.09,0.08,0.1,0.1,0.11,0.0,0.0,0.05,0.14,0.0,0.05,0.09,0.08,0.0,0.05,0.0,0.15,0.15,0.0,0.04,0.05,0.09,0.05,0.08,0.04,0.1,0.0,0.08,0.08,0.05,0.09,0.13,0.11,0.07,0.0,0.0,0.0,0.04,0.09,0.1,0.07,0.01,0.0,0.02,0.0,0.08,0.0,0.07,0.0,0.0,0.07,0.04,0.04,0.03,0.05,0.08,0.05,0.08,0.0,0.06,0.0,0.04,0.09,0.03,0.08,0.03,0.05,0.0,0.0,0.0,0.09,0.08,0.0,0.02,0.1,0.0,0.01,0.0,0.0,0.06,0.0,0.06,0.09,0.04,0.03,0.0,0.0,0.04,0.0,0.01,0.03,0.0,0.06,0.05,0.05,0.04,0.0,0.0,0.09,0.0,0.09,0.05,0.0,0.08,0.0,0.03,0.0,0.07,0.03,0.04,0.02,0.0,0.0,0.0,0.0,0.04,0.05,0.07,0.0,0.0,0.08,0.05,0.0,0.03,0.09,0.05,0.0,0.09,0.04,0.0,0.05,0.05,0.02,0.0,0.0,0.0,0.03,0.0,0.04,0.03,0.07,0.0,0.0,0.06,0.0,0.03,0.04,0.0,0.05,0.04,0.0,0.0,0.07,0.02,0.0,0.05,0.05,0.01,0.0,0.01,0.03,0.05,0.02,0.0,0.06,0.05,0.05,0.02,0.05,0.0,0.03,0.03,0.04,0.08,0.03,0.03,0.02,0.0,0.0,0.02,0.05,0.0,0.03,0.03,0.02,0.0,0.01,0.0,0.03,0.0,0.0,0.04,0.0,0.07,0.05,0.0,0.04,0.03,0.03,0.03,0.07,0.0,0.02,0.06,0.06,0.0,0.03,0.03,0.0,0.06,0.06,0.0,0.05,0.03,0.03,0.01,0.0,0.0,0.0,0.05,0.02,0.05,0.0,0.0,0.05,0.0,0.0,0.04,0.04,0.0,0.06,0.02,0.05,0.03,0.03,0.0,0.06,0.04,0.06,0.06,0.04,0.02,0.0,0.0,0.01,0.02,0.0,0.0,0.05,0.03,0.01,0.0,0.05,0.0,0.0,0.0,0.05,0.0,0.0,0.02,0.04,0.0,0.0,0.03,0.02,0.0,0.0,0.03,0.02,0.06,0.0,0.0,0.03,0.0,0.0,0.03,0.0,0.03,0.02,0.0,0.0,0.0,0.02,0.0,0.05,0.05,0.0,0.05,0.0,0.05,0.0,0.0,0.03,0.0,0.0,0.02,0.05,0.0,0.0,0.0,0.03,0.0,0.0,0.0,0.03,0.0,0.0,0.01,0.03,0.01,0.04,0.03,0.0,0.01,0.05,0.0,0.04,0.0,0.0,0.04,0.02,0.0,0.01,0.03,0.03,0.03,0.03,0.04,0.04,0.0,0.05,0.0,0.0,0.0,0.0,0.0,0.02,0.03,0.04,0.02,0.04,0.0,0.04,0.0,0.0,0.0,0.01,0.0,0.02,0.03,0.0,0.0,0.01,0.0,0.04,0.0,0.0,0.0,0.0,0.02,0.0,0.03,0.0,0.02,0.01,0.0,0.03,0.01,0.0,0.0,0.03,0.03,0.0,0.01,0.03,0.03,0.0,0.0,0.02,0.03,0.0,0.0,0.0,0.0,0.0,0.02,0.0,0.02,0.0,0.03,0.0,0.0,0.01,0.0,0.0,0.0,0.01,0.03,0.01,0.03,0.0,0.0,0.0,0.03,0.02,0.01,0.01,0.0,0.0,0.0,0.0,0.0,0.0,0.0,0.0,0.03,0.0,0.02,0.0,0.0,0.0,0.0,0.0,0.02,0.03,0.0,0.0,0.0,0.0,0.0,0.03,0.03,0.01,0.0,0.0,0.0,0.01,0.0,0.0,0.0,0.03,0.0,0.02,0.0,0.0,0.03,0.02,0.01,0.01,0.0,0.01,0.0,0.0,0.0,0.0,0.0,0.02,0.0,0.0,0.0,0.0,0.02,0.01,0.02,0.0,0.0,0.01,0.0,0.0,0.0,0.0,0.02,0.01,0.02,0.0,0.0,0.0,0.02,0.0,0.02,0.02,0.01,0.02,0.0,0.0,0.02,0.0,0.0,0.0,0.0,0.02,0.0,0.0,0.01,0.02,0.0,0.0,0.0,0.01,0.0,0.0,0.0,0.0,0.0,0.0,0.0,0.0,0.0,0.0,0.0,0.0,0.01,0.0,0.0,0.02,0.02,0.02,0.02,0.02,0.0,0.02,0.0,0.01,0.02,0.01,0.02,0.0,0.01,0.0,0.0,0.0,0.0,0.02,0.0,0.0,0.02,0.0,0.0,0.0,0.0,0.0,0.0,0.0,0.01,0.0,0.0,0.0,0.0,0.0,0.0,0.0,0.0,0.01,0.0,0.01,0.0,0.0,0.0,0.0,0.0,0.0,0.0,0.01,0.01,0.01,0.01,0.0,0.01,0.0,0.0,0.0,0.0,0.01,0.01,0.0,0.0,0.0,0.0,0.01,0.0,0.01,0.0,0.0,0.0,0.01,0.01,0.01,0.01,0.0,0.0,0.0,0.0,0.0,0.0,0.01,0.0,0.0,0.01,0.01,0.0,0.0,0.0,0.01,0.0,0.0,0.0,0.0,0.0,0.01,0.01,0.0,0.0,0.0,0.0,0.0,0.0,0.0,0.0,0.0,0.0,0.0,0.0,0.0,0.0,0.0,0.0,0.0,0.01,0.0,0.01,0.0,0.0,0.0,0.0],\"y0\":\" \",\"yaxis\":\"y\",\"type\":\"box\"}],                        {\"template\":{\"data\":{\"histogram2dcontour\":[{\"type\":\"histogram2dcontour\",\"colorbar\":{\"outlinewidth\":0,\"ticks\":\"\"},\"colorscale\":[[0.0,\"#0d0887\"],[0.1111111111111111,\"#46039f\"],[0.2222222222222222,\"#7201a8\"],[0.3333333333333333,\"#9c179e\"],[0.4444444444444444,\"#bd3786\"],[0.5555555555555556,\"#d8576b\"],[0.6666666666666666,\"#ed7953\"],[0.7777777777777778,\"#fb9f3a\"],[0.8888888888888888,\"#fdca26\"],[1.0,\"#f0f921\"]]}],\"choropleth\":[{\"type\":\"choropleth\",\"colorbar\":{\"outlinewidth\":0,\"ticks\":\"\"}}],\"histogram2d\":[{\"type\":\"histogram2d\",\"colorbar\":{\"outlinewidth\":0,\"ticks\":\"\"},\"colorscale\":[[0.0,\"#0d0887\"],[0.1111111111111111,\"#46039f\"],[0.2222222222222222,\"#7201a8\"],[0.3333333333333333,\"#9c179e\"],[0.4444444444444444,\"#bd3786\"],[0.5555555555555556,\"#d8576b\"],[0.6666666666666666,\"#ed7953\"],[0.7777777777777778,\"#fb9f3a\"],[0.8888888888888888,\"#fdca26\"],[1.0,\"#f0f921\"]]}],\"heatmap\":[{\"type\":\"heatmap\",\"colorbar\":{\"outlinewidth\":0,\"ticks\":\"\"},\"colorscale\":[[0.0,\"#0d0887\"],[0.1111111111111111,\"#46039f\"],[0.2222222222222222,\"#7201a8\"],[0.3333333333333333,\"#9c179e\"],[0.4444444444444444,\"#bd3786\"],[0.5555555555555556,\"#d8576b\"],[0.6666666666666666,\"#ed7953\"],[0.7777777777777778,\"#fb9f3a\"],[0.8888888888888888,\"#fdca26\"],[1.0,\"#f0f921\"]]}],\"heatmapgl\":[{\"type\":\"heatmapgl\",\"colorbar\":{\"outlinewidth\":0,\"ticks\":\"\"},\"colorscale\":[[0.0,\"#0d0887\"],[0.1111111111111111,\"#46039f\"],[0.2222222222222222,\"#7201a8\"],[0.3333333333333333,\"#9c179e\"],[0.4444444444444444,\"#bd3786\"],[0.5555555555555556,\"#d8576b\"],[0.6666666666666666,\"#ed7953\"],[0.7777777777777778,\"#fb9f3a\"],[0.8888888888888888,\"#fdca26\"],[1.0,\"#f0f921\"]]}],\"contourcarpet\":[{\"type\":\"contourcarpet\",\"colorbar\":{\"outlinewidth\":0,\"ticks\":\"\"}}],\"contour\":[{\"type\":\"contour\",\"colorbar\":{\"outlinewidth\":0,\"ticks\":\"\"},\"colorscale\":[[0.0,\"#0d0887\"],[0.1111111111111111,\"#46039f\"],[0.2222222222222222,\"#7201a8\"],[0.3333333333333333,\"#9c179e\"],[0.4444444444444444,\"#bd3786\"],[0.5555555555555556,\"#d8576b\"],[0.6666666666666666,\"#ed7953\"],[0.7777777777777778,\"#fb9f3a\"],[0.8888888888888888,\"#fdca26\"],[1.0,\"#f0f921\"]]}],\"surface\":[{\"type\":\"surface\",\"colorbar\":{\"outlinewidth\":0,\"ticks\":\"\"},\"colorscale\":[[0.0,\"#0d0887\"],[0.1111111111111111,\"#46039f\"],[0.2222222222222222,\"#7201a8\"],[0.3333333333333333,\"#9c179e\"],[0.4444444444444444,\"#bd3786\"],[0.5555555555555556,\"#d8576b\"],[0.6666666666666666,\"#ed7953\"],[0.7777777777777778,\"#fb9f3a\"],[0.8888888888888888,\"#fdca26\"],[1.0,\"#f0f921\"]]}],\"mesh3d\":[{\"type\":\"mesh3d\",\"colorbar\":{\"outlinewidth\":0,\"ticks\":\"\"}}],\"scatter\":[{\"fillpattern\":{\"fillmode\":\"overlay\",\"size\":10,\"solidity\":0.2},\"type\":\"scatter\"}],\"parcoords\":[{\"type\":\"parcoords\",\"line\":{\"colorbar\":{\"outlinewidth\":0,\"ticks\":\"\"}}}],\"scatterpolargl\":[{\"type\":\"scatterpolargl\",\"marker\":{\"colorbar\":{\"outlinewidth\":0,\"ticks\":\"\"}}}],\"bar\":[{\"error_x\":{\"color\":\"#2a3f5f\"},\"error_y\":{\"color\":\"#2a3f5f\"},\"marker\":{\"line\":{\"color\":\"#E5ECF6\",\"width\":0.5},\"pattern\":{\"fillmode\":\"overlay\",\"size\":10,\"solidity\":0.2}},\"type\":\"bar\"}],\"scattergeo\":[{\"type\":\"scattergeo\",\"marker\":{\"colorbar\":{\"outlinewidth\":0,\"ticks\":\"\"}}}],\"scatterpolar\":[{\"type\":\"scatterpolar\",\"marker\":{\"colorbar\":{\"outlinewidth\":0,\"ticks\":\"\"}}}],\"histogram\":[{\"marker\":{\"pattern\":{\"fillmode\":\"overlay\",\"size\":10,\"solidity\":0.2}},\"type\":\"histogram\"}],\"scattergl\":[{\"type\":\"scattergl\",\"marker\":{\"colorbar\":{\"outlinewidth\":0,\"ticks\":\"\"}}}],\"scatter3d\":[{\"type\":\"scatter3d\",\"line\":{\"colorbar\":{\"outlinewidth\":0,\"ticks\":\"\"}},\"marker\":{\"colorbar\":{\"outlinewidth\":0,\"ticks\":\"\"}}}],\"scattermapbox\":[{\"type\":\"scattermapbox\",\"marker\":{\"colorbar\":{\"outlinewidth\":0,\"ticks\":\"\"}}}],\"scatterternary\":[{\"type\":\"scatterternary\",\"marker\":{\"colorbar\":{\"outlinewidth\":0,\"ticks\":\"\"}}}],\"scattercarpet\":[{\"type\":\"scattercarpet\",\"marker\":{\"colorbar\":{\"outlinewidth\":0,\"ticks\":\"\"}}}],\"carpet\":[{\"aaxis\":{\"endlinecolor\":\"#2a3f5f\",\"gridcolor\":\"white\",\"linecolor\":\"white\",\"minorgridcolor\":\"white\",\"startlinecolor\":\"#2a3f5f\"},\"baxis\":{\"endlinecolor\":\"#2a3f5f\",\"gridcolor\":\"white\",\"linecolor\":\"white\",\"minorgridcolor\":\"white\",\"startlinecolor\":\"#2a3f5f\"},\"type\":\"carpet\"}],\"table\":[{\"cells\":{\"fill\":{\"color\":\"#EBF0F8\"},\"line\":{\"color\":\"white\"}},\"header\":{\"fill\":{\"color\":\"#C8D4E3\"},\"line\":{\"color\":\"white\"}},\"type\":\"table\"}],\"barpolar\":[{\"marker\":{\"line\":{\"color\":\"#E5ECF6\",\"width\":0.5},\"pattern\":{\"fillmode\":\"overlay\",\"size\":10,\"solidity\":0.2}},\"type\":\"barpolar\"}],\"pie\":[{\"automargin\":true,\"type\":\"pie\"}]},\"layout\":{\"autotypenumbers\":\"strict\",\"colorway\":[\"#636efa\",\"#EF553B\",\"#00cc96\",\"#ab63fa\",\"#FFA15A\",\"#19d3f3\",\"#FF6692\",\"#B6E880\",\"#FF97FF\",\"#FECB52\"],\"font\":{\"color\":\"#2a3f5f\"},\"hovermode\":\"closest\",\"hoverlabel\":{\"align\":\"left\"},\"paper_bgcolor\":\"white\",\"plot_bgcolor\":\"#E5ECF6\",\"polar\":{\"bgcolor\":\"#E5ECF6\",\"angularaxis\":{\"gridcolor\":\"white\",\"linecolor\":\"white\",\"ticks\":\"\"},\"radialaxis\":{\"gridcolor\":\"white\",\"linecolor\":\"white\",\"ticks\":\"\"}},\"ternary\":{\"bgcolor\":\"#E5ECF6\",\"aaxis\":{\"gridcolor\":\"white\",\"linecolor\":\"white\",\"ticks\":\"\"},\"baxis\":{\"gridcolor\":\"white\",\"linecolor\":\"white\",\"ticks\":\"\"},\"caxis\":{\"gridcolor\":\"white\",\"linecolor\":\"white\",\"ticks\":\"\"}},\"coloraxis\":{\"colorbar\":{\"outlinewidth\":0,\"ticks\":\"\"}},\"colorscale\":{\"sequential\":[[0.0,\"#0d0887\"],[0.1111111111111111,\"#46039f\"],[0.2222222222222222,\"#7201a8\"],[0.3333333333333333,\"#9c179e\"],[0.4444444444444444,\"#bd3786\"],[0.5555555555555556,\"#d8576b\"],[0.6666666666666666,\"#ed7953\"],[0.7777777777777778,\"#fb9f3a\"],[0.8888888888888888,\"#fdca26\"],[1.0,\"#f0f921\"]],\"sequentialminus\":[[0.0,\"#0d0887\"],[0.1111111111111111,\"#46039f\"],[0.2222222222222222,\"#7201a8\"],[0.3333333333333333,\"#9c179e\"],[0.4444444444444444,\"#bd3786\"],[0.5555555555555556,\"#d8576b\"],[0.6666666666666666,\"#ed7953\"],[0.7777777777777778,\"#fb9f3a\"],[0.8888888888888888,\"#fdca26\"],[1.0,\"#f0f921\"]],\"diverging\":[[0,\"#8e0152\"],[0.1,\"#c51b7d\"],[0.2,\"#de77ae\"],[0.3,\"#f1b6da\"],[0.4,\"#fde0ef\"],[0.5,\"#f7f7f7\"],[0.6,\"#e6f5d0\"],[0.7,\"#b8e186\"],[0.8,\"#7fbc41\"],[0.9,\"#4d9221\"],[1,\"#276419\"]]},\"xaxis\":{\"gridcolor\":\"white\",\"linecolor\":\"white\",\"ticks\":\"\",\"title\":{\"standoff\":15},\"zerolinecolor\":\"white\",\"automargin\":true,\"zerolinewidth\":2},\"yaxis\":{\"gridcolor\":\"white\",\"linecolor\":\"white\",\"ticks\":\"\",\"title\":{\"standoff\":15},\"zerolinecolor\":\"white\",\"automargin\":true,\"zerolinewidth\":2},\"scene\":{\"xaxis\":{\"backgroundcolor\":\"#E5ECF6\",\"gridcolor\":\"white\",\"linecolor\":\"white\",\"showbackground\":true,\"ticks\":\"\",\"zerolinecolor\":\"white\",\"gridwidth\":2},\"yaxis\":{\"backgroundcolor\":\"#E5ECF6\",\"gridcolor\":\"white\",\"linecolor\":\"white\",\"showbackground\":true,\"ticks\":\"\",\"zerolinecolor\":\"white\",\"gridwidth\":2},\"zaxis\":{\"backgroundcolor\":\"#E5ECF6\",\"gridcolor\":\"white\",\"linecolor\":\"white\",\"showbackground\":true,\"ticks\":\"\",\"zerolinecolor\":\"white\",\"gridwidth\":2}},\"shapedefaults\":{\"line\":{\"color\":\"#2a3f5f\"}},\"annotationdefaults\":{\"arrowcolor\":\"#2a3f5f\",\"arrowhead\":0,\"arrowwidth\":1},\"geo\":{\"bgcolor\":\"white\",\"landcolor\":\"#E5ECF6\",\"subunitcolor\":\"white\",\"showland\":true,\"showlakes\":true,\"lakecolor\":\"white\"},\"title\":{\"x\":0.05},\"mapbox\":{\"style\":\"light\"}}},\"xaxis\":{\"anchor\":\"y\",\"domain\":[0.0,1.0],\"title\":{\"text\":\"rating\"}},\"yaxis\":{\"anchor\":\"x\",\"domain\":[0.0,1.0],\"title\":{\"text\":\"na_sales\"},\"range\":[0,3]},\"legend\":{\"tracegroupgap\":0},\"margin\":{\"t\":60},\"boxmode\":\"group\",\"title\":{\"text\":\"\\u0420\\u0430\\u0441\\u043f\\u0440\\u0435\\u0434\\u0435\\u043b\\u0435\\u043d\\u0438\\u0435 \\u043f\\u043e \\u043f\\u0440\\u043e\\u0434\\u0430\\u0436\\u0430\\u043c \\u0432 \\u0421\\u0435\\u0432\\u0435\\u0440\\u043d\\u043e\\u0439 \\u0410\\u043c\\u0435\\u0440\\u0438\\u043a\\u0435 \\u0432 \\u0437\\u0430\\u0432\\u0438\\u0441\\u0438\\u043c\\u043e\\u0441\\u0442\\u0438 \\u043e\\u0442 \\u0440\\u0435\\u0439\\u0442\\u0438\\u043d\\u0433\\u0430 ESRB\"}},                        {\"responsive\": true}                    ).then(function(){\n",
              "                            \n",
              "var gd = document.getElementById('55d0f2fc-9241-4ccb-9073-f996d940ad06');\n",
              "var x = new MutationObserver(function (mutations, observer) {{\n",
              "        var display = window.getComputedStyle(gd).display;\n",
              "        if (!display || display === 'none') {{\n",
              "            console.log([gd, 'removed!']);\n",
              "            Plotly.purge(gd);\n",
              "            observer.disconnect();\n",
              "        }}\n",
              "}});\n",
              "\n",
              "// Listen for the removal of the full notebook cells\n",
              "var notebookContainer = gd.closest('#notebook-container');\n",
              "if (notebookContainer) {{\n",
              "    x.observe(notebookContainer, {childList: true});\n",
              "}}\n",
              "\n",
              "// Listen for the clearing of the current output cell\n",
              "var outputEl = gd.closest('.output');\n",
              "if (outputEl) {{\n",
              "    x.observe(outputEl, {childList: true});\n",
              "}}\n",
              "\n",
              "                        })                };                            </script>        </div>\n",
              "</body>\n",
              "</html>"
            ]
          },
          "metadata": {}
        }
      ]
    },
    {
      "cell_type": "code",
      "source": [
        "fig = px.box(data, x = 'rating', y='eu_sales')\n",
        "fig.update_layout(yaxis_range= [0,1.5])\n",
        "fig.update_layout(title = \"Влияние рейтинга ESRB на продажи в Европе\")\n",
        "fig.show()"
      ],
      "metadata": {
        "colab": {
          "base_uri": "https://localhost:8080/",
          "height": 542
        },
        "id": "tLquFziffnH7",
        "outputId": "657e0c84-0719-4f9d-d1d7-cb2dc74f40ff"
      },
      "execution_count": 51,
      "outputs": [
        {
          "output_type": "display_data",
          "data": {
            "text/html": [
              "<html>\n",
              "<head><meta charset=\"utf-8\" /></head>\n",
              "<body>\n",
              "    <div>            <script src=\"https://cdnjs.cloudflare.com/ajax/libs/mathjax/2.7.5/MathJax.js?config=TeX-AMS-MML_SVG\"></script><script type=\"text/javascript\">if (window.MathJax && window.MathJax.Hub && window.MathJax.Hub.Config) {window.MathJax.Hub.Config({SVG: {font: \"STIX-Web\"}});}</script>                <script type=\"text/javascript\">window.PlotlyConfig = {MathJaxConfig: 'local'};</script>\n",
              "        <script charset=\"utf-8\" src=\"https://cdn.plot.ly/plotly-2.24.1.min.js\"></script>                <div id=\"8670f097-3efa-4c23-aa0f-36d0f7c6da0d\" class=\"plotly-graph-div\" style=\"height:525px; width:100%;\"></div>            <script type=\"text/javascript\">                                    window.PLOTLYENV=window.PLOTLYENV || {};                                    if (document.getElementById(\"8670f097-3efa-4c23-aa0f-36d0f7c6da0d\")) {                    Plotly.newPlot(                        \"8670f097-3efa-4c23-aa0f-36d0f7c6da0d\",                        [{\"alignmentgroup\":\"True\",\"hovertemplate\":\"rating=%{x}\\u003cbr\\u003eeu_sales=%{y}\\u003cextra\\u003e\\u003c\\u002fextra\\u003e\",\"legendgroup\":\"\",\"marker\":{\"color\":\"#636efa\"},\"name\":\"\",\"notched\":false,\"offsetgroup\":\"\",\"orientation\":\"v\",\"showlegend\":false,\"x\":[null,\"M\",null,\"E\",null,\"M\",\"E\",null,null,\"M\",null,\"E\",\"T\",\"M\",\"T\",\"M\",null,null,\"T\",\"T\",\"M\",\"M\",null,\"M\",\"E\",\"M\",\"M\",\"M\",\"M\",\"M\",\"M\",\"M\",\"T\",\"E10+\",\"M\",null,\"M\",\"M\",\"M\",\"T\",null,null,\"M\",\"E\",\"E\",\"M\",\"E\",\"M\",\"M\",\"E\",\"T\",\"M\",null,\"E\",null,\"E\",\"M\",\"E\",null,\"M\",\"E\",\"E10+\",\"E10+\",null,\"M\",\"M\",\"M\",\"E\",\"E\",\"M\",\"T\",\"M\",\"M\",\"E\",\"E\",\"M\",\"T\",\"T\",\"E\",\"E\",\"M\",\"E\",\"M\",\"M\",\"E\",\"M\",\"E\",null,\"M\",\"M\",\"T\",\"E\",null,\"T\",null,null,\"M\",\"M\",\"M\",\"E\",\"T\",\"M\",\"E\",\"E\",\"M\",null,\"M\",null,\"E\",null,\"E10+\",\"E\",\"M\",\"M\",\"M\",\"M\",\"M\",\"M\",\"E\",null,null,\"M\",\"M\",\"M\",\"M\",\"M\",\"M\",\"E10+\",\"T\",\"M\",\"M\",\"E\",\"E\",null,\"T\",\"M\",\"T\",null,\"T\",\"M\",\"T\",\"M\",\"M\",\"E\",\"T\",\"E\",\"E\",null,\"E10+\",\"T\",\"T\",\"E\",\"M\",\"E10+\",null,\"E\",\"M\",null,\"E\",null,\"T\",\"M\",\"E\",\"E10+\",\"E10+\",\"E\",\"M\",\"M\",\"T\",\"M\",\"M\",\"E10+\",\"E10+\",null,\"E10+\",null,\"M\",\"M\",null,\"E10+\",\"T\",\"T\",\"E10+\",\"M\",null,null,\"E\",\"M\",\"E10+\",\"T\",\"E\",null,null,null,\"M\",\"M\",\"E\",null,null,\"T\",null,null,null,\"E10+\",\"E\",\"E\",\"E10+\",\"E10+\",\"M\",\"E\",\"M\",null,\"T\",\"E10+\",null,null,\"E10+\",null,\"E10+\",\"M\",\"M\",\"M\",\"E10+\",\"E10+\",\"E\",null,null,\"E10+\",\"E10+\",null,\"M\",\"T\",\"M\",\"T\",\"M\",\"E\",null,null,\"E10+\",\"E10+\",null,\"M\",\"E\",\"E10+\",\"M\",null,null,\"E10+\",\"E10+\",\"E10+\",\"T\",\"E10+\",\"M\",\"T\",\"M\",\"E\",\"M\",\"T\",\"T\",null,null,null,\"M\",\"M\",\"T\",\"M\",null,null,\"E10+\",\"E10+\",\"E10+\",null,null,\"M\",\"E\",\"M\",\"M\",\"T\",null,\"E10+\",\"M\",\"E\",\"T\",null,null,\"E10+\",\"E\",\"T\",\"E10+\",\"T\",\"T\",\"T\",\"M\",null,null,\"E10+\",\"E\",\"E10+\",\"E10+\",\"E10+\",\"E\",null,\"M\",\"E10+\",null,null,\"M\",null,null,\"T\",\"E10+\",\"E\",\"T\",null,\"E\",\"E10+\",\"E10+\",\"E10+\",\"T\",\"E\",\"M\",\"E10+\",\"E10+\",\"E\",null,null,\"T\",\"M\",\"E\",null,null,null,null,\"M\",\"E\",null,\"E10+\",\"T\",\"M\",\"M\",\"E\",null,null,null,null,\"M\",\"T\",\"E\",\"T\",\"E10+\",\"E\",null,\"E10+\",\"E10+\",\"E10+\",\"M\",null,null,null,\"M\",\"T\",\"T\",\"E10+\",\"T\",\"M\",\"E\",\"E10+\",null,null,null,\"E10+\",\"E10+\",null,\"T\",\"M\",\"E10+\",\"E10+\",\"T\",null,\"E10+\",\"M\",\"M\",\"E10+\",null,null,null,\"T\",\"E10+\",\"T\",null,\"E\",\"T\",\"M\",\"M\",null,\"E10+\",\"M\",\"E\",\"M\",\"E\",\"M\",\"T\",null,\"M\",null,null,null,\"M\",\"M\",\"E10+\",null,null,\"T\",null,\"T\",null,null,\"E\",\"E10+\",\"E10+\",\"E\",\"T\",\"E\",null,\"T\",\"E\",null,null,\"T\",\"T\",\"T\",null,\"E10+\",\"E10+\",\"E10+\",\"M\",\"T\",null,\"E10+\",null,\"T\",\"E\",\"T\",\"E10+\",\"M\",\"E10+\",\"T\",null,\"E10+\",null,\"T\",\"T\",\"E10+\",\"E\",null,\"E\",null,\"T\",\"T\",null,\"T\",null,\"E\",null,null,\"E\",\"M\",\"M\",null,\"M\",\"T\",\"T\",null,\"T\",\"E10+\",\"T\",\"M\",null,\"E\",\"E\",\"T\",\"M\",null,null,null,null,\"E10+\",null,\"T\",\"T\",null,null,\"M\",null,null,\"M\",null,\"E10+\",\"E10+\",\"T\",null,null,\"T\",\"T\",null,null,\"E\",\"M\",\"E10+\",\"T\",\"E\",\"E\",null,\"M\",\"T\",\"E\",\"E10+\",null,null,\"T\",\"E\",null,null,\"M\",\"T\",null,\"E10+\",null,\"E\",\"E\",null,\"T\",\"T\",\"T\",\"E10+\",\"M\",\"E10+\",null,null,\"M\",null,\"T\",null,null,\"E10+\",null,null,null,null,null,null,\"T\",\"T\",\"E10+\",null,\"T\",null,\"T\",null,\"T\",null,null,\"M\",\"E10+\",\"T\",\"E\",\"T\",\"E\",\"E\",null,null,\"M\",null,\"M\",\"T\",\"M\",null,\"T\",\"M\",null,\"T\",null,\"M\",\"E10+\",null,\"T\",\"E10+\",null,\"E\",\"T\",null,null,null,\"E\",\"M\",\"E\",null,null,null,\"E10+\",null,\"E\",null,null,null,\"T\",\"E10+\",\"E\",null,null,\"T\",null,\"E\",\"E10+\",null,null,null,\"T\",null,\"E\",\"M\",\"E\",\"E\",null,null,\"T\",null,null,\"E\",null,\"T\",null,null,\"T\",null,\"T\",\"E\",null,\"T\",\"E\",\"E\",null,\"T\",\"E10+\",\"E10+\",\"T\",null,null,\"M\",null,\"E\",\"E10+\",\"M\",null,null,\"M\",\"T\",\"T\",null,\"T\",\"M\",\"E\",null,null,null,\"T\",null,\"E10+\",\"E10+\",null,null,null,null,\"T\",null,null,\"E10+\",null,\"M\",\"M\",null,\"E10+\",\"E\",\"E\",\"E10+\",\"E\",\"T\",\"E\",null,null,\"T\",null,null,\"T\",null,\"E\",null,null,\"T\",\"T\",null,null,null,\"T\",null,null,\"E\",\"T\",\"E\",\"E\",\"T\",null,\"E\",\"E10+\",\"M\",\"T\",\"T\",null,null,\"E10+\",null,\"M\",\"E\",null,null,\"M\",null,\"E\",\"T\",null,null,\"M\",null,\"M\",null,\"T\",\"T\",null,null,null,\"M\",null,null,\"T\",\"E\",\"T\",\"M\",null,\"E\",\"M\",\"T\",\"E10+\",\"T\",null,null,null,\"E10+\",null,null,null,null,null,\"T\",\"T\",\"T\",null,\"E\",null,\"E\",null,\"T\",\"M\",null,\"E\",null,null,\"T\",null,\"E\",\"T\",\"E\",null,null,null,\"T\",\"E10+\",null,\"E\",null,\"M\",\"M\",null,null,null,null,null,\"E\",\"E10+\",null,\"T\",null,null,\"T\",null,null,\"E10+\",null,\"T\",null,null,\"T\",\"E\",\"T\",\"E\",null,\"E\",\"T\",\"E\",null,null,\"M\",\"M\",null,null,null,null,\"E10+\",\"E10+\",\"E10+\",null,null,null,\"M\",null,\"T\",null,\"M\",\"T\",\"M\",\"M\",null,null,null,null,\"M\",null,null,null,\"T\",\"M\",null,\"T\",null,\"M\",\"E\",\"E10+\",null,\"T\",\"E\",null,\"T\",\"M\",null,null,\"E10+\",\"E\",\"M\",null,\"E\",\"E\",null,\"T\",null,\"T\",null,\"M\",\"E10+\",null,\"T\",\"T\",\"T\",null,\"T\",null,null,\"T\",\"E\",\"E10+\",\"E\",null,\"M\",\"T\",\"E\",\"T\",null,null,\"T\",\"M\",null,null,null,\"E\",null,null,\"M\",null,null,null,null,\"E\",\"T\",null,\"T\",null,null,\"E10+\",\"E10+\",\"E\",null,null,null,null,null,null,null,\"T\",\"E\",\"M\",null,null,null,null,\"T\",null,null,\"E10+\",\"T\",null,null,null,null,null,null,null,null,\"E\",null,null,\"M\",null,null,\"E\",\"T\",null,null,null,null,\"E\",null,\"E10+\",\"E10+\",\"E\",\"E\",null,null,\"T\",\"E10+\",null,\"M\",\"E\",null,\"E10+\",null,\"T\",null,\"E\",null,null,\"M\",null,null,\"E\",null,null,\"M\",null,null,null,null,null,\"E\",\"T\",\"E\",\"T\",\"E\",null,\"E10+\",\"M\",null,null,null,\"E\",\"E10+\",\"T\",null,\"T\",\"E\",\"E\",\"M\",\"E\",\"T\",null,\"E\",null,null,\"T\",null,null,\"T\",null,null,\"E\",null,\"M\",null,null,\"E10+\",\"E\",null,null,\"E\",\"T\",\"M\",null,\"M\",null,\"T\",\"M\",null,\"E10+\",null,null,null,null,null,\"E10+\",\"E10+\",\"E10+\",null,null,\"T\",null,null,null,null,\"M\",\"T\",null,null,null,null,null,null,null,\"T\",\"T\",\"T\",null,null,null,null,null,null,null,null,\"M\",\"T\",null,\"E\",\"E10+\",\"M\",null,null,\"E10+\",\"M\",\"E10+\",\"E\",null,null,null,\"T\",null,\"M\",null,null,\"T\",\"E10+\",null,\"M\",null,null,null,\"T\",\"T\",null,null,null,null,null,\"E10+\",\"E10+\",null,null,null,\"T\",null,null,null,\"E\",null,\"T\",\"M\",\"E\",\"T\",null,null,null,null,null,\"E\",null,\"M\",\"E\",null,null,\"E\",\"E\",\"E\",null,null,null,\"M\",null,null,null,null],\"x0\":\" \",\"xaxis\":\"x\",\"y\":[5.86,6.31,3.49,6.12,3.49,3.48,5.75,1.37,2.11,3.27,1.45,4.33,2.07,2.19,2.5,1.55,2.37,2.0,1.71,1.27,2.0,1.93,2.02,1.11,3.02,1.32,2.15,1.9,2.18,2.13,2.07,1.69,0.48,0.66,1.7,1.28,0.9,1.36,1.99,0.92,0.21,0.0,0.33,2.12,0.3,1.0,1.02,1.43,0.8,1.92,0.98,0.8,0.9,1.84,0.0,2.05,0.81,0.54,1.5,0.74,0.08,0.55,0.15,0.0,1.25,0.77,1.19,0.25,1.42,0.68,0.85,0.94,0.67,1.38,0.06,0.88,0.79,0.43,0.93,0.27,1.03,0.34,0.98,1.08,0.9,0.86,0.17,0.79,0.81,0.78,1.08,0.18,0.4,0.76,0.87,0.23,0.9,0.45,0.69,0.11,0.56,0.53,0.88,0.09,0.8,0.76,0.47,0.69,0.11,0.65,0.78,0.53,0.21,0.7,0.34,0.5,0.44,0.45,0.21,0.0,0.59,0.5,0.56,0.68,0.3,0.56,0.38,0.47,0.33,0.47,0.41,0.35,0.02,0.35,0.6,0.37,0.23,0.59,0.57,0.4,0.45,0.58,0.57,0.33,0.52,0.7,0.58,0.34,0.47,0.33,0.41,0.06,0.34,0.64,0.32,0.02,0.41,0.33,0.05,0.53,0.49,0.28,0.14,0.4,0.43,0.08,0.34,0.26,0.28,0.39,0.37,0.42,0.27,0.0,0.33,0.33,0.33,0.33,0.0,0.32,0.0,0.38,0.36,0.34,0.38,0.0,0.42,0.22,0.37,0.29,0.06,0.25,0.29,0.66,0.25,0.26,0.45,0.23,0.03,0.18,0.27,0.13,0.27,0.28,0.12,0.55,0.35,0.37,0.07,0.0,0.19,0.37,0.27,0.43,0.33,0.31,0.31,0.33,0.23,0.34,0.28,0.25,0.31,0.3,0.45,0.24,0.3,0.32,0.22,0.29,0.13,0.2,0.32,0.34,0.2,0.33,0.0,0.17,0.16,0.23,0.25,0.29,0.36,0.29,0.21,0.21,0.23,0.13,0.23,0.38,0.34,0.19,0.18,0.22,0.12,0.2,0.15,0.23,0.07,0.14,0.21,0.0,0.2,0.26,0.2,0.24,0.3,0.25,0.07,0.13,0.13,0.21,0.23,0.12,0.25,0.24,0.24,0.21,0.0,0.21,0.16,0.12,0.1,0.07,0.16,0.15,0.13,0.13,0.05,0.04,0.12,0.22,0.16,0.15,0.25,0.27,0.34,0.21,0.05,0.2,0.27,0.21,0.21,0.18,0.15,0.15,0.13,0.2,0.13,0.14,0.17,0.0,0.12,0.25,0.25,0.13,0.22,0.14,0.14,0.31,0.15,0.15,0.06,0.26,0.08,0.11,0.15,0.15,0.12,0.15,0.18,0.2,0.09,0.15,0.01,0.29,0.13,0.05,0.17,0.21,0.28,0.0,0.17,0.2,0.0,0.19,0.08,0.28,0.11,0.15,0.27,0.07,0.09,0.13,0.04,0.16,0.17,0.2,0.11,0.21,0.13,0.08,0.12,0.16,0.11,0.26,0.18,0.11,0.13,0.11,0.14,0.08,0.09,0.03,0.16,0.04,0.04,0.11,0.0,0.05,0.16,0.11,0.11,0.05,0.0,0.13,0.16,0.08,0.1,0.13,0.13,0.07,0.0,0.12,0.11,0.13,0.11,0.22,0.05,0.09,0.11,0.08,0.0,0.09,0.12,0.0,0.14,0.1,0.13,0.1,0.11,0.11,0.1,0.0,0.12,0.14,0.0,0.09,0.12,0.12,0.09,0.16,0.13,0.14,0.12,0.13,0.14,0.0,0.0,0.08,0.06,0.07,0.19,0.08,0.01,0.14,0.03,0.0,0.09,0.09,0.11,0.15,0.01,0.1,0.03,0.05,0.07,0.08,0.01,0.12,0.04,0.15,0.01,0.17,0.0,0.04,0.11,0.09,0.0,0.07,0.08,0.0,0.13,0.0,0.1,0.13,0.08,0.1,0.08,0.02,0.06,0.14,0.1,0.05,0.11,0.0,0.07,0.05,0.02,0.0,0.08,0.13,0.09,0.05,0.12,0.0,0.07,0.17,0.07,0.04,0.09,0.08,0.12,0.0,0.0,0.09,0.0,0.09,0.06,0.07,0.06,0.16,0.03,0.02,0.03,0.0,0.09,0.04,0.02,0.12,0.11,0.09,0.07,0.0,0.05,0.04,0.05,0.0,0.12,0.07,0.02,0.0,0.03,0.06,0.04,0.0,0.1,0.0,0.0,0.0,0.0,0.0,0.0,0.06,0.0,0.07,0.1,0.0,0.0,0.06,0.06,0.03,0.06,0.01,0.03,0.07,0.0,0.0,0.0,0.05,0.05,0.04,0.02,0.11,0.0,0.02,0.0,0.05,0.0,0.03,0.0,0.0,0.05,0.08,0.08,0.1,0.07,0.04,0.08,0.05,0.0,0.07,0.0,0.08,0.04,0.07,0.04,0.08,0.05,0.0,0.0,0.0,0.03,0.04,0.0,0.05,0.02,0.0,0.05,0.06,0.0,0.01,0.0,0.04,0.03,0.08,0.08,0.0,0.0,0.07,0.0,0.09,0.02,0.1,0.03,0.06,0.06,0.07,0.02,0.0,0.02,0.0,0.02,0.06,0.0,0.0,0.0,0.02,0.0,0.02,0.02,0.06,0.01,0.0,0.0,0.0,0.0,0.04,0.05,0.03,0.1,0.0,0.0,0.05,0.0,0.05,0.01,0.05,0.01,0.0,0.06,0.0,0.04,0.04,0.07,0.0,0.0,0.0,0.04,0.0,0.05,0.06,0.02,0.0,0.0,0.03,0.08,0.05,0.05,0.08,0.02,0.05,0.0,0.0,0.02,0.01,0.0,0.04,0.03,0.08,0.0,0.0,0.05,0.02,0.05,0.08,0.02,0.03,0.03,0.06,0.02,0.01,0.05,0.05,0.05,0.0,0.01,0.05,0.05,0.0,0.04,0.05,0.03,0.0,0.05,0.05,0.01,0.0,0.05,0.07,0.05,0.0,0.0,0.0,0.0,0.0,0.02,0.0,0.03,0.03,0.04,0.0,0.0,0.07,0.05,0.01,0.01,0.07,0.04,0.04,0.04,0.0,0.0,0.0,0.02,0.04,0.05,0.05,0.0,0.0,0.0,0.02,0.0,0.0,0.0,0.05,0.01,0.0,0.0,0.03,0.03,0.0,0.0,0.0,0.01,0.0,0.04,0.0,0.0,0.02,0.0,0.01,0.02,0.02,0.0,0.0,0.05,0.03,0.06,0.0,0.01,0.03,0.05,0.05,0.01,0.0,0.06,0.0,0.01,0.0,0.06,0.04,0.02,0.0,0.0,0.03,0.01,0.0,0.05,0.02,0.04,0.0,0.0,0.0,0.02,0.0,0.0,0.02,0.05,0.02,0.04,0.0,0.0,0.0,0.03,0.0,0.0,0.01,0.0,0.0,0.0,0.0,0.0,0.0,0.02,0.05,0.0,0.02,0.0,0.0,0.0,0.05,0.02,0.05,0.04,0.05,0.0,0.05,0.0,0.0,0.02,0.04,0.0,0.02,0.0,0.04,0.0,0.02,0.0,0.0,0.0,0.0,0.03,0.05,0.03,0.02,0.01,0.02,0.02,0.01,0.0,0.0,0.0,0.0,0.0,0.03,0.0,0.0,0.01,0.01,0.0,0.0,0.0,0.04,0.0,0.01,0.0,0.0,0.03,0.0,0.02,0.01,0.0,0.0,0.03,0.04,0.0,0.04,0.04,0.04,0.0,0.02,0.0,0.01,0.0,0.02,0.0,0.0,0.0,0.03,0.0,0.0,0.01,0.0,0.0,0.0,0.0,0.0,0.04,0.0,0.02,0.0,0.03,0.04,0.0,0.0,0.0,0.0,0.0,0.02,0.0,0.0,0.0,0.0,0.02,0.04,0.0,0.0,0.03,0.0,0.0,0.0,0.03,0.0,0.0,0.0,0.02,0.02,0.02,0.0,0.0,0.0,0.0,0.0,0.0,0.03,0.03,0.0,0.03,0.0,0.0,0.0,0.0,0.0,0.0,0.0,0.0,0.0,0.0,0.0,0.0,0.0,0.0,0.0,0.02,0.03,0.0,0.0,0.01,0.0,0.0,0.03,0.0,0.0,0.0,0.0,0.03,0.0,0.0,0.02,0.01,0.03,0.02,0.0,0.0,0.0,0.03,0.0,0.01,0.02,0.0,0.02,0.0,0.0,0.01,0.01,0.0,0.0,0.0,0.0,0.0,0.03,0.02,0.0,0.01,0.0,0.02,0.0,0.0,0.0,0.02,0.0,0.0,0.01,0.0,0.0,0.02,0.0,0.0,0.0,0.0,0.02,0.0,0.0,0.0,0.0,0.0,0.02,0.02,0.02,0.01,0.0,0.02,0.0,0.0,0.02,0.0,0.02,0.0,0.02,0.0,0.02,0.0,0.01,0.0,0.0,0.0,0.0,0.0,0.0,0.0,0.0,0.0,0.0,0.01,0.0,0.0,0.0,0.0,0.01,0.0,0.0,0.0,0.0,0.0,0.02,0.02,0.0,0.0,0.0,0.02,0.0,0.0,0.0,0.0,0.0,0.02,0.01,0.0,0.01,0.0,0.0,0.0,0.0,0.0,0.02,0.0,0.01,0.0,0.01,0.0,0.0,0.0,0.0,0.0,0.0,0.0,0.0,0.01,0.0,0.01,0.0,0.01,0.01,0.0,0.0,0.01,0.0,0.01,0.0,0.0,0.0,0.0,0.01,0.01,0.0,0.0,0.0,0.0,0.0,0.0,0.0,0.0,0.01,0.0,0.0,0.0,0.0,0.0,0.0,0.0,0.01,0.0,0.0,0.0,0.0,0.0,0.0,0.01,0.0,0.0,0.0,0.01,0.01,0.0,0.01,0.01,0.01,0.01,0.01,0.01,0.01,0.01,0.0,0.0,0.01,0.01,0.01,0.01,0.0,0.0,0.0,0.01,0.0,0.0,0.0],\"y0\":\" \",\"yaxis\":\"y\",\"type\":\"box\"}],                        {\"template\":{\"data\":{\"histogram2dcontour\":[{\"type\":\"histogram2dcontour\",\"colorbar\":{\"outlinewidth\":0,\"ticks\":\"\"},\"colorscale\":[[0.0,\"#0d0887\"],[0.1111111111111111,\"#46039f\"],[0.2222222222222222,\"#7201a8\"],[0.3333333333333333,\"#9c179e\"],[0.4444444444444444,\"#bd3786\"],[0.5555555555555556,\"#d8576b\"],[0.6666666666666666,\"#ed7953\"],[0.7777777777777778,\"#fb9f3a\"],[0.8888888888888888,\"#fdca26\"],[1.0,\"#f0f921\"]]}],\"choropleth\":[{\"type\":\"choropleth\",\"colorbar\":{\"outlinewidth\":0,\"ticks\":\"\"}}],\"histogram2d\":[{\"type\":\"histogram2d\",\"colorbar\":{\"outlinewidth\":0,\"ticks\":\"\"},\"colorscale\":[[0.0,\"#0d0887\"],[0.1111111111111111,\"#46039f\"],[0.2222222222222222,\"#7201a8\"],[0.3333333333333333,\"#9c179e\"],[0.4444444444444444,\"#bd3786\"],[0.5555555555555556,\"#d8576b\"],[0.6666666666666666,\"#ed7953\"],[0.7777777777777778,\"#fb9f3a\"],[0.8888888888888888,\"#fdca26\"],[1.0,\"#f0f921\"]]}],\"heatmap\":[{\"type\":\"heatmap\",\"colorbar\":{\"outlinewidth\":0,\"ticks\":\"\"},\"colorscale\":[[0.0,\"#0d0887\"],[0.1111111111111111,\"#46039f\"],[0.2222222222222222,\"#7201a8\"],[0.3333333333333333,\"#9c179e\"],[0.4444444444444444,\"#bd3786\"],[0.5555555555555556,\"#d8576b\"],[0.6666666666666666,\"#ed7953\"],[0.7777777777777778,\"#fb9f3a\"],[0.8888888888888888,\"#fdca26\"],[1.0,\"#f0f921\"]]}],\"heatmapgl\":[{\"type\":\"heatmapgl\",\"colorbar\":{\"outlinewidth\":0,\"ticks\":\"\"},\"colorscale\":[[0.0,\"#0d0887\"],[0.1111111111111111,\"#46039f\"],[0.2222222222222222,\"#7201a8\"],[0.3333333333333333,\"#9c179e\"],[0.4444444444444444,\"#bd3786\"],[0.5555555555555556,\"#d8576b\"],[0.6666666666666666,\"#ed7953\"],[0.7777777777777778,\"#fb9f3a\"],[0.8888888888888888,\"#fdca26\"],[1.0,\"#f0f921\"]]}],\"contourcarpet\":[{\"type\":\"contourcarpet\",\"colorbar\":{\"outlinewidth\":0,\"ticks\":\"\"}}],\"contour\":[{\"type\":\"contour\",\"colorbar\":{\"outlinewidth\":0,\"ticks\":\"\"},\"colorscale\":[[0.0,\"#0d0887\"],[0.1111111111111111,\"#46039f\"],[0.2222222222222222,\"#7201a8\"],[0.3333333333333333,\"#9c179e\"],[0.4444444444444444,\"#bd3786\"],[0.5555555555555556,\"#d8576b\"],[0.6666666666666666,\"#ed7953\"],[0.7777777777777778,\"#fb9f3a\"],[0.8888888888888888,\"#fdca26\"],[1.0,\"#f0f921\"]]}],\"surface\":[{\"type\":\"surface\",\"colorbar\":{\"outlinewidth\":0,\"ticks\":\"\"},\"colorscale\":[[0.0,\"#0d0887\"],[0.1111111111111111,\"#46039f\"],[0.2222222222222222,\"#7201a8\"],[0.3333333333333333,\"#9c179e\"],[0.4444444444444444,\"#bd3786\"],[0.5555555555555556,\"#d8576b\"],[0.6666666666666666,\"#ed7953\"],[0.7777777777777778,\"#fb9f3a\"],[0.8888888888888888,\"#fdca26\"],[1.0,\"#f0f921\"]]}],\"mesh3d\":[{\"type\":\"mesh3d\",\"colorbar\":{\"outlinewidth\":0,\"ticks\":\"\"}}],\"scatter\":[{\"fillpattern\":{\"fillmode\":\"overlay\",\"size\":10,\"solidity\":0.2},\"type\":\"scatter\"}],\"parcoords\":[{\"type\":\"parcoords\",\"line\":{\"colorbar\":{\"outlinewidth\":0,\"ticks\":\"\"}}}],\"scatterpolargl\":[{\"type\":\"scatterpolargl\",\"marker\":{\"colorbar\":{\"outlinewidth\":0,\"ticks\":\"\"}}}],\"bar\":[{\"error_x\":{\"color\":\"#2a3f5f\"},\"error_y\":{\"color\":\"#2a3f5f\"},\"marker\":{\"line\":{\"color\":\"#E5ECF6\",\"width\":0.5},\"pattern\":{\"fillmode\":\"overlay\",\"size\":10,\"solidity\":0.2}},\"type\":\"bar\"}],\"scattergeo\":[{\"type\":\"scattergeo\",\"marker\":{\"colorbar\":{\"outlinewidth\":0,\"ticks\":\"\"}}}],\"scatterpolar\":[{\"type\":\"scatterpolar\",\"marker\":{\"colorbar\":{\"outlinewidth\":0,\"ticks\":\"\"}}}],\"histogram\":[{\"marker\":{\"pattern\":{\"fillmode\":\"overlay\",\"size\":10,\"solidity\":0.2}},\"type\":\"histogram\"}],\"scattergl\":[{\"type\":\"scattergl\",\"marker\":{\"colorbar\":{\"outlinewidth\":0,\"ticks\":\"\"}}}],\"scatter3d\":[{\"type\":\"scatter3d\",\"line\":{\"colorbar\":{\"outlinewidth\":0,\"ticks\":\"\"}},\"marker\":{\"colorbar\":{\"outlinewidth\":0,\"ticks\":\"\"}}}],\"scattermapbox\":[{\"type\":\"scattermapbox\",\"marker\":{\"colorbar\":{\"outlinewidth\":0,\"ticks\":\"\"}}}],\"scatterternary\":[{\"type\":\"scatterternary\",\"marker\":{\"colorbar\":{\"outlinewidth\":0,\"ticks\":\"\"}}}],\"scattercarpet\":[{\"type\":\"scattercarpet\",\"marker\":{\"colorbar\":{\"outlinewidth\":0,\"ticks\":\"\"}}}],\"carpet\":[{\"aaxis\":{\"endlinecolor\":\"#2a3f5f\",\"gridcolor\":\"white\",\"linecolor\":\"white\",\"minorgridcolor\":\"white\",\"startlinecolor\":\"#2a3f5f\"},\"baxis\":{\"endlinecolor\":\"#2a3f5f\",\"gridcolor\":\"white\",\"linecolor\":\"white\",\"minorgridcolor\":\"white\",\"startlinecolor\":\"#2a3f5f\"},\"type\":\"carpet\"}],\"table\":[{\"cells\":{\"fill\":{\"color\":\"#EBF0F8\"},\"line\":{\"color\":\"white\"}},\"header\":{\"fill\":{\"color\":\"#C8D4E3\"},\"line\":{\"color\":\"white\"}},\"type\":\"table\"}],\"barpolar\":[{\"marker\":{\"line\":{\"color\":\"#E5ECF6\",\"width\":0.5},\"pattern\":{\"fillmode\":\"overlay\",\"size\":10,\"solidity\":0.2}},\"type\":\"barpolar\"}],\"pie\":[{\"automargin\":true,\"type\":\"pie\"}]},\"layout\":{\"autotypenumbers\":\"strict\",\"colorway\":[\"#636efa\",\"#EF553B\",\"#00cc96\",\"#ab63fa\",\"#FFA15A\",\"#19d3f3\",\"#FF6692\",\"#B6E880\",\"#FF97FF\",\"#FECB52\"],\"font\":{\"color\":\"#2a3f5f\"},\"hovermode\":\"closest\",\"hoverlabel\":{\"align\":\"left\"},\"paper_bgcolor\":\"white\",\"plot_bgcolor\":\"#E5ECF6\",\"polar\":{\"bgcolor\":\"#E5ECF6\",\"angularaxis\":{\"gridcolor\":\"white\",\"linecolor\":\"white\",\"ticks\":\"\"},\"radialaxis\":{\"gridcolor\":\"white\",\"linecolor\":\"white\",\"ticks\":\"\"}},\"ternary\":{\"bgcolor\":\"#E5ECF6\",\"aaxis\":{\"gridcolor\":\"white\",\"linecolor\":\"white\",\"ticks\":\"\"},\"baxis\":{\"gridcolor\":\"white\",\"linecolor\":\"white\",\"ticks\":\"\"},\"caxis\":{\"gridcolor\":\"white\",\"linecolor\":\"white\",\"ticks\":\"\"}},\"coloraxis\":{\"colorbar\":{\"outlinewidth\":0,\"ticks\":\"\"}},\"colorscale\":{\"sequential\":[[0.0,\"#0d0887\"],[0.1111111111111111,\"#46039f\"],[0.2222222222222222,\"#7201a8\"],[0.3333333333333333,\"#9c179e\"],[0.4444444444444444,\"#bd3786\"],[0.5555555555555556,\"#d8576b\"],[0.6666666666666666,\"#ed7953\"],[0.7777777777777778,\"#fb9f3a\"],[0.8888888888888888,\"#fdca26\"],[1.0,\"#f0f921\"]],\"sequentialminus\":[[0.0,\"#0d0887\"],[0.1111111111111111,\"#46039f\"],[0.2222222222222222,\"#7201a8\"],[0.3333333333333333,\"#9c179e\"],[0.4444444444444444,\"#bd3786\"],[0.5555555555555556,\"#d8576b\"],[0.6666666666666666,\"#ed7953\"],[0.7777777777777778,\"#fb9f3a\"],[0.8888888888888888,\"#fdca26\"],[1.0,\"#f0f921\"]],\"diverging\":[[0,\"#8e0152\"],[0.1,\"#c51b7d\"],[0.2,\"#de77ae\"],[0.3,\"#f1b6da\"],[0.4,\"#fde0ef\"],[0.5,\"#f7f7f7\"],[0.6,\"#e6f5d0\"],[0.7,\"#b8e186\"],[0.8,\"#7fbc41\"],[0.9,\"#4d9221\"],[1,\"#276419\"]]},\"xaxis\":{\"gridcolor\":\"white\",\"linecolor\":\"white\",\"ticks\":\"\",\"title\":{\"standoff\":15},\"zerolinecolor\":\"white\",\"automargin\":true,\"zerolinewidth\":2},\"yaxis\":{\"gridcolor\":\"white\",\"linecolor\":\"white\",\"ticks\":\"\",\"title\":{\"standoff\":15},\"zerolinecolor\":\"white\",\"automargin\":true,\"zerolinewidth\":2},\"scene\":{\"xaxis\":{\"backgroundcolor\":\"#E5ECF6\",\"gridcolor\":\"white\",\"linecolor\":\"white\",\"showbackground\":true,\"ticks\":\"\",\"zerolinecolor\":\"white\",\"gridwidth\":2},\"yaxis\":{\"backgroundcolor\":\"#E5ECF6\",\"gridcolor\":\"white\",\"linecolor\":\"white\",\"showbackground\":true,\"ticks\":\"\",\"zerolinecolor\":\"white\",\"gridwidth\":2},\"zaxis\":{\"backgroundcolor\":\"#E5ECF6\",\"gridcolor\":\"white\",\"linecolor\":\"white\",\"showbackground\":true,\"ticks\":\"\",\"zerolinecolor\":\"white\",\"gridwidth\":2}},\"shapedefaults\":{\"line\":{\"color\":\"#2a3f5f\"}},\"annotationdefaults\":{\"arrowcolor\":\"#2a3f5f\",\"arrowhead\":0,\"arrowwidth\":1},\"geo\":{\"bgcolor\":\"white\",\"landcolor\":\"#E5ECF6\",\"subunitcolor\":\"white\",\"showland\":true,\"showlakes\":true,\"lakecolor\":\"white\"},\"title\":{\"x\":0.05},\"mapbox\":{\"style\":\"light\"}}},\"xaxis\":{\"anchor\":\"y\",\"domain\":[0.0,1.0],\"title\":{\"text\":\"rating\"}},\"yaxis\":{\"anchor\":\"x\",\"domain\":[0.0,1.0],\"title\":{\"text\":\"eu_sales\"},\"range\":[0,1.5]},\"legend\":{\"tracegroupgap\":0},\"margin\":{\"t\":60},\"boxmode\":\"group\",\"title\":{\"text\":\"\\u0412\\u043b\\u0438\\u044f\\u043d\\u0438\\u0435 \\u0440\\u0435\\u0439\\u0442\\u0438\\u043d\\u0433\\u0430 ESRB \\u043d\\u0430 \\u043f\\u0440\\u043e\\u0434\\u0430\\u0436\\u0438 \\u0432 \\u0415\\u0432\\u0440\\u043e\\u043f\\u0435\"}},                        {\"responsive\": true}                    ).then(function(){\n",
              "                            \n",
              "var gd = document.getElementById('8670f097-3efa-4c23-aa0f-36d0f7c6da0d');\n",
              "var x = new MutationObserver(function (mutations, observer) {{\n",
              "        var display = window.getComputedStyle(gd).display;\n",
              "        if (!display || display === 'none') {{\n",
              "            console.log([gd, 'removed!']);\n",
              "            Plotly.purge(gd);\n",
              "            observer.disconnect();\n",
              "        }}\n",
              "}});\n",
              "\n",
              "// Listen for the removal of the full notebook cells\n",
              "var notebookContainer = gd.closest('#notebook-container');\n",
              "if (notebookContainer) {{\n",
              "    x.observe(notebookContainer, {childList: true});\n",
              "}}\n",
              "\n",
              "// Listen for the clearing of the current output cell\n",
              "var outputEl = gd.closest('.output');\n",
              "if (outputEl) {{\n",
              "    x.observe(outputEl, {childList: true});\n",
              "}}\n",
              "\n",
              "                        })                };                            </script>        </div>\n",
              "</body>\n",
              "</html>"
            ]
          },
          "metadata": {}
        }
      ]
    },
    {
      "cell_type": "code",
      "source": [
        "fig = px.box(data, x = 'rating', y='jp_sales')\n",
        "fig.update_layout(yaxis_range= [0,0.4])\n",
        "fig.update_layout(title = \"Влияние рейтинга ESRB на продажи в Японии\")\n",
        "fig.show()"
      ],
      "metadata": {
        "colab": {
          "base_uri": "https://localhost:8080/",
          "height": 542
        },
        "id": "RV1iX3HdOZxf",
        "outputId": "027c2543-2063-4d90-b7a2-7e5f4ec1e65c"
      },
      "execution_count": 68,
      "outputs": [
        {
          "output_type": "display_data",
          "data": {
            "text/html": [
              "<html>\n",
              "<head><meta charset=\"utf-8\" /></head>\n",
              "<body>\n",
              "    <div>            <script src=\"https://cdnjs.cloudflare.com/ajax/libs/mathjax/2.7.5/MathJax.js?config=TeX-AMS-MML_SVG\"></script><script type=\"text/javascript\">if (window.MathJax && window.MathJax.Hub && window.MathJax.Hub.Config) {window.MathJax.Hub.Config({SVG: {font: \"STIX-Web\"}});}</script>                <script type=\"text/javascript\">window.PlotlyConfig = {MathJaxConfig: 'local'};</script>\n",
              "        <script charset=\"utf-8\" src=\"https://cdn.plot.ly/plotly-2.24.1.min.js\"></script>                <div id=\"cd98bead-3fe0-499c-a384-ea11682b8e08\" class=\"plotly-graph-div\" style=\"height:525px; width:100%;\"></div>            <script type=\"text/javascript\">                                    window.PLOTLYENV=window.PLOTLYENV || {};                                    if (document.getElementById(\"cd98bead-3fe0-499c-a384-ea11682b8e08\")) {                    Plotly.newPlot(                        \"cd98bead-3fe0-499c-a384-ea11682b8e08\",                        [{\"alignmentgroup\":\"True\",\"hovertemplate\":\"rating=%{x}\\u003cbr\\u003ejp_sales=%{y}\\u003cextra\\u003e\\u003c\\u002fextra\\u003e\",\"legendgroup\":\"\",\"marker\":{\"color\":\"#636efa\"},\"name\":\"\",\"notched\":false,\"offsetgroup\":\"\",\"orientation\":\"v\",\"showlegend\":false,\"x\":[null,\"M\",null,\"E\",null,\"M\",\"E\",null,null,\"M\",null,\"E\",\"T\",\"M\",\"T\",\"M\",null,null,\"T\",\"T\",\"M\",\"M\",null,\"M\",\"E\",\"M\",\"M\",\"M\",\"M\",\"M\",\"M\",\"M\",\"T\",\"E10+\",\"M\",null,\"M\",\"M\",\"M\",\"T\",null,null,\"M\",\"E\",\"E\",\"M\",\"E\",\"M\",\"M\",\"E\",\"T\",\"M\",null,\"E\",null,\"E\",\"M\",\"E\",null,\"M\",\"E\",\"E10+\",\"E10+\",null,\"M\",\"M\",\"M\",\"E\",\"E\",\"M\",\"T\",\"M\",\"M\",\"E\",\"E\",\"M\",\"T\",\"T\",\"E\",\"E\",\"M\",\"E\",\"M\",\"M\",\"E\",\"M\",\"E\",null,\"M\",\"M\",\"T\",\"E\",null,\"T\",null,null,\"M\",\"M\",\"M\",\"E\",\"T\",\"M\",\"E\",\"E\",\"M\",null,\"M\",null,\"E\",null,\"E10+\",\"E\",\"M\",\"M\",\"M\",\"M\",\"M\",\"M\",\"E\",null,null,\"M\",\"M\",\"M\",\"M\",\"M\",\"M\",\"E10+\",\"T\",\"M\",\"M\",\"E\",\"E\",null,\"T\",\"M\",\"T\",null,\"T\",\"M\",\"T\",\"M\",\"M\",\"E\",\"T\",\"E\",\"E\",null,\"E10+\",\"T\",\"T\",\"E\",\"M\",\"E10+\",null,\"E\",\"M\",null,\"E\",null,\"T\",\"M\",\"E\",\"E10+\",\"E10+\",\"E\",\"M\",\"M\",\"T\",\"M\",\"M\",\"E10+\",\"E10+\",null,\"E10+\",null,\"M\",\"M\",null,\"E10+\",\"T\",\"T\",\"E10+\",\"M\",null,null,\"E\",\"M\",\"E10+\",\"T\",\"E\",null,null,null,\"M\",\"M\",\"E\",null,null,\"T\",null,null,null,\"E10+\",\"E\",\"E\",\"E10+\",\"E10+\",\"M\",\"E\",\"M\",null,\"T\",\"E10+\",null,null,\"E10+\",null,\"E10+\",\"M\",\"M\",\"M\",\"E10+\",\"E10+\",\"E\",null,null,\"E10+\",\"E10+\",null,\"M\",\"T\",\"M\",\"T\",\"M\",\"E\",null,null,\"E10+\",\"E10+\",null,\"M\",\"E\",\"E10+\",\"M\",null,null,\"E10+\",\"E10+\",\"E10+\",\"T\",\"E10+\",\"M\",\"T\",\"M\",\"E\",\"M\",\"T\",\"T\",null,null,null,\"M\",\"M\",\"T\",\"M\",null,null,\"E10+\",\"E10+\",\"E10+\",null,null,\"M\",\"E\",\"M\",\"M\",\"T\",null,\"E10+\",\"M\",\"E\",\"T\",null,null,\"E10+\",\"E\",\"T\",\"E10+\",\"T\",\"T\",\"T\",\"M\",null,null,\"E10+\",\"E\",\"E10+\",\"E10+\",\"E10+\",\"E\",null,\"M\",\"E10+\",null,null,\"M\",null,null,\"T\",\"E10+\",\"E\",\"T\",null,\"E\",\"E10+\",\"E10+\",\"E10+\",\"T\",\"E\",\"M\",\"E10+\",\"E10+\",\"E\",null,null,\"T\",\"M\",\"E\",null,null,null,null,\"M\",\"E\",null,\"E10+\",\"T\",\"M\",\"M\",\"E\",null,null,null,null,\"M\",\"T\",\"E\",\"T\",\"E10+\",\"E\",null,\"E10+\",\"E10+\",\"E10+\",\"M\",null,null,null,\"M\",\"T\",\"T\",\"E10+\",\"T\",\"M\",\"E\",\"E10+\",null,null,null,\"E10+\",\"E10+\",null,\"T\",\"M\",\"E10+\",\"E10+\",\"T\",null,\"E10+\",\"M\",\"M\",\"E10+\",null,null,null,\"T\",\"E10+\",\"T\",null,\"E\",\"T\",\"M\",\"M\",null,\"E10+\",\"M\",\"E\",\"M\",\"E\",\"M\",\"T\",null,\"M\",null,null,null,\"M\",\"M\",\"E10+\",null,null,\"T\",null,\"T\",null,null,\"E\",\"E10+\",\"E10+\",\"E\",\"T\",\"E\",null,\"T\",\"E\",null,null,\"T\",\"T\",\"T\",null,\"E10+\",\"E10+\",\"E10+\",\"M\",\"T\",null,\"E10+\",null,\"T\",\"E\",\"T\",\"E10+\",\"M\",\"E10+\",\"T\",null,\"E10+\",null,\"T\",\"T\",\"E10+\",\"E\",null,\"E\",null,\"T\",\"T\",null,\"T\",null,\"E\",null,null,\"E\",\"M\",\"M\",null,\"M\",\"T\",\"T\",null,\"T\",\"E10+\",\"T\",\"M\",null,\"E\",\"E\",\"T\",\"M\",null,null,null,null,\"E10+\",null,\"T\",\"T\",null,null,\"M\",null,null,\"M\",null,\"E10+\",\"E10+\",\"T\",null,null,\"T\",\"T\",null,null,\"E\",\"M\",\"E10+\",\"T\",\"E\",\"E\",null,\"M\",\"T\",\"E\",\"E10+\",null,null,\"T\",\"E\",null,null,\"M\",\"T\",null,\"E10+\",null,\"E\",\"E\",null,\"T\",\"T\",\"T\",\"E10+\",\"M\",\"E10+\",null,null,\"M\",null,\"T\",null,null,\"E10+\",null,null,null,null,null,null,\"T\",\"T\",\"E10+\",null,\"T\",null,\"T\",null,\"T\",null,null,\"M\",\"E10+\",\"T\",\"E\",\"T\",\"E\",\"E\",null,null,\"M\",null,\"M\",\"T\",\"M\",null,\"T\",\"M\",null,\"T\",null,\"M\",\"E10+\",null,\"T\",\"E10+\",null,\"E\",\"T\",null,null,null,\"E\",\"M\",\"E\",null,null,null,\"E10+\",null,\"E\",null,null,null,\"T\",\"E10+\",\"E\",null,null,\"T\",null,\"E\",\"E10+\",null,null,null,\"T\",null,\"E\",\"M\",\"E\",\"E\",null,null,\"T\",null,null,\"E\",null,\"T\",null,null,\"T\",null,\"T\",\"E\",null,\"T\",\"E\",\"E\",null,\"T\",\"E10+\",\"E10+\",\"T\",null,null,\"M\",null,\"E\",\"E10+\",\"M\",null,null,\"M\",\"T\",\"T\",null,\"T\",\"M\",\"E\",null,null,null,\"T\",null,\"E10+\",\"E10+\",null,null,null,null,\"T\",null,null,\"E10+\",null,\"M\",\"M\",null,\"E10+\",\"E\",\"E\",\"E10+\",\"E\",\"T\",\"E\",null,null,\"T\",null,null,\"T\",null,\"E\",null,null,\"T\",\"T\",null,null,null,\"T\",null,null,\"E\",\"T\",\"E\",\"E\",\"T\",null,\"E\",\"E10+\",\"M\",\"T\",\"T\",null,null,\"E10+\",null,\"M\",\"E\",null,null,\"M\",null,\"E\",\"T\",null,null,\"M\",null,\"M\",null,\"T\",\"T\",null,null,null,\"M\",null,null,\"T\",\"E\",\"T\",\"M\",null,\"E\",\"M\",\"T\",\"E10+\",\"T\",null,null,null,\"E10+\",null,null,null,null,null,\"T\",\"T\",\"T\",null,\"E\",null,\"E\",null,\"T\",\"M\",null,\"E\",null,null,\"T\",null,\"E\",\"T\",\"E\",null,null,null,\"T\",\"E10+\",null,\"E\",null,\"M\",\"M\",null,null,null,null,null,\"E\",\"E10+\",null,\"T\",null,null,\"T\",null,null,\"E10+\",null,\"T\",null,null,\"T\",\"E\",\"T\",\"E\",null,\"E\",\"T\",\"E\",null,null,\"M\",\"M\",null,null,null,null,\"E10+\",\"E10+\",\"E10+\",null,null,null,\"M\",null,\"T\",null,\"M\",\"T\",\"M\",\"M\",null,null,null,null,\"M\",null,null,null,\"T\",\"M\",null,\"T\",null,\"M\",\"E\",\"E10+\",null,\"T\",\"E\",null,\"T\",\"M\",null,null,\"E10+\",\"E\",\"M\",null,\"E\",\"E\",null,\"T\",null,\"T\",null,\"M\",\"E10+\",null,\"T\",\"T\",\"T\",null,\"T\",null,null,\"T\",\"E\",\"E10+\",\"E\",null,\"M\",\"T\",\"E\",\"T\",null,null,\"T\",\"M\",null,null,null,\"E\",null,null,\"M\",null,null,null,null,\"E\",\"T\",null,\"T\",null,null,\"E10+\",\"E10+\",\"E\",null,null,null,null,null,null,null,\"T\",\"E\",\"M\",null,null,null,null,\"T\",null,null,\"E10+\",\"T\",null,null,null,null,null,null,null,null,\"E\",null,null,\"M\",null,null,\"E\",\"T\",null,null,null,null,\"E\",null,\"E10+\",\"E10+\",\"E\",\"E\",null,null,\"T\",\"E10+\",null,\"M\",\"E\",null,\"E10+\",null,\"T\",null,\"E\",null,null,\"M\",null,null,\"E\",null,null,\"M\",null,null,null,null,null,\"E\",\"T\",\"E\",\"T\",\"E\",null,\"E10+\",\"M\",null,null,null,\"E\",\"E10+\",\"T\",null,\"T\",\"E\",\"E\",\"M\",\"E\",\"T\",null,\"E\",null,null,\"T\",null,null,\"T\",null,null,\"E\",null,\"M\",null,null,\"E10+\",\"E\",null,null,\"E\",\"T\",\"M\",null,\"M\",null,\"T\",\"M\",null,\"E10+\",null,null,null,null,null,\"E10+\",\"E10+\",\"E10+\",null,null,\"T\",null,null,null,null,\"M\",\"T\",null,null,null,null,null,null,null,\"T\",\"T\",\"T\",null,null,null,null,null,null,null,null,\"M\",\"T\",null,\"E\",\"E10+\",\"M\",null,null,\"E10+\",\"M\",\"E10+\",\"E\",null,null,null,\"T\",null,\"M\",null,null,\"T\",\"E10+\",null,\"M\",null,null,null,\"T\",\"T\",null,null,null,null,null,\"E10+\",\"E10+\",null,null,null,\"T\",null,null,null,\"E\",null,\"T\",\"M\",\"E\",\"T\",null,null,null,null,null,\"E\",null,\"M\",\"E\",null,null,\"E\",\"E\",\"E\",null,null,null,\"M\",null,null,null,null],\"x0\":\" \",\"xaxis\":\"x\",\"y\":[0.36,0.38,3.1,0.06,0.22,0.14,0.08,2.43,0.01,0.24,2.26,0.05,0.16,0.0,0.19,0.01,0.0,0.07,0.08,0.03,0.15,0.19,0.14,0.0,0.04,0.01,0.21,0.11,0.1,0.23,0.08,0.1,2.62,0.03,0.15,0.02,0.0,0.49,0.07,0.0,2.79,3.18,0.0,0.0,0.0,0.03,1.4,0.05,0.04,0.0,0.07,0.0,0.0,0.05,2.68,0.0,0.26,0.01,0.05,0.0,0.0,0.47,0.0,2.29,0.06,0.0,0.14,0.0,0.0,0.0,0.15,0.14,0.12,0.02,0.0,0.08,0.04,0.0,0.01,0.02,0.07,0.79,0.06,0.03,0.03,0.11,0.0,0.0,0.1,0.06,0.03,0.0,0.0,0.03,0.07,0.52,0.05,0.34,0.01,0.0,0.12,0.0,0.0,0.0,0.03,0.04,0.0,0.02,0.0,0.06,0.01,0.28,0.0,0.02,0.02,0.01,0.0,0.0,0.02,1.33,0.04,0.0,0.0,0.08,0.01,0.06,0.0,0.0,0.4,0.17,0.01,0.34,0.0,0.18,0.0,0.01,0.0,0.04,0.0,0.0,0.11,0.0,0.04,0.17,0.12,0.02,0.0,0.0,0.0,0.0,0.01,0.0,0.0,0.0,0.15,0.0,0.05,0.0,0.0,0.04,0.0,0.0,0.47,0.0,0.02,0.0,0.0,0.0,0.08,0.0,0.0,0.02,0.0,0.0,0.0,0.0,0.0,0.03,0.87,0.0,0.86,0.0,0.0,0.13,0.03,0.79,0.13,0.01,0.0,0.0,0.0,0.0,0.26,0.02,0.05,0.01,0.11,0.08,0.72,0.01,0.06,0.37,0.0,0.0,0.03,0.03,0.0,0.0,0.27,0.0,0.01,0.0,0.09,0.01,0.0,0.0,0.05,0.0,0.0,0.0,0.0,0.0,0.01,0.0,0.03,0.0,0.04,0.01,0.0,0.01,0.22,0.0,0.0,0.0,0.0,0.01,0.63,0.0,0.0,0.03,0.0,0.0,0.01,0.01,0.05,0.0,0.08,0.0,0.02,0.0,0.0,0.0,0.05,0.0,0.27,0.22,0.0,0.0,0.42,0.12,0.0,0.56,0.01,0.01,0.0,0.1,0.0,0.02,0.28,0.0,0.0,0.25,0.0,0.0,0.0,0.02,0.0,0.0,0.49,0.0,0.0,0.16,0.18,0.34,0.0,0.0,0.17,0.14,0.0,0.0,0.0,0.1,0.01,0.0,0.02,0.0,0.0,0.0,0.0,0.0,0.11,0.0,0.02,0.0,0.0,0.01,0.0,0.0,0.11,0.09,0.0,0.0,0.0,0.02,0.0,0.0,0.01,0.27,0.0,0.0,0.07,0.0,0.0,0.02,0.0,0.22,0.02,0.03,0.15,0.0,0.03,0.02,0.0,0.0,0.0,0.01,0.0,0.0,0.0,0.0,0.0,0.38,0.05,0.0,0.37,0.02,0.15,0.0,0.02,0.0,0.0,0.0,0.0,0.0,0.23,0.0,0.02,0.0,0.0,0.03,0.07,0.0,0.0,0.02,0.0,0.0,0.0,0.0,0.08,0.19,0.08,0.0,0.15,0.16,0.0,0.1,0.0,0.0,0.32,0.0,0.02,0.0,0.0,0.2,0.31,0.0,0.06,0.0,0.06,0.0,0.08,0.0,0.0,0.0,0.06,0.0,0.0,0.04,0.16,0.0,0.0,0.06,0.28,0.0,0.02,0.28,0.0,0.0,0.0,0.0,0.0,0.11,0.06,0.27,0.0,0.0,0.27,0.0,0.0,0.0,0.0,0.0,0.0,0.0,0.0,0.0,0.02,0.26,0.26,0.02,0.19,0.0,0.0,0.0,0.1,0.02,0.1,0.25,0.0,0.01,0.0,0.0,0.05,0.0,0.04,0.0,0.06,0.06,0.0,0.0,0.0,0.0,0.13,0.0,0.23,0.0,0.0,0.0,0.23,0.0,0.0,0.23,0.0,0.22,0.0,0.03,0.0,0.0,0.0,0.08,0.0,0.0,0.01,0.01,0.04,0.19,0.0,0.0,0.0,0.05,0.0,0.0,0.0,0.05,0.0,0.2,0.0,0.0,0.0,0.07,0.0,0.0,0.02,0.0,0.14,0.0,0.19,0.01,0.0,0.03,0.0,0.0,0.0,0.1,0.02,0.07,0.0,0.0,0.08,0.04,0.0,0.01,0.0,0.08,0.0,0.0,0.0,0.17,0.03,0.02,0.0,0.17,0.08,0.0,0.03,0.17,0.0,0.17,0.0,0.0,0.17,0.12,0.09,0.0,0.1,0.0,0.0,0.04,0.16,0.0,0.0,0.06,0.0,0.0,0.0,0.0,0.15,0.15,0.15,0.04,0.0,0.0,0.04,0.0,0.15,0.11,0.15,0.0,0.14,0.02,0.14,0.14,0.01,0.0,0.0,0.0,0.0,0.02,0.0,0.0,0.14,0.0,0.14,0.0,0.0,0.01,0.0,0.0,0.02,0.14,0.13,0.13,0.0,0.0,0.13,0.04,0.0,0.13,0.06,0.06,0.13,0.04,0.13,0.0,0.0,0.0,0.0,0.12,0.12,0.01,0.12,0.0,0.06,0.0,0.0,0.0,0.0,0.0,0.09,0.12,0.0,0.12,0.0,0.0,0.12,0.01,0.12,0.06,0.12,0.0,0.06,0.0,0.08,0.11,0.11,0.11,0.11,0.01,0.0,0.0,0.0,0.11,0.02,0.0,0.11,0.01,0.0,0.0,0.09,0.0,0.0,0.11,0.0,0.0,0.0,0.11,0.1,0.1,0.03,0.1,0.0,0.0,0.0,0.1,0.1,0.0,0.0,0.0,0.0,0.0,0.02,0.0,0.1,0.1,0.0,0.06,0.1,0.0,0.0,0.0,0.09,0.08,0.0,0.0,0.0,0.0,0.0,0.0,0.0,0.0,0.0,0.08,0.0,0.0,0.0,0.0,0.04,0.0,0.0,0.09,0.05,0.0,0.01,0.09,0.0,0.0,0.05,0.09,0.01,0.0,0.0,0.08,0.08,0.03,0.08,0.0,0.0,0.08,0.0,0.0,0.0,0.05,0.0,0.0,0.0,0.0,0.0,0.0,0.0,0.0,0.03,0.0,0.0,0.08,0.0,0.0,0.0,0.0,0.08,0.08,0.08,0.0,0.05,0.02,0.08,0.02,0.0,0.07,0.07,0.0,0.0,0.07,0.0,0.05,0.0,0.03,0.0,0.07,0.0,0.0,0.0,0.0,0.0,0.03,0.07,0.07,0.0,0.0,0.0,0.07,0.0,0.0,0.0,0.01,0.0,0.07,0.0,0.07,0.0,0.07,0.0,0.0,0.0,0.06,0.06,0.0,0.03,0.06,0.0,0.0,0.0,0.0,0.06,0.06,0.0,0.06,0.06,0.0,0.0,0.0,0.0,0.06,0.06,0.06,0.0,0.06,0.0,0.0,0.06,0.0,0.06,0.0,0.06,0.06,0.0,0.0,0.06,0.02,0.0,0.06,0.06,0.0,0.0,0.0,0.01,0.0,0.02,0.0,0.06,0.05,0.0,0.0,0.0,0.0,0.05,0.0,0.0,0.03,0.0,0.05,0.05,0.0,0.0,0.0,0.0,0.0,0.0,0.0,0.0,0.0,0.0,0.05,0.0,0.05,0.05,0.01,0.05,0.05,0.01,0.01,0.0,0.02,0.0,0.0,0.0,0.04,0.05,0.05,0.0,0.05,0.0,0.0,0.05,0.05,0.0,0.0,0.0,0.0,0.0,0.0,0.04,0.0,0.04,0.0,0.04,0.0,0.03,0.04,0.0,0.0,0.04,0.04,0.0,0.0,0.04,0.02,0.0,0.0,0.0,0.04,0.0,0.0,0.0,0.0,0.04,0.04,0.04,0.01,0.04,0.0,0.04,0.0,0.04,0.04,0.01,0.0,0.04,0.04,0.0,0.0,0.03,0.0,0.0,0.04,0.04,0.0,0.0,0.0,0.0,0.04,0.04,0.03,0.03,0.03,0.03,0.0,0.0,0.0,0.0,0.01,0.03,0.03,0.03,0.03,0.03,0.0,0.0,0.03,0.03,0.03,0.03,0.03,0.0,0.0,0.0,0.0,0.03,0.03,0.0,0.03,0.03,0.0,0.0,0.03,0.0,0.03,0.0,0.0,0.0,0.0,0.0,0.0,0.0,0.03,0.03,0.03,0.0,0.03,0.0,0.0,0.03,0.0,0.03,0.0,0.0,0.0,0.03,0.03,0.01,0.03,0.03,0.0,0.0,0.0,0.0,0.0,0.0,0.03,0.03,0.0,0.0,0.0,0.0,0.0,0.0,0.03,0.0,0.0,0.03,0.02,0.02,0.0,0.0,0.02,0.02,0.01,0.0,0.0,0.0,0.0,0.0,0.02,0.0,0.02,0.02,0.0,0.02,0.0,0.02,0.0,0.02,0.0,0.02,0.0,0.02,0.02,0.0,0.0,0.0,0.0,0.0,0.02,0.0,0.02,0.0,0.0,0.0,0.0,0.02,0.0,0.02,0.02,0.02,0.02,0.0,0.0,0.0,0.0,0.02,0.02,0.0,0.02,0.02,0.02,0.02,0.0,0.0,0.0,0.02,0.0,0.02,0.02,0.02,0.02,0.0,0.0,0.0,0.0,0.02,0.0,0.02,0.02,0.02,0.02,0.0,0.0,0.0,0.0,0.0,0.0,0.01,0.01,0.0,0.0,0.0,0.0,0.0,0.01,0.0,0.01,0.0,0.01,0.0,0.0,0.0,0.01,0.0,0.0,0.0,0.0,0.01,0.01,0.01,0.0,0.01,0.01,0.0,0.01,0.01,0.0,0.0,0.0,0.01,0.01,0.0,0.01,0.01,0.01,0.0,0.01,0.0,0.0,0.0,0.0,0.01,0.0,0.0,0.0,0.0,0.0,0.0,0.0,0.0,0.01,0.01,0.0,0.0,0.0,0.0,0.0,0.01,0.0,0.0,0.01,0.01,0.01],\"y0\":\" \",\"yaxis\":\"y\",\"type\":\"box\"}],                        {\"template\":{\"data\":{\"histogram2dcontour\":[{\"type\":\"histogram2dcontour\",\"colorbar\":{\"outlinewidth\":0,\"ticks\":\"\"},\"colorscale\":[[0.0,\"#0d0887\"],[0.1111111111111111,\"#46039f\"],[0.2222222222222222,\"#7201a8\"],[0.3333333333333333,\"#9c179e\"],[0.4444444444444444,\"#bd3786\"],[0.5555555555555556,\"#d8576b\"],[0.6666666666666666,\"#ed7953\"],[0.7777777777777778,\"#fb9f3a\"],[0.8888888888888888,\"#fdca26\"],[1.0,\"#f0f921\"]]}],\"choropleth\":[{\"type\":\"choropleth\",\"colorbar\":{\"outlinewidth\":0,\"ticks\":\"\"}}],\"histogram2d\":[{\"type\":\"histogram2d\",\"colorbar\":{\"outlinewidth\":0,\"ticks\":\"\"},\"colorscale\":[[0.0,\"#0d0887\"],[0.1111111111111111,\"#46039f\"],[0.2222222222222222,\"#7201a8\"],[0.3333333333333333,\"#9c179e\"],[0.4444444444444444,\"#bd3786\"],[0.5555555555555556,\"#d8576b\"],[0.6666666666666666,\"#ed7953\"],[0.7777777777777778,\"#fb9f3a\"],[0.8888888888888888,\"#fdca26\"],[1.0,\"#f0f921\"]]}],\"heatmap\":[{\"type\":\"heatmap\",\"colorbar\":{\"outlinewidth\":0,\"ticks\":\"\"},\"colorscale\":[[0.0,\"#0d0887\"],[0.1111111111111111,\"#46039f\"],[0.2222222222222222,\"#7201a8\"],[0.3333333333333333,\"#9c179e\"],[0.4444444444444444,\"#bd3786\"],[0.5555555555555556,\"#d8576b\"],[0.6666666666666666,\"#ed7953\"],[0.7777777777777778,\"#fb9f3a\"],[0.8888888888888888,\"#fdca26\"],[1.0,\"#f0f921\"]]}],\"heatmapgl\":[{\"type\":\"heatmapgl\",\"colorbar\":{\"outlinewidth\":0,\"ticks\":\"\"},\"colorscale\":[[0.0,\"#0d0887\"],[0.1111111111111111,\"#46039f\"],[0.2222222222222222,\"#7201a8\"],[0.3333333333333333,\"#9c179e\"],[0.4444444444444444,\"#bd3786\"],[0.5555555555555556,\"#d8576b\"],[0.6666666666666666,\"#ed7953\"],[0.7777777777777778,\"#fb9f3a\"],[0.8888888888888888,\"#fdca26\"],[1.0,\"#f0f921\"]]}],\"contourcarpet\":[{\"type\":\"contourcarpet\",\"colorbar\":{\"outlinewidth\":0,\"ticks\":\"\"}}],\"contour\":[{\"type\":\"contour\",\"colorbar\":{\"outlinewidth\":0,\"ticks\":\"\"},\"colorscale\":[[0.0,\"#0d0887\"],[0.1111111111111111,\"#46039f\"],[0.2222222222222222,\"#7201a8\"],[0.3333333333333333,\"#9c179e\"],[0.4444444444444444,\"#bd3786\"],[0.5555555555555556,\"#d8576b\"],[0.6666666666666666,\"#ed7953\"],[0.7777777777777778,\"#fb9f3a\"],[0.8888888888888888,\"#fdca26\"],[1.0,\"#f0f921\"]]}],\"surface\":[{\"type\":\"surface\",\"colorbar\":{\"outlinewidth\":0,\"ticks\":\"\"},\"colorscale\":[[0.0,\"#0d0887\"],[0.1111111111111111,\"#46039f\"],[0.2222222222222222,\"#7201a8\"],[0.3333333333333333,\"#9c179e\"],[0.4444444444444444,\"#bd3786\"],[0.5555555555555556,\"#d8576b\"],[0.6666666666666666,\"#ed7953\"],[0.7777777777777778,\"#fb9f3a\"],[0.8888888888888888,\"#fdca26\"],[1.0,\"#f0f921\"]]}],\"mesh3d\":[{\"type\":\"mesh3d\",\"colorbar\":{\"outlinewidth\":0,\"ticks\":\"\"}}],\"scatter\":[{\"fillpattern\":{\"fillmode\":\"overlay\",\"size\":10,\"solidity\":0.2},\"type\":\"scatter\"}],\"parcoords\":[{\"type\":\"parcoords\",\"line\":{\"colorbar\":{\"outlinewidth\":0,\"ticks\":\"\"}}}],\"scatterpolargl\":[{\"type\":\"scatterpolargl\",\"marker\":{\"colorbar\":{\"outlinewidth\":0,\"ticks\":\"\"}}}],\"bar\":[{\"error_x\":{\"color\":\"#2a3f5f\"},\"error_y\":{\"color\":\"#2a3f5f\"},\"marker\":{\"line\":{\"color\":\"#E5ECF6\",\"width\":0.5},\"pattern\":{\"fillmode\":\"overlay\",\"size\":10,\"solidity\":0.2}},\"type\":\"bar\"}],\"scattergeo\":[{\"type\":\"scattergeo\",\"marker\":{\"colorbar\":{\"outlinewidth\":0,\"ticks\":\"\"}}}],\"scatterpolar\":[{\"type\":\"scatterpolar\",\"marker\":{\"colorbar\":{\"outlinewidth\":0,\"ticks\":\"\"}}}],\"histogram\":[{\"marker\":{\"pattern\":{\"fillmode\":\"overlay\",\"size\":10,\"solidity\":0.2}},\"type\":\"histogram\"}],\"scattergl\":[{\"type\":\"scattergl\",\"marker\":{\"colorbar\":{\"outlinewidth\":0,\"ticks\":\"\"}}}],\"scatter3d\":[{\"type\":\"scatter3d\",\"line\":{\"colorbar\":{\"outlinewidth\":0,\"ticks\":\"\"}},\"marker\":{\"colorbar\":{\"outlinewidth\":0,\"ticks\":\"\"}}}],\"scattermapbox\":[{\"type\":\"scattermapbox\",\"marker\":{\"colorbar\":{\"outlinewidth\":0,\"ticks\":\"\"}}}],\"scatterternary\":[{\"type\":\"scatterternary\",\"marker\":{\"colorbar\":{\"outlinewidth\":0,\"ticks\":\"\"}}}],\"scattercarpet\":[{\"type\":\"scattercarpet\",\"marker\":{\"colorbar\":{\"outlinewidth\":0,\"ticks\":\"\"}}}],\"carpet\":[{\"aaxis\":{\"endlinecolor\":\"#2a3f5f\",\"gridcolor\":\"white\",\"linecolor\":\"white\",\"minorgridcolor\":\"white\",\"startlinecolor\":\"#2a3f5f\"},\"baxis\":{\"endlinecolor\":\"#2a3f5f\",\"gridcolor\":\"white\",\"linecolor\":\"white\",\"minorgridcolor\":\"white\",\"startlinecolor\":\"#2a3f5f\"},\"type\":\"carpet\"}],\"table\":[{\"cells\":{\"fill\":{\"color\":\"#EBF0F8\"},\"line\":{\"color\":\"white\"}},\"header\":{\"fill\":{\"color\":\"#C8D4E3\"},\"line\":{\"color\":\"white\"}},\"type\":\"table\"}],\"barpolar\":[{\"marker\":{\"line\":{\"color\":\"#E5ECF6\",\"width\":0.5},\"pattern\":{\"fillmode\":\"overlay\",\"size\":10,\"solidity\":0.2}},\"type\":\"barpolar\"}],\"pie\":[{\"automargin\":true,\"type\":\"pie\"}]},\"layout\":{\"autotypenumbers\":\"strict\",\"colorway\":[\"#636efa\",\"#EF553B\",\"#00cc96\",\"#ab63fa\",\"#FFA15A\",\"#19d3f3\",\"#FF6692\",\"#B6E880\",\"#FF97FF\",\"#FECB52\"],\"font\":{\"color\":\"#2a3f5f\"},\"hovermode\":\"closest\",\"hoverlabel\":{\"align\":\"left\"},\"paper_bgcolor\":\"white\",\"plot_bgcolor\":\"#E5ECF6\",\"polar\":{\"bgcolor\":\"#E5ECF6\",\"angularaxis\":{\"gridcolor\":\"white\",\"linecolor\":\"white\",\"ticks\":\"\"},\"radialaxis\":{\"gridcolor\":\"white\",\"linecolor\":\"white\",\"ticks\":\"\"}},\"ternary\":{\"bgcolor\":\"#E5ECF6\",\"aaxis\":{\"gridcolor\":\"white\",\"linecolor\":\"white\",\"ticks\":\"\"},\"baxis\":{\"gridcolor\":\"white\",\"linecolor\":\"white\",\"ticks\":\"\"},\"caxis\":{\"gridcolor\":\"white\",\"linecolor\":\"white\",\"ticks\":\"\"}},\"coloraxis\":{\"colorbar\":{\"outlinewidth\":0,\"ticks\":\"\"}},\"colorscale\":{\"sequential\":[[0.0,\"#0d0887\"],[0.1111111111111111,\"#46039f\"],[0.2222222222222222,\"#7201a8\"],[0.3333333333333333,\"#9c179e\"],[0.4444444444444444,\"#bd3786\"],[0.5555555555555556,\"#d8576b\"],[0.6666666666666666,\"#ed7953\"],[0.7777777777777778,\"#fb9f3a\"],[0.8888888888888888,\"#fdca26\"],[1.0,\"#f0f921\"]],\"sequentialminus\":[[0.0,\"#0d0887\"],[0.1111111111111111,\"#46039f\"],[0.2222222222222222,\"#7201a8\"],[0.3333333333333333,\"#9c179e\"],[0.4444444444444444,\"#bd3786\"],[0.5555555555555556,\"#d8576b\"],[0.6666666666666666,\"#ed7953\"],[0.7777777777777778,\"#fb9f3a\"],[0.8888888888888888,\"#fdca26\"],[1.0,\"#f0f921\"]],\"diverging\":[[0,\"#8e0152\"],[0.1,\"#c51b7d\"],[0.2,\"#de77ae\"],[0.3,\"#f1b6da\"],[0.4,\"#fde0ef\"],[0.5,\"#f7f7f7\"],[0.6,\"#e6f5d0\"],[0.7,\"#b8e186\"],[0.8,\"#7fbc41\"],[0.9,\"#4d9221\"],[1,\"#276419\"]]},\"xaxis\":{\"gridcolor\":\"white\",\"linecolor\":\"white\",\"ticks\":\"\",\"title\":{\"standoff\":15},\"zerolinecolor\":\"white\",\"automargin\":true,\"zerolinewidth\":2},\"yaxis\":{\"gridcolor\":\"white\",\"linecolor\":\"white\",\"ticks\":\"\",\"title\":{\"standoff\":15},\"zerolinecolor\":\"white\",\"automargin\":true,\"zerolinewidth\":2},\"scene\":{\"xaxis\":{\"backgroundcolor\":\"#E5ECF6\",\"gridcolor\":\"white\",\"linecolor\":\"white\",\"showbackground\":true,\"ticks\":\"\",\"zerolinecolor\":\"white\",\"gridwidth\":2},\"yaxis\":{\"backgroundcolor\":\"#E5ECF6\",\"gridcolor\":\"white\",\"linecolor\":\"white\",\"showbackground\":true,\"ticks\":\"\",\"zerolinecolor\":\"white\",\"gridwidth\":2},\"zaxis\":{\"backgroundcolor\":\"#E5ECF6\",\"gridcolor\":\"white\",\"linecolor\":\"white\",\"showbackground\":true,\"ticks\":\"\",\"zerolinecolor\":\"white\",\"gridwidth\":2}},\"shapedefaults\":{\"line\":{\"color\":\"#2a3f5f\"}},\"annotationdefaults\":{\"arrowcolor\":\"#2a3f5f\",\"arrowhead\":0,\"arrowwidth\":1},\"geo\":{\"bgcolor\":\"white\",\"landcolor\":\"#E5ECF6\",\"subunitcolor\":\"white\",\"showland\":true,\"showlakes\":true,\"lakecolor\":\"white\"},\"title\":{\"x\":0.05},\"mapbox\":{\"style\":\"light\"}}},\"xaxis\":{\"anchor\":\"y\",\"domain\":[0.0,1.0],\"title\":{\"text\":\"rating\"}},\"yaxis\":{\"anchor\":\"x\",\"domain\":[0.0,1.0],\"title\":{\"text\":\"jp_sales\"},\"range\":[0,0.4]},\"legend\":{\"tracegroupgap\":0},\"margin\":{\"t\":60},\"boxmode\":\"group\",\"title\":{\"text\":\"\\u0412\\u043b\\u0438\\u044f\\u043d\\u0438\\u0435 \\u0440\\u0435\\u0439\\u0442\\u0438\\u043d\\u0433\\u0430 ESRB \\u043d\\u0430 \\u043f\\u0440\\u043e\\u0434\\u0430\\u0436\\u0438 \\u0432 \\u042f\\u043f\\u043e\\u043d\\u0438\\u0438\"}},                        {\"responsive\": true}                    ).then(function(){\n",
              "                            \n",
              "var gd = document.getElementById('cd98bead-3fe0-499c-a384-ea11682b8e08');\n",
              "var x = new MutationObserver(function (mutations, observer) {{\n",
              "        var display = window.getComputedStyle(gd).display;\n",
              "        if (!display || display === 'none') {{\n",
              "            console.log([gd, 'removed!']);\n",
              "            Plotly.purge(gd);\n",
              "            observer.disconnect();\n",
              "        }}\n",
              "}});\n",
              "\n",
              "// Listen for the removal of the full notebook cells\n",
              "var notebookContainer = gd.closest('#notebook-container');\n",
              "if (notebookContainer) {{\n",
              "    x.observe(notebookContainer, {childList: true});\n",
              "}}\n",
              "\n",
              "// Listen for the clearing of the current output cell\n",
              "var outputEl = gd.closest('.output');\n",
              "if (outputEl) {{\n",
              "    x.observe(outputEl, {childList: true});\n",
              "}}\n",
              "\n",
              "                        })                };                            </script>        </div>\n",
              "</body>\n",
              "</html>"
            ]
          },
          "metadata": {}
        }
      ]
    },
    {
      "cell_type": "markdown",
      "source": [
        "Мы видим, что рейтинг ESRB влияет на продажи. Так, в Америке и Европе лучше продажются игры с рейтингом М (старше 17 лет), в Японии лучше продаются игры с рейтингом T (старше 13 лет)"
      ],
      "metadata": {
        "id": "fPMY-NKHOz4u"
      }
    },
    {
      "cell_type": "markdown",
      "source": [
        "### Шаг 5. Проверьте гипотезы\n",
        "Средние пользовательские рейтинги платформ Xbox One и PC одинаковые;\n",
        "Средние пользовательские рейтинги жанров Action (англ. «действие», экшен-игры) и Sports (англ. «спортивные соревнования») разные."
      ],
      "metadata": {
        "id": "uq77Dps9cPkV"
      }
    },
    {
      "cell_type": "markdown",
      "source": [
        "H0: Средние значения пользовательского рейтинга платформ Xbox One и PC одинаковые\n",
        "\n",
        "H1: Средние значения пользовательского рейтинга Xbox One и PC различно"
      ],
      "metadata": {
        "id": "4cawPAyXcWG7"
      }
    },
    {
      "cell_type": "code",
      "source": [
        "df1 = df.query('year_of_release > 2013')"
      ],
      "metadata": {
        "id": "AFVIZzUvPiUv"
      },
      "execution_count": 53,
      "outputs": []
    },
    {
      "cell_type": "code",
      "source": [
        "a = round(df1.query('platform == \"PC\"').dropna()['user_score'].mean(),2)\n",
        "b = round(df1.query('platform == \"XOne\"').dropna()['user_score'].mean(),2)"
      ],
      "metadata": {
        "id": "zMvKCZYFiIJo"
      },
      "execution_count": 54,
      "outputs": []
    },
    {
      "cell_type": "code",
      "source": [
        "print(f'Среднее значение пользовательских рейтингов платформы PC {a}')\n",
        "print(f'Среднее значение пользовательских рейтингов платформы PC {b}')"
      ],
      "metadata": {
        "colab": {
          "base_uri": "https://localhost:8080/"
        },
        "id": "d4QhGu0Ehmg5",
        "outputId": "ac65e9b5-3415-493c-84a0-220501b35fc8"
      },
      "execution_count": 55,
      "outputs": [
        {
          "output_type": "stream",
          "name": "stdout",
          "text": [
            "Среднее значение пользовательских рейтингов платформы PC 6.28\n",
            "Среднее значение пользовательских рейтингов платформы PC 6.57\n"
          ]
        }
      ]
    },
    {
      "cell_type": "code",
      "source": [
        "alpha = 0.05 # уровень статистической значимости\n",
        "sample_1 = df.query('platform == \"PC\"').dropna()['user_score']\n",
        "sample_2 = df.query('platform == \"XOne\"').dropna()['user_score']\n",
        "results = st.ttest_ind(sample_1, sample_2, equal_var=False)\n",
        "print('p-значение:', results.pvalue)\n",
        "if results.pvalue < alpha:\n",
        "    print('Отвергаем нулевую гипотезу')\n",
        "else:\n",
        "    print('Не получилось отвергнуть нулевую гипотезу')"
      ],
      "metadata": {
        "colab": {
          "base_uri": "https://localhost:8080/"
        },
        "id": "b48Zq0URcXA7",
        "outputId": "c637070d-6125-43a1-f71f-f3a5ebdcd68c"
      },
      "execution_count": 56,
      "outputs": [
        {
          "output_type": "stream",
          "name": "stdout",
          "text": [
            "p-значение: 6.469147981752585e-06\n",
            "Отвергаем нулевую гипотезу\n"
          ]
        }
      ]
    },
    {
      "cell_type": "markdown",
      "source": [
        "НО Средние пользовательские рейтинги жанров Action  и Sports одинаковые\n",
        "\n",
        "Н1 Средние пользовательские рейтинги жанров Action  и Sports разные\n",
        "\n"
      ],
      "metadata": {
        "id": "Dtx8pdxYjeR5"
      }
    },
    {
      "cell_type": "code",
      "source": [
        "a1 = round(df1.query('genre == \"Sports\"').dropna()['user_score'].mean(),2)\n",
        "b1 = round(df1.query('genre == \"Action\"').dropna()['user_score'].mean(),2)"
      ],
      "metadata": {
        "id": "mPI-dUW-jbpm"
      },
      "execution_count": 57,
      "outputs": []
    },
    {
      "cell_type": "code",
      "source": [
        "print(f'Среднее значение пользовательских рейтингов жанра Sports {a1}')\n",
        "print(f'Среднее значение пользовательских рейтингов жанра Avtion {b1}')"
      ],
      "metadata": {
        "colab": {
          "base_uri": "https://localhost:8080/"
        },
        "id": "8oT6JaTdkDro",
        "outputId": "118bd701-f22e-4be4-d9a1-ee9835b348b1"
      },
      "execution_count": 58,
      "outputs": [
        {
          "output_type": "stream",
          "name": "stdout",
          "text": [
            "Среднее значение пользовательских рейтингов жанра Sports 5.68\n",
            "Среднее значение пользовательских рейтингов жанра Avtion 6.81\n"
          ]
        }
      ]
    },
    {
      "cell_type": "code",
      "source": [
        "alpha = 0.05 # уровень статистической значимости\n",
        "sample_1 = df.query('genre == \"Sports\"').dropna()['user_score']\n",
        "sample_2 = df.query('genre == \"Action\"').dropna()['user_score']\n",
        "results = st.ttest_ind(sample_1, sample_2, equal_var=False)\n",
        "print('p-значение:', results.pvalue)\n",
        "if results.pvalue < alpha:\n",
        "    print('Отвергаем нулевую гипотезу')\n",
        "else:\n",
        "    print('Не получилось отвергнуть нулевую гипотезу')"
      ],
      "metadata": {
        "colab": {
          "base_uri": "https://localhost:8080/"
        },
        "id": "gxwwRjL2j0ry",
        "outputId": "50cb1562-dbb5-4b07-ef8c-40124c481d46"
      },
      "execution_count": 59,
      "outputs": [
        {
          "output_type": "stream",
          "name": "stdout",
          "text": [
            "p-значение: 0.7980492910095923\n",
            "Не получилось отвергнуть нулевую гипотезу\n"
          ]
        }
      ]
    },
    {
      "cell_type": "markdown",
      "source": [
        "## Выводы"
      ],
      "metadata": {
        "id": "ghNrxq-YQEIZ"
      }
    },
    {
      "cell_type": "markdown",
      "source": [
        "Мы исследовали данные о продажах игр с 1980х годов до 2016 года. Наша задача — отобрать наиболее важные признаки, которые смогут обеспечить успешные продажи новой игры, выпущенной в 2017 году.\n",
        "\n",
        "Итак, мы видим, что обычно игровые платформы сохраняют популярность на протяжении 6-7 лет. Вероятно, за этот период происходит и смена интересов пользователей к жанру игр. Мы детально изучили данные за последние 3 года. Мы предполагаем, что это поможет нам сделать ставку на наиболее популярные платформы и жанры.\n",
        "\n",
        "\n",
        "**Итак, выбор платформы.**\n",
        "\n",
        "В Европе и Америке самые популярные платформы в последние 3 года - PS4 и XOne. При этом,  PS4 лидирует по сумме продаж. Однако, по средним показателям платформа XOne демонстрирует даже лучшие результаты в Америке, чем PS4. Таким образом мы рекомендуем выбрать платформу  PS4 или XOne для продаж в Америке и Европе.\n",
        "В Японии первое место как по суммарным продажам, так и по средним продажам на игру, занимает платформа 3DS. Именно эту платформу мы рекомендуем использовать для игр в 2017 году в Японии.\n",
        "\n",
        "\n",
        "**Переходим к выбору популярных жанров.**\n",
        "\n",
        "Жанр Shooter лидирует с большим отрывом как по суммарным, так и по средним значения продаж в Северной Америке и Европе. При этом жанр Action, занимающий второе место по продажам в Америке и первое в Европе, приносит значительно меньше прибыли в среднем на игру. Таким образом, мы бы рекомендовали выбрать жанр Shoter для новой игры в Америке или Европе. На втором месте мы бы советовали выбрать жанр Sports.\n",
        "\n",
        "В Японии лучше всего продаются игры жанров Role_Playing. Этот жанр лидирует и по суммарным продажам и по средним показателям. Жанр Action, занимающий второе место по сумме продаж в Японии, демонстрирует заметно более низкие средние показатели продаж с игры. Таким образом, в Японии делаем ставку на жанр  Role_Playing.\n",
        "\n",
        "\n",
        "\n",
        " **Влияние рейтинга  ESRB**\n",
        "\n",
        "Мы видим, что рейтинг ESRB влияет на продажи. Так, в Америке и Европе лучше продаются игры с рейтингом М (старше 17 лет), в Японии лучше продаются игры с рейтингом T (старше 13 лет)\n",
        "\n",
        "\n",
        "**Рейтинги пользователей и критиков**\n",
        "\n",
        "Мы наблюдаем явную зависимость продуваемости игр от рейтинга критиков. Мы также наблюдаем незначительное влияние пользовательских оценок на продажи. Таким образом, при запуске новой игры важно уделить внимание отзывам и рейтингам критиков и пользователей."
      ],
      "metadata": {
        "id": "EjlODPoZQGbT"
      }
    },
    {
      "cell_type": "markdown",
      "source": [],
      "metadata": {
        "id": "JHh7i94WUC4b"
      }
    }
  ]
}