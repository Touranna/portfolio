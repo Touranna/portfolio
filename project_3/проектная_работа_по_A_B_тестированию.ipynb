{
  "cells": [
    {
      "cell_type": "markdown",
      "metadata": {
        "id": "j5hI4hO0hVPg"
      },
      "source": [
        "# Проектная работа - AB тестирование"
      ]
    },
    {
      "cell_type": "markdown",
      "metadata": {
        "id": "5RaPAsz1hbyI"
      },
      "source": [
        "## Постановка задачи"
      ]
    },
    {
      "cell_type": "markdown",
      "metadata": {
        "id": "ymKtTACvhOfR"
      },
      "source": [
        "Заказчик исследование -  аналитический отдел магазина.\n",
        "Результат настоящего исследования - оценка корректности проведения A/B теста и анализ его результатов.\n",
        "\n"
      ]
    },
    {
      "cell_type": "markdown",
      "source": [
        "## План выполнения работ"
      ],
      "metadata": {
        "id": "lgYc5kjswc6j"
      }
    },
    {
      "cell_type": "markdown",
      "source": [
        "1. Обзор данных\n",
        "2. Предобработка данных\n",
        "3. Исследовательский анализ\n",
        "   * График кумулятивной выручки по группам\n",
        "   * Графики кумулятивного среднего чека по группам\n",
        "   * График относительного изменения группы B к группе A\n",
        "   * График кумулятивного среднего количества заказов по группам\n",
        "   * График относительного изменения кумулятивного среднего количества заказов на посетителя группы B к группе A\n",
        "   * Точечный график количесва заказов\n",
        "   * Определяем границу выбросов\n",
        "   * Подсчет статистической значимости различий между группами\n",
        "4. Выводы   "
      ],
      "metadata": {
        "id": "k-y0WrzywjTV"
      }
    },
    {
      "cell_type": "markdown",
      "metadata": {
        "id": "ySoZkD3hhkzi"
      },
      "source": [
        "## Обзор данных"
      ]
    },
    {
      "cell_type": "code",
      "execution_count": 55,
      "metadata": {
        "id": "RfzZtRbgRCoF"
      },
      "outputs": [],
      "source": [
        "import pandas as pd\n",
        "import datetime as dt\n",
        "import numpy as np\n",
        "import matplotlib.pyplot as plt\n",
        "from pandas.plotting import register_matplotlib_converters\n",
        "import warnings\n",
        "import scipy.stats as st\n",
        "pd.options.display.float_format = '{: .2f}'.format\n",
        "pd.options.display.max_colwidth = 100\n",
        "pd.set_option('display.max_rows', None)\n",
        "import statsmodels.api as sm\n",
        "from statsmodels.stats.proportion import proportions_ztest"
      ]
    },
    {
      "cell_type": "code",
      "source": [
        "orders = pd.read_csv('https://getfile.dokpub.com/yandex/get/https://disk.yandex.ru/d/E6BsxxAyO5082g')\n",
        "visitors = pd.read_csv('https://getfile.dokpub.com/yandex/get/https://disk.yandex.ru/d/Yqjm1iNvA26N2w')"
      ],
      "metadata": {
        "id": "pBR7w-tBCZNC"
      },
      "execution_count": 2,
      "outputs": []
    },
    {
      "cell_type": "code",
      "source": [
        "orders.head()"
      ],
      "metadata": {
        "colab": {
          "base_uri": "https://localhost:8080/",
          "height": 206
        },
        "id": "b8OwUrUsCoZc",
        "outputId": "df21726b-080b-4232-fafe-d5dd1d759719"
      },
      "execution_count": 3,
      "outputs": [
        {
          "output_type": "execute_result",
          "data": {
            "text/plain": [
              "   transactionId   visitorId        date  revenue group\n",
              "0     3667963787  3312258926  2019-08-15     1650     B\n",
              "1     2804400009  3642806036  2019-08-15      730     B\n",
              "2     2961555356  4069496402  2019-08-15      400     A\n",
              "3     3797467345  1196621759  2019-08-15     9759     B\n",
              "4     2282983706  2322279887  2019-08-15     2308     B"
            ],
            "text/html": [
              "\n",
              "  <div id=\"df-2a8ad7eb-8407-4a37-b5c1-c3939125618f\" class=\"colab-df-container\">\n",
              "    <div>\n",
              "<style scoped>\n",
              "    .dataframe tbody tr th:only-of-type {\n",
              "        vertical-align: middle;\n",
              "    }\n",
              "\n",
              "    .dataframe tbody tr th {\n",
              "        vertical-align: top;\n",
              "    }\n",
              "\n",
              "    .dataframe thead th {\n",
              "        text-align: right;\n",
              "    }\n",
              "</style>\n",
              "<table border=\"1\" class=\"dataframe\">\n",
              "  <thead>\n",
              "    <tr style=\"text-align: right;\">\n",
              "      <th></th>\n",
              "      <th>transactionId</th>\n",
              "      <th>visitorId</th>\n",
              "      <th>date</th>\n",
              "      <th>revenue</th>\n",
              "      <th>group</th>\n",
              "    </tr>\n",
              "  </thead>\n",
              "  <tbody>\n",
              "    <tr>\n",
              "      <th>0</th>\n",
              "      <td>3667963787</td>\n",
              "      <td>3312258926</td>\n",
              "      <td>2019-08-15</td>\n",
              "      <td>1650</td>\n",
              "      <td>B</td>\n",
              "    </tr>\n",
              "    <tr>\n",
              "      <th>1</th>\n",
              "      <td>2804400009</td>\n",
              "      <td>3642806036</td>\n",
              "      <td>2019-08-15</td>\n",
              "      <td>730</td>\n",
              "      <td>B</td>\n",
              "    </tr>\n",
              "    <tr>\n",
              "      <th>2</th>\n",
              "      <td>2961555356</td>\n",
              "      <td>4069496402</td>\n",
              "      <td>2019-08-15</td>\n",
              "      <td>400</td>\n",
              "      <td>A</td>\n",
              "    </tr>\n",
              "    <tr>\n",
              "      <th>3</th>\n",
              "      <td>3797467345</td>\n",
              "      <td>1196621759</td>\n",
              "      <td>2019-08-15</td>\n",
              "      <td>9759</td>\n",
              "      <td>B</td>\n",
              "    </tr>\n",
              "    <tr>\n",
              "      <th>4</th>\n",
              "      <td>2282983706</td>\n",
              "      <td>2322279887</td>\n",
              "      <td>2019-08-15</td>\n",
              "      <td>2308</td>\n",
              "      <td>B</td>\n",
              "    </tr>\n",
              "  </tbody>\n",
              "</table>\n",
              "</div>\n",
              "    <div class=\"colab-df-buttons\">\n",
              "\n",
              "  <div class=\"colab-df-container\">\n",
              "    <button class=\"colab-df-convert\" onclick=\"convertToInteractive('df-2a8ad7eb-8407-4a37-b5c1-c3939125618f')\"\n",
              "            title=\"Convert this dataframe to an interactive table.\"\n",
              "            style=\"display:none;\">\n",
              "\n",
              "  <svg xmlns=\"http://www.w3.org/2000/svg\" height=\"24px\" viewBox=\"0 -960 960 960\">\n",
              "    <path d=\"M120-120v-720h720v720H120Zm60-500h600v-160H180v160Zm220 220h160v-160H400v160Zm0 220h160v-160H400v160ZM180-400h160v-160H180v160Zm440 0h160v-160H620v160ZM180-180h160v-160H180v160Zm440 0h160v-160H620v160Z\"/>\n",
              "  </svg>\n",
              "    </button>\n",
              "\n",
              "  <style>\n",
              "    .colab-df-container {\n",
              "      display:flex;\n",
              "      gap: 12px;\n",
              "    }\n",
              "\n",
              "    .colab-df-convert {\n",
              "      background-color: #E8F0FE;\n",
              "      border: none;\n",
              "      border-radius: 50%;\n",
              "      cursor: pointer;\n",
              "      display: none;\n",
              "      fill: #1967D2;\n",
              "      height: 32px;\n",
              "      padding: 0 0 0 0;\n",
              "      width: 32px;\n",
              "    }\n",
              "\n",
              "    .colab-df-convert:hover {\n",
              "      background-color: #E2EBFA;\n",
              "      box-shadow: 0px 1px 2px rgba(60, 64, 67, 0.3), 0px 1px 3px 1px rgba(60, 64, 67, 0.15);\n",
              "      fill: #174EA6;\n",
              "    }\n",
              "\n",
              "    .colab-df-buttons div {\n",
              "      margin-bottom: 4px;\n",
              "    }\n",
              "\n",
              "    [theme=dark] .colab-df-convert {\n",
              "      background-color: #3B4455;\n",
              "      fill: #D2E3FC;\n",
              "    }\n",
              "\n",
              "    [theme=dark] .colab-df-convert:hover {\n",
              "      background-color: #434B5C;\n",
              "      box-shadow: 0px 1px 3px 1px rgba(0, 0, 0, 0.15);\n",
              "      filter: drop-shadow(0px 1px 2px rgba(0, 0, 0, 0.3));\n",
              "      fill: #FFFFFF;\n",
              "    }\n",
              "  </style>\n",
              "\n",
              "    <script>\n",
              "      const buttonEl =\n",
              "        document.querySelector('#df-2a8ad7eb-8407-4a37-b5c1-c3939125618f button.colab-df-convert');\n",
              "      buttonEl.style.display =\n",
              "        google.colab.kernel.accessAllowed ? 'block' : 'none';\n",
              "\n",
              "      async function convertToInteractive(key) {\n",
              "        const element = document.querySelector('#df-2a8ad7eb-8407-4a37-b5c1-c3939125618f');\n",
              "        const dataTable =\n",
              "          await google.colab.kernel.invokeFunction('convertToInteractive',\n",
              "                                                    [key], {});\n",
              "        if (!dataTable) return;\n",
              "\n",
              "        const docLinkHtml = 'Like what you see? Visit the ' +\n",
              "          '<a target=\"_blank\" href=https://colab.research.google.com/notebooks/data_table.ipynb>data table notebook</a>'\n",
              "          + ' to learn more about interactive tables.';\n",
              "        element.innerHTML = '';\n",
              "        dataTable['output_type'] = 'display_data';\n",
              "        await google.colab.output.renderOutput(dataTable, element);\n",
              "        const docLink = document.createElement('div');\n",
              "        docLink.innerHTML = docLinkHtml;\n",
              "        element.appendChild(docLink);\n",
              "      }\n",
              "    </script>\n",
              "  </div>\n",
              "\n",
              "\n",
              "<div id=\"df-64c66721-f937-46cd-9c65-4e2f49ab1aa2\">\n",
              "  <button class=\"colab-df-quickchart\" onclick=\"quickchart('df-64c66721-f937-46cd-9c65-4e2f49ab1aa2')\"\n",
              "            title=\"Suggest charts\"\n",
              "            style=\"display:none;\">\n",
              "\n",
              "<svg xmlns=\"http://www.w3.org/2000/svg\" height=\"24px\"viewBox=\"0 0 24 24\"\n",
              "     width=\"24px\">\n",
              "    <g>\n",
              "        <path d=\"M19 3H5c-1.1 0-2 .9-2 2v14c0 1.1.9 2 2 2h14c1.1 0 2-.9 2-2V5c0-1.1-.9-2-2-2zM9 17H7v-7h2v7zm4 0h-2V7h2v10zm4 0h-2v-4h2v4z\"/>\n",
              "    </g>\n",
              "</svg>\n",
              "  </button>\n",
              "\n",
              "<style>\n",
              "  .colab-df-quickchart {\n",
              "      --bg-color: #E8F0FE;\n",
              "      --fill-color: #1967D2;\n",
              "      --hover-bg-color: #E2EBFA;\n",
              "      --hover-fill-color: #174EA6;\n",
              "      --disabled-fill-color: #AAA;\n",
              "      --disabled-bg-color: #DDD;\n",
              "  }\n",
              "\n",
              "  [theme=dark] .colab-df-quickchart {\n",
              "      --bg-color: #3B4455;\n",
              "      --fill-color: #D2E3FC;\n",
              "      --hover-bg-color: #434B5C;\n",
              "      --hover-fill-color: #FFFFFF;\n",
              "      --disabled-bg-color: #3B4455;\n",
              "      --disabled-fill-color: #666;\n",
              "  }\n",
              "\n",
              "  .colab-df-quickchart {\n",
              "    background-color: var(--bg-color);\n",
              "    border: none;\n",
              "    border-radius: 50%;\n",
              "    cursor: pointer;\n",
              "    display: none;\n",
              "    fill: var(--fill-color);\n",
              "    height: 32px;\n",
              "    padding: 0;\n",
              "    width: 32px;\n",
              "  }\n",
              "\n",
              "  .colab-df-quickchart:hover {\n",
              "    background-color: var(--hover-bg-color);\n",
              "    box-shadow: 0 1px 2px rgba(60, 64, 67, 0.3), 0 1px 3px 1px rgba(60, 64, 67, 0.15);\n",
              "    fill: var(--button-hover-fill-color);\n",
              "  }\n",
              "\n",
              "  .colab-df-quickchart-complete:disabled,\n",
              "  .colab-df-quickchart-complete:disabled:hover {\n",
              "    background-color: var(--disabled-bg-color);\n",
              "    fill: var(--disabled-fill-color);\n",
              "    box-shadow: none;\n",
              "  }\n",
              "\n",
              "  .colab-df-spinner {\n",
              "    border: 2px solid var(--fill-color);\n",
              "    border-color: transparent;\n",
              "    border-bottom-color: var(--fill-color);\n",
              "    animation:\n",
              "      spin 1s steps(1) infinite;\n",
              "  }\n",
              "\n",
              "  @keyframes spin {\n",
              "    0% {\n",
              "      border-color: transparent;\n",
              "      border-bottom-color: var(--fill-color);\n",
              "      border-left-color: var(--fill-color);\n",
              "    }\n",
              "    20% {\n",
              "      border-color: transparent;\n",
              "      border-left-color: var(--fill-color);\n",
              "      border-top-color: var(--fill-color);\n",
              "    }\n",
              "    30% {\n",
              "      border-color: transparent;\n",
              "      border-left-color: var(--fill-color);\n",
              "      border-top-color: var(--fill-color);\n",
              "      border-right-color: var(--fill-color);\n",
              "    }\n",
              "    40% {\n",
              "      border-color: transparent;\n",
              "      border-right-color: var(--fill-color);\n",
              "      border-top-color: var(--fill-color);\n",
              "    }\n",
              "    60% {\n",
              "      border-color: transparent;\n",
              "      border-right-color: var(--fill-color);\n",
              "    }\n",
              "    80% {\n",
              "      border-color: transparent;\n",
              "      border-right-color: var(--fill-color);\n",
              "      border-bottom-color: var(--fill-color);\n",
              "    }\n",
              "    90% {\n",
              "      border-color: transparent;\n",
              "      border-bottom-color: var(--fill-color);\n",
              "    }\n",
              "  }\n",
              "</style>\n",
              "\n",
              "  <script>\n",
              "    async function quickchart(key) {\n",
              "      const quickchartButtonEl =\n",
              "        document.querySelector('#' + key + ' button');\n",
              "      quickchartButtonEl.disabled = true;  // To prevent multiple clicks.\n",
              "      quickchartButtonEl.classList.add('colab-df-spinner');\n",
              "      try {\n",
              "        const charts = await google.colab.kernel.invokeFunction(\n",
              "            'suggestCharts', [key], {});\n",
              "      } catch (error) {\n",
              "        console.error('Error during call to suggestCharts:', error);\n",
              "      }\n",
              "      quickchartButtonEl.classList.remove('colab-df-spinner');\n",
              "      quickchartButtonEl.classList.add('colab-df-quickchart-complete');\n",
              "    }\n",
              "    (() => {\n",
              "      let quickchartButtonEl =\n",
              "        document.querySelector('#df-64c66721-f937-46cd-9c65-4e2f49ab1aa2 button');\n",
              "      quickchartButtonEl.style.display =\n",
              "        google.colab.kernel.accessAllowed ? 'block' : 'none';\n",
              "    })();\n",
              "  </script>\n",
              "</div>\n",
              "    </div>\n",
              "  </div>\n"
            ]
          },
          "metadata": {},
          "execution_count": 3
        }
      ]
    },
    {
      "cell_type": "code",
      "source": [
        "orders.info()"
      ],
      "metadata": {
        "colab": {
          "base_uri": "https://localhost:8080/"
        },
        "id": "R5fIxPPwC980",
        "outputId": "b9608f36-79e0-44e5-a80a-ce7ab5ab36e9"
      },
      "execution_count": 4,
      "outputs": [
        {
          "output_type": "stream",
          "name": "stdout",
          "text": [
            "<class 'pandas.core.frame.DataFrame'>\n",
            "RangeIndex: 1197 entries, 0 to 1196\n",
            "Data columns (total 5 columns):\n",
            " #   Column         Non-Null Count  Dtype \n",
            "---  ------         --------------  ----- \n",
            " 0   transactionId  1197 non-null   int64 \n",
            " 1   visitorId      1197 non-null   int64 \n",
            " 2   date           1197 non-null   object\n",
            " 3   revenue        1197 non-null   int64 \n",
            " 4   group          1197 non-null   object\n",
            "dtypes: int64(3), object(2)\n",
            "memory usage: 46.9+ KB\n"
          ]
        }
      ]
    },
    {
      "cell_type": "code",
      "source": [
        "visitors.info()"
      ],
      "metadata": {
        "colab": {
          "base_uri": "https://localhost:8080/"
        },
        "id": "WVboe-f1DBCY",
        "outputId": "4ce87d8b-701b-4ede-9f36-4d55969f0d86"
      },
      "execution_count": 5,
      "outputs": [
        {
          "output_type": "stream",
          "name": "stdout",
          "text": [
            "<class 'pandas.core.frame.DataFrame'>\n",
            "RangeIndex: 62 entries, 0 to 61\n",
            "Data columns (total 3 columns):\n",
            " #   Column    Non-Null Count  Dtype \n",
            "---  ------    --------------  ----- \n",
            " 0   date      62 non-null     object\n",
            " 1   group     62 non-null     object\n",
            " 2   visitors  62 non-null     int64 \n",
            "dtypes: int64(1), object(2)\n",
            "memory usage: 1.6+ KB\n"
          ]
        }
      ]
    },
    {
      "cell_type": "code",
      "execution_count": 6,
      "metadata": {
        "colab": {
          "base_uri": "https://localhost:8080/",
          "height": 206
        },
        "id": "DGPveIjsxSKb",
        "outputId": "2ff7dde2-90f1-44bc-dc4a-aaa1532d8b91"
      },
      "outputs": [
        {
          "output_type": "execute_result",
          "data": {
            "text/plain": [
              "         date group  visitors\n",
              "0  2019-08-01     A       719\n",
              "1  2019-08-02     A       619\n",
              "2  2019-08-03     A       507\n",
              "3  2019-08-04     A       717\n",
              "4  2019-08-05     A       756"
            ],
            "text/html": [
              "\n",
              "  <div id=\"df-752024d8-8edf-4974-a5c5-a879c81f7593\" class=\"colab-df-container\">\n",
              "    <div>\n",
              "<style scoped>\n",
              "    .dataframe tbody tr th:only-of-type {\n",
              "        vertical-align: middle;\n",
              "    }\n",
              "\n",
              "    .dataframe tbody tr th {\n",
              "        vertical-align: top;\n",
              "    }\n",
              "\n",
              "    .dataframe thead th {\n",
              "        text-align: right;\n",
              "    }\n",
              "</style>\n",
              "<table border=\"1\" class=\"dataframe\">\n",
              "  <thead>\n",
              "    <tr style=\"text-align: right;\">\n",
              "      <th></th>\n",
              "      <th>date</th>\n",
              "      <th>group</th>\n",
              "      <th>visitors</th>\n",
              "    </tr>\n",
              "  </thead>\n",
              "  <tbody>\n",
              "    <tr>\n",
              "      <th>0</th>\n",
              "      <td>2019-08-01</td>\n",
              "      <td>A</td>\n",
              "      <td>719</td>\n",
              "    </tr>\n",
              "    <tr>\n",
              "      <th>1</th>\n",
              "      <td>2019-08-02</td>\n",
              "      <td>A</td>\n",
              "      <td>619</td>\n",
              "    </tr>\n",
              "    <tr>\n",
              "      <th>2</th>\n",
              "      <td>2019-08-03</td>\n",
              "      <td>A</td>\n",
              "      <td>507</td>\n",
              "    </tr>\n",
              "    <tr>\n",
              "      <th>3</th>\n",
              "      <td>2019-08-04</td>\n",
              "      <td>A</td>\n",
              "      <td>717</td>\n",
              "    </tr>\n",
              "    <tr>\n",
              "      <th>4</th>\n",
              "      <td>2019-08-05</td>\n",
              "      <td>A</td>\n",
              "      <td>756</td>\n",
              "    </tr>\n",
              "  </tbody>\n",
              "</table>\n",
              "</div>\n",
              "    <div class=\"colab-df-buttons\">\n",
              "\n",
              "  <div class=\"colab-df-container\">\n",
              "    <button class=\"colab-df-convert\" onclick=\"convertToInteractive('df-752024d8-8edf-4974-a5c5-a879c81f7593')\"\n",
              "            title=\"Convert this dataframe to an interactive table.\"\n",
              "            style=\"display:none;\">\n",
              "\n",
              "  <svg xmlns=\"http://www.w3.org/2000/svg\" height=\"24px\" viewBox=\"0 -960 960 960\">\n",
              "    <path d=\"M120-120v-720h720v720H120Zm60-500h600v-160H180v160Zm220 220h160v-160H400v160Zm0 220h160v-160H400v160ZM180-400h160v-160H180v160Zm440 0h160v-160H620v160ZM180-180h160v-160H180v160Zm440 0h160v-160H620v160Z\"/>\n",
              "  </svg>\n",
              "    </button>\n",
              "\n",
              "  <style>\n",
              "    .colab-df-container {\n",
              "      display:flex;\n",
              "      gap: 12px;\n",
              "    }\n",
              "\n",
              "    .colab-df-convert {\n",
              "      background-color: #E8F0FE;\n",
              "      border: none;\n",
              "      border-radius: 50%;\n",
              "      cursor: pointer;\n",
              "      display: none;\n",
              "      fill: #1967D2;\n",
              "      height: 32px;\n",
              "      padding: 0 0 0 0;\n",
              "      width: 32px;\n",
              "    }\n",
              "\n",
              "    .colab-df-convert:hover {\n",
              "      background-color: #E2EBFA;\n",
              "      box-shadow: 0px 1px 2px rgba(60, 64, 67, 0.3), 0px 1px 3px 1px rgba(60, 64, 67, 0.15);\n",
              "      fill: #174EA6;\n",
              "    }\n",
              "\n",
              "    .colab-df-buttons div {\n",
              "      margin-bottom: 4px;\n",
              "    }\n",
              "\n",
              "    [theme=dark] .colab-df-convert {\n",
              "      background-color: #3B4455;\n",
              "      fill: #D2E3FC;\n",
              "    }\n",
              "\n",
              "    [theme=dark] .colab-df-convert:hover {\n",
              "      background-color: #434B5C;\n",
              "      box-shadow: 0px 1px 3px 1px rgba(0, 0, 0, 0.15);\n",
              "      filter: drop-shadow(0px 1px 2px rgba(0, 0, 0, 0.3));\n",
              "      fill: #FFFFFF;\n",
              "    }\n",
              "  </style>\n",
              "\n",
              "    <script>\n",
              "      const buttonEl =\n",
              "        document.querySelector('#df-752024d8-8edf-4974-a5c5-a879c81f7593 button.colab-df-convert');\n",
              "      buttonEl.style.display =\n",
              "        google.colab.kernel.accessAllowed ? 'block' : 'none';\n",
              "\n",
              "      async function convertToInteractive(key) {\n",
              "        const element = document.querySelector('#df-752024d8-8edf-4974-a5c5-a879c81f7593');\n",
              "        const dataTable =\n",
              "          await google.colab.kernel.invokeFunction('convertToInteractive',\n",
              "                                                    [key], {});\n",
              "        if (!dataTable) return;\n",
              "\n",
              "        const docLinkHtml = 'Like what you see? Visit the ' +\n",
              "          '<a target=\"_blank\" href=https://colab.research.google.com/notebooks/data_table.ipynb>data table notebook</a>'\n",
              "          + ' to learn more about interactive tables.';\n",
              "        element.innerHTML = '';\n",
              "        dataTable['output_type'] = 'display_data';\n",
              "        await google.colab.output.renderOutput(dataTable, element);\n",
              "        const docLink = document.createElement('div');\n",
              "        docLink.innerHTML = docLinkHtml;\n",
              "        element.appendChild(docLink);\n",
              "      }\n",
              "    </script>\n",
              "  </div>\n",
              "\n",
              "\n",
              "<div id=\"df-edb43222-7372-4562-8104-0477461e3a0c\">\n",
              "  <button class=\"colab-df-quickchart\" onclick=\"quickchart('df-edb43222-7372-4562-8104-0477461e3a0c')\"\n",
              "            title=\"Suggest charts\"\n",
              "            style=\"display:none;\">\n",
              "\n",
              "<svg xmlns=\"http://www.w3.org/2000/svg\" height=\"24px\"viewBox=\"0 0 24 24\"\n",
              "     width=\"24px\">\n",
              "    <g>\n",
              "        <path d=\"M19 3H5c-1.1 0-2 .9-2 2v14c0 1.1.9 2 2 2h14c1.1 0 2-.9 2-2V5c0-1.1-.9-2-2-2zM9 17H7v-7h2v7zm4 0h-2V7h2v10zm4 0h-2v-4h2v4z\"/>\n",
              "    </g>\n",
              "</svg>\n",
              "  </button>\n",
              "\n",
              "<style>\n",
              "  .colab-df-quickchart {\n",
              "      --bg-color: #E8F0FE;\n",
              "      --fill-color: #1967D2;\n",
              "      --hover-bg-color: #E2EBFA;\n",
              "      --hover-fill-color: #174EA6;\n",
              "      --disabled-fill-color: #AAA;\n",
              "      --disabled-bg-color: #DDD;\n",
              "  }\n",
              "\n",
              "  [theme=dark] .colab-df-quickchart {\n",
              "      --bg-color: #3B4455;\n",
              "      --fill-color: #D2E3FC;\n",
              "      --hover-bg-color: #434B5C;\n",
              "      --hover-fill-color: #FFFFFF;\n",
              "      --disabled-bg-color: #3B4455;\n",
              "      --disabled-fill-color: #666;\n",
              "  }\n",
              "\n",
              "  .colab-df-quickchart {\n",
              "    background-color: var(--bg-color);\n",
              "    border: none;\n",
              "    border-radius: 50%;\n",
              "    cursor: pointer;\n",
              "    display: none;\n",
              "    fill: var(--fill-color);\n",
              "    height: 32px;\n",
              "    padding: 0;\n",
              "    width: 32px;\n",
              "  }\n",
              "\n",
              "  .colab-df-quickchart:hover {\n",
              "    background-color: var(--hover-bg-color);\n",
              "    box-shadow: 0 1px 2px rgba(60, 64, 67, 0.3), 0 1px 3px 1px rgba(60, 64, 67, 0.15);\n",
              "    fill: var(--button-hover-fill-color);\n",
              "  }\n",
              "\n",
              "  .colab-df-quickchart-complete:disabled,\n",
              "  .colab-df-quickchart-complete:disabled:hover {\n",
              "    background-color: var(--disabled-bg-color);\n",
              "    fill: var(--disabled-fill-color);\n",
              "    box-shadow: none;\n",
              "  }\n",
              "\n",
              "  .colab-df-spinner {\n",
              "    border: 2px solid var(--fill-color);\n",
              "    border-color: transparent;\n",
              "    border-bottom-color: var(--fill-color);\n",
              "    animation:\n",
              "      spin 1s steps(1) infinite;\n",
              "  }\n",
              "\n",
              "  @keyframes spin {\n",
              "    0% {\n",
              "      border-color: transparent;\n",
              "      border-bottom-color: var(--fill-color);\n",
              "      border-left-color: var(--fill-color);\n",
              "    }\n",
              "    20% {\n",
              "      border-color: transparent;\n",
              "      border-left-color: var(--fill-color);\n",
              "      border-top-color: var(--fill-color);\n",
              "    }\n",
              "    30% {\n",
              "      border-color: transparent;\n",
              "      border-left-color: var(--fill-color);\n",
              "      border-top-color: var(--fill-color);\n",
              "      border-right-color: var(--fill-color);\n",
              "    }\n",
              "    40% {\n",
              "      border-color: transparent;\n",
              "      border-right-color: var(--fill-color);\n",
              "      border-top-color: var(--fill-color);\n",
              "    }\n",
              "    60% {\n",
              "      border-color: transparent;\n",
              "      border-right-color: var(--fill-color);\n",
              "    }\n",
              "    80% {\n",
              "      border-color: transparent;\n",
              "      border-right-color: var(--fill-color);\n",
              "      border-bottom-color: var(--fill-color);\n",
              "    }\n",
              "    90% {\n",
              "      border-color: transparent;\n",
              "      border-bottom-color: var(--fill-color);\n",
              "    }\n",
              "  }\n",
              "</style>\n",
              "\n",
              "  <script>\n",
              "    async function quickchart(key) {\n",
              "      const quickchartButtonEl =\n",
              "        document.querySelector('#' + key + ' button');\n",
              "      quickchartButtonEl.disabled = true;  // To prevent multiple clicks.\n",
              "      quickchartButtonEl.classList.add('colab-df-spinner');\n",
              "      try {\n",
              "        const charts = await google.colab.kernel.invokeFunction(\n",
              "            'suggestCharts', [key], {});\n",
              "      } catch (error) {\n",
              "        console.error('Error during call to suggestCharts:', error);\n",
              "      }\n",
              "      quickchartButtonEl.classList.remove('colab-df-spinner');\n",
              "      quickchartButtonEl.classList.add('colab-df-quickchart-complete');\n",
              "    }\n",
              "    (() => {\n",
              "      let quickchartButtonEl =\n",
              "        document.querySelector('#df-edb43222-7372-4562-8104-0477461e3a0c button');\n",
              "      quickchartButtonEl.style.display =\n",
              "        google.colab.kernel.accessAllowed ? 'block' : 'none';\n",
              "    })();\n",
              "  </script>\n",
              "</div>\n",
              "    </div>\n",
              "  </div>\n"
            ]
          },
          "metadata": {},
          "execution_count": 6
        }
      ],
      "source": [
        "visitors.head()"
      ]
    },
    {
      "cell_type": "code",
      "source": [
        "len_a = len(orders.query('group == \"A\"')['visitorId'].unique())\n",
        "len_b = len(orders.query('group == \"B\"')['visitorId'].unique())\n",
        "len_ab = len(orders['visitorId'].unique())\n",
        "len_av = visitors.query('group == \"A\"')['visitors'].sum()\n",
        "len_bv = visitors.query('group == \"B\"')['visitors'].sum()\n",
        "len_abv = visitors['visitors'].sum()"
      ],
      "metadata": {
        "id": "j4lN2BnSEkSt"
      },
      "execution_count": 7,
      "outputs": []
    },
    {
      "cell_type": "code",
      "source": [
        "print(f\"В группе A датафрейма orders {len_a} клиентов, что составляет {len_a/len_ab:.2%} от всех клиентов\")\n",
        "print(f\"В группе B датафрейма orders {len_b} клиентов, что составляет {len_b/len_ab:.2%} от всех клиентов\")"
      ],
      "metadata": {
        "colab": {
          "base_uri": "https://localhost:8080/"
        },
        "id": "uwQ9r6qKC8xf",
        "outputId": "621228c4-be01-4569-a286-9ce63150d65e"
      },
      "execution_count": 8,
      "outputs": [
        {
          "output_type": "stream",
          "name": "stdout",
          "text": [
            "В группе A датафрейма orders 503 клиентов, что составляет 48.79% от всех клиентов\n",
            "В группе B датафрейма orders 586 клиентов, что составляет 56.84% от всех клиентов\n"
          ]
        }
      ]
    },
    {
      "cell_type": "code",
      "source": [
        "print(f\"В группе A датафрейма visitors {len_av} посетителей, что составляет {len_av/len_abv:.2%} от всех посетителей\")\n",
        "print(f\"В группе B датафрейма visitors {len_bv} посетителей, что составляет {len_bv/len_abv:.2%} от всех посетителей\")"
      ],
      "metadata": {
        "colab": {
          "base_uri": "https://localhost:8080/"
        },
        "id": "3A6eJyJxFlB1",
        "outputId": "ca9b3e97-86b6-45f3-9373-af5118b8d9e8"
      },
      "execution_count": 9,
      "outputs": [
        {
          "output_type": "stream",
          "name": "stdout",
          "text": [
            "В группе A датафрейма visitors 18736 посетителей, что составляет 49.76% от всех посетителей\n",
            "В группе B датафрейма visitors 18916 посетителей, что составляет 50.24% от всех посетителей\n"
          ]
        }
      ]
    },
    {
      "cell_type": "markdown",
      "source": [
        "\n",
        "Напишем функцию для измерения равномерности распределения групп\n"
      ],
      "metadata": {
        "id": "1ERlNKk8FcUL"
      }
    },
    {
      "cell_type": "code",
      "source": [
        "def check_prop(num1, num2, num3, num4):\n",
        "  count = np.array([num1,num3 ])\n",
        "  nobs = np.array([num2, num4])\n",
        "  alpha = 0.05\n",
        "  stat, pval = proportions_ztest(count, nobs)\n",
        "  print(pval)\n",
        "  if pval < alpha:\n",
        "    print(f\"Отвергаем нулевую гипотезу. Пропорции статистически различимы.\")\n",
        "  else:\n",
        "    print(f\"Нулевую гипотезу отвергнуть не удалось\")"
      ],
      "metadata": {
        "id": "9knMX6StFhxV"
      },
      "execution_count": 10,
      "outputs": []
    },
    {
      "cell_type": "code",
      "source": [
        "check_prop(len_av, len_abv, len_bv, len_abv)"
      ],
      "metadata": {
        "colab": {
          "base_uri": "https://localhost:8080/"
        },
        "id": "tcGq5JNOGYxx",
        "outputId": "32a7ef0f-778f-4602-9c91-a7712919b2d0"
      },
      "execution_count": 11,
      "outputs": [
        {
          "output_type": "stream",
          "name": "stdout",
          "text": [
            "0.1895612721687402\n",
            "Нулевую гипотезу отвергнуть не удалось\n"
          ]
        }
      ]
    },
    {
      "cell_type": "markdown",
      "metadata": {
        "id": "I32oSjeSIZVG"
      },
      "source": [
        "**Наблюдения:**\n",
        "\n",
        "\n",
        "В нашем распоряжени два датасета:\n",
        "Датасет **orders** содержит информацию о заказах\n",
        "\n",
        "* transactionId — идентификатор заказа;\n",
        "* visitorId — идентификатор пользователя, совершившего заказ;\n",
        "* date — дата, когда был совершён заказ;\n",
        "* revenue — выручка заказа;\n",
        "* group — группа A/B-теста, в которую попал заказ.\n",
        "\n",
        "Всего в датасете 1197 строк, пропусков нет\n",
        "\n",
        "\n",
        "Датасет **visitors** содержит информациюо посетителях сайта\n",
        "* date — дата;\n",
        "* group — группа A/B-теста;\n",
        "* visitors — количество пользователей в указанную дату в указанной группе A/B-теста\n",
        "\n",
        "Насколько я поняла из условия задачи мы предполагаем, что число 'visitors' - это именно число уникальных посетителей, а не пользовательских сессий\n",
        "\n",
        "Мы видим, что группы A и B распределены равномерно.\n",
        "\n",
        "\n"
      ]
    },
    {
      "cell_type": "markdown",
      "metadata": {
        "id": "bz0T36yLls-G"
      },
      "source": [
        "## Предобработка данных"
      ]
    },
    {
      "cell_type": "markdown",
      "metadata": {
        "id": "l3qhyL8fwK1D"
      },
      "source": [
        "Проверим данные на наличие дубликатов и пропусков"
      ]
    },
    {
      "cell_type": "code",
      "execution_count": 19,
      "metadata": {
        "id": "wPhNbZ3pwK1D",
        "outputId": "a1e2a6fb-7d26-49e5-87e1-5dc26f35562f",
        "colab": {
          "base_uri": "https://localhost:8080/"
        }
      },
      "outputs": [
        {
          "output_type": "stream",
          "name": "stdout",
          "text": [
            "0\n",
            "0\n",
            "transactionId    0\n",
            "visitorId        0\n",
            "date             0\n",
            "revenue          0\n",
            "group            0\n",
            "dtype: int64\n",
            "date        0\n",
            "group       0\n",
            "visitors    0\n",
            "dtype: int64\n"
          ]
        }
      ],
      "source": [
        "print(orders.duplicated().sum())\n",
        "print(visitors.duplicated().sum())\n",
        "print(orders.isna().sum())\n",
        "print(visitors.isna().sum())"
      ]
    },
    {
      "cell_type": "markdown",
      "metadata": {
        "id": "pCo9NrIcwK1F"
      },
      "source": [
        "Проверим, не попадают ли пользователи с одинаквыми id одновременно в группы A и B"
      ]
    },
    {
      "cell_type": "code",
      "execution_count": 12,
      "metadata": {
        "id": "rFDsnE7nwK1F"
      },
      "outputs": [],
      "source": [
        "lista = list(orders.query('group == \"A\"')['visitorId'].unique())\n",
        "listb = list(orders.query('group == \"B\"')['visitorId'].unique())"
      ]
    },
    {
      "cell_type": "code",
      "execution_count": 13,
      "metadata": {
        "id": "NIteqqNfwK1G"
      },
      "outputs": [],
      "source": [
        "doubles = [x for x in lista if x in listb]"
      ]
    },
    {
      "cell_type": "code",
      "execution_count": 14,
      "metadata": {
        "id": "YR11t-o2wK1G",
        "outputId": "7c401d29-02d3-4b4d-841e-e7453decbc95",
        "colab": {
          "base_uri": "https://localhost:8080/"
        }
      },
      "outputs": [
        {
          "output_type": "execute_result",
          "data": {
            "text/plain": [
              "58"
            ]
          },
          "metadata": {},
          "execution_count": 14
        }
      ],
      "source": [
        "len(doubles)"
      ]
    },
    {
      "cell_type": "markdown",
      "metadata": {
        "id": "a9LQeCiWwK1I"
      },
      "source": [
        "Мы видим, что 58 пользователя в табличке 'orders' попали в разных трансакциях в разные группы. Придется их из исследования исключить"
      ]
    },
    {
      "cell_type": "code",
      "execution_count": 15,
      "metadata": {
        "id": "2WCuwowDwK1X"
      },
      "outputs": [],
      "source": [
        "order = orders.query('visitorId not in @doubles')"
      ]
    },
    {
      "cell_type": "markdown",
      "metadata": {
        "id": "zVZMKBFdwK1Y"
      },
      "source": [
        "Мы удалили из датафрейма покупки тех пользоваелей, которые одновременно попали в обе группы"
      ]
    },
    {
      "cell_type": "markdown",
      "source": [
        "### Результаты предобработки данных\n",
        "\n",
        "* Мы убедились, что в обиох датасетах отсутсвуют дубликаты\n",
        "* Пропуски отсутсвуют\n",
        "* Мы обнаружили 58 посетителя, которые попали одновременно  в группу A группу B, мы их удалили из датасета."
      ],
      "metadata": {
        "id": "nu47d-gaHdz-"
      }
    },
    {
      "cell_type": "markdown",
      "source": [
        "## Исследовательский анализ"
      ],
      "metadata": {
        "id": "sDdVr8QEXBOW"
      }
    },
    {
      "cell_type": "markdown",
      "source": [
        "### 3.1 Построим график кумулятивной выручки"
      ],
      "metadata": {
        "id": "BSywoM9jXG4e"
      }
    },
    {
      "cell_type": "code",
      "execution_count": 18,
      "metadata": {
        "id": "PcNURg96CRYd"
      },
      "outputs": [],
      "source": [
        "def cumulativeD(df1, df2):\n",
        "  datesGroups = df1[['date', 'group']].drop_duplicates()\n",
        "  ordersAggregated = (datesGroups.apply\n",
        "   (lambda x: df1[np.logical_and(df1['date'] <= x['date'], df1['group'] == x['group'])]\n",
        "    .agg({'date': 'max','group': 'max','transactionId': 'nunique','visitorId': 'nunique','revenue': 'sum'}),axis=1)\n",
        "   .sort_values(by=['date', 'group']))\n",
        "  visitorsAggregated = (datesGroups.apply\n",
        "   (lambda x: df2[np.logical_and(df2['date'] <= x['date'], df2['group'] == x['group'])]\n",
        "    .agg({'date': 'max', 'group': 'max', 'visitors': 'sum'}),axis=1)\n",
        "   .sort_values(by=['date', 'group']))\n",
        "  cumulativeData = ordersAggregated.merge(visitorsAggregated, left_on=['date', 'group'], right_on=['date', 'group'])\n",
        "  cumulativeData.columns = ['date','group','orders','buyers','revenue','visitors']\n",
        "  cumulativeRevenueA = cumulativeData[cumulativeData['group']=='A'][['date','revenue', 'orders', 'visitors']]\n",
        "  cumulativeRevenueB = cumulativeData[cumulativeData['group']=='B'][['date','revenue','orders', 'visitors']]\n",
        "  return cumulativeData, cumulativeRevenueA, cumulativeRevenueB"
      ]
    },
    {
      "cell_type": "code",
      "execution_count": 19,
      "metadata": {
        "id": "3cFRJMdzEgrm"
      },
      "outputs": [],
      "source": [
        "cumulativeData, cumulativeRevenueA, cumulativeRevenueB = cumulativeD(order, visitors)"
      ]
    },
    {
      "cell_type": "code",
      "execution_count": 23,
      "metadata": {
        "colab": {
          "base_uri": "https://localhost:8080/",
          "height": 491
        },
        "id": "s1SmdjuGEsmx",
        "outputId": "e278461c-1e64-4e6c-d3a0-45931bdf4c4e"
      },
      "outputs": [
        {
          "output_type": "display_data",
          "data": {
            "text/plain": [
              "<Figure size 1500x500 with 1 Axes>"
            ],
            "image/png": "[encoded data removed]"
          },
          "metadata": {}
        }
      ],
      "source": [
        "plt.figure(figsize=(15, 5))\n",
        "plt.plot(cumulativeRevenueA['date'], cumulativeRevenueA['revenue'], label='A')\n",
        "plt.plot(cumulativeRevenueB['date'], cumulativeRevenueB['revenue'], label='B')\n",
        "plt.title('График кумулятивной выручки по группам')\n",
        "plt.legend()\n",
        "plt.xticks(rotation=90)\n",
        "plt.show()"
      ]
    },
    {
      "cell_type": "markdown",
      "metadata": {
        "id": "RfO-LxQkmOX1"
      },
      "source": [
        "В средине эксперимента мы видим, что группа B начинает заметно лидировать по выручке. Однако на этом этапе мы не можем делать никаких выводов о самих группах, так как мы не исследовали выбросы, а также потому, что у нас не идентично число посетителей в обоих группах"
      ]
    },
    {
      "cell_type": "markdown",
      "metadata": {
        "id": "YRDBuqJG3SbM"
      },
      "source": [
        "### 3.2.Построим график кумулятивного среднего чека по группам"
      ]
    },
    {
      "cell_type": "code",
      "execution_count": 24,
      "metadata": {
        "colab": {
          "base_uri": "https://localhost:8080/",
          "height": 477
        },
        "id": "VQcXDdk23Wb7",
        "outputId": "0bd12d35-3d95-4492-c4a2-c5842d38e4f6"
      },
      "outputs": [
        {
          "output_type": "display_data",
          "data": {
            "text/plain": [
              "<Figure size 1500x500 with 1 Axes>"
            ],
            "image/png": "[encoded data removed]"
          },
          "metadata": {}
        }
      ],
      "source": [
        "plt.figure(figsize=(15, 5))\n",
        "plt.plot(cumulativeRevenueA['date'], cumulativeRevenueA['revenue']/cumulativeRevenueA['orders'], label='A')\n",
        "plt.plot(cumulativeRevenueB['date'], cumulativeRevenueB['revenue']/cumulativeRevenueB['orders'], label='B')\n",
        "plt.title('График кумулятивного среднего чека по группам')\n",
        "plt.legend()\n",
        "plt.xticks(rotation=90)\n",
        "plt.show()"
      ]
    },
    {
      "cell_type": "markdown",
      "metadata": {
        "id": "7uCpwdkOnJBC"
      },
      "source": [
        "Примерно в тот же период (середина проведения эксперимента, 15 августа) средний чек резко растет, но в дальнейшем мы рост не наблюдаем. Такое поведение графика моет быть связано с единичным выбросом."
      ]
    },
    {
      "cell_type": "markdown",
      "metadata": {
        "id": "shTemWOh37hS"
      },
      "source": [
        "### 3.3 Построим график относительного изменения кумулятивного среднего чека группы B к группе A."
      ]
    },
    {
      "cell_type": "code",
      "execution_count": 25,
      "metadata": {
        "id": "vgGNgYVS4AWr"
      },
      "outputs": [],
      "source": [
        "cumulativeRevenueA = cumulativeData[cumulativeData['group'] == 'A'][['date', 'revenue', 'orders']]\n",
        "cumulativeRevenueB = cumulativeData[cumulativeData['group'] == 'B'][['date', 'revenue', 'orders']]\n",
        "mergedCumulativeRevenue = cumulativeRevenueA.merge(cumulativeRevenueB, left_on='date', right_on='date', how='left', suffixes=['A', 'B'])"
      ]
    },
    {
      "cell_type": "code",
      "execution_count": 26,
      "metadata": {
        "id": "ukAZq1iF4YYj"
      },
      "outputs": [],
      "source": [
        "mergedCumulativeRevenue = cumulativeRevenueA.merge(cumulativeRevenueB, left_on='date', right_on='date', how='left', suffixes=['A', 'B'])"
      ]
    },
    {
      "cell_type": "code",
      "execution_count": 27,
      "metadata": {
        "colab": {
          "base_uri": "https://localhost:8080/",
          "height": 81
        },
        "id": "LmAPXbh74aCX",
        "outputId": "c93e58bb-0521-46a0-8c3a-cd409af0df74"
      },
      "outputs": [
        {
          "output_type": "execute_result",
          "data": {
            "text/plain": [
              "         date  revenueA  ordersA  revenueB  ordersB\n",
              "2  2019-08-03    346854       66    288850       54"
            ],
            "text/html": [
              "\n",
              "  <div id=\"df-6b735419-6018-45e9-902a-d36d8e50cac7\" class=\"colab-df-container\">\n",
              "    <div>\n",
              "<style scoped>\n",
              "    .dataframe tbody tr th:only-of-type {\n",
              "        vertical-align: middle;\n",
              "    }\n",
              "\n",
              "    .dataframe tbody tr th {\n",
              "        vertical-align: top;\n",
              "    }\n",
              "\n",
              "    .dataframe thead th {\n",
              "        text-align: right;\n",
              "    }\n",
              "</style>\n",
              "<table border=\"1\" class=\"dataframe\">\n",
              "  <thead>\n",
              "    <tr style=\"text-align: right;\">\n",
              "      <th></th>\n",
              "      <th>date</th>\n",
              "      <th>revenueA</th>\n",
              "      <th>ordersA</th>\n",
              "      <th>revenueB</th>\n",
              "      <th>ordersB</th>\n",
              "    </tr>\n",
              "  </thead>\n",
              "  <tbody>\n",
              "    <tr>\n",
              "      <th>2</th>\n",
              "      <td>2019-08-03</td>\n",
              "      <td>346854</td>\n",
              "      <td>66</td>\n",
              "      <td>288850</td>\n",
              "      <td>54</td>\n",
              "    </tr>\n",
              "  </tbody>\n",
              "</table>\n",
              "</div>\n",
              "    <div class=\"colab-df-buttons\">\n",
              "\n",
              "  <div class=\"colab-df-container\">\n",
              "    <button class=\"colab-df-convert\" onclick=\"convertToInteractive('df-6b735419-6018-45e9-902a-d36d8e50cac7')\"\n",
              "            title=\"Convert this dataframe to an interactive table.\"\n",
              "            style=\"display:none;\">\n",
              "\n",
              "  <svg xmlns=\"http://www.w3.org/2000/svg\" height=\"24px\" viewBox=\"0 -960 960 960\">\n",
              "    <path d=\"M120-120v-720h720v720H120Zm60-500h600v-160H180v160Zm220 220h160v-160H400v160Zm0 220h160v-160H400v160ZM180-400h160v-160H180v160Zm440 0h160v-160H620v160ZM180-180h160v-160H180v160Zm440 0h160v-160H620v160Z\"/>\n",
              "  </svg>\n",
              "    </button>\n",
              "\n",
              "  <style>\n",
              "    .colab-df-container {\n",
              "      display:flex;\n",
              "      gap: 12px;\n",
              "    }\n",
              "\n",
              "    .colab-df-convert {\n",
              "      background-color: #E8F0FE;\n",
              "      border: none;\n",
              "      border-radius: 50%;\n",
              "      cursor: pointer;\n",
              "      display: none;\n",
              "      fill: #1967D2;\n",
              "      height: 32px;\n",
              "      padding: 0 0 0 0;\n",
              "      width: 32px;\n",
              "    }\n",
              "\n",
              "    .colab-df-convert:hover {\n",
              "      background-color: #E2EBFA;\n",
              "      box-shadow: 0px 1px 2px rgba(60, 64, 67, 0.3), 0px 1px 3px 1px rgba(60, 64, 67, 0.15);\n",
              "      fill: #174EA6;\n",
              "    }\n",
              "\n",
              "    .colab-df-buttons div {\n",
              "      margin-bottom: 4px;\n",
              "    }\n",
              "\n",
              "    [theme=dark] .colab-df-convert {\n",
              "      background-color: #3B4455;\n",
              "      fill: #D2E3FC;\n",
              "    }\n",
              "\n",
              "    [theme=dark] .colab-df-convert:hover {\n",
              "      background-color: #434B5C;\n",
              "      box-shadow: 0px 1px 3px 1px rgba(0, 0, 0, 0.15);\n",
              "      filter: drop-shadow(0px 1px 2px rgba(0, 0, 0, 0.3));\n",
              "      fill: #FFFFFF;\n",
              "    }\n",
              "  </style>\n",
              "\n",
              "    <script>\n",
              "      const buttonEl =\n",
              "        document.querySelector('#df-6b735419-6018-45e9-902a-d36d8e50cac7 button.colab-df-convert');\n",
              "      buttonEl.style.display =\n",
              "        google.colab.kernel.accessAllowed ? 'block' : 'none';\n",
              "\n",
              "      async function convertToInteractive(key) {\n",
              "        const element = document.querySelector('#df-6b735419-6018-45e9-902a-d36d8e50cac7');\n",
              "        const dataTable =\n",
              "          await google.colab.kernel.invokeFunction('convertToInteractive',\n",
              "                                                    [key], {});\n",
              "        if (!dataTable) return;\n",
              "\n",
              "        const docLinkHtml = 'Like what you see? Visit the ' +\n",
              "          '<a target=\"_blank\" href=https://colab.research.google.com/notebooks/data_table.ipynb>data table notebook</a>'\n",
              "          + ' to learn more about interactive tables.';\n",
              "        element.innerHTML = '';\n",
              "        dataTable['output_type'] = 'display_data';\n",
              "        await google.colab.output.renderOutput(dataTable, element);\n",
              "        const docLink = document.createElement('div');\n",
              "        docLink.innerHTML = docLinkHtml;\n",
              "        element.appendChild(docLink);\n",
              "      }\n",
              "    </script>\n",
              "  </div>\n",
              "\n",
              "    </div>\n",
              "  </div>\n"
            ]
          },
          "metadata": {},
          "execution_count": 27
        }
      ],
      "source": [
        "mergedCumulativeRevenue.sample()"
      ]
    },
    {
      "cell_type": "code",
      "execution_count": 28,
      "metadata": {
        "colab": {
          "base_uri": "https://localhost:8080/",
          "height": 481
        },
        "id": "h4yGnSHM4diM",
        "outputId": "50bd5a6f-29ff-42b4-a849-50cbfd06ca75"
      },
      "outputs": [
        {
          "output_type": "display_data",
          "data": {
            "text/plain": [
              "<Figure size 1500x500 with 1 Axes>"
            ],
            "image/png": "[encoded data removed]"
          },
          "metadata": {}
        }
      ],
      "source": [
        "plt.figure(figsize=(15, 5))\n",
        "plt.plot(mergedCumulativeRevenue['date'], (mergedCumulativeRevenue['revenueB']/mergedCumulativeRevenue['ordersB'])/(mergedCumulativeRevenue['revenueA']/mergedCumulativeRevenue['ordersA'])-1)\n",
        "plt.axhline(y=0, color='black', linestyle='--')\n",
        "plt.title('График относительного изменения кумулятивного среднего чека группы B к группе A')\n",
        "plt.xticks(rotation=90)\n",
        "plt.show()"
      ]
    },
    {
      "cell_type": "markdown",
      "metadata": {
        "id": "0p4EH4vgn8Mu"
      },
      "source": [
        "График резко менял свое направление несколько раз. Начиная с середины теста значения группы B были более высокими, чем у группы A, однако для нас также важен анализ данных после удаления аномальных заказов"
      ]
    },
    {
      "cell_type": "markdown",
      "metadata": {
        "id": "yNhd-kA55lle"
      },
      "source": [
        "### 3.4.Построим график кумулятивного среднего количества заказов на посетителя по группам."
      ]
    },
    {
      "cell_type": "code",
      "execution_count": 29,
      "metadata": {
        "id": "Zk5YNgWy5otX"
      },
      "outputs": [],
      "source": [
        "cumulativeData['conversion'] = cumulativeData['orders']/cumulativeData['visitors']\n",
        "cumulativeDataA = cumulativeData[cumulativeData['group']=='A']\n",
        "cumulativeDataB = cumulativeData[cumulativeData['group']=='B']"
      ]
    },
    {
      "cell_type": "code",
      "execution_count": 30,
      "metadata": {
        "colab": {
          "base_uri": "https://localhost:8080/",
          "height": 206
        },
        "id": "6NmbWbftbKq3",
        "outputId": "826a875a-6dc9-4a32-81b1-ec24e03201bc"
      },
      "outputs": [
        {
          "output_type": "execute_result",
          "data": {
            "text/plain": [
              "         date group  orders  buyers  revenue  visitors  conversion\n",
              "0  2019-08-01     A      23      19   142779       719        0.03\n",
              "1  2019-08-01     B      17      17    59758       713        0.02\n",
              "2  2019-08-02     A      42      36   234381      1338        0.03\n",
              "3  2019-08-02     B      40      39   221801      1294        0.03\n",
              "4  2019-08-03     A      66      60   346854      1845        0.04"
            ],
            "text/html": [
              "\n",
              "  <div id=\"df-c8de84d0-5962-4308-a476-136ca5c809ff\" class=\"colab-df-container\">\n",
              "    <div>\n",
              "<style scoped>\n",
              "    .dataframe tbody tr th:only-of-type {\n",
              "        vertical-align: middle;\n",
              "    }\n",
              "\n",
              "    .dataframe tbody tr th {\n",
              "        vertical-align: top;\n",
              "    }\n",
              "\n",
              "    .dataframe thead th {\n",
              "        text-align: right;\n",
              "    }\n",
              "</style>\n",
              "<table border=\"1\" class=\"dataframe\">\n",
              "  <thead>\n",
              "    <tr style=\"text-align: right;\">\n",
              "      <th></th>\n",
              "      <th>date</th>\n",
              "      <th>group</th>\n",
              "      <th>orders</th>\n",
              "      <th>buyers</th>\n",
              "      <th>revenue</th>\n",
              "      <th>visitors</th>\n",
              "      <th>conversion</th>\n",
              "    </tr>\n",
              "  </thead>\n",
              "  <tbody>\n",
              "    <tr>\n",
              "      <th>0</th>\n",
              "      <td>2019-08-01</td>\n",
              "      <td>A</td>\n",
              "      <td>23</td>\n",
              "      <td>19</td>\n",
              "      <td>142779</td>\n",
              "      <td>719</td>\n",
              "      <td>0.03</td>\n",
              "    </tr>\n",
              "    <tr>\n",
              "      <th>1</th>\n",
              "      <td>2019-08-01</td>\n",
              "      <td>B</td>\n",
              "      <td>17</td>\n",
              "      <td>17</td>\n",
              "      <td>59758</td>\n",
              "      <td>713</td>\n",
              "      <td>0.02</td>\n",
              "    </tr>\n",
              "    <tr>\n",
              "      <th>2</th>\n",
              "      <td>2019-08-02</td>\n",
              "      <td>A</td>\n",
              "      <td>42</td>\n",
              "      <td>36</td>\n",
              "      <td>234381</td>\n",
              "      <td>1338</td>\n",
              "      <td>0.03</td>\n",
              "    </tr>\n",
              "    <tr>\n",
              "      <th>3</th>\n",
              "      <td>2019-08-02</td>\n",
              "      <td>B</td>\n",
              "      <td>40</td>\n",
              "      <td>39</td>\n",
              "      <td>221801</td>\n",
              "      <td>1294</td>\n",
              "      <td>0.03</td>\n",
              "    </tr>\n",
              "    <tr>\n",
              "      <th>4</th>\n",
              "      <td>2019-08-03</td>\n",
              "      <td>A</td>\n",
              "      <td>66</td>\n",
              "      <td>60</td>\n",
              "      <td>346854</td>\n",
              "      <td>1845</td>\n",
              "      <td>0.04</td>\n",
              "    </tr>\n",
              "  </tbody>\n",
              "</table>\n",
              "</div>\n",
              "    <div class=\"colab-df-buttons\">\n",
              "\n",
              "  <div class=\"colab-df-container\">\n",
              "    <button class=\"colab-df-convert\" onclick=\"convertToInteractive('df-c8de84d0-5962-4308-a476-136ca5c809ff')\"\n",
              "            title=\"Convert this dataframe to an interactive table.\"\n",
              "            style=\"display:none;\">\n",
              "\n",
              "  <svg xmlns=\"http://www.w3.org/2000/svg\" height=\"24px\" viewBox=\"0 -960 960 960\">\n",
              "    <path d=\"M120-120v-720h720v720H120Zm60-500h600v-160H180v160Zm220 220h160v-160H400v160Zm0 220h160v-160H400v160ZM180-400h160v-160H180v160Zm440 0h160v-160H620v160ZM180-180h160v-160H180v160Zm440 0h160v-160H620v160Z\"/>\n",
              "  </svg>\n",
              "    </button>\n",
              "\n",
              "  <style>\n",
              "    .colab-df-container {\n",
              "      display:flex;\n",
              "      gap: 12px;\n",
              "    }\n",
              "\n",
              "    .colab-df-convert {\n",
              "      background-color: #E8F0FE;\n",
              "      border: none;\n",
              "      border-radius: 50%;\n",
              "      cursor: pointer;\n",
              "      display: none;\n",
              "      fill: #1967D2;\n",
              "      height: 32px;\n",
              "      padding: 0 0 0 0;\n",
              "      width: 32px;\n",
              "    }\n",
              "\n",
              "    .colab-df-convert:hover {\n",
              "      background-color: #E2EBFA;\n",
              "      box-shadow: 0px 1px 2px rgba(60, 64, 67, 0.3), 0px 1px 3px 1px rgba(60, 64, 67, 0.15);\n",
              "      fill: #174EA6;\n",
              "    }\n",
              "\n",
              "    .colab-df-buttons div {\n",
              "      margin-bottom: 4px;\n",
              "    }\n",
              "\n",
              "    [theme=dark] .colab-df-convert {\n",
              "      background-color: #3B4455;\n",
              "      fill: #D2E3FC;\n",
              "    }\n",
              "\n",
              "    [theme=dark] .colab-df-convert:hover {\n",
              "      background-color: #434B5C;\n",
              "      box-shadow: 0px 1px 3px 1px rgba(0, 0, 0, 0.15);\n",
              "      filter: drop-shadow(0px 1px 2px rgba(0, 0, 0, 0.3));\n",
              "      fill: #FFFFFF;\n",
              "    }\n",
              "  </style>\n",
              "\n",
              "    <script>\n",
              "      const buttonEl =\n",
              "        document.querySelector('#df-c8de84d0-5962-4308-a476-136ca5c809ff button.colab-df-convert');\n",
              "      buttonEl.style.display =\n",
              "        google.colab.kernel.accessAllowed ? 'block' : 'none';\n",
              "\n",
              "      async function convertToInteractive(key) {\n",
              "        const element = document.querySelector('#df-c8de84d0-5962-4308-a476-136ca5c809ff');\n",
              "        const dataTable =\n",
              "          await google.colab.kernel.invokeFunction('convertToInteractive',\n",
              "                                                    [key], {});\n",
              "        if (!dataTable) return;\n",
              "\n",
              "        const docLinkHtml = 'Like what you see? Visit the ' +\n",
              "          '<a target=\"_blank\" href=https://colab.research.google.com/notebooks/data_table.ipynb>data table notebook</a>'\n",
              "          + ' to learn more about interactive tables.';\n",
              "        element.innerHTML = '';\n",
              "        dataTable['output_type'] = 'display_data';\n",
              "        await google.colab.output.renderOutput(dataTable, element);\n",
              "        const docLink = document.createElement('div');\n",
              "        docLink.innerHTML = docLinkHtml;\n",
              "        element.appendChild(docLink);\n",
              "      }\n",
              "    </script>\n",
              "  </div>\n",
              "\n",
              "\n",
              "<div id=\"df-aacab798-0683-49b7-864f-69c4f68ab791\">\n",
              "  <button class=\"colab-df-quickchart\" onclick=\"quickchart('df-aacab798-0683-49b7-864f-69c4f68ab791')\"\n",
              "            title=\"Suggest charts\"\n",
              "            style=\"display:none;\">\n",
              "\n",
              "<svg xmlns=\"http://www.w3.org/2000/svg\" height=\"24px\"viewBox=\"0 0 24 24\"\n",
              "     width=\"24px\">\n",
              "    <g>\n",
              "        <path d=\"M19 3H5c-1.1 0-2 .9-2 2v14c0 1.1.9 2 2 2h14c1.1 0 2-.9 2-2V5c0-1.1-.9-2-2-2zM9 17H7v-7h2v7zm4 0h-2V7h2v10zm4 0h-2v-4h2v4z\"/>\n",
              "    </g>\n",
              "</svg>\n",
              "  </button>\n",
              "\n",
              "<style>\n",
              "  .colab-df-quickchart {\n",
              "      --bg-color: #E8F0FE;\n",
              "      --fill-color: #1967D2;\n",
              "      --hover-bg-color: #E2EBFA;\n",
              "      --hover-fill-color: #174EA6;\n",
              "      --disabled-fill-color: #AAA;\n",
              "      --disabled-bg-color: #DDD;\n",
              "  }\n",
              "\n",
              "  [theme=dark] .colab-df-quickchart {\n",
              "      --bg-color: #3B4455;\n",
              "      --fill-color: #D2E3FC;\n",
              "      --hover-bg-color: #434B5C;\n",
              "      --hover-fill-color: #FFFFFF;\n",
              "      --disabled-bg-color: #3B4455;\n",
              "      --disabled-fill-color: #666;\n",
              "  }\n",
              "\n",
              "  .colab-df-quickchart {\n",
              "    background-color: var(--bg-color);\n",
              "    border: none;\n",
              "    border-radius: 50%;\n",
              "    cursor: pointer;\n",
              "    display: none;\n",
              "    fill: var(--fill-color);\n",
              "    height: 32px;\n",
              "    padding: 0;\n",
              "    width: 32px;\n",
              "  }\n",
              "\n",
              "  .colab-df-quickchart:hover {\n",
              "    background-color: var(--hover-bg-color);\n",
              "    box-shadow: 0 1px 2px rgba(60, 64, 67, 0.3), 0 1px 3px 1px rgba(60, 64, 67, 0.15);\n",
              "    fill: var(--button-hover-fill-color);\n",
              "  }\n",
              "\n",
              "  .colab-df-quickchart-complete:disabled,\n",
              "  .colab-df-quickchart-complete:disabled:hover {\n",
              "    background-color: var(--disabled-bg-color);\n",
              "    fill: var(--disabled-fill-color);\n",
              "    box-shadow: none;\n",
              "  }\n",
              "\n",
              "  .colab-df-spinner {\n",
              "    border: 2px solid var(--fill-color);\n",
              "    border-color: transparent;\n",
              "    border-bottom-color: var(--fill-color);\n",
              "    animation:\n",
              "      spin 1s steps(1) infinite;\n",
              "  }\n",
              "\n",
              "  @keyframes spin {\n",
              "    0% {\n",
              "      border-color: transparent;\n",
              "      border-bottom-color: var(--fill-color);\n",
              "      border-left-color: var(--fill-color);\n",
              "    }\n",
              "    20% {\n",
              "      border-color: transparent;\n",
              "      border-left-color: var(--fill-color);\n",
              "      border-top-color: var(--fill-color);\n",
              "    }\n",
              "    30% {\n",
              "      border-color: transparent;\n",
              "      border-left-color: var(--fill-color);\n",
              "      border-top-color: var(--fill-color);\n",
              "      border-right-color: var(--fill-color);\n",
              "    }\n",
              "    40% {\n",
              "      border-color: transparent;\n",
              "      border-right-color: var(--fill-color);\n",
              "      border-top-color: var(--fill-color);\n",
              "    }\n",
              "    60% {\n",
              "      border-color: transparent;\n",
              "      border-right-color: var(--fill-color);\n",
              "    }\n",
              "    80% {\n",
              "      border-color: transparent;\n",
              "      border-right-color: var(--fill-color);\n",
              "      border-bottom-color: var(--fill-color);\n",
              "    }\n",
              "    90% {\n",
              "      border-color: transparent;\n",
              "      border-bottom-color: var(--fill-color);\n",
              "    }\n",
              "  }\n",
              "</style>\n",
              "\n",
              "  <script>\n",
              "    async function quickchart(key) {\n",
              "      const quickchartButtonEl =\n",
              "        document.querySelector('#' + key + ' button');\n",
              "      quickchartButtonEl.disabled = true;  // To prevent multiple clicks.\n",
              "      quickchartButtonEl.classList.add('colab-df-spinner');\n",
              "      try {\n",
              "        const charts = await google.colab.kernel.invokeFunction(\n",
              "            'suggestCharts', [key], {});\n",
              "      } catch (error) {\n",
              "        console.error('Error during call to suggestCharts:', error);\n",
              "      }\n",
              "      quickchartButtonEl.classList.remove('colab-df-spinner');\n",
              "      quickchartButtonEl.classList.add('colab-df-quickchart-complete');\n",
              "    }\n",
              "    (() => {\n",
              "      let quickchartButtonEl =\n",
              "        document.querySelector('#df-aacab798-0683-49b7-864f-69c4f68ab791 button');\n",
              "      quickchartButtonEl.style.display =\n",
              "        google.colab.kernel.accessAllowed ? 'block' : 'none';\n",
              "    })();\n",
              "  </script>\n",
              "</div>\n",
              "    </div>\n",
              "  </div>\n"
            ]
          },
          "metadata": {},
          "execution_count": 30
        }
      ],
      "source": [
        "cumulativeData.head()"
      ]
    },
    {
      "cell_type": "code",
      "execution_count": 31,
      "metadata": {
        "colab": {
          "base_uri": "https://localhost:8080/",
          "height": 479
        },
        "id": "YeZeAK-n6kJw",
        "outputId": "43457d41-f25c-4cb4-a04d-d2b88728c7cf"
      },
      "outputs": [
        {
          "output_type": "display_data",
          "data": {
            "text/plain": [
              "<Figure size 1500x500 with 1 Axes>"
            ],
            "image/png": "[encoded data removed]"
          },
          "metadata": {}
        }
      ],
      "source": [
        "plt.figure(figsize=(15, 5))\n",
        "plt.plot(cumulativeDataA['date'], cumulativeDataA['conversion'], label='A')\n",
        "plt.plot(cumulativeDataB['date'], cumulativeDataB['conversion'], label='B')\n",
        "plt.legend()\n",
        "plt.xticks(rotation=90)\n",
        "plt.title('График кумулятивного среднего количества заказов на посетителя по группам')\n",
        "plt.show()\n"
      ]
    },
    {
      "cell_type": "markdown",
      "metadata": {
        "id": "Qjx_mPx8opJM"
      },
      "source": [
        "В первые дни график колеблется, но в дальнейшем среднее количество заказов на посетителя заметно больше в группе B"
      ]
    },
    {
      "cell_type": "markdown",
      "metadata": {
        "id": "Fgp-hPgp8Zf4"
      },
      "source": [
        "### 3.5 Построим график относительного изменения кумулятивного среднего количества заказов на посетителя группы B к группе A."
      ]
    },
    {
      "cell_type": "code",
      "execution_count": 32,
      "metadata": {
        "id": "-Yo_2x8i8dhe"
      },
      "outputs": [],
      "source": [
        "mergedCumulativeConversions = (cumulativeDataA[['date','conversion']]\n",
        "                               .merge(cumulativeDataB[['date','conversion']],\n",
        "                                      left_on='date', right_on='date', how='left', suffixes=['A', 'B']))"
      ]
    },
    {
      "cell_type": "code",
      "execution_count": 33,
      "metadata": {
        "colab": {
          "base_uri": "https://localhost:8080/",
          "height": 481
        },
        "id": "XNMWuZbK8yXe",
        "outputId": "19d66fca-9768-4f2c-dbce-ed06e8cfb3bd"
      },
      "outputs": [
        {
          "output_type": "display_data",
          "data": {
            "text/plain": [
              "<Figure size 1500x500 with 1 Axes>"
            ],
            "image/png": "[encoded data removed]"
          },
          "metadata": {}
        }
      ],
      "source": [
        "plt.figure(figsize=(15, 5))\n",
        "plt.plot(mergedCumulativeConversions['date'], mergedCumulativeConversions['conversionB']/mergedCumulativeConversions['conversionA']-1)\n",
        "plt.xticks(rotation=90)\n",
        "plt.title('Относительный прирост конверсии группы B относительно группы A')\n",
        "plt.axhline(y=0, color='black', linestyle='--')\n",
        "plt.show()"
      ]
    },
    {
      "cell_type": "markdown",
      "metadata": {
        "id": "m8pWnBBgozDC"
      },
      "source": [
        "Этот график подтверждает наши наблюдения - конверсия группы заметно лучше конверсии группы A"
      ]
    },
    {
      "cell_type": "markdown",
      "metadata": {
        "id": "ABJIsEWh-ARE"
      },
      "source": [
        "### 3.6.Построим точечный график количества заказов по пользователям."
      ]
    },
    {
      "cell_type": "code",
      "execution_count": 34,
      "metadata": {
        "id": "yYD0WqHu9_vV"
      },
      "outputs": [],
      "source": [
        "ordersByUsers = order.groupby('visitorId', as_index=False).agg({'transactionId': 'nunique'})\n",
        "ordersByUsers.columns = ['userId', 'orders']"
      ]
    },
    {
      "cell_type": "code",
      "execution_count": 35,
      "metadata": {
        "colab": {
          "base_uri": "https://localhost:8080/",
          "height": 472
        },
        "id": "2GlZk_8h-1d6",
        "outputId": "7be86768-95f0-4c30-b7ba-1c710b029abd"
      },
      "outputs": [
        {
          "output_type": "display_data",
          "data": {
            "text/plain": [
              "<Figure size 640x480 with 1 Axes>"
            ],
            "image/png": "[encoded data removed]"
          },
          "metadata": {}
        }
      ],
      "source": [
        "x_values = pd.Series(range(0, len(ordersByUsers)))\n",
        "plt.scatter(x_values, ordersByUsers['orders'])\n",
        "plt.title('Точечный график количества заказов по пользователям')\n",
        "plt.xlabel('Пользователи')\n",
        "plt.ylabel('Количество заказов')\n",
        "plt.show()"
      ]
    },
    {
      "cell_type": "markdown",
      "metadata": {
        "id": "aS2tTJt2pNsk"
      },
      "source": [
        "Большинство пользователей совершают 1, максимум 2 заказа"
      ]
    },
    {
      "cell_type": "markdown",
      "metadata": {
        "id": "SstjB_JG_4wT"
      },
      "source": [
        "### 3.7.Посчитаем 95-й и 99-й перцентили количества заказов на пользователя.\n",
        "\n",
        "Выберем границу для определения аномальных пользователей."
      ]
    },
    {
      "cell_type": "code",
      "execution_count": 36,
      "metadata": {
        "colab": {
          "base_uri": "https://localhost:8080/"
        },
        "id": "T9qUPNDE_8eu",
        "outputId": "e091ae20-f2b4-4f98-8441-5a779fe85dbf"
      },
      "outputs": [
        {
          "output_type": "execute_result",
          "data": {
            "text/plain": [
              "array([1., 2.])"
            ]
          },
          "metadata": {},
          "execution_count": 36
        }
      ],
      "source": [
        "np.percentile(ordersByUsers['orders'], [95, 99])"
      ]
    },
    {
      "cell_type": "markdown",
      "metadata": {
        "id": "ETQcN1bZpiOH"
      },
      "source": [
        "Не более 5 % пользователей совершали более 1 заказов,  и не более 1% пользоваьелей соверщал более 2 заказов. Определим 99 перцентиль как границу аномалий"
      ]
    },
    {
      "cell_type": "markdown",
      "metadata": {
        "id": "BBxKeaJbAWXn"
      },
      "source": [
        "### 3.8.Построим точечный график стоимостей заказов."
      ]
    },
    {
      "cell_type": "code",
      "execution_count": 37,
      "metadata": {
        "colab": {
          "base_uri": "https://localhost:8080/",
          "height": 472
        },
        "id": "ctSNS3S1AZ27",
        "outputId": "9171843f-b1c4-4fc6-f2f8-c18bf2d58f45"
      },
      "outputs": [
        {
          "output_type": "display_data",
          "data": {
            "text/plain": [
              "<Figure size 640x480 with 1 Axes>"
            ],
            "image/png": "[encoded data removed]"
          },
          "metadata": {}
        }
      ],
      "source": [
        "x_values = pd.Series(range(0, len(orders['revenue'])))\n",
        "plt.scatter(x_values, orders['revenue'])\n",
        "plt.title('Точечный график стоимостей заказов')\n",
        "plt.xlabel('Заказы')\n",
        "plt.ylabel('Стоимость')\n",
        "plt.show()"
      ]
    },
    {
      "cell_type": "code",
      "execution_count": 38,
      "metadata": {
        "colab": {
          "base_uri": "https://localhost:8080/"
        },
        "id": "Pdq8-LlTqup5",
        "outputId": "5ead7795-61c2-4b3d-83bc-f061f23ea30c"
      },
      "outputs": [
        {
          "output_type": "execute_result",
          "data": {
            "text/plain": [
              "count       1016.00\n",
              "mean        8300.81\n",
              "std        42121.99\n",
              "min           50.00\n",
              "25%         1190.00\n",
              "50%         2955.00\n",
              "75%         8134.25\n",
              "max      1294500.00\n",
              "Name: revenue, dtype: float64"
            ]
          },
          "metadata": {},
          "execution_count": 38
        }
      ],
      "source": [
        "order['revenue'].describe()"
      ]
    },
    {
      "cell_type": "markdown",
      "metadata": {
        "id": "lQe4tqynqhEw"
      },
      "source": [
        "Стоимость заказа колеблется от 50 до 18900. Но есть единичные выбросы"
      ]
    },
    {
      "cell_type": "markdown",
      "metadata": {
        "id": "jJ51Y3cgBSSb"
      },
      "source": [
        "### 3.9.Посчитаем 95-й и 99-й перцентили стоимости заказов. Выберем границу для определения аномальных заказов."
      ]
    },
    {
      "cell_type": "code",
      "execution_count": 40,
      "metadata": {
        "colab": {
          "base_uri": "https://localhost:8080/"
        },
        "id": "qV1X5m13BVgi",
        "outputId": "aca677e2-f715-41e4-a4f7-c3077237bc7d"
      },
      "outputs": [
        {
          "output_type": "execute_result",
          "data": {
            "text/plain": [
              "array([26785., 53904.])"
            ]
          },
          "metadata": {},
          "execution_count": 40
        }
      ],
      "source": [
        "np.percentile(order['revenue'], [95, 99])"
      ]
    },
    {
      "cell_type": "markdown",
      "metadata": {
        "id": "VbO665PI-szK"
      },
      "source": [
        "Не более, чем у 5% заказов чек дороже 26785, не более чем у 1% заказов чек дороже 53904. В дальнейшем мы возьмем за основу 95 перцентиль, которым обозначим границу выбросов"
      ]
    },
    {
      "cell_type": "markdown",
      "metadata": {
        "id": "rMvIrW4ZCfjJ"
      },
      "source": [
        "### 3.10.Посчитайте статистическую значимость различий в среднем количестве заказов на посетителя между группами по «сырым» данным."
      ]
    },
    {
      "cell_type": "markdown",
      "metadata": {
        "id": "rdL6PVdcwK19"
      },
      "source": [
        "Сформулируем статистические гипотезы:\n",
        "\n",
        "H_0: В группах A и B нет статистического различия между количеством заказов на посетителя\n",
        "\n",
        "H_1: В группах A и B есть статистические различия между количеством заказов на посетителя\n",
        "\n",
        "alpha = 0.05"
      ]
    },
    {
      "cell_type": "code",
      "execution_count": 41,
      "metadata": {
        "id": "GAytm0tGJvDp"
      },
      "outputs": [],
      "source": [
        "def make_sample(df1, df2):\n",
        "  ordersByUsersA = (\n",
        "    df1[df1['group'] == 'A']\n",
        "    .groupby('visitorId', as_index=False)\n",
        "    .agg({'transactionId': pd.Series.nunique}))\n",
        "  ordersByUsersA.columns = ['userId', 'orders']\n",
        "  revenueByUsersA = (\n",
        "    df1[df1['group'] == 'A']\n",
        "    .groupby('visitorId', as_index=False)\n",
        "    .agg({'revenue': 'sum'}))\n",
        "  revenueByUsersA.columns = ['userId', 'revenue']\n",
        "  ordersByUsersB = (\n",
        "    df1[df1['group'] == 'B']\n",
        "    .groupby('visitorId', as_index=False)\n",
        "    .agg({'transactionId': pd.Series.nunique}))\n",
        "  ordersByUsersB.columns = ['userId', 'orders']\n",
        "  revenueByUsersB = (\n",
        "    df1[df1['group'] == 'B']\n",
        "    .groupby('visitorId', as_index=False)\n",
        "    .agg({'revenue': 'sum'}))\n",
        "  revenueByUsersB.columns = ['userId', 'revenue']\n",
        "  sampleA = (pd.concat([ordersByUsersA['orders'],\n",
        "                        pd.Series(0, index=np.arange(df2.query('group== \"A\"')['visitors'].sum()\n",
        "                         - len(ordersByUsersA['orders'])), name='orders')],axis=0))\n",
        "  sampleB = (pd.concat([ordersByUsersB['orders'],pd.Series\n",
        "      (0, index=np.arange(df2.query('group== \"B\"')['visitors'].sum()\n",
        "       - len(ordersByUsersB['orders'])), name='orders')],axis=0))\n",
        "  sampleAr = (pd.concat([revenueByUsersA['revenue'],\n",
        "                        pd.Series(0, index=np.arange(df2.query('group== \"A\"')['visitors'].sum()\n",
        "                         - len(revenueByUsersA['userId'])), name='revenue')],axis=0))\n",
        "  sampleBr = (pd.concat([revenueByUsersB['revenue'],pd.Series\n",
        "      (0, index=np.arange(df2.query('group== \"B\"')['visitors'].sum()\n",
        "       - len(revenueByUsersB['userId'])), name='revenue')],axis=0))\n",
        "  return sampleA, sampleB, sampleAr, sampleBr, ordersByUsersA, ordersByUsersB"
      ]
    },
    {
      "cell_type": "markdown",
      "metadata": {
        "id": "fjyhMjHWTGxC"
      },
      "source": [
        "Мы написали функцию, которая получает на вход два датафрейма. (Мы ее будем использовать для сырых и очищенных данных)\n",
        "На выходе мы получаем\n",
        "\n",
        "sampleA, sampleB - массивы количества заказов на человека( включая нули для тех, кто не совершал покупки) для проведения статистического анализа\n",
        "\n",
        "sampleAr, sampleBr - массивы сумм покупок для каждого посетителя, включая нули, эти массивы мы используем в дальнейшем\n",
        "\n",
        "ordersByUsersA, ordersByUsersB - массивы количества заказов для каждого покупателя"
      ]
    },
    {
      "cell_type": "markdown",
      "source": [
        "U-критерий Манна — Уитни для оценки различий между двумя независимыми выборками"
      ],
      "metadata": {
        "id": "VCxIm3ALdkdJ"
      }
    },
    {
      "cell_type": "code",
      "source": [
        "def mwtest(sample1,sample2, num):\n",
        "  alpha = 0.05\n",
        "  results1 = st.mannwhitneyu(sample1, sample2)[1]\n",
        "  print('p-значение, u-критерий Манна-Уитни:', results1)\n",
        "  print('средние значения sample1', round(sample1.mean(),2))\n",
        "  print('средние значения sample2', round(sample2.mean(),2))\n",
        "  if num == 2:\n",
        "    if results1 < alpha:\n",
        "      print(\"Отвергаем нулевую гипотезу. Наблюдаем статистическое различие между двумя выборками.\")\n",
        "    else:\n",
        "      print(\"Не получилось отвергнуть нулевую гипотезу. Не наблюдаем статистическое различие между двумя выборками.\")\n",
        "  if num == 1:\n",
        "    if results1 < alpha:\n",
        "      print(\"Отвергаем нулевую гипотезу. Наблюдаем статистическое различие между двумя выборками.\")\n",
        "    else:\n",
        "      print(\"Не получилось отвергнуть нулевую гипотезу. Не наблюдаем статистическое различие между двумя выборками.\")"
      ],
      "metadata": {
        "id": "d_dRVfv1ccIc"
      },
      "execution_count": 53,
      "outputs": []
    },
    {
      "cell_type": "code",
      "execution_count": 48,
      "metadata": {
        "id": "uUvn66ACKYwQ"
      },
      "outputs": [],
      "source": [
        "sampleA, sampleB, sampleAr, sampleBr, ordersByUsersA, ordersByUsersB = make_sample(order, visitors)"
      ]
    },
    {
      "cell_type": "code",
      "source": [
        "mwtest(sampleA,sampleB, 2)"
      ],
      "metadata": {
        "colab": {
          "base_uri": "https://localhost:8080/"
        },
        "id": "iKNxPItWd3yo",
        "outputId": "af5b8f71-b63b-403c-f985-eb828e472860"
      },
      "execution_count": 56,
      "outputs": [
        {
          "output_type": "stream",
          "name": "stdout",
          "text": [
            "p-значение, u-критерий Манна-Уитни: 0.011018084110014696\n",
            "средние значения sample1 0.02\n",
            "средние значения sample2 0.03\n",
            "Отвергаем нулевую гипотезу. Наблюдаем статистическое различие между двумя выборками.\n"
          ]
        }
      ]
    },
    {
      "cell_type": "code",
      "source": [
        "0.03-0.02/0.02"
      ],
      "metadata": {
        "colab": {
          "base_uri": "https://localhost:8080/"
        },
        "id": "_-Uz5zfHf8JZ",
        "outputId": "b76fe0cf-973d-48f4-9e02-c00c0f441552"
      },
      "execution_count": 58,
      "outputs": [
        {
          "output_type": "execute_result",
          "data": {
            "text/plain": [
              "-0.97"
            ]
          },
          "metadata": {},
          "execution_count": 58
        }
      ]
    },
    {
      "cell_type": "code",
      "source": [
        "sampleA.mean()"
      ],
      "metadata": {
        "colab": {
          "base_uri": "https://localhost:8080/"
        },
        "id": "necHeFpegRHm",
        "outputId": "7993ad7e-432c-4276-9db9-57208bae7873"
      },
      "execution_count": 60,
      "outputs": [
        {
          "output_type": "execute_result",
          "data": {
            "text/plain": [
              "0.02497865072587532"
            ]
          },
          "metadata": {},
          "execution_count": 60
        }
      ]
    },
    {
      "cell_type": "code",
      "execution_count": 57,
      "metadata": {
        "id": "JlhfTrmgwK2D",
        "outputId": "0b346a77-23a6-47c3-caad-5f6323ac0cc3",
        "colab": {
          "base_uri": "https://localhost:8080/"
        }
      },
      "outputs": [
        {
          "output_type": "stream",
          "name": "stdout",
          "text": [
            " Средние значения количества заказов на посетителя группы B отличаются от средних значений группы A  на 15.98 % \n"
          ]
        }
      ],
      "source": [
        "print(f\" Средние значения количества заказов на посетителя группы B отличаются от средних значений группы A  на {((sampleB.mean() / sampleA.mean() - 1)*100):.2F} % \")"
      ]
    },
    {
      "cell_type": "markdown",
      "metadata": {
        "id": "nhasxh1XRdHV"
      },
      "source": [
        "**Выводы:**\n",
        "\n",
        "* Нулевую гипотезу мы отвергаем\n",
        "* Анализ сырых данных показывает, что в среднем количестве заказов есть статистически значимые различия.\n",
        "* Относительный прирост среднего группы B к конверсии группы A равен 16%"
      ]
    },
    {
      "cell_type": "markdown",
      "metadata": {
        "id": "9RABXIIBSba1"
      },
      "source": [
        "### 3.11.Посчитаем статистическую значимость различий в среднем чеке заказа между группами по «сырым» данным."
      ]
    },
    {
      "cell_type": "markdown",
      "metadata": {
        "id": "DeUPfwaFwK2G"
      },
      "source": [
        "Сформулируем статистические гипотезы:\n",
        "\n",
        "H_0: В группах A и B нет статистического различия в среднем чеке на покупателя\n",
        "\n",
        "H_1: В группах A и B есть статистические различия в среднем чеке на покупателя\n",
        "alpha = 0.05"
      ]
    },
    {
      "cell_type": "code",
      "source": [
        "sample1 = orders[orders['group']=='A']['revenue']\n",
        "sample2 = orders[orders['group']=='B']['revenue']"
      ],
      "metadata": {
        "id": "Gb9lQs5gh0HQ"
      },
      "execution_count": 64,
      "outputs": []
    },
    {
      "cell_type": "code",
      "source": [
        "mwtest(sample1, sample2, 2)"
      ],
      "metadata": {
        "colab": {
          "base_uri": "https://localhost:8080/"
        },
        "id": "1cDVVAKBhw3d",
        "outputId": "d34d683c-7909-431a-e07c-be03c3dacb0c"
      },
      "execution_count": 67,
      "outputs": [
        {
          "output_type": "stream",
          "name": "stdout",
          "text": [
            "p-значение, u-критерий Манна-Уитни: 0.7292909855432458\n",
            "средние значения sample1 7333.58\n",
            "средние значения sample2 9230.88\n",
            "Не получилось отвергнуть нулевую гипотезу. Не наблюдаем статистическое различие между двумя выборками.\n"
          ]
        }
      ]
    },
    {
      "cell_type": "markdown",
      "metadata": {
        "id": "LO94yExmTCVM"
      },
      "source": [
        "**Выводы:**\n",
        "\n",
        " Мы не можем отвергнуть 0 гипотезу, статистических различий между группами мы не наблюдаем.\n"
      ]
    },
    {
      "cell_type": "markdown",
      "metadata": {
        "id": "4hoevhlqTsjG"
      },
      "source": [
        "### 3.12.Посчитаем статистическую значимость различий в среднем количестве заказов на посетителя между группами по «очищенным» данным."
      ]
    },
    {
      "cell_type": "markdown",
      "metadata": {
        "id": "Ky2gHZb9wK2O"
      },
      "source": [
        "Сформулируем статистические гипотезы:\n",
        "\n",
        "H_0: В группах A и B в очищенных от аномалий данных нет статистического различия между количеством заказов на посетителя\n",
        "\n",
        "H_1: В группах A и B в очищенных от аномалий данных есть статистические различия между количеством заказов на посетителя\n",
        "\n",
        "alpha = 0.05"
      ]
    },
    {
      "cell_type": "markdown",
      "metadata": {
        "id": "nHZksIIQT_cJ"
      },
      "source": [
        "\n",
        "Приступаем к подготовке очищенных от аномалий данных.\n",
        "Напомним, что 95-й и 99-й перцентили средних чеков равны\n",
        "28000 и 58233 рублям. А 95-й и 99-й перцентили числа заказов на одного пользователя равны 2 и 4 заказам на пользователя.\n",
        "Примем за аномальных пользователей тех, кто совершил больше 2 заказов  или совершил заказ на сумму 28000 и более рублей.\n"
      ]
    },
    {
      "cell_type": "code",
      "execution_count": 68,
      "metadata": {
        "id": "YsdxGa60wK2Q"
      },
      "outputs": [],
      "source": [
        "sampleA, sampleB, sampleAr, sampleBr, ordersByUsersA, ordersByUsersB = make_sample(order, visitors)"
      ]
    },
    {
      "cell_type": "code",
      "execution_count": 73,
      "metadata": {
        "id": "wqzHqMsJwK2Q",
        "outputId": "94d96237-83fb-43d7-8824-8f8163919e7b",
        "colab": {
          "base_uri": "https://localhost:8080/"
        }
      },
      "outputs": [
        {
          "output_type": "execute_result",
          "data": {
            "text/plain": [
              "array([1., 2.])"
            ]
          },
          "metadata": {},
          "execution_count": 73
        }
      ],
      "source": [
        "np.percentile(ordersByUsers['orders'], [95, 99])"
      ]
    },
    {
      "cell_type": "code",
      "execution_count": 74,
      "metadata": {
        "id": "4a2P3oaJwK2R"
      },
      "outputs": [],
      "source": [
        "perco = np.percentile(ordersByUsers['orders'], [99])[0]\n",
        "percr = np.percentile(order['revenue'], [95])[0]"
      ]
    },
    {
      "cell_type": "code",
      "execution_count": 75,
      "metadata": {
        "id": "5cSiXjSrwK2R"
      },
      "outputs": [],
      "source": [
        "usersWithManyOrders = pd.concat([ordersByUsersA[ordersByUsersA['orders'] > perco]['userId'],\n",
        "                                 ordersByUsersB[ordersByUsersB['orders'] > perco]['userId']],axis=0)"
      ]
    },
    {
      "cell_type": "code",
      "execution_count": 78,
      "metadata": {
        "id": "TUNZ1BsOReNg"
      },
      "outputs": [],
      "source": [
        "usersWithManyOrders = pd.concat([ordersByUsersA[ordersByUsersA['orders'] > perco]['userId'],\n",
        "                                 ordersByUsersB[ordersByUsersB['orders'] > perco]['userId']],axis=0)\n",
        "usersWithExpensiveOrders = order[order['revenue'] >= percr]['visitorId']\n",
        "abnormalUsers = (pd.concat([usersWithManyOrders, usersWithExpensiveOrders], axis=0)\n",
        "    .drop_duplicates()\n",
        "    .sort_values()\n",
        ")"
      ]
    },
    {
      "cell_type": "code",
      "execution_count": 79,
      "metadata": {
        "id": "xnStGMKyRwPE"
      },
      "outputs": [],
      "source": [
        "au = list(abnormalUsers)\n",
        "orders_norm = order.query('visitorId not in @au')"
      ]
    },
    {
      "cell_type": "code",
      "source": [
        "sampleAfilter, sampleBfilter, sampleArfilter, sampleBrfilter, ordersByUsersA, ordersByUsersB = make_sample(orders_norm, visitors)"
      ],
      "metadata": {
        "id": "Br_TGoSgjIPO"
      },
      "execution_count": 82,
      "outputs": []
    },
    {
      "cell_type": "code",
      "source": [
        "mwtest(sampleAfilter, sampleBfilter, 2)"
      ],
      "metadata": {
        "colab": {
          "base_uri": "https://localhost:8080/"
        },
        "id": "l4u60lfDjBb4",
        "outputId": "3a97a51e-1fe7-44df-adf5-ce8acb92d79f"
      },
      "execution_count": 81,
      "outputs": [
        {
          "output_type": "stream",
          "name": "stdout",
          "text": [
            "p-значение, u-критерий Манна-Уитни: 0.012459950618584474\n",
            "средние значения sample1 0.02\n",
            "средние значения sample2 0.03\n",
            "Отвергаем нулевую гипотезу. Наблюдаем статистическое различие между двумя выборками.\n"
          ]
        }
      ]
    },
    {
      "cell_type": "code",
      "execution_count": 83,
      "metadata": {
        "id": "lFpXBxCpwK2X",
        "outputId": "fd6610b4-f82d-4bec-ea27-44af63278aaa",
        "colab": {
          "base_uri": "https://localhost:8080/"
        }
      },
      "outputs": [
        {
          "output_type": "stream",
          "name": "stdout",
          "text": [
            " Средние значения количества заказов на посетителя в очищенных датафреймах группы B отличаются от средних значений группы A  на 18.17 % \n"
          ]
        }
      ],
      "source": [
        "print(f\" Средние значения количества заказов на посетителя в очищенных датафреймах группы B отличаются от средних значений группы A  на {((sampleBfilter.mean() / sampleAfilter.mean() - 1)*100):.2F} % \")"
      ]
    },
    {
      "cell_type": "markdown",
      "metadata": {
        "id": "B-E69u-CXalA"
      },
      "source": [
        "**Выводы:**\n",
        "\n",
        "* Результаты очень близкик результатам сырых данных, нулевую гипотезу мы отвергаем\n",
        "* В среднем количестве заказов есть статистически значимые различия\n",
        "Относительные прирост среднего группы B к конверсии группы A равен 18%"
      ]
    },
    {
      "cell_type": "markdown",
      "metadata": {
        "id": "CMtazRQLcVt_"
      },
      "source": [
        "### 3.13 Посчитаем статистическую значимость различий в среднем чеке заказа между группами по «очищенным» данным."
      ]
    },
    {
      "cell_type": "markdown",
      "metadata": {
        "id": "QCeKib0SwK2Z"
      },
      "source": [
        "Сформулируем статистические гипотезы:\n",
        "\n",
        "H_0: В группах A и B  в очищенных данных нет статистического различия в среднем чеке на покупателя\n",
        "\n",
        "H_1: В группах A и B в очищенных данных есть статистические различия в среднем чеке на покупателя\n",
        "\n",
        "alpha = 0.05"
      ]
    },
    {
      "cell_type": "code",
      "execution_count": 84,
      "metadata": {
        "id": "Pu4YZp29cquP"
      },
      "outputs": [],
      "source": [
        "lA = order[np.logical_and(order['group'] == 'A', np.logical_not(order['visitorId'].isin(abnormalUsers)))]['revenue']"
      ]
    },
    {
      "cell_type": "code",
      "execution_count": 85,
      "metadata": {
        "id": "O5FbDHsKdSpT"
      },
      "outputs": [],
      "source": [
        "lB = order[np.logical_and(order['group'] == 'B',np.logical_not(order['visitorId'].isin(abnormalUsers)))]['revenue']"
      ]
    },
    {
      "cell_type": "code",
      "source": [
        "mwtest(lA, lB, 2)"
      ],
      "metadata": {
        "colab": {
          "base_uri": "https://localhost:8080/"
        },
        "id": "XTSKQCuTj0wT",
        "outputId": "39825576-0586-4214-f5e8-2e050da084f8"
      },
      "execution_count": 86,
      "outputs": [
        {
          "output_type": "stream",
          "name": "stdout",
          "text": [
            "p-значение, u-критерий Манна-Уитни: 0.6458964038091206\n",
            "средние значения sample1 5102.51\n",
            "средние значения sample2 4855.19\n",
            "Не получилось отвергнуть нулевую гипотезу. Не наблюдаем статистическое различие между двумя выборками.\n"
          ]
        }
      ]
    },
    {
      "cell_type": "markdown",
      "metadata": {
        "id": "OFdO52Uu_jy5"
      },
      "source": [
        "**Выводы:**\n",
        "\n",
        " Мы не можем отвергнуть 0 гипотезу, статистических различий между группами мы не наблюдаем."
      ]
    },
    {
      "cell_type": "markdown",
      "source": [
        "## Дополнительная гипотеза"
      ],
      "metadata": {
        "id": "fUXx8oM0kF9k"
      }
    },
    {
      "cell_type": "markdown",
      "metadata": {
        "id": "hysVwW4bPxkT"
      },
      "source": [
        "Прежде, чем делать вывод, проверим еще одну гипотезу. Мы ранее сравнивали средние чеки среди покупателей и среднее количество заказов среди всех посетителей. Построим график кумулятивной ARPU каждой из групп"
      ]
    },
    {
      "cell_type": "code",
      "source": [
        "cumulativeData1, cumulativeRevenueA1, cumulativeRevenueB1 = cumulativeD(orders_norm, visitors)"
      ],
      "metadata": {
        "id": "Am5_UzKDkOvB"
      },
      "execution_count": 88,
      "outputs": []
    },
    {
      "cell_type": "code",
      "execution_count": 94,
      "metadata": {
        "colab": {
          "base_uri": "https://localhost:8080/",
          "height": 484
        },
        "id": "yMtmjLC-OZ4Q",
        "outputId": "cdeabb1b-275c-4853-9065-027d8a189c4a"
      },
      "outputs": [
        {
          "output_type": "display_data",
          "data": {
            "text/plain": [
              "<Figure size 1500x500 with 1 Axes>"
            ],
            "image/png": "[encoded data removed]"
          },
          "metadata": {}
        }
      ],
      "source": [
        "plt.figure(figsize=(15, 5))\n",
        "plt.plot(cumulativeRevenueA1['date'], cumulativeRevenueA1['revenue']/cumulativeRevenueA1['visitors'], label='A')\n",
        "plt.plot(cumulativeRevenueB1['date'], cumulativeRevenueB1['revenue']/cumulativeRevenueB1['visitors'], label='B')\n",
        "plt.title('График кумулятивногог ARPU по группам. Очищенные данные')\n",
        "plt.legend()\n",
        "plt.xticks(rotation=90)\n",
        "plt.show()"
      ]
    },
    {
      "cell_type": "markdown",
      "metadata": {
        "id": "uprD8ykowK2g"
      },
      "source": [
        "Сформулируем статистические гипотезы:\n",
        "\n",
        "H_0: В группах A и B  в очищенных данных нет статистического различия в средней выручке с посетителя  \n",
        "\n",
        "H_1: В группах A и B  в очищенных данных есть статистические различия в средней выручке с посетителя  \n",
        "\n",
        "alpha = 0.05"
      ]
    },
    {
      "cell_type": "code",
      "execution_count": 90,
      "metadata": {
        "id": "lt4Jho5CSk8j"
      },
      "outputs": [],
      "source": [
        "sampleA1, sampleB1, sampleAr1, sampleBr1, ordersByUsersA1, ordersByUsersB1 = make_sample(orders_norm, visitors)"
      ]
    },
    {
      "cell_type": "code",
      "source": [
        "mwtest(sampleA1, sampleB1, 2)"
      ],
      "metadata": {
        "colab": {
          "base_uri": "https://localhost:8080/"
        },
        "id": "4j2qY85tktGN",
        "outputId": "c6a475f4-54da-4bf7-ade6-e90c8881eafe"
      },
      "execution_count": 91,
      "outputs": [
        {
          "output_type": "stream",
          "name": "stdout",
          "text": [
            "p-значение, u-критерий Манна-Уитни: 0.012459950618584474\n",
            "средние значения sample1 0.02\n",
            "средние значения sample2 0.03\n",
            "Отвергаем нулевую гипотезу. Наблюдаем статистическое различие между двумя выборками.\n"
          ]
        }
      ]
    },
    {
      "cell_type": "code",
      "execution_count": 93,
      "metadata": {
        "id": "ayXGi9p8wK2l",
        "outputId": "970be65f-5c55-403b-d22b-c4083a1c6478",
        "colab": {
          "base_uri": "https://localhost:8080/"
        }
      },
      "outputs": [
        {
          "output_type": "stream",
          "name": "stdout",
          "text": [
            "Средняя выручка на посетителя в группе B  отличаются от средней выручки на посетителя группы A  на 12.44 %\n"
          ]
        }
      ],
      "source": [
        "print(f\"Средняя выручка на посетителя в группе B  отличаются от средней выручки на посетителя группы A  на {((sampleBr1.mean() / sampleAr1.mean() - 1)*100):.2F} %\")"
      ]
    },
    {
      "cell_type": "markdown",
      "metadata": {
        "id": "NVb5bV9eURe9"
      },
      "source": [
        "Мы видим, что по показателям ARPU (мы сравнивали два массиива где на каждого посетителя подсчитывалась сумма его покупок, а также добавлялись нули для всех некупивших посетителей) статистическая значимость обнаружена и мы можем отвергнуть нулевую гипотезу.\n",
        "\n",
        "Мы также наблюдаем прирост средней выручки в группе B"
      ]
    },
    {
      "cell_type": "markdown",
      "source": [
        "## Выводы"
      ],
      "metadata": {
        "id": "90GOfvl_l7R9"
      }
    },
    {
      "cell_type": "markdown",
      "metadata": {
        "id": "gx1GpuvtAEbK"
      },
      "source": [
        "\n",
        "\n",
        "Сравнивая группы A и B мы можем наблюдать явное статистическое различие по количеству заказов на пользователя. При этом в группе B заказов на 13-16% больше, относительно группы A\n",
        "\n",
        "Сраавнивая группы A и B по среднему чеку заказа мы не видим явных статистических различий между группами.\n",
        "\n",
        "Построив график кумулятивногог ARPU  на очищенных данных мы видим, что группа B приносит больше прибыли  примерно на 12%, по сравнению с группой A.\n",
        "\n",
        "Таким образом мы можем делать предварительный выбор в пользу группы B"
      ]
    },
    {
      "cell_type": "markdown",
      "metadata": {
        "id": "FGHRmErDVZc2"
      },
      "source": [
        "Замечания: Наши выводы основывались на предположении, что все цифры посетителей сайта обозначали уникальных посетителей. В случае, если одни и те же посетители могли посещать сайт несколько раз и были подсчитаны несколько раз, мы лишаемся возможности подсчитывать средний доход на пользователя, так же как и среднее количество заказов на посетителя, и можем только изучать детально оплативших клиентов из датафрейма orders."
      ]
    }
  ],
  "metadata": {
    "ExecuteTimeLog": [
      {
        "duration": 1982,
        "start_time": "2023-07-27T16:47:04.415Z"
      },
      {
        "duration": 1249,
        "start_time": "2023-07-27T16:47:06.399Z"
      },
      {
        "duration": 2595,
        "start_time": "2023-07-27T16:47:07.650Z"
      },
      {
        "duration": 23,
        "start_time": "2023-07-27T16:47:10.256Z"
      },
      {
        "duration": 11,
        "start_time": "2023-07-27T16:47:16.436Z"
      },
      {
        "duration": 10,
        "start_time": "2023-07-27T16:47:17.156Z"
      },
      {
        "duration": 9,
        "start_time": "2023-07-27T16:47:17.794Z"
      },
      {
        "duration": 4,
        "start_time": "2023-07-27T16:47:20.795Z"
      },
      {
        "duration": 252,
        "start_time": "2023-07-27T16:47:38.119Z"
      },
      {
        "duration": 15,
        "start_time": "2023-07-27T16:47:48.394Z"
      },
      {
        "duration": 13,
        "start_time": "2023-07-27T16:47:51.104Z"
      },
      {
        "duration": 5,
        "start_time": "2023-07-27T16:47:51.889Z"
      },
      {
        "duration": 8,
        "start_time": "2023-07-27T16:47:52.685Z"
      },
      {
        "duration": 23,
        "start_time": "2023-07-27T16:48:07.224Z"
      },
      {
        "duration": 9,
        "start_time": "2023-07-27T16:48:13.656Z"
      },
      {
        "duration": 9,
        "start_time": "2023-07-27T16:49:36.323Z"
      },
      {
        "duration": 7,
        "start_time": "2023-07-27T16:49:44.451Z"
      },
      {
        "duration": 14,
        "start_time": "2023-07-27T16:49:47.750Z"
      },
      {
        "duration": 11,
        "start_time": "2023-07-27T16:50:07.498Z"
      },
      {
        "duration": 10,
        "start_time": "2023-07-27T16:50:26.224Z"
      },
      {
        "duration": 14,
        "start_time": "2023-07-27T16:51:09.687Z"
      },
      {
        "duration": 10,
        "start_time": "2023-07-27T16:54:21.126Z"
      },
      {
        "duration": 9,
        "start_time": "2023-07-27T16:54:28.963Z"
      },
      {
        "duration": 10,
        "start_time": "2023-07-27T16:55:09.748Z"
      },
      {
        "duration": 19,
        "start_time": "2023-07-27T16:55:14.594Z"
      },
      {
        "duration": 4,
        "start_time": "2023-07-27T16:55:30.190Z"
      },
      {
        "duration": 4,
        "start_time": "2023-07-27T16:55:42.251Z"
      },
      {
        "duration": 4,
        "start_time": "2023-07-27T16:55:51.260Z"
      },
      {
        "duration": 30,
        "start_time": "2023-07-27T16:56:32.395Z"
      },
      {
        "duration": 10,
        "start_time": "2023-07-27T16:56:44.556Z"
      },
      {
        "duration": 11,
        "start_time": "2023-07-27T16:57:06.555Z"
      },
      {
        "duration": 19,
        "start_time": "2023-07-27T16:57:25.994Z"
      },
      {
        "duration": 7,
        "start_time": "2023-07-27T16:57:38.315Z"
      },
      {
        "duration": 10,
        "start_time": "2023-07-27T16:58:49.662Z"
      },
      {
        "duration": 19,
        "start_time": "2023-07-27T16:58:54.598Z"
      },
      {
        "duration": 9,
        "start_time": "2023-07-27T16:58:55.558Z"
      },
      {
        "duration": 14,
        "start_time": "2023-07-27T16:59:24.619Z"
      },
      {
        "duration": 5,
        "start_time": "2023-07-27T16:59:52.918Z"
      },
      {
        "duration": 5,
        "start_time": "2023-07-27T17:00:10.555Z"
      },
      {
        "duration": 25,
        "start_time": "2023-07-27T17:04:09.198Z"
      },
      {
        "duration": 12,
        "start_time": "2023-07-27T17:04:09.651Z"
      },
      {
        "duration": 5,
        "start_time": "2023-07-27T17:04:25.167Z"
      },
      {
        "duration": 328,
        "start_time": "2023-07-27T17:04:27.428Z"
      },
      {
        "duration": 347,
        "start_time": "2023-07-27T17:04:28.115Z"
      },
      {
        "duration": 367,
        "start_time": "2023-07-27T17:04:31.067Z"
      },
      {
        "duration": 24,
        "start_time": "2023-07-27T17:04:33.897Z"
      },
      {
        "duration": 6,
        "start_time": "2023-07-27T17:04:34.670Z"
      },
      {
        "duration": 14,
        "start_time": "2023-07-27T17:04:35.322Z"
      },
      {
        "duration": 470,
        "start_time": "2023-07-27T17:04:35.716Z"
      },
      {
        "duration": 5,
        "start_time": "2023-07-27T17:04:49.251Z"
      },
      {
        "duration": 18,
        "start_time": "2023-07-27T17:04:50.795Z"
      },
      {
        "duration": 332,
        "start_time": "2023-07-27T17:04:51.793Z"
      },
      {
        "duration": 8,
        "start_time": "2023-07-27T17:05:03.458Z"
      },
      {
        "duration": 390,
        "start_time": "2023-07-27T17:05:03.757Z"
      },
      {
        "duration": 7,
        "start_time": "2023-07-27T17:05:11.662Z"
      },
      {
        "duration": 171,
        "start_time": "2023-07-27T17:05:12.665Z"
      },
      {
        "duration": 10,
        "start_time": "2023-07-27T17:05:26.013Z"
      },
      {
        "duration": 190,
        "start_time": "2023-07-27T17:05:33.465Z"
      },
      {
        "duration": 9,
        "start_time": "2023-07-27T17:05:36.500Z"
      },
      {
        "duration": 1087,
        "start_time": "2023-07-27T17:05:37.677Z"
      },
      {
        "duration": 9,
        "start_time": "2023-07-27T17:13:43.162Z"
      },
      {
        "duration": 184,
        "start_time": "2023-07-27T17:13:50.194Z"
      },
      {
        "duration": 71,
        "start_time": "2023-07-27T17:14:45.452Z"
      },
      {
        "duration": 273,
        "start_time": "2023-07-27T17:21:50.295Z"
      },
      {
        "duration": 21,
        "start_time": "2023-07-27T17:21:59.255Z"
      },
      {
        "duration": 3,
        "start_time": "2023-07-27T17:22:14.194Z"
      },
      {
        "duration": 17,
        "start_time": "2023-07-27T17:22:36.430Z"
      },
      {
        "duration": 85,
        "start_time": "2023-07-27T17:23:04.061Z"
      },
      {
        "duration": 11,
        "start_time": "2023-07-27T17:23:23.923Z"
      },
      {
        "duration": 172,
        "start_time": "2023-07-27T17:23:51.316Z"
      },
      {
        "duration": 5,
        "start_time": "2023-07-27T17:24:20.698Z"
      },
      {
        "duration": 4,
        "start_time": "2023-07-27T17:25:17.801Z"
      },
      {
        "duration": 4,
        "start_time": "2023-07-27T17:25:25.990Z"
      },
      {
        "duration": 14,
        "start_time": "2023-07-27T17:25:37.964Z"
      },
      {
        "duration": 20,
        "start_time": "2023-07-27T17:26:05.933Z"
      },
      {
        "duration": 10,
        "start_time": "2023-07-27T17:26:19.559Z"
      },
      {
        "duration": 39,
        "start_time": "2023-07-27T17:27:09.294Z"
      },
      {
        "duration": 6,
        "start_time": "2023-07-27T17:27:29.060Z"
      },
      {
        "duration": 16,
        "start_time": "2023-07-27T17:27:51.537Z"
      },
      {
        "duration": 4,
        "start_time": "2023-07-27T17:28:06.886Z"
      },
      {
        "duration": 4,
        "start_time": "2023-07-27T17:28:27.551Z"
      },
      {
        "duration": 10,
        "start_time": "2023-07-27T17:28:56.262Z"
      },
      {
        "duration": 9,
        "start_time": "2023-07-27T17:29:34.866Z"
      },
      {
        "duration": 23,
        "start_time": "2023-07-27T17:29:59.615Z"
      },
      {
        "duration": 13,
        "start_time": "2023-07-27T17:30:11.015Z"
      },
      {
        "duration": 11,
        "start_time": "2023-07-27T17:30:23.452Z"
      },
      {
        "duration": 5,
        "start_time": "2023-07-27T17:30:33.919Z"
      },
      {
        "duration": 5,
        "start_time": "2023-07-27T17:30:40.252Z"
      },
      {
        "duration": 5,
        "start_time": "2023-07-27T17:30:46.962Z"
      },
      {
        "duration": 8,
        "start_time": "2023-07-27T17:33:38.750Z"
      },
      {
        "duration": 165,
        "start_time": "2023-07-27T17:35:03.221Z"
      },
      {
        "duration": 18,
        "start_time": "2023-07-27T17:35:04.419Z"
      },
      {
        "duration": 150,
        "start_time": "2023-07-27T17:35:09.550Z"
      },
      {
        "duration": 12,
        "start_time": "2023-07-27T17:35:56.069Z"
      },
      {
        "duration": 180,
        "start_time": "2023-07-27T17:36:12.754Z"
      },
      {
        "duration": 9,
        "start_time": "2023-07-27T17:36:25.155Z"
      },
      {
        "duration": 4,
        "start_time": "2023-07-27T17:38:16.269Z"
      },
      {
        "duration": 4270,
        "start_time": "2023-07-27T17:39:57.418Z"
      },
      {
        "duration": 288,
        "start_time": "2023-07-27T17:40:37.315Z"
      },
      {
        "duration": 304,
        "start_time": "2023-07-27T17:40:38.269Z"
      },
      {
        "duration": 284,
        "start_time": "2023-07-27T17:40:53.459Z"
      },
      {
        "duration": 8,
        "start_time": "2023-07-27T17:41:01.967Z"
      },
      {
        "duration": 11,
        "start_time": "2023-07-27T17:41:02.626Z"
      },
      {
        "duration": 13,
        "start_time": "2023-07-27T17:41:03.422Z"
      },
      {
        "duration": 400,
        "start_time": "2023-07-27T17:41:04.190Z"
      },
      {
        "duration": 5,
        "start_time": "2023-07-27T17:41:09.555Z"
      },
      {
        "duration": 8,
        "start_time": "2023-07-27T17:41:10.267Z"
      },
      {
        "duration": 264,
        "start_time": "2023-07-27T17:41:10.922Z"
      },
      {
        "duration": 7,
        "start_time": "2023-07-27T17:41:18.091Z"
      },
      {
        "duration": 391,
        "start_time": "2023-07-27T17:41:18.951Z"
      },
      {
        "duration": 7,
        "start_time": "2023-07-27T17:41:27.844Z"
      },
      {
        "duration": 139,
        "start_time": "2023-07-27T17:41:28.531Z"
      },
      {
        "duration": 5,
        "start_time": "2023-07-27T17:41:48.528Z"
      },
      {
        "duration": 10,
        "start_time": "2023-07-27T17:42:38.311Z"
      },
      {
        "duration": 5,
        "start_time": "2023-07-27T17:43:20.346Z"
      },
      {
        "duration": 8,
        "start_time": "2023-07-27T17:43:43.959Z"
      },
      {
        "duration": 42,
        "start_time": "2023-07-27T17:43:47.647Z"
      },
      {
        "duration": 6,
        "start_time": "2023-07-27T17:44:08.885Z"
      },
      {
        "duration": 35,
        "start_time": "2023-07-27T17:44:13.930Z"
      },
      {
        "duration": 182,
        "start_time": "2023-07-27T17:44:22.047Z"
      },
      {
        "duration": 11,
        "start_time": "2023-07-27T17:44:22.648Z"
      },
      {
        "duration": 36,
        "start_time": "2023-07-27T17:44:31.150Z"
      },
      {
        "duration": 191,
        "start_time": "2023-07-27T17:44:35.966Z"
      },
      {
        "duration": 5,
        "start_time": "2023-07-27T17:44:37.077Z"
      },
      {
        "duration": 12,
        "start_time": "2023-07-27T17:44:46.613Z"
      },
      {
        "duration": 10,
        "start_time": "2023-07-27T17:45:23.967Z"
      },
      {
        "duration": 154,
        "start_time": "2023-07-27T17:45:49.194Z"
      },
      {
        "duration": 6164,
        "start_time": "2023-07-27T17:45:50.045Z"
      },
      {
        "duration": 3,
        "start_time": "2023-07-27T17:46:25.271Z"
      },
      {
        "duration": 4,
        "start_time": "2023-07-27T17:46:32.682Z"
      },
      {
        "duration": 4,
        "start_time": "2023-07-27T17:46:39.863Z"
      },
      {
        "duration": 18,
        "start_time": "2023-07-27T17:47:24.151Z"
      },
      {
        "duration": 14,
        "start_time": "2023-07-27T17:47:56.229Z"
      },
      {
        "duration": 4,
        "start_time": "2023-07-27T17:47:56.848Z"
      },
      {
        "duration": 4,
        "start_time": "2023-07-27T17:48:00.051Z"
      },
      {
        "duration": 10,
        "start_time": "2023-07-27T17:48:08.530Z"
      },
      {
        "duration": 3,
        "start_time": "2023-07-27T17:48:09.159Z"
      },
      {
        "duration": 4,
        "start_time": "2023-07-27T17:48:32.371Z"
      },
      {
        "duration": 3,
        "start_time": "2023-07-27T17:48:33.965Z"
      },
      {
        "duration": 15,
        "start_time": "2023-07-27T17:48:38.547Z"
      },
      {
        "duration": 16,
        "start_time": "2023-07-27T17:49:00.557Z"
      },
      {
        "duration": 3,
        "start_time": "2023-07-27T17:49:07.793Z"
      },
      {
        "duration": 15,
        "start_time": "2023-07-27T17:49:13.126Z"
      },
      {
        "duration": 7,
        "start_time": "2023-07-27T17:50:06.826Z"
      },
      {
        "duration": 5,
        "start_time": "2023-07-27T17:50:12.366Z"
      },
      {
        "duration": 8,
        "start_time": "2023-07-27T17:50:26.654Z"
      },
      {
        "duration": 7,
        "start_time": "2023-07-27T17:50:31.619Z"
      },
      {
        "duration": 6,
        "start_time": "2023-07-27T17:50:32.231Z"
      },
      {
        "duration": 11,
        "start_time": "2023-07-27T17:50:42.018Z"
      },
      {
        "duration": 18,
        "start_time": "2023-07-27T17:50:48.426Z"
      },
      {
        "duration": 9,
        "start_time": "2023-07-27T17:50:58.744Z"
      },
      {
        "duration": 7,
        "start_time": "2023-07-27T17:51:15.545Z"
      },
      {
        "duration": 189,
        "start_time": "2023-07-27T17:51:16.089Z"
      },
      {
        "duration": 186,
        "start_time": "2023-07-27T17:52:00.663Z"
      },
      {
        "duration": 21,
        "start_time": "2023-07-27T17:52:51.054Z"
      },
      {
        "duration": 26,
        "start_time": "2023-07-27T17:53:06.654Z"
      },
      {
        "duration": 4,
        "start_time": "2023-07-27T17:53:46.089Z"
      },
      {
        "duration": 10,
        "start_time": "2023-07-27T17:54:57.866Z"
      },
      {
        "duration": 171,
        "start_time": "2023-07-27T17:55:04.145Z"
      },
      {
        "duration": 24,
        "start_time": "2023-07-27T17:55:05.259Z"
      },
      {
        "duration": 10,
        "start_time": "2023-07-27T17:55:06.847Z"
      },
      {
        "duration": 146,
        "start_time": "2023-07-27T17:55:30.252Z"
      },
      {
        "duration": 21,
        "start_time": "2023-07-27T17:55:33.159Z"
      },
      {
        "duration": 175,
        "start_time": "2023-07-27T17:55:41.830Z"
      },
      {
        "duration": 58,
        "start_time": "2023-07-27T17:55:42.796Z"
      },
      {
        "duration": 3,
        "start_time": "2023-07-27T17:55:52.563Z"
      },
      {
        "duration": 5,
        "start_time": "2023-07-27T17:57:41.658Z"
      },
      {
        "duration": 11,
        "start_time": "2023-07-27T17:57:42.096Z"
      },
      {
        "duration": 7,
        "start_time": "2023-07-27T17:57:42.573Z"
      },
      {
        "duration": 427,
        "start_time": "2023-07-27T17:58:34.696Z"
      },
      {
        "duration": 10,
        "start_time": "2023-07-27T17:58:39.296Z"
      },
      {
        "duration": 162,
        "start_time": "2023-07-27T18:00:43.946Z"
      },
      {
        "duration": 4,
        "start_time": "2023-07-27T18:00:45.596Z"
      },
      {
        "duration": 323,
        "start_time": "2023-07-27T18:01:31.166Z"
      },
      {
        "duration": 405,
        "start_time": "2023-07-27T18:01:35.143Z"
      },
      {
        "duration": 884,
        "start_time": "2023-07-27T18:01:56.249Z"
      },
      {
        "duration": 52,
        "start_time": "2023-07-27T18:02:13.685Z"
      },
      {
        "duration": 5,
        "start_time": "2023-07-27T18:02:40.591Z"
      },
      {
        "duration": 185,
        "start_time": "2023-07-27T18:02:41.344Z"
      },
      {
        "duration": 21,
        "start_time": "2023-07-27T18:02:44.444Z"
      },
      {
        "duration": 4,
        "start_time": "2023-07-27T18:02:47.467Z"
      },
      {
        "duration": 9,
        "start_time": "2023-07-27T18:03:06.268Z"
      },
      {
        "duration": 7,
        "start_time": "2023-07-27T18:03:07.045Z"
      },
      {
        "duration": 254,
        "start_time": "2023-07-27T18:03:20.538Z"
      },
      {
        "duration": 9571,
        "start_time": "2023-07-27T18:03:22.322Z"
      },
      {
        "duration": 292,
        "start_time": "2023-07-27T18:03:32.026Z"
      },
      {
        "duration": 0,
        "start_time": "2023-07-27T18:03:43.869Z"
      },
      {
        "duration": 8471,
        "start_time": "2023-07-27T18:04:15.617Z"
      },
      {
        "duration": 15,
        "start_time": "2023-07-27T18:04:48.726Z"
      },
      {
        "duration": 8,
        "start_time": "2023-07-27T18:05:10.647Z"
      },
      {
        "duration": 260,
        "start_time": "2023-07-27T18:05:15.454Z"
      },
      {
        "duration": 294,
        "start_time": "2023-07-27T18:05:15.724Z"
      },
      {
        "duration": 296,
        "start_time": "2023-07-27T18:05:16.751Z"
      },
      {
        "duration": 14,
        "start_time": "2023-07-27T18:05:17.634Z"
      },
      {
        "duration": 7,
        "start_time": "2023-07-27T18:05:17.926Z"
      },
      {
        "duration": 11,
        "start_time": "2023-07-27T18:05:18.167Z"
      },
      {
        "duration": 468,
        "start_time": "2023-07-27T18:05:18.415Z"
      },
      {
        "duration": 6,
        "start_time": "2023-07-27T18:05:19.251Z"
      },
      {
        "duration": 19,
        "start_time": "2023-07-27T18:05:19.430Z"
      },
      {
        "duration": 325,
        "start_time": "2023-07-27T18:05:19.652Z"
      },
      {
        "duration": 21,
        "start_time": "2023-07-27T18:05:20.497Z"
      },
      {
        "duration": 383,
        "start_time": "2023-07-27T18:05:20.688Z"
      },
      {
        "duration": 20,
        "start_time": "2023-07-27T18:05:21.397Z"
      },
      {
        "duration": 190,
        "start_time": "2023-07-27T18:05:21.572Z"
      },
      {
        "duration": 8,
        "start_time": "2023-07-27T18:05:22.325Z"
      },
      {
        "duration": 191,
        "start_time": "2023-07-27T18:05:23.074Z"
      },
      {
        "duration": 9,
        "start_time": "2023-07-27T18:05:23.268Z"
      },
      {
        "duration": 177,
        "start_time": "2023-07-27T18:05:23.493Z"
      },
      {
        "duration": 5,
        "start_time": "2023-07-27T18:05:24.275Z"
      },
      {
        "duration": 11,
        "start_time": "2023-07-27T18:05:25.272Z"
      },
      {
        "duration": 159,
        "start_time": "2023-07-27T18:05:26.618Z"
      },
      {
        "duration": 19,
        "start_time": "2023-07-27T18:05:26.846Z"
      },
      {
        "duration": 4,
        "start_time": "2023-07-27T18:05:27.343Z"
      },
      {
        "duration": 9,
        "start_time": "2023-07-27T18:05:30.059Z"
      },
      {
        "duration": 185,
        "start_time": "2023-07-27T18:05:32.593Z"
      },
      {
        "duration": 9,
        "start_time": "2023-07-27T18:05:33.526Z"
      },
      {
        "duration": 16,
        "start_time": "2023-07-27T18:05:33.825Z"
      },
      {
        "duration": 6,
        "start_time": "2023-07-27T18:05:34.147Z"
      },
      {
        "duration": 8,
        "start_time": "2023-07-27T18:05:35.055Z"
      },
      {
        "duration": 13,
        "start_time": "2023-07-27T18:05:36.623Z"
      },
      {
        "duration": 209,
        "start_time": "2023-07-27T18:05:37.171Z"
      },
      {
        "duration": 22,
        "start_time": "2023-07-27T18:05:39.155Z"
      },
      {
        "duration": 5,
        "start_time": "2023-07-27T18:05:41.751Z"
      },
      {
        "duration": 9,
        "start_time": "2023-07-27T18:05:45.123Z"
      },
      {
        "duration": 5,
        "start_time": "2023-07-27T18:05:47.767Z"
      },
      {
        "duration": 7,
        "start_time": "2023-07-27T18:05:48.643Z"
      },
      {
        "duration": 325,
        "start_time": "2023-07-27T18:05:50.930Z"
      },
      {
        "duration": 12,
        "start_time": "2023-07-27T18:05:52.673Z"
      },
      {
        "duration": 16,
        "start_time": "2023-07-27T18:05:57.016Z"
      },
      {
        "duration": 13,
        "start_time": "2023-07-27T18:06:34.063Z"
      },
      {
        "duration": 339,
        "start_time": "2023-07-27T18:06:51.198Z"
      },
      {
        "duration": 130,
        "start_time": "2023-07-27T18:06:58.448Z"
      },
      {
        "duration": 4,
        "start_time": "2023-07-27T18:06:58.972Z"
      },
      {
        "duration": 34,
        "start_time": "2023-07-27T18:07:02.848Z"
      },
      {
        "duration": 299,
        "start_time": "2023-07-27T18:08:25.268Z"
      },
      {
        "duration": 3,
        "start_time": "2023-07-27T18:10:43.943Z"
      },
      {
        "duration": 4,
        "start_time": "2023-07-27T18:11:18.462Z"
      },
      {
        "duration": 3,
        "start_time": "2023-07-27T18:12:05.751Z"
      },
      {
        "duration": 5,
        "start_time": "2023-07-27T18:12:14.119Z"
      },
      {
        "duration": 6,
        "start_time": "2023-07-27T18:12:39.921Z"
      },
      {
        "duration": 5,
        "start_time": "2023-07-27T18:13:00.079Z"
      },
      {
        "duration": 4,
        "start_time": "2023-07-27T18:13:22.959Z"
      },
      {
        "duration": 4,
        "start_time": "2023-07-27T18:14:45.475Z"
      },
      {
        "duration": 7,
        "start_time": "2023-07-27T18:14:59.426Z"
      },
      {
        "duration": 4,
        "start_time": "2023-07-27T18:15:13.427Z"
      }
    ],
    "colab": {
      "provenance": [],
      "toc_visible": true
    },
    "kernelspec": {
      "display_name": "Python 3 (ipykernel)",
      "language": "python",
      "name": "python3"
    },
    "language_info": {
      "codemirror_mode": {
        "name": "ipython",
        "version": 3
      },
      "file_extension": ".py",
      "mimetype": "text/x-python",
      "name": "python",
      "nbconvert_exporter": "python",
      "pygments_lexer": "ipython3",
      "version": "3.9.5"
    },
    "toc": {
      "base_numbering": 1,
      "nav_menu": {},
      "number_sections": true,
      "sideBar": true,
      "skip_h1_title": true,
      "title_cell": "Table of Contents",
      "title_sidebar": "Contents",
      "toc_cell": false,
      "toc_position": {},
      "toc_section_display": true,
      "toc_window_display": false
    }
  },
  "nbformat": 4,
  "nbformat_minor": 0
}